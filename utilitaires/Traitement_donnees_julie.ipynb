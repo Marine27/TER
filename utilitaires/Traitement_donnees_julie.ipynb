{
 "cells": [
  {
   "cell_type": "markdown",
   "metadata": {},
   "source": [
    "# Traitement des données Julie\n",
    "\n",
    "---"
   ]
  },
  {
   "cell_type": "markdown",
   "metadata": {},
   "source": [
    "Julie est une petite fille belge née le 10 décembre 2006. Elle est la deuxième d’une famille de 3 enfants. Elle a un frère, Ulysse, de 15 mois son aîné, avec qui elle a une relation très complice et une petite sœur Philippine, de 3 ans sa cadette. \n",
    "\n",
    "Sa mère, Françoise Bourdoux, est othophoniste et son père ingénieur. Elle est filmée depuis l’âge de 10 mois, une heure par mois, en situation de jeux avec son frère ou seule. C'est une petite fille très spontanée qui aime s'exprimer, communiquer, raconter des histoires, mettre en scène des personnages ..."
   ]
  },
  {
   "cell_type": "markdown",
   "metadata": {},
   "source": [
    "# Nettoyage "
   ]
  },
  {
   "cell_type": "markdown",
   "metadata": {},
   "source": [
    "## Chargement des données"
   ]
  },
  {
   "cell_type": "markdown",
   "metadata": {},
   "source": [
    "Récupèrer la liste des noms de fichier pour Julie :\n",
    "* Ces fichiers sont placés dans un repertoire 'data/julie_texte'\n",
    "* Ils sont issuent d'une extraction sur le site colaje au format chat\n",
    "* Nous les avons converti en format .txt afin de pouvoir les traiter avec python"
   ]
  },
  {
   "cell_type": "code",
   "execution_count": 1,
   "metadata": {},
   "outputs": [
    {
     "name": "stdout",
     "output_type": "stream",
     "text": [
      "C:\\Users\\lamou\\Desktop\\MIASHS\\TER_a\n"
     ]
    }
   ],
   "source": [
    "import os \n",
    "import pandas as pd \n",
    "\n",
    "print(os.getcwd())\n",
    "os.chdir('C:\\\\Users\\\\Lamou\\\\Desktop\\\\MIASHS\\\\TER_a\\\\data\\\\julie_texte')\n",
    "listing=os.listdir() # On crée une liste de tout les noms des fichiers"
   ]
  },
  {
   "cell_type": "code",
   "execution_count": 2,
   "metadata": {},
   "outputs": [],
   "source": [
    "#listing"
   ]
  },
  {
   "cell_type": "markdown",
   "metadata": {},
   "source": [
    "Nous avons 29 fichiers pour Julie, chacun de ses fichiers corresepondent aux retrancriptions d'un enregistrement vidéo."
   ]
  },
  {
   "cell_type": "markdown",
   "metadata": {},
   "source": [
    "\n",
    "## Lecture des données"
   ]
  },
  {
   "cell_type": "markdown",
   "metadata": {},
   "source": [
    "* Définir le nom des colonnes selon le fichier final attendu\n",
    "* Lire chaque fichier de la liste \n",
    "* Ajouter les colonnes nom de l'enfant et son age\n",
    "* La colonne age identifie de manière unique l'enregistrement"
   ]
  },
  {
   "cell_type": "code",
   "execution_count": 3,
   "metadata": {},
   "outputs": [],
   "source": [
    "os.chdir('C:\\\\Users\\\\Lamou\\\\Desktop\\\\MIASHS\\\\TER_a\\\\data\\\\julie_texte')\n",
    "\n",
    "d = {} # Le dictionnaire contenant les noms des fichiers\n",
    "nom_col = ['type', 'seconde_debut', 'seconde_fin', 'contenu']\n",
    "rows = 0 #Compteur de ligne pour vérifier la perte de données\n",
    "\n",
    "for file in listing: \n",
    "    d[file]=pd.read_csv(file, \n",
    "                        sep = '\\t', \n",
    "                        names = nom_col, \n",
    "                        header = None)  \n",
    "\n",
    "    # On ajoute le nom de l'enfant\n",
    "    nom_pos1 = 0\n",
    "    nom_pos2 = file.find('-')\n",
    "    nom = file[nom_pos1:nom_pos2]\n",
    "    d[file]['enfant'] = nom\n",
    "    \n",
    "    #On ajoute l'age de l'enfant\n",
    "    age_pos1 = file.find('_')-1\n",
    "    age_pos2 = file.find('.')\n",
    "    age = file[age_pos1:age_pos2]\n",
    "    d[file]['age'] = age\n",
    "    \n",
    "    rows += len(d[file])\n",
    "    \n",
    "    \n",
    "# DataFrame contenant toutes les lignes de l'enfant\n",
    "data = pd.concat([d[file] for file in listing], \n",
    "                 sort=False,\n",
    "                 ignore_index=True) "
   ]
  },
  {
   "cell_type": "code",
   "execution_count": 4,
   "metadata": {},
   "outputs": [
    {
     "data": {
      "text/plain": [
       "(69164, 6)"
      ]
     },
     "execution_count": 4,
     "metadata": {},
     "output_type": "execute_result"
    }
   ],
   "source": [
    "data.shape"
   ]
  },
  {
   "cell_type": "markdown",
   "metadata": {},
   "source": [
    "## Vérification de la perte de données"
   ]
  },
  {
   "cell_type": "markdown",
   "metadata": {},
   "source": [
    "On vérifie qu'il y a autant de ligne lu (variable rows) que de ligne écritent (len(data))"
   ]
  },
  {
   "cell_type": "code",
   "execution_count": 5,
   "metadata": {},
   "outputs": [
    {
     "name": "stdout",
     "output_type": "stream",
     "text": [
      "True\n"
     ]
    }
   ],
   "source": [
    "print(rows == len(data))"
   ]
  },
  {
   "cell_type": "markdown",
   "metadata": {},
   "source": [
    "## Ordre des colonnes"
   ]
  },
  {
   "cell_type": "code",
   "execution_count": 6,
   "metadata": {},
   "outputs": [
    {
     "data": {
      "text/html": [
       "<div>\n",
       "<style scoped>\n",
       "    .dataframe tbody tr th:only-of-type {\n",
       "        vertical-align: middle;\n",
       "    }\n",
       "\n",
       "    .dataframe tbody tr th {\n",
       "        vertical-align: top;\n",
       "    }\n",
       "\n",
       "    .dataframe thead th {\n",
       "        text-align: right;\n",
       "    }\n",
       "</style>\n",
       "<table border=\"1\" class=\"dataframe\">\n",
       "  <thead>\n",
       "    <tr style=\"text-align: right;\">\n",
       "      <th></th>\n",
       "      <th>enfant</th>\n",
       "      <th>age</th>\n",
       "      <th>type</th>\n",
       "      <th>seconde_debut</th>\n",
       "      <th>seconde_fin</th>\n",
       "      <th>contenu</th>\n",
       "    </tr>\n",
       "  </thead>\n",
       "  <tbody>\n",
       "    <tr>\n",
       "      <th>0</th>\n",
       "      <td>JULIE</td>\n",
       "      <td>0_11_18</td>\n",
       "      <td>+div+</td>\n",
       "      <td>0.0</td>\n",
       "      <td>2780.0</td>\n",
       "      <td>div |</td>\n",
       "    </tr>\n",
       "    <tr>\n",
       "      <th>1</th>\n",
       "      <td>JULIE</td>\n",
       "      <td>0_11_18</td>\n",
       "      <td>FAT</td>\n",
       "      <td>0.0</td>\n",
       "      <td>4.0</td>\n",
       "      <td>la poule qui fait côt@o côt@o .</td>\n",
       "    </tr>\n",
       "    <tr>\n",
       "      <th>2</th>\n",
       "      <td>JULIE</td>\n",
       "      <td>0_11_18</td>\n",
       "      <td>act</td>\n",
       "      <td>NaN</td>\n",
       "      <td>NaN</td>\n",
       "      <td>CHI est assise sur les genoux de FAT, ils rega...</td>\n",
       "    </tr>\n",
       "    <tr>\n",
       "      <th>3</th>\n",
       "      <td>JULIE</td>\n",
       "      <td>0_11_18</td>\n",
       "      <td>FAT</td>\n",
       "      <td>4.0</td>\n",
       "      <td>5.0</td>\n",
       "      <td>côt@o côt@o .</td>\n",
       "    </tr>\n",
       "    <tr>\n",
       "      <th>4</th>\n",
       "      <td>JULIE</td>\n",
       "      <td>0_11_18</td>\n",
       "      <td>CHI</td>\n",
       "      <td>5.0</td>\n",
       "      <td>6.0</td>\n",
       "      <td>0 [=! petit bruit] 0 [=! tousse] .</td>\n",
       "    </tr>\n",
       "  </tbody>\n",
       "</table>\n",
       "</div>"
      ],
      "text/plain": [
       "  enfant      age   type  seconde_debut  seconde_fin  \\\n",
       "0  JULIE  0_11_18  +div+            0.0       2780.0   \n",
       "1  JULIE  0_11_18    FAT            0.0          4.0   \n",
       "2  JULIE  0_11_18    act            NaN          NaN   \n",
       "3  JULIE  0_11_18    FAT            4.0          5.0   \n",
       "4  JULIE  0_11_18    CHI            5.0          6.0   \n",
       "\n",
       "                                             contenu  \n",
       "0                                              div |  \n",
       "1                    la poule qui fait côt@o côt@o .  \n",
       "2  CHI est assise sur les genoux de FAT, ils rega...  \n",
       "3                                      côt@o côt@o .  \n",
       "4                 0 [=! petit bruit] 0 [=! tousse] .  "
      ]
     },
     "execution_count": 6,
     "metadata": {},
     "output_type": "execute_result"
    }
   ],
   "source": [
    "data=data[['enfant', 'age','type', 'seconde_debut', 'seconde_fin', 'contenu']]\n",
    "data.head()"
   ]
  },
  {
   "cell_type": "markdown",
   "metadata": {},
   "source": [
    "## Création du fichier final format csv"
   ]
  },
  {
   "cell_type": "code",
   "execution_count": 7,
   "metadata": {},
   "outputs": [],
   "source": [
    "# Création du fichier enfant\n",
    "os.chdir('C:\\\\Users\\\\Lamou\\\\Desktop\\\\MIASHS\\\\TER_a\\\\data')\n",
    "data.to_csv('data_julie_final.csv',\n",
    "           encoding = 'utf-8',\n",
    "           sep = '\\t',\n",
    "           header = True)"
   ]
  },
  {
   "cell_type": "markdown",
   "metadata": {},
   "source": [
    "On peut maintenant utiliser le fichier 'data_julie_final.csv' pour l'exploration de données."
   ]
  },
  {
   "cell_type": "markdown",
   "metadata": {},
   "source": [
    "## Lecture fichier final"
   ]
  },
  {
   "cell_type": "code",
   "execution_count": 8,
   "metadata": {},
   "outputs": [],
   "source": [
    "os.chdir('C:\\\\Users\\\\Lamou\\\\Desktop\\\\MIASHS\\\\TER_a\\\\data')\n",
    "data_child = pd.read_csv('data_julie_final.csv',\n",
    "                           sep = '\\t',\n",
    "                           encoding = 'utf-8',\n",
    "                           index_col=False)\n",
    "\n",
    "# On supprime la colonne qui duplique les index\n",
    "data_child = data_child.drop(columns = 'Unnamed: 0')"
   ]
  },
  {
   "cell_type": "code",
   "execution_count": 9,
   "metadata": {},
   "outputs": [],
   "source": [
    "#data_child"
   ]
  },
  {
   "cell_type": "markdown",
   "metadata": {},
   "source": [
    "# Exploration des données\n",
    "\n",
    "---"
   ]
  },
  {
   "cell_type": "markdown",
   "metadata": {},
   "source": [
    "Qu'elles sont les différents type de ligne ?"
   ]
  },
  {
   "cell_type": "code",
   "execution_count": 10,
   "metadata": {},
   "outputs": [
    {
     "name": "stdout",
     "output_type": "stream",
     "text": [
      "26\n"
     ]
    }
   ],
   "source": [
    "print(len(data_child['type'].unique()))"
   ]
  },
  {
   "cell_type": "markdown",
   "metadata": {},
   "source": [
    "Il existe 26 types de ligne dans les fichiers Julie :"
   ]
  },
  {
   "cell_type": "code",
   "execution_count": 11,
   "metadata": {},
   "outputs": [
    {
     "name": "stdout",
     "output_type": "stream",
     "text": [
      "['+div+' 'FAT' 'act' 'CHI' 'xpnt' 'MOT' 'pho' 'sit' 'com' 'add' 'int'\n",
      " 'BRO' '-div-' 'OBS' 'GIR' 'gpx' 'nof' 'disc' 'BAB' 'HOU' 'UNK' 'VOI'\n",
      " 'dis' '@EG::' 'SIS' 'SAM']\n"
     ]
    }
   ],
   "source": [
    "print(data_child['type'].unique())"
   ]
  },
  {
   "cell_type": "markdown",
   "metadata": {},
   "source": [
    "## Les phonèmes"
   ]
  },
  {
   "cell_type": "markdown",
   "metadata": {},
   "source": [
    "Les lignes de type 'pho' correspondent à la traduction phonétique lorsque Julie s'exprime :\n",
    "* Nous avons à disposition 16190 traductions pour Julie \n",
    "* On distingue les premiers mots d'Antoine à l'age de 11 mois et 18 jours\n",
    "* Les traductions s'arrêtent à l'age de 5 ans 10 mois et 7 jours"
   ]
  },
  {
   "cell_type": "code",
   "execution_count": 12,
   "metadata": {},
   "outputs": [],
   "source": [
    "pho_child = data_child[data_child['type'] == 'pho']\n",
    "#pho_child"
   ]
  },
  {
   "cell_type": "markdown",
   "metadata": {},
   "source": [
    "### Valeurs NaN\n",
    "\n",
    "Il existe une valeur NaN dans la colonne contenu, nous allons la supprimer :"
   ]
  },
  {
   "cell_type": "code",
   "execution_count": 13,
   "metadata": {},
   "outputs": [
    {
     "data": {
      "text/html": [
       "<div>\n",
       "<style scoped>\n",
       "    .dataframe tbody tr th:only-of-type {\n",
       "        vertical-align: middle;\n",
       "    }\n",
       "\n",
       "    .dataframe tbody tr th {\n",
       "        vertical-align: top;\n",
       "    }\n",
       "\n",
       "    .dataframe thead th {\n",
       "        text-align: right;\n",
       "    }\n",
       "</style>\n",
       "<table border=\"1\" class=\"dataframe\">\n",
       "  <thead>\n",
       "    <tr style=\"text-align: right;\">\n",
       "      <th></th>\n",
       "      <th>enfant</th>\n",
       "      <th>age</th>\n",
       "      <th>type</th>\n",
       "      <th>seconde_debut</th>\n",
       "      <th>seconde_fin</th>\n",
       "      <th>contenu</th>\n",
       "    </tr>\n",
       "  </thead>\n",
       "  <tbody>\n",
       "    <tr>\n",
       "      <th>33295</th>\n",
       "      <td>JULIE</td>\n",
       "      <td>2_03_08</td>\n",
       "      <td>pho</td>\n",
       "      <td>NaN</td>\n",
       "      <td>NaN</td>\n",
       "      <td>NaN</td>\n",
       "    </tr>\n",
       "  </tbody>\n",
       "</table>\n",
       "</div>"
      ],
      "text/plain": [
       "      enfant      age type  seconde_debut  seconde_fin contenu\n",
       "33295  JULIE  2_03_08  pho            NaN          NaN     NaN"
      ]
     },
     "execution_count": 13,
     "metadata": {},
     "output_type": "execute_result"
    }
   ],
   "source": [
    "pho_child.loc[pho_child['contenu'].isna()]"
   ]
  },
  {
   "cell_type": "code",
   "execution_count": 14,
   "metadata": {},
   "outputs": [],
   "source": [
    "#Supprime les valeurs NaN\n",
    "pho_child = pho_child.dropna(subset=['type', 'contenu'])"
   ]
  },
  {
   "cell_type": "markdown",
   "metadata": {},
   "source": [
    "Nous allons chercher à visualiser la quantité phonétique de données à disposition"
   ]
  },
  {
   "cell_type": "markdown",
   "metadata": {},
   "source": [
    "## Visualisation des données phonétiques"
   ]
  },
  {
   "cell_type": "markdown",
   "metadata": {},
   "source": [
    "### Ajout des colonnes 'année', 'mois' et 'jour'"
   ]
  },
  {
   "cell_type": "markdown",
   "metadata": {},
   "source": [
    "On considère que la colonne age a pout format : x_xx_xx (année_mois_jour) ainsi :\n",
    "* ``pho_child['age'][0:1]`` nous donne le nombre d'année\n",
    "* ``pho_child['age'][2:4]`` nous donne le nombre de mois\n",
    "* ``pho_child['age'][5:7]`` nous donne le nombre de jours"
   ]
  },
  {
   "cell_type": "code",
   "execution_count": 15,
   "metadata": {},
   "outputs": [],
   "source": [
    "# Ajout du nombre d'année\n",
    "année_pho_child = pho_child.apply(lambda row: row['age'][0:1], axis=1)\n",
    "pho_child['année'] = année_pho_child\n",
    "\n",
    "# Ajout du nombre de mois\n",
    "mois_pho_child = pho_child.apply(lambda row: row['age'][2:4], axis=1)\n",
    "pho_child['mois'] = mois_pho_child\n",
    "\n",
    "# Ajout du nombre de jour\n",
    "jour_pho_child = pho_child.apply(lambda row: row['age'][5:7], axis=1)\n",
    "pho_child['jour'] = jour_pho_child"
   ]
  },
  {
   "cell_type": "code",
   "execution_count": 16,
   "metadata": {},
   "outputs": [],
   "source": [
    "#pho_child"
   ]
  },
  {
   "cell_type": "markdown",
   "metadata": {},
   "source": [
    "## Quantité de données"
   ]
  },
  {
   "cell_type": "markdown",
   "metadata": {},
   "source": [
    "Combien avons-nous de ligne pour chaque année ? mois ? jour ?"
   ]
  },
  {
   "cell_type": "markdown",
   "metadata": {},
   "source": [
    "### Quantité de données par année"
   ]
  },
  {
   "cell_type": "code",
   "execution_count": 17,
   "metadata": {},
   "outputs": [
    {
     "data": {
      "text/html": [
       "<div>\n",
       "<style scoped>\n",
       "    .dataframe tbody tr th:only-of-type {\n",
       "        vertical-align: middle;\n",
       "    }\n",
       "\n",
       "    .dataframe tbody tr th {\n",
       "        vertical-align: top;\n",
       "    }\n",
       "\n",
       "    .dataframe thead th {\n",
       "        text-align: right;\n",
       "    }\n",
       "</style>\n",
       "<table border=\"1\" class=\"dataframe\">\n",
       "  <thead>\n",
       "    <tr style=\"text-align: right;\">\n",
       "      <th></th>\n",
       "      <th>nb_phrase</th>\n",
       "    </tr>\n",
       "    <tr>\n",
       "      <th>année</th>\n",
       "      <th></th>\n",
       "    </tr>\n",
       "  </thead>\n",
       "  <tbody>\n",
       "    <tr>\n",
       "      <th>0</th>\n",
       "      <td>381</td>\n",
       "    </tr>\n",
       "    <tr>\n",
       "      <th>1</th>\n",
       "      <td>4509</td>\n",
       "    </tr>\n",
       "    <tr>\n",
       "      <th>2</th>\n",
       "      <td>6435</td>\n",
       "    </tr>\n",
       "    <tr>\n",
       "      <th>3</th>\n",
       "      <td>3631</td>\n",
       "    </tr>\n",
       "    <tr>\n",
       "      <th>4</th>\n",
       "      <td>733</td>\n",
       "    </tr>\n",
       "    <tr>\n",
       "      <th>5</th>\n",
       "      <td>500</td>\n",
       "    </tr>\n",
       "  </tbody>\n",
       "</table>\n",
       "</div>"
      ],
      "text/plain": [
       "       nb_phrase\n",
       "année           \n",
       "0            381\n",
       "1           4509\n",
       "2           6435\n",
       "3           3631\n",
       "4            733\n",
       "5            500"
      ]
     },
     "execution_count": 17,
     "metadata": {},
     "output_type": "execute_result"
    }
   ],
   "source": [
    "nb_phrase_annee = pho_child[{'année','contenu'}].groupby('année').count()\n",
    "nb_phrase_annee.rename(columns={'contenu': 'nb_phrase'})"
   ]
  },
  {
   "cell_type": "code",
   "execution_count": 18,
   "metadata": {},
   "outputs": [
    {
     "data": {
      "text/plain": [
       "array([<matplotlib.axes._subplots.AxesSubplot object at 0x0000025CECD971D0>],\n",
       "      dtype=object)"
      ]
     },
     "execution_count": 18,
     "metadata": {},
     "output_type": "execute_result"
    }
   ],
   "source": [
    "nb_phrase_annee.plot(kind='bar', \n",
    "                       subplots=True, \n",
    "                       figsize=(20,10),\n",
    "                       title = 'Nombre de données phonétiques par année : Julie',\n",
    "                       fontsize = 15,\n",
    "                       use_index = True)"
   ]
  },
  {
   "cell_type": "markdown",
   "metadata": {},
   "source": [
    "On voit qu'il y a des quantités de données phonétiques différentes pour chaques années :\n",
    "* Nous avons peut de données pour l'année zéro\n",
    "* Nous avons beaucoup de données les première, deuxième et troisième année\n",
    "* Il y a moins beaucoup moins de données la quatrième et cinquième année"
   ]
  },
  {
   "cell_type": "markdown",
   "metadata": {},
   "source": [
    "### Quantité de données par mois\n",
    "\n",
    "Regardons plus en détail la quantité de données phonétiques par mois :"
   ]
  },
  {
   "cell_type": "code",
   "execution_count": 19,
   "metadata": {},
   "outputs": [
    {
     "data": {
      "text/html": [
       "<div>\n",
       "<style scoped>\n",
       "    .dataframe tbody tr th:only-of-type {\n",
       "        vertical-align: middle;\n",
       "    }\n",
       "\n",
       "    .dataframe tbody tr th {\n",
       "        vertical-align: top;\n",
       "    }\n",
       "\n",
       "    .dataframe thead tr th {\n",
       "        text-align: left;\n",
       "    }\n",
       "\n",
       "    .dataframe thead tr:last-of-type th {\n",
       "        text-align: right;\n",
       "    }\n",
       "</style>\n",
       "<table border=\"1\" class=\"dataframe\">\n",
       "  <thead>\n",
       "    <tr>\n",
       "      <th></th>\n",
       "      <th colspan=\"12\" halign=\"left\">nb_phrase</th>\n",
       "    </tr>\n",
       "    <tr>\n",
       "      <th>mois</th>\n",
       "      <th>00</th>\n",
       "      <th>01</th>\n",
       "      <th>02</th>\n",
       "      <th>03</th>\n",
       "      <th>04</th>\n",
       "      <th>05</th>\n",
       "      <th>06</th>\n",
       "      <th>07</th>\n",
       "      <th>08</th>\n",
       "      <th>09</th>\n",
       "      <th>10</th>\n",
       "      <th>11</th>\n",
       "    </tr>\n",
       "    <tr>\n",
       "      <th>année</th>\n",
       "      <th></th>\n",
       "      <th></th>\n",
       "      <th></th>\n",
       "      <th></th>\n",
       "      <th></th>\n",
       "      <th></th>\n",
       "      <th></th>\n",
       "      <th></th>\n",
       "      <th></th>\n",
       "      <th></th>\n",
       "      <th></th>\n",
       "      <th></th>\n",
       "    </tr>\n",
       "  </thead>\n",
       "  <tbody>\n",
       "    <tr>\n",
       "      <th>0</th>\n",
       "      <td>NaN</td>\n",
       "      <td>NaN</td>\n",
       "      <td>NaN</td>\n",
       "      <td>NaN</td>\n",
       "      <td>NaN</td>\n",
       "      <td>NaN</td>\n",
       "      <td>NaN</td>\n",
       "      <td>NaN</td>\n",
       "      <td>NaN</td>\n",
       "      <td>NaN</td>\n",
       "      <td>NaN</td>\n",
       "      <td>381.0</td>\n",
       "    </tr>\n",
       "    <tr>\n",
       "      <th>1</th>\n",
       "      <td>NaN</td>\n",
       "      <td>NaN</td>\n",
       "      <td>370.0</td>\n",
       "      <td>603.0</td>\n",
       "      <td>603.0</td>\n",
       "      <td>NaN</td>\n",
       "      <td>585.0</td>\n",
       "      <td>756.0</td>\n",
       "      <td>NaN</td>\n",
       "      <td>625.0</td>\n",
       "      <td>522.0</td>\n",
       "      <td>445.0</td>\n",
       "    </tr>\n",
       "    <tr>\n",
       "      <th>2</th>\n",
       "      <td>667.0</td>\n",
       "      <td>486.0</td>\n",
       "      <td>274.0</td>\n",
       "      <td>612.0</td>\n",
       "      <td>767.0</td>\n",
       "      <td>682.0</td>\n",
       "      <td>659.0</td>\n",
       "      <td>585.0</td>\n",
       "      <td>586.0</td>\n",
       "      <td>557.0</td>\n",
       "      <td>NaN</td>\n",
       "      <td>560.0</td>\n",
       "    </tr>\n",
       "    <tr>\n",
       "      <th>3</th>\n",
       "      <td>679.0</td>\n",
       "      <td>580.0</td>\n",
       "      <td>1099.0</td>\n",
       "      <td>NaN</td>\n",
       "      <td>640.0</td>\n",
       "      <td>NaN</td>\n",
       "      <td>NaN</td>\n",
       "      <td>633.0</td>\n",
       "      <td>NaN</td>\n",
       "      <td>NaN</td>\n",
       "      <td>NaN</td>\n",
       "      <td>NaN</td>\n",
       "    </tr>\n",
       "    <tr>\n",
       "      <th>4</th>\n",
       "      <td>NaN</td>\n",
       "      <td>NaN</td>\n",
       "      <td>NaN</td>\n",
       "      <td>NaN</td>\n",
       "      <td>NaN</td>\n",
       "      <td>NaN</td>\n",
       "      <td>NaN</td>\n",
       "      <td>NaN</td>\n",
       "      <td>733.0</td>\n",
       "      <td>NaN</td>\n",
       "      <td>NaN</td>\n",
       "      <td>NaN</td>\n",
       "    </tr>\n",
       "    <tr>\n",
       "      <th>5</th>\n",
       "      <td>NaN</td>\n",
       "      <td>NaN</td>\n",
       "      <td>NaN</td>\n",
       "      <td>494.0</td>\n",
       "      <td>NaN</td>\n",
       "      <td>NaN</td>\n",
       "      <td>NaN</td>\n",
       "      <td>NaN</td>\n",
       "      <td>NaN</td>\n",
       "      <td>NaN</td>\n",
       "      <td>6.0</td>\n",
       "      <td>NaN</td>\n",
       "    </tr>\n",
       "  </tbody>\n",
       "</table>\n",
       "</div>"
      ],
      "text/plain": [
       "      nb_phrase                                                           \\\n",
       "mois         00     01      02     03     04     05     06     07     08   \n",
       "année                                                                      \n",
       "0           NaN    NaN     NaN    NaN    NaN    NaN    NaN    NaN    NaN   \n",
       "1           NaN    NaN   370.0  603.0  603.0    NaN  585.0  756.0    NaN   \n",
       "2         667.0  486.0   274.0  612.0  767.0  682.0  659.0  585.0  586.0   \n",
       "3         679.0  580.0  1099.0    NaN  640.0    NaN    NaN  633.0    NaN   \n",
       "4           NaN    NaN     NaN    NaN    NaN    NaN    NaN    NaN  733.0   \n",
       "5           NaN    NaN     NaN  494.0    NaN    NaN    NaN    NaN    NaN   \n",
       "\n",
       "                            \n",
       "mois      09     10     11  \n",
       "année                       \n",
       "0        NaN    NaN  381.0  \n",
       "1      625.0  522.0  445.0  \n",
       "2      557.0    NaN  560.0  \n",
       "3        NaN    NaN    NaN  \n",
       "4        NaN    NaN    NaN  \n",
       "5        NaN    6.0    NaN  "
      ]
     },
     "execution_count": 19,
     "metadata": {},
     "output_type": "execute_result"
    }
   ],
   "source": [
    "nb_phrase_mois = pho_child[{'année','mois','contenu'}].groupby(['année','mois']).count()\n",
    "nb_phrase_mois = nb_phrase_mois.rename(columns={'contenu': 'nb_phrase'})\n",
    "nb_phrase_mois.unstack(level=1)"
   ]
  },
  {
   "cell_type": "markdown",
   "metadata": {},
   "source": [
    "Nous avons seulement 6 lignes pour l'age 5_10_xx\n",
    "\n",
    "On voit aussi qu'il y a des mois sans données, cela vérifie qu'il y ait moins de données pour les années 0, 4 et 5 "
   ]
  },
  {
   "cell_type": "code",
   "execution_count": 20,
   "metadata": {},
   "outputs": [
    {
     "data": {
      "image/png": "[encoded data removed]",
      "text/plain": [
       "<Figure size 1800x2160 with 6 Axes>"
      ]
     },
     "metadata": {
      "needs_background": "light"
     },
     "output_type": "display_data"
    }
   ],
   "source": [
    "plt = nb_phrase_mois.unstack(level=0).plot(kind='bar', \n",
    "                                     subplots=True, \n",
    "                                     figsize=(25, 30),\n",
    "                                     title = 'Nombre de données phonétiques par mois : Julie',\n",
    "                                     fontsize = 15,\n",
    "                                     use_index = True)"
   ]
  },
  {
   "cell_type": "markdown",
   "metadata": {},
   "source": [
    "On voit qu'il y a moins d'enregistrements effectués sur Julie la troisième année et surtout sur les quatrième et cinquième année (en effet elles ne contiennent qu'un mois avec une quantité de données significative)"
   ]
  },
  {
   "cell_type": "code",
   "execution_count": 21,
   "metadata": {},
   "outputs": [
    {
     "data": {
      "image/png": "[encoded data removed]",
      "text/plain": [
       "<Figure size 1440x720 with 1 Axes>"
      ]
     },
     "metadata": {
      "needs_background": "light"
     },
     "output_type": "display_data"
    }
   ],
   "source": [
    "plt = nb_phrase_mois.plot(kind='bar',\n",
    "                    subplots=True, \n",
    "                    figsize=(20, 10),\n",
    "                    title = 'Nombre de données phonétiques par mois : Julie',\n",
    "                    fontsize = 15,\n",
    "                    use_index = True)"
   ]
  },
  {
   "cell_type": "markdown",
   "metadata": {},
   "source": [
    "### Quantité de données par jour\n",
    "\n",
    "Regardons maintenant la quantité de données par jours :"
   ]
  },
  {
   "cell_type": "code",
   "execution_count": 26,
   "metadata": {},
   "outputs": [],
   "source": [
    "nb_phrase_jour = pho_child[{'année','mois', 'jour', 'contenu'}].groupby(['année','mois', 'jour']).count()\n",
    "nb_phrase_jour = nb_phrase_jour.rename(columns={'contenu': 'nb_phrase'})\n",
    "#nb_phrase_jour"
   ]
  },
  {
   "cell_type": "markdown",
   "metadata": {},
   "source": [
    "On voit qu'il n'y a aucun mois avec plus de un jour, il ne sert donc pas d'explorer plus loin ..."
   ]
  },
  {
   "cell_type": "code",
   "execution_count": 23,
   "metadata": {
    "scrolled": false
   },
   "outputs": [
    {
     "data": {
      "image/png": "[encoded data removed]",
      "text/plain": [
       "<Figure size 1440x720 with 1 Axes>"
      ]
     },
     "metadata": {
      "needs_background": "light"
     },
     "output_type": "display_data"
    }
   ],
   "source": [
    "plt = nb_phrase_jour.plot(kind='bar',\n",
    "                    subplots=True,\n",
    "                    figsize=(20, 10),\n",
    "                    title = 'Nombre de données phonétiques par jour : Julie',\n",
    "                    fontsize = 15,\n",
    "                    use_index = True)"
   ]
  },
  {
   "cell_type": "markdown",
   "metadata": {},
   "source": [
    "De cette manière on a une distribution plus homogène de la quantité de données phonétique. En effet nous avons découpé les données de tel sorte à avoir la quantité de données pour chaque enregistrement de Julie. Mais elle n'est pas distribué de manière équitable dans le temps. On peut mesurer la croissance du nombre de prise de parole (on pourrait croiser cette donnée avec la durée de l'enregistrement pour une meilleure mesure). <br>\n",
    "Pour cela nous devons ignorer les quantités pour les ages (car ces quantités ne sont pas représentatives et cela fausserais notre mesure):\n",
    "* 5_10_07"
   ]
  },
  {
   "cell_type": "markdown",
   "metadata": {},
   "source": [
    "On a maintenant une meilleure vision de la quantité de données phonétiques à disposition et de leur répartition dans le temps pour Julie."
   ]
  },
  {
   "cell_type": "markdown",
   "metadata": {},
   "source": [
    "## Nombre de mot\n",
    "Nous allons chercher à explorer le nombre de mot au sens phonétique par phrase. <br>\n",
    "Pour cela on peut compter le nombre d'espace dans la chaîne de caractère :"
   ]
  },
  {
   "cell_type": "code",
   "execution_count": 59,
   "metadata": {},
   "outputs": [],
   "source": [
    "#pho_child"
   ]
  },
  {
   "cell_type": "code",
   "execution_count": 48,
   "metadata": {},
   "outputs": [
    {
     "name": "stdout",
     "output_type": "stream",
     "text": [
      "Nombre de mot dans \"ʒə bː ʒə ʒə byvʁɛ mɔ̃ vɛʁ sː tu tɑ̃ nœ̃ ku : 12\n"
     ]
    }
   ],
   "source": [
    "# Exemple \n",
    "pho = pho_child.at[68626, 'contenu']\n",
    "print('Nombre de mot dans \"' + pho + ' : '+ str(pho.count(' ')+1))"
   ]
  },
  {
   "cell_type": "markdown",
   "metadata": {},
   "source": [
    "Pour chaque ligne on calcul le nombre de mot phonétique :"
   ]
  },
  {
   "cell_type": "code",
   "execution_count": 28,
   "metadata": {},
   "outputs": [],
   "source": [
    "nb_mot_pho = pho_child.apply(lambda row: row['contenu'].count(' ')+1, axis=1)\n",
    "pho_child['nombre_mot_phonétique'] = nb_mot_pho #On ajoute une colonne contenant le nombre de mot"
   ]
  },
  {
   "cell_type": "markdown",
   "metadata": {},
   "source": [
    "Par exemple on peut avoir la phrase de Julie avec le plus grand nombre de mot :"
   ]
  },
  {
   "cell_type": "code",
   "execution_count": 45,
   "metadata": {},
   "outputs": [
    {
     "name": "stdout",
     "output_type": "stream",
     "text": [
      "['wi ʒə l ɛ vy yn fwa yn fwa ʒə l ɛ deʒa vy yn fwa a la kʁɛʃ dɑ̃ la kuʁ de pəti kɑ̃ tɔ̃ netɛ dɑ̃ la kuʁ e e e ʒə l ɛ deʒa vy kɑ̃ ɛl pasɛ dɑ̃ avɛk œ̃̃ mus avɛk yn kopin']\n",
      "longueur: 48\n"
     ]
    }
   ],
   "source": [
    "a = pho_child.loc[pho_child['nombre_mot_phonétique'] == pho_child['nombre_mot_phonétique'].max()].contenu.values\n",
    "print(a)\n",
    "print('longueur: '+str(str(a).count(' ')+1))"
   ]
  },
  {
   "cell_type": "markdown",
   "metadata": {},
   "source": [
    "Voici la ligne de cette phrase :"
   ]
  },
  {
   "cell_type": "code",
   "execution_count": 46,
   "metadata": {},
   "outputs": [
    {
     "data": {
      "text/html": [
       "<div>\n",
       "<style scoped>\n",
       "    .dataframe tbody tr th:only-of-type {\n",
       "        vertical-align: middle;\n",
       "    }\n",
       "\n",
       "    .dataframe tbody tr th {\n",
       "        vertical-align: top;\n",
       "    }\n",
       "\n",
       "    .dataframe thead th {\n",
       "        text-align: right;\n",
       "    }\n",
       "</style>\n",
       "<table border=\"1\" class=\"dataframe\">\n",
       "  <thead>\n",
       "    <tr style=\"text-align: right;\">\n",
       "      <th></th>\n",
       "      <th>enfant</th>\n",
       "      <th>age</th>\n",
       "      <th>type</th>\n",
       "      <th>seconde_debut</th>\n",
       "      <th>seconde_fin</th>\n",
       "      <th>contenu</th>\n",
       "      <th>année</th>\n",
       "      <th>mois</th>\n",
       "      <th>jour</th>\n",
       "      <th>nombre_mot_phonétique</th>\n",
       "    </tr>\n",
       "  </thead>\n",
       "  <tbody>\n",
       "    <tr>\n",
       "      <th>65575</th>\n",
       "      <td>JULIE</td>\n",
       "      <td>5_03_19</td>\n",
       "      <td>pho</td>\n",
       "      <td>NaN</td>\n",
       "      <td>NaN</td>\n",
       "      <td>wi ʒə l ɛ vy yn fwa yn fwa ʒə l ɛ deʒa vy yn f...</td>\n",
       "      <td>5</td>\n",
       "      <td>03</td>\n",
       "      <td>19</td>\n",
       "      <td>48</td>\n",
       "    </tr>\n",
       "  </tbody>\n",
       "</table>\n",
       "</div>"
      ],
      "text/plain": [
       "      enfant      age type  seconde_debut  seconde_fin  \\\n",
       "65575  JULIE  5_03_19  pho            NaN          NaN   \n",
       "\n",
       "                                                 contenu année mois jour  \\\n",
       "65575  wi ʒə l ɛ vy yn fwa yn fwa ʒə l ɛ deʒa vy yn f...     5   03   19   \n",
       "\n",
       "       nombre_mot_phonétique  \n",
       "65575                     48  "
      ]
     },
     "execution_count": 46,
     "metadata": {},
     "output_type": "execute_result"
    }
   ],
   "source": [
    "pho_child.loc[pho_child['nombre_mot_phonétique'] == 48 ]"
   ]
  },
  {
   "cell_type": "markdown",
   "metadata": {},
   "source": [
    "### Espérance de mot par phrase"
   ]
  },
  {
   "cell_type": "code",
   "execution_count": 49,
   "metadata": {},
   "outputs": [],
   "source": [
    "mean_nb_mot_pho_jour = pho_child[{'année', 'mois', 'jour', 'nombre_mot_phonétique'}].groupby(['année', 'mois', 'jour']).mean()\n",
    "mean_nb_mot_pho_jour = mean_nb_mot_pho_jour.rename(columns={'nombre_mot_phonétique': 'espérance_nombre_de_mot_phonétique'})\n",
    "#mean_nb_mot_pho_jour"
   ]
  },
  {
   "cell_type": "code",
   "execution_count": 51,
   "metadata": {},
   "outputs": [
    {
     "data": {
      "text/plain": [
       "array([<matplotlib.axes._subplots.AxesSubplot object at 0x0000025CEDEB3898>],\n",
       "      dtype=object)"
      ]
     },
     "execution_count": 51,
     "metadata": {},
     "output_type": "execute_result"
    },
    {
     "data": {
      "image/png": "[encoded data removed]",
      "text/plain": [
       "<Figure size 1440x1440 with 1 Axes>"
      ]
     },
     "metadata": {
      "needs_background": "light"
     },
     "output_type": "display_data"
    }
   ],
   "source": [
    "mean_nb_mot_pho_jour.plot(kind='bar', \n",
    "                            subplots=True, \n",
    "                            figsize=(20, 20),\n",
    "                            title = 'Espérance du nombre de mot phonétique par jours : Julie',\n",
    "                            fontsize = 15,\n",
    "                            use_index = True,\n",
    "                            grid=True)"
   ]
  },
  {
   "cell_type": "markdown",
   "metadata": {},
   "source": [
    "* On constaste que l'espérance augmente en fonction du temps"
   ]
  },
  {
   "cell_type": "markdown",
   "metadata": {},
   "source": [
    "### Variance du nombre de mot par phrase"
   ]
  },
  {
   "cell_type": "code",
   "execution_count": 64,
   "metadata": {},
   "outputs": [],
   "source": [
    "var_nb_mot_pho_jour = pho_child[{'année','mois','jour', 'nombre_mot_phonétique'}].groupby(['année','mois', 'jour']).var()\n",
    "var_nb_mot_pho_jour = var_nb_mot_pho_jour.rename(columns={'nombre_mot_phonétique': 'variance'})\n",
    "#var_nb_mot_pho_jour"
   ]
  },
  {
   "cell_type": "code",
   "execution_count": 65,
   "metadata": {},
   "outputs": [
    {
     "data": {
      "text/plain": [
       "array([<matplotlib.axes._subplots.AxesSubplot object at 0x0000025CEFF5AA90>],\n",
       "      dtype=object)"
      ]
     },
     "execution_count": 65,
     "metadata": {},
     "output_type": "execute_result"
    },
    {
     "data": {
      "image/png": "[encoded data removed]",
      "text/plain": [
       "<Figure size 1440x1440 with 1 Axes>"
      ]
     },
     "metadata": {
      "needs_background": "light"
     },
     "output_type": "display_data"
    }
   ],
   "source": [
    "var_nb_mot_pho_jour.plot(kind='bar', \n",
    "                            subplots=True, \n",
    "                            figsize=(20, 20),\n",
    "                            title = 'Variance du nombre de mot phonétique par jours : Julie',\n",
    "                            fontsize = 15,\n",
    "                            use_index = True,\n",
    "                            grid=True)"
   ]
  },
  {
   "cell_type": "markdown",
   "metadata": {},
   "source": [
    "### Plus grande phrase "
   ]
  },
  {
   "cell_type": "code",
   "execution_count": 66,
   "metadata": {},
   "outputs": [],
   "source": [
    "max_mot_pho_child = pho_child[{'année','mois','jour', 'nombre_mot_phonétique'}].groupby(['année','mois','jour']).max()\n",
    "max_mot_pho_child = max_mot_pho_child.rename(columns={'nombre_mot_phonétique': 'longueur_max'})\n",
    "#max_mot_pho_child"
   ]
  },
  {
   "cell_type": "code",
   "execution_count": 67,
   "metadata": {},
   "outputs": [
    {
     "data": {
      "text/plain": [
       "array([<matplotlib.axes._subplots.AxesSubplot object at 0x0000025CF206A9B0>],\n",
       "      dtype=object)"
      ]
     },
     "execution_count": 67,
     "metadata": {},
     "output_type": "execute_result"
    },
    {
     "data": {
      "image/png": "[encoded data removed]",
      "text/plain": [
       "<Figure size 1440x1440 with 1 Axes>"
      ]
     },
     "metadata": {
      "needs_background": "light"
     },
     "output_type": "display_data"
    }
   ],
   "source": [
    "max_mot_pho_child.plot(kind='bar', \n",
    "                            subplots=True, \n",
    "                            figsize=(20, 20),\n",
    "                            title = 'Longueur de la plus grande par jour : Antoine',\n",
    "                            fontsize = 15,\n",
    "                            use_index = True,\n",
    "                            grid=True)"
   ]
  },
  {
   "cell_type": "markdown",
   "metadata": {},
   "source": [
    "On voit que Julie la plus grande phrase de Julie pour l'enregistrement à l'age 1,11,11 est la valeur la plus faible pour tous les enregistrements"
   ]
  },
  {
   "cell_type": "code",
   "execution_count": 73,
   "metadata": {},
   "outputs": [
    {
     "data": {
      "text/html": [
       "<div>\n",
       "<style scoped>\n",
       "    .dataframe tbody tr th:only-of-type {\n",
       "        vertical-align: middle;\n",
       "    }\n",
       "\n",
       "    .dataframe tbody tr th {\n",
       "        vertical-align: top;\n",
       "    }\n",
       "\n",
       "    .dataframe thead th {\n",
       "        text-align: right;\n",
       "    }\n",
       "</style>\n",
       "<table border=\"1\" class=\"dataframe\">\n",
       "  <thead>\n",
       "    <tr style=\"text-align: right;\">\n",
       "      <th></th>\n",
       "      <th>enfant</th>\n",
       "      <th>age</th>\n",
       "      <th>type</th>\n",
       "      <th>seconde_debut</th>\n",
       "      <th>seconde_fin</th>\n",
       "      <th>contenu</th>\n",
       "      <th>année</th>\n",
       "      <th>mois</th>\n",
       "      <th>jour</th>\n",
       "      <th>nombre_mot_phonétique</th>\n",
       "    </tr>\n",
       "  </thead>\n",
       "  <tbody>\n",
       "    <tr>\n",
       "      <th>5448</th>\n",
       "      <td>JULIE</td>\n",
       "      <td>1_03_16</td>\n",
       "      <td>pho</td>\n",
       "      <td>NaN</td>\n",
       "      <td>NaN</td>\n",
       "      <td>sɛ dɛ a sɛ sa sɛ sɛ puʁ zəte tu lɛ kyb</td>\n",
       "      <td>1</td>\n",
       "      <td>03</td>\n",
       "      <td>16</td>\n",
       "      <td>12</td>\n",
       "    </tr>\n",
       "    <tr>\n",
       "      <th>5623</th>\n",
       "      <td>JULIE</td>\n",
       "      <td>1_03_16</td>\n",
       "      <td>pho</td>\n",
       "      <td>NaN</td>\n",
       "      <td>NaN</td>\n",
       "      <td>lə məsjø il ɛ paʁti avɛk sa ʁəmɔʁk e e sa kamj...</td>\n",
       "      <td>1</td>\n",
       "      <td>03</td>\n",
       "      <td>16</td>\n",
       "      <td>12</td>\n",
       "    </tr>\n",
       "    <tr>\n",
       "      <th>5728</th>\n",
       "      <td>JULIE</td>\n",
       "      <td>1_03_16</td>\n",
       "      <td>pho</td>\n",
       "      <td>NaN</td>\n",
       "      <td>NaN</td>\n",
       "      <td>papa ɛ ta ɛ tale fɛʁ lɛ kuʁs puʁ ate dɛ pekylos</td>\n",
       "      <td>1</td>\n",
       "      <td>03</td>\n",
       "      <td>16</td>\n",
       "      <td>12</td>\n",
       "    </tr>\n",
       "    <tr>\n",
       "      <th>6155</th>\n",
       "      <td>JULIE</td>\n",
       "      <td>1_03_16</td>\n",
       "      <td>pho</td>\n",
       "      <td>NaN</td>\n",
       "      <td>NaN</td>\n",
       "      <td>zə mɛ dɑ̃ l bak kɔm sa zyli pø pa lɛ pʁɑ̃d</td>\n",
       "      <td>1</td>\n",
       "      <td>03</td>\n",
       "      <td>16</td>\n",
       "      <td>12</td>\n",
       "    </tr>\n",
       "    <tr>\n",
       "      <th>8195</th>\n",
       "      <td>JULIE</td>\n",
       "      <td>1_04_23</td>\n",
       "      <td>pho</td>\n",
       "      <td>NaN</td>\n",
       "      <td>NaN</td>\n",
       "      <td>sa sɛ dɛ ʁːɑ̃ bwa kə zum sɛ pa dɛ ʁɑ̃ bwa</td>\n",
       "      <td>1</td>\n",
       "      <td>04</td>\n",
       "      <td>23</td>\n",
       "      <td>12</td>\n",
       "    </tr>\n",
       "    <tr>\n",
       "      <th>10651</th>\n",
       "      <td>JULIE</td>\n",
       "      <td>1_06_04</td>\n",
       "      <td>pho</td>\n",
       "      <td>NaN</td>\n",
       "      <td>NaN</td>\n",
       "      <td>z e kase puʁ sa pastə zə vudɛ bjɛ̃ mɛt syʁ la</td>\n",
       "      <td>1</td>\n",
       "      <td>06</td>\n",
       "      <td>04</td>\n",
       "      <td>12</td>\n",
       "    </tr>\n",
       "    <tr>\n",
       "      <th>10902</th>\n",
       "      <td>JULIE</td>\n",
       "      <td>1_06_04</td>\n",
       "      <td>pho</td>\n",
       "      <td>NaN</td>\n",
       "      <td>NaN</td>\n",
       "      <td>apʁɛ kɑ̃ z e mi dø tʁyk la zə fe lə twa</td>\n",
       "      <td>1</td>\n",
       "      <td>06</td>\n",
       "      <td>04</td>\n",
       "      <td>12</td>\n",
       "    </tr>\n",
       "    <tr>\n",
       "      <th>11619</th>\n",
       "      <td>JULIE</td>\n",
       "      <td>1_06_04</td>\n",
       "      <td>pho</td>\n",
       "      <td>NaN</td>\n",
       "      <td>NaN</td>\n",
       "      <td>e me zə təs zə t asyʁ kə ve mɛt lə twa</td>\n",
       "      <td>1</td>\n",
       "      <td>06</td>\n",
       "      <td>04</td>\n",
       "      <td>12</td>\n",
       "    </tr>\n",
       "    <tr>\n",
       "      <th>11729</th>\n",
       "      <td>JULIE</td>\n",
       "      <td>1_06_04</td>\n",
       "      <td>pho</td>\n",
       "      <td>NaN</td>\n",
       "      <td>NaN</td>\n",
       "      <td>mwa z e tʁuve dɛ zelastik puʁ gaʁsɔ̃ e dɛ puʁ ...</td>\n",
       "      <td>1</td>\n",
       "      <td>06</td>\n",
       "      <td>04</td>\n",
       "      <td>12</td>\n",
       "    </tr>\n",
       "    <tr>\n",
       "      <th>12790</th>\n",
       "      <td>JULIE</td>\n",
       "      <td>1_07_26</td>\n",
       "      <td>pho</td>\n",
       "      <td>NaN</td>\n",
       "      <td>NaN</td>\n",
       "      <td>l ɛ paʁti ale ʁavaje ot paʁ ɔ̃t ɔ̃ va ale vwaʁ</td>\n",
       "      <td>1</td>\n",
       "      <td>07</td>\n",
       "      <td>26</td>\n",
       "      <td>12</td>\n",
       "    </tr>\n",
       "    <tr>\n",
       "      <th>16276</th>\n",
       "      <td>JULIE</td>\n",
       "      <td>1_09_16</td>\n",
       "      <td>pho</td>\n",
       "      <td>NaN</td>\n",
       "      <td>NaN</td>\n",
       "      <td>e z e mi ə ə ʁəkɛ̃ puʁ h e mi sa</td>\n",
       "      <td>1</td>\n",
       "      <td>09</td>\n",
       "      <td>16</td>\n",
       "      <td>12</td>\n",
       "    </tr>\n",
       "    <tr>\n",
       "      <th>18122</th>\n",
       "      <td>JULIE</td>\n",
       "      <td>1_09_16</td>\n",
       "      <td>pho</td>\n",
       "      <td>NaN</td>\n",
       "      <td>NaN</td>\n",
       "      <td>ʁəgaʁd il ɛ ɑ̃pese se pje dɑ̃ lə dɑ̃ lə twijo X</td>\n",
       "      <td>1</td>\n",
       "      <td>09</td>\n",
       "      <td>16</td>\n",
       "      <td>12</td>\n",
       "    </tr>\n",
       "    <tr>\n",
       "      <th>18498</th>\n",
       "      <td>JULIE</td>\n",
       "      <td>1_10_14</td>\n",
       "      <td>pho</td>\n",
       "      <td>NaN</td>\n",
       "      <td>NaN</td>\n",
       "      <td>sɛ sɛ la tit fij ti ki sːa kɔmɑ̃ ɛl s apɛl</td>\n",
       "      <td>1</td>\n",
       "      <td>10</td>\n",
       "      <td>14</td>\n",
       "      <td>12</td>\n",
       "    </tr>\n",
       "    <tr>\n",
       "      <th>18525</th>\n",
       "      <td>JULIE</td>\n",
       "      <td>1_10_14</td>\n",
       "      <td>pho</td>\n",
       "      <td>NaN</td>\n",
       "      <td>NaN</td>\n",
       "      <td>avɛk yn metʁɛs ki ʁɛst zyskə la gaʁdəʁi e tu s...</td>\n",
       "      <td>1</td>\n",
       "      <td>10</td>\n",
       "      <td>14</td>\n",
       "      <td>12</td>\n",
       "    </tr>\n",
       "    <tr>\n",
       "      <th>18634</th>\n",
       "      <td>JULIE</td>\n",
       "      <td>1_10_14</td>\n",
       "      <td>pho</td>\n",
       "      <td>NaN</td>\n",
       "      <td>NaN</td>\n",
       "      <td>a l ekɔl j avɛ dɛ dek dɛ bɛl dekɔʁasjɔ̃ də hal...</td>\n",
       "      <td>1</td>\n",
       "      <td>10</td>\n",
       "      <td>14</td>\n",
       "      <td>12</td>\n",
       "    </tr>\n",
       "  </tbody>\n",
       "</table>\n",
       "</div>"
      ],
      "text/plain": [
       "      enfant      age type  seconde_debut  seconde_fin  \\\n",
       "5448   JULIE  1_03_16  pho            NaN          NaN   \n",
       "5623   JULIE  1_03_16  pho            NaN          NaN   \n",
       "5728   JULIE  1_03_16  pho            NaN          NaN   \n",
       "6155   JULIE  1_03_16  pho            NaN          NaN   \n",
       "8195   JULIE  1_04_23  pho            NaN          NaN   \n",
       "10651  JULIE  1_06_04  pho            NaN          NaN   \n",
       "10902  JULIE  1_06_04  pho            NaN          NaN   \n",
       "11619  JULIE  1_06_04  pho            NaN          NaN   \n",
       "11729  JULIE  1_06_04  pho            NaN          NaN   \n",
       "12790  JULIE  1_07_26  pho            NaN          NaN   \n",
       "16276  JULIE  1_09_16  pho            NaN          NaN   \n",
       "18122  JULIE  1_09_16  pho            NaN          NaN   \n",
       "18498  JULIE  1_10_14  pho            NaN          NaN   \n",
       "18525  JULIE  1_10_14  pho            NaN          NaN   \n",
       "18634  JULIE  1_10_14  pho            NaN          NaN   \n",
       "\n",
       "                                                 contenu année mois jour  \\\n",
       "5448              sɛ dɛ a sɛ sa sɛ sɛ puʁ zəte tu lɛ kyb     1   03   16   \n",
       "5623   lə məsjø il ɛ paʁti avɛk sa ʁəmɔʁk e e sa kamj...     1   03   16   \n",
       "5728     papa ɛ ta ɛ tale fɛʁ lɛ kuʁs puʁ ate dɛ pekylos     1   03   16   \n",
       "6155          zə mɛ dɑ̃ l bak kɔm sa zyli pø pa lɛ pʁɑ̃d     1   03   16   \n",
       "8195           sa sɛ dɛ ʁːɑ̃ bwa kə zum sɛ pa dɛ ʁɑ̃ bwa     1   04   23   \n",
       "10651      z e kase puʁ sa pastə zə vudɛ bjɛ̃ mɛt syʁ la     1   06   04   \n",
       "10902            apʁɛ kɑ̃ z e mi dø tʁyk la zə fe lə twa     1   06   04   \n",
       "11619             e me zə təs zə t asyʁ kə ve mɛt lə twa     1   06   04   \n",
       "11729  mwa z e tʁuve dɛ zelastik puʁ gaʁsɔ̃ e dɛ puʁ ...     1   06   04   \n",
       "12790     l ɛ paʁti ale ʁavaje ot paʁ ɔ̃t ɔ̃ va ale vwaʁ     1   07   26   \n",
       "16276                   e z e mi ə ə ʁəkɛ̃ puʁ h e mi sa     1   09   16   \n",
       "18122    ʁəgaʁd il ɛ ɑ̃pese se pje dɑ̃ lə dɑ̃ lə twijo X     1   09   16   \n",
       "18498         sɛ sɛ la tit fij ti ki sːa kɔmɑ̃ ɛl s apɛl     1   10   14   \n",
       "18525  avɛk yn metʁɛs ki ʁɛst zyskə la gaʁdəʁi e tu s...     1   10   14   \n",
       "18634  a l ekɔl j avɛ dɛ dek dɛ bɛl dekɔʁasjɔ̃ də hal...     1   10   14   \n",
       "\n",
       "       nombre_mot_phonétique  \n",
       "5448                      12  \n",
       "5623                      12  \n",
       "5728                      12  \n",
       "6155                      12  \n",
       "8195                      12  \n",
       "10651                     12  \n",
       "10902                     12  \n",
       "11619                     12  \n",
       "11729                     12  \n",
       "12790                     12  \n",
       "16276                     12  \n",
       "18122                     12  \n",
       "18498                     12  \n",
       "18525                     12  \n",
       "18634                     12  "
      ]
     },
     "execution_count": 73,
     "metadata": {},
     "output_type": "execute_result"
    }
   ],
   "source": [
    "#Exemple: selection des phrases de 12 mots à l'age 1,xx,xx\n",
    "pho_child.loc[pho_child['année'] == '1'].loc[pho_child.loc[pho_child['année'] == '1']['nombre_mot_phonétique'] == 12]"
   ]
  },
  {
   "cell_type": "markdown",
   "metadata": {},
   "source": [
    "### Gestion de l'encodage"
   ]
  },
  {
   "cell_type": "code",
   "execution_count": null,
   "metadata": {},
   "outputs": [],
   "source": [
    "import chardet\n",
    "\n",
    "with open('data_antoine_final.csv', 'rb') as f:\n",
    "    result = chardet.detect(f.read())  # or readline if the file is large\n",
    "\n",
    "result"
   ]
  },
  {
   "cell_type": "code",
   "execution_count": null,
   "metadata": {},
   "outputs": [],
   "source": [
    "#data_antoine_final = pd.read_csv('data_antoine_final.csv', encoding=result['encoding'])\n",
    "#data_antoine_final"
   ]
  }
 ],
 "metadata": {
  "kernelspec": {
   "display_name": "Python 3",
   "language": "python",
   "name": "python3"
  },
  "language_info": {
   "codemirror_mode": {
    "name": "ipython",
    "version": 3
   },
   "file_extension": ".py",
   "mimetype": "text/x-python",
   "name": "python",
   "nbconvert_exporter": "python",
   "pygments_lexer": "ipython3",
   "version": "3.7.3"
  }
 },
 "nbformat": 4,
 "nbformat_minor": 2
}
