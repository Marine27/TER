{
  "nbformat": 4,
  "nbformat_minor": 0,
  "metadata": {
    "colab": {
      "name": "Untitled3.ipynb",
      "provenance": [],
      "include_colab_link": true
    },
    "kernelspec": {
      "name": "python3",
      "display_name": "Python 3"
    }
  },
  "cells": [
    {
      "cell_type": "markdown",
      "metadata": {
        "id": "view-in-github",
        "colab_type": "text"
      },
      "source": [
        "<a href=\"https://colab.research.google.com/github/Petrichoeur/TER/blob/master/MultiStream/process_list_for_json.ipynb\" target=\"_parent\"><img src=\"https://colab.research.google.com/assets/colab-badge.svg\" alt=\"Open In Colab\"/></a>"
      ]
    },
    {
      "cell_type": "code",
      "metadata": {
        "id": "BU78udFNXgHn",
        "colab_type": "code",
        "colab": {}
      },
      "source": [
        "import pandas as pd  \n",
        "import numpy as np\n",
        "# Changer data anae final par un autre enfant \n",
        "\n",
        "def Reverse(tuples): \n",
        "    new_tup = tuples[::-1] \n",
        "    return new_tup \n",
        "\n",
        "data_child = pd.read_csv('data_anae_final.csv',\n",
        "                           sep = '\\t',\n",
        "                           encoding = 'utf-8',\n",
        "                           index_col=False)\n",
        "\n",
        "# On supprime la colonne qui duplique les index\n",
        "data_child = data_child.drop(columns = 'Unnamed: 0') \n",
        "data_child=data_child.sort_values(by = ['age','seconde_debut']) \n",
        "\n",
        "data_child.head()\n",
        "data_child['ind']=[ i for i in range(len(data_child))]\n",
        "data_child= data_child.set_index('ind')\n"
      ],
      "execution_count": 0,
      "outputs": []
    },
    {
      "cell_type": "code",
      "metadata": {
        "id": "7pxrkVp4Zrd3",
        "colab_type": "code",
        "colab": {}
      },
      "source": [
        "\n",
        "pho_child = data_child.where(data_child['type']=='pho').dropna(subset=['type'])\n",
        "pho_child.to_csv('phono_anae.csv',sep=';') \n",
        "\n"
      ],
      "execution_count": 0,
      "outputs": []
    },
    {
      "cell_type": "code",
      "metadata": {
        "id": "Qw8SabcHXi_r",
        "colab_type": "code",
        "colab": {
          "base_uri": "https://localhost:8080/",
          "height": 121
        },
        "outputId": "77b485db-dc81-435e-e54a-834adcde3c01"
      },
      "source": [
        "data=pd.read_csv('phono_anae.csv',sep=';')\n",
        "pho=data[['age','contenu']] \n",
        "\n",
        "age=data['age'] \n",
        "l=[i for i in range(len(age))]\n",
        "k=[age.values]\n",
        "k.append(l)\n",
        "tuples = list(zip(*k))\n",
        "index = pd.MultiIndex.from_tuples(tuples, names=['index', 'age'])\n",
        "data.set_index(index,inplace=True)\n",
        "\n",
        "D={} \n",
        "pho=data[['contenu']]\n",
        "pho['contenu']=pho['contenu'].apply(lambda x: str(x))\n",
        "for i in list(zip(*pho.index))[0]:  \n",
        "    z=pho['contenu'].loc[i].values\n",
        "    y= ' '.join(z) \n",
        "    D[i]=y.split()\n",
        "    \n",
        "    \n",
        "flemme = pd.DataFrame(list(zip(*pho.index))[0]) \n",
        "\n",
        "FLEMME=flemme[0].unique()\n",
        "\n",
        "df = {} \n",
        "for i in FLEMME : \n",
        "    df[i]=pd.DataFrame(D[i], index= [i for _ in range(len(D[i]))] , columns=['mot']) \n",
        "\n",
        "    \n",
        "df2=pd.concat([df[i] for i in FLEMME]) \n"
      ],
      "execution_count": 53,
      "outputs": [
        {
          "output_type": "stream",
          "text": [
            "/usr/local/lib/python3.6/dist-packages/ipykernel_launcher.py:14: SettingWithCopyWarning: \n",
            "A value is trying to be set on a copy of a slice from a DataFrame.\n",
            "Try using .loc[row_indexer,col_indexer] = value instead\n",
            "\n",
            "See the caveats in the documentation: http://pandas.pydata.org/pandas-docs/stable/user_guide/indexing.html#returning-a-view-versus-a-copy\n",
            "  \n"
          ],
          "name": "stderr"
        }
      ]
    },
    {
      "cell_type": "code",
      "metadata": {
        "id": "7wlqwE1qNCPO",
        "colab_type": "code",
        "colab": {}
      },
      "source": [
        "\n",
        "IPA = \"a,r,l,e,s,i,ɛ,ə,t,k,p,d,m,ɑ̃,n,u,v,o,y,ɔ̃,ʒ,ɔ,ɛ̃,f,b,j,w,ɥ,z,ø,ʃ,œ̃,œ,g,ɑ,ɲ,tr,kr,dr,gr\" \n",
        "IPA2= IPA.split(',')\n",
        "Dic={'0':'ɑ̃','1':'ɔ̃','2':'ɛ̃','3':'œ̃','4':'tr','5':'kr','6':'dr','7':'gr'}\n",
        "IPA_=[]\n",
        "def ipa_(x): \n",
        "  x=x.replace('ɑ̃','0')\n",
        "  x=x.replace('ɔ̃','1') \n",
        "  x=x.replace('ɛ̃', '2') \n",
        "  x=x.replace('œ̃','3') \n",
        "  x=x.replace('tr','4')\n",
        "  x=x.replace('kr','5')\n",
        "  x=x.replace('dr','6')\n",
        "  x=x.replace('gr','7')\n",
        "  return x \n",
        "\n",
        "df=df2\n",
        "\n",
        "df['index_age']=df.index \n",
        "forjson=df[['index_age','mot']]\n",
        "\n",
        "\n",
        "def splitage(x): \n",
        "    l=[]\n",
        "    for y in x: \n",
        "        l.append(y)\n",
        "    return l\n",
        "\n",
        "\n",
        "\n",
        "def return_pho(x,choose=False):  \n",
        "  l=[] \n",
        "  for i in ipa_(IPA): \n",
        "    for ch in x : \n",
        "      if i==x :\n",
        "        l.append(i) \n",
        "  return l \n",
        "\n",
        "\n",
        "\n",
        "forjson['mot']=forjson['mot'].apply(lambda x: ipa_(str(x))) \n",
        "\n",
        "forjson['mot_ut']=forjson['mot'].apply(lambda x: splitage(str(x))) \n",
        "\n",
        "\n",
        "D={}\n",
        "for i in forjson['index_age'].unique(): \n",
        "  D[i]=forjson[forjson['index_age']== i]  \n",
        "\n",
        "index_json=forjson['index_age'].unique()\n",
        "\n",
        "name_for_pho={}\n",
        "for i in index_json : \n",
        "  l=D[i].mot.values\n",
        "  k=list(D[i].mot_ut.values)\n",
        "  name=[] \n",
        "  for p in range(len(k)) :\n",
        "   for j in range(len(k[p])): \n",
        "    name.append(l[p])  \n",
        "  name_for_pho[i]=name\n",
        "\n",
        " \n",
        "final={} \n",
        "for i in index_json: \n",
        "  final[i]=pd.DataFrame([name_for_pho[i],D[i]['mot_ut'].sum()],index=['mot','phoneme']).transpose()\n"
      ],
      "execution_count": 0,
      "outputs": []
    },
    {
      "cell_type": "code",
      "metadata": {
        "id": "63xaL0OgOope",
        "colab_type": "code",
        "colab": {
          "base_uri": "https://localhost:8080/",
          "height": 424
        },
        "outputId": "dff0ea8d-bf03-4a48-9c8d-46a720d77c2c"
      },
      "source": [
        "final['1_10_18']"
      ],
      "execution_count": 55,
      "outputs": [
        {
          "output_type": "execute_result",
          "data": {
            "text/html": [
              "<div>\n",
              "<style scoped>\n",
              "    .dataframe tbody tr th:only-of-type {\n",
              "        vertical-align: middle;\n",
              "    }\n",
              "\n",
              "    .dataframe tbody tr th {\n",
              "        vertical-align: top;\n",
              "    }\n",
              "\n",
              "    .dataframe thead th {\n",
              "        text-align: right;\n",
              "    }\n",
              "</style>\n",
              "<table border=\"1\" class=\"dataframe\">\n",
              "  <thead>\n",
              "    <tr style=\"text-align: right;\">\n",
              "      <th></th>\n",
              "      <th>mot</th>\n",
              "      <th>phoneme</th>\n",
              "    </tr>\n",
              "  </thead>\n",
              "  <tbody>\n",
              "    <tr>\n",
              "      <th>0</th>\n",
              "      <td>vø</td>\n",
              "      <td>v</td>\n",
              "    </tr>\n",
              "    <tr>\n",
              "      <th>1</th>\n",
              "      <td>vø</td>\n",
              "      <td>ø</td>\n",
              "    </tr>\n",
              "    <tr>\n",
              "      <th>2</th>\n",
              "      <td>sa</td>\n",
              "      <td>s</td>\n",
              "    </tr>\n",
              "    <tr>\n",
              "      <th>3</th>\n",
              "      <td>sa</td>\n",
              "      <td>a</td>\n",
              "    </tr>\n",
              "    <tr>\n",
              "      <th>4</th>\n",
              "      <td>vø</td>\n",
              "      <td>v</td>\n",
              "    </tr>\n",
              "    <tr>\n",
              "      <th>...</th>\n",
              "      <td>...</td>\n",
              "      <td>...</td>\n",
              "    </tr>\n",
              "    <tr>\n",
              "      <th>3090</th>\n",
              "      <td>n0</td>\n",
              "      <td>0</td>\n",
              "    </tr>\n",
              "    <tr>\n",
              "      <th>3091</th>\n",
              "      <td>və</td>\n",
              "      <td>v</td>\n",
              "    </tr>\n",
              "    <tr>\n",
              "      <th>3092</th>\n",
              "      <td>və</td>\n",
              "      <td>ə</td>\n",
              "    </tr>\n",
              "    <tr>\n",
              "      <th>3093</th>\n",
              "      <td>pa</td>\n",
              "      <td>p</td>\n",
              "    </tr>\n",
              "    <tr>\n",
              "      <th>3094</th>\n",
              "      <td>pa</td>\n",
              "      <td>a</td>\n",
              "    </tr>\n",
              "  </tbody>\n",
              "</table>\n",
              "<p>3095 rows × 2 columns</p>\n",
              "</div>"
            ],
            "text/plain": [
              "     mot phoneme\n",
              "0     vø       v\n",
              "1     vø       ø\n",
              "2     sa       s\n",
              "3     sa       a\n",
              "4     vø       v\n",
              "...   ..     ...\n",
              "3090  n0       0\n",
              "3091  və       v\n",
              "3092  və       ə\n",
              "3093  pa       p\n",
              "3094  pa       a\n",
              "\n",
              "[3095 rows x 2 columns]"
            ]
          },
          "metadata": {
            "tags": []
          },
          "execution_count": 55
        }
      ]
    },
    {
      "cell_type": "code",
      "metadata": {
        "id": "P4Nj9OaNPvos",
        "colab_type": "code",
        "colab": {}
      },
      "source": [
        ""
      ],
      "execution_count": 0,
      "outputs": []
    },
    {
      "cell_type": "code",
      "metadata": {
        "id": "QUF4r-nXarOV",
        "colab_type": "code",
        "colab": {}
      },
      "source": [
        ""
      ],
      "execution_count": 0,
      "outputs": []
    },
    {
      "cell_type": "code",
      "metadata": {
        "id": "7dIG7UTedHF-",
        "colab_type": "code",
        "colab": {}
      },
      "source": [
        ""
      ],
      "execution_count": 0,
      "outputs": []
    }
  ]
}