{
  "nbformat": 4,
  "nbformat_minor": 0,
  "metadata": {
    "kernelspec": {
      "display_name": "Python 3",
      "language": "python",
      "name": "python3"
    },
    "language_info": {
      "codemirror_mode": {
        "name": "ipython",
        "version": 3
      },
      "file_extension": ".py",
      "mimetype": "text/x-python",
      "name": "python",
      "nbconvert_exporter": "python",
      "pygments_lexer": "ipython3",
      "version": "3.7.3"
    },
    "colab": {
      "name": "Process_for_structure_pm.ipynb",
      "provenance": [],
      "include_colab_link": true
    }
  },
  "cells": [
    {
      "cell_type": "markdown",
      "metadata": {
        "id": "view-in-github",
        "colab_type": "text"
      },
      "source": [
        "<a href=\"https://colab.research.google.com/github/Marine27/TER/blob/master/PatternMining/Process_for_structure_pm.ipynb\" target=\"_parent\"><img src=\"https://colab.research.google.com/assets/colab-badge.svg\" alt=\"Open In Colab\"/></a>"
      ]
    },
    {
      "cell_type": "markdown",
      "metadata": {
        "id": "ogkc-BrPCjKK",
        "colab_type": "text"
      },
      "source": [
        "# Mise en forme des donnees pour le *Pattern Mining*"
      ]
    },
    {
      "cell_type": "markdown",
      "metadata": {
        "id": "YkwFVjTICjKO",
        "colab_type": "text"
      },
      "source": [
        "### Imports"
      ]
    },
    {
      "cell_type": "code",
      "metadata": {
        "id": "tQ0Qo-WSCjKT",
        "colab_type": "code",
        "colab": {}
      },
      "source": [
        "import pandas as pd  \n",
        "import numpy as np\n",
        "import warnings"
      ],
      "execution_count": 0,
      "outputs": []
    },
    {
      "cell_type": "markdown",
      "metadata": {
        "id": "hgz92tZhCjKf",
        "colab_type": "text"
      },
      "source": [
        "### Recuperation et preparation des donnnees"
      ]
    },
    {
      "cell_type": "code",
      "metadata": {
        "id": "P3ag6pRgCjKi",
        "colab_type": "code",
        "colab": {}
      },
      "source": [
        "#Chargement du jeu de donnees\n",
        "data_child = pd.read_csv('/Users/marine/Desktop/Projet_TER/TER/data/data_madeleine_final.csv',\n",
        "                           sep = '\\t',\n",
        "                           encoding = 'utf-8',\n",
        "                           index_col = False)\n",
        "\n",
        "# Supression de la colonne qui duplique l'index\n",
        "data_child = data_child.drop(columns = 'Unnamed: 0') \n",
        "\n",
        "# Recuperation de la partie phonetique des intervention de l'enfant\n",
        "data_child = data_child.where(data_child['type']=='pho').dropna(subset=['type'])\n",
        "\n",
        "# Conservation des deux colonnes avec des informations pertinantes \n",
        "data_child = data_child[['age','contenu']]\n",
        "\n",
        "# Creer un indexage a partir de cet ordre\n",
        "data_child['index']=[ i for i in range(len(data_child))]\n",
        "data_child= data_child.set_index('index')\n",
        "\n",
        "# Creation d'un numpy utile par la suite pour les boucles\n",
        "ages = data_child.age.unique()\n",
        "\n",
        "# Indexage par l'age de l'enfant\n",
        "age = data_child['age']\n",
        "\n",
        "l=[i for i in range(len(age))]\n",
        "k=[age.values]\n",
        "k.append(l)\n",
        "tuples = list(zip(*k))\n",
        "\n",
        "index = pd.MultiIndex.from_tuples(tuples, names=['age', 'index'])\n",
        "data_child.set_index(index,inplace=True)\n",
        "\n",
        "# Supression de la colonne age car present en index\n",
        "data_child=data_child[['contenu']]\n",
        "\n",
        "data_child.head()"
      ],
      "execution_count": 0,
      "outputs": []
    },
    {
      "cell_type": "markdown",
      "metadata": {
        "id": "awslGtRmCjKr",
        "colab_type": "text"
      },
      "source": [
        "### Demarches pour la division de chaque enregistrement en 4 parties"
      ]
    },
    {
      "cell_type": "code",
      "metadata": {
        "id": "A9itJNpJCjKu",
        "colab_type": "code",
        "colab": {}
      },
      "source": [
        "# Sépare en mots au lieu de phrases\n",
        "mots = {}\n",
        "for i in list(ages):\n",
        "    # recupere toutes les phrases a la i eme date\n",
        "    phrases = data_child['contenu'].loc[i].values\n",
        "    # creer une variable texte avec toutes les phrases\n",
        "    phrase = ' '.join(phrases)\n",
        "    # sépare en mot\n",
        "    mots[i] = phrase.split()\n",
        "    \n",
        "# se parcourt avec un age en parametre\n",
        "#mots[\"1_00_05\"]"
      ],
      "execution_count": 0,
      "outputs": []
    },
    {
      "cell_type": "code",
      "metadata": {
        "id": "OFSlic_-CjK1",
        "colab_type": "code",
        "colab": {}
      },
      "source": [
        "# Sépare en 4 \"enfants\" chaque enregistrement\n",
        "enregistrement = {}\n",
        "sizes = []\n",
        "for i in list(ages):\n",
        "    # recupere tout les mots a la i eme date\n",
        "    #data = data_child['contenu'].loc[i].values\n",
        "    data = mots[i]\n",
        "    # separe les mots en 4 groupes ( 3 goupes de meme dim et le dernier avec le reste)\n",
        "    if len(data)<4:\n",
        "        warnings.warn(\"\\nAttention un l'enregistrement \"+ i + \" contient moins de 4 mots\")\n",
        "    s = len(data)//4\n",
        "    sizes.append(s)\n",
        "    enfant1 = data[:s]\n",
        "    enfant2 = data[s:2*s]\n",
        "    enfant3 = data[2*s:3*s]\n",
        "    enfant4 = data[3*s:]\n",
        "    # creer une variable texte de chaque goupe\n",
        "    #enfant1 = ' '.join(enfant1)\n",
        "    #enfant2 = ' '.join(enfant2)\n",
        "    #enfant3 = ' '.join(enfant3)\n",
        "    #enfant4 = ' '.join(enfant4)\n",
        "    \n",
        "    enfant1 = tuple(enfant1)\n",
        "    enfant2 = tuple(enfant2)\n",
        "    enfant3 = tuple(enfant3)\n",
        "    enfant4 = tuple(enfant4)\n",
        "    \n",
        "    # sépare en 4 enfants\n",
        "    enregistrement[i] = [enfant1, enfant2, enfant3, enfant4]\n",
        "    \n",
        "# se parcourt avec un age en parametre\n",
        "#enregistrement[\"1_00_05\"]"
      ],
      "execution_count": 0,
      "outputs": []
    },
    {
      "cell_type": "code",
      "metadata": {
        "id": "kEZF9iuKCjK-",
        "colab_type": "code",
        "colab": {}
      },
      "source": [
        "# Pour avoir une idée du nombre de mots par enregistrement après répartition\n",
        "pd.DataFrame(sizes[:-1]).describe().T"
      ],
      "execution_count": 0,
      "outputs": []
    },
    {
      "cell_type": "code",
      "metadata": {
        "id": "GPnViFJ1CjLE",
        "colab_type": "code",
        "colab": {}
      },
      "source": [
        "# Crée une DataFrame de toutes les donnees\n",
        "tab_4groupes = []\n",
        "#sizes = []\n",
        "for i in list(ages):\n",
        "    t = enregistrement[i]\n",
        "    #s = len(t)\n",
        "    tab_4groupes.append(t)\n",
        "    #sizes.append(s)\n",
        "    \n",
        "tab_madeleine = pd.DataFrame(tab_4groupes)\n",
        "\n",
        "etiquettes = [\"madeleine_enfant1\",\n",
        "              \"madeleine_enfant2\", \n",
        "              \"madeleine_enfant3\", \n",
        "              \"madeleine_enfant4\"]\n",
        "\n",
        "tab_madeleine.columns = etiquettes\n",
        "\n",
        "tab_madeleine.head()\n",
        "# tab_madeleine.loc[1] recherche par numero de l'enregistrement\n",
        "# tab_madeleine[1] recherche par numero de l'enfant"
      ],
      "execution_count": 0,
      "outputs": []
    },
    {
      "cell_type": "markdown",
      "metadata": {
        "id": "Q_0_W7jsCjLK",
        "colab_type": "text"
      },
      "source": [
        "### Addaptation de la structure"
      ]
    },
    {
      "cell_type": "code",
      "metadata": {
        "id": "LPYz4Go8CjLN",
        "colab_type": "code",
        "colab": {}
      },
      "source": [
        "# transactions = (('a', 'b', 'c'), ('b'), ('a'), ('a', 'c', 'd'), ('b', 'c'), ('b', 'c'))\n",
        "# doit etre de cette forme:\n",
        "# madeleine_enfant1 = transactions\n",
        "# un enregistrement = ('a', 'b', 'c')\n",
        "# un mot = 'a'"
      ],
      "execution_count": 0,
      "outputs": []
    },
    {
      "cell_type": "code",
      "metadata": {
        "id": "2XWEekvWCjLT",
        "colab_type": "code",
        "colab": {}
      },
      "source": [
        "madeleine_enfant1 = tuple(tab_madeleine[\"madeleine_enfant1\"][:-1])\n",
        "madeleine_enfant2 = tuple(tab_madeleine[\"madeleine_enfant2\"][:-1])\n",
        "madeleine_enfant3 = tuple(tab_madeleine[\"madeleine_enfant3\"][:-1])\n",
        "madeleine_enfant4 = tuple(tab_madeleine[\"madeleine_enfant4\"][:])"
      ],
      "execution_count": 0,
      "outputs": []
    },
    {
      "cell_type": "code",
      "metadata": {
        "id": "ab2iW1OKCjLa",
        "colab_type": "code",
        "colab": {}
      },
      "source": [
        "print(type(madeleine_enfant1))\n",
        "#print(madeleine_enfant1)"
      ],
      "execution_count": 0,
      "outputs": []
    },
    {
      "cell_type": "markdown",
      "metadata": {
        "id": "vWHeFGdQCjLh",
        "colab_type": "text"
      },
      "source": [
        "### PATTERN MINING"
      ]
    },
    {
      "cell_type": "code",
      "metadata": {
        "id": "w5ZyzbS9CjLj",
        "colab_type": "code",
        "colab": {}
      },
      "source": [
        "from pymining import itemmining\n",
        "from pymining import assocrules\n",
        "\n",
        "from pymining import seqmining"
      ],
      "execution_count": 0,
      "outputs": []
    },
    {
      "cell_type": "code",
      "metadata": {
        "id": "gx07ICZZCjLp",
        "colab_type": "code",
        "colab": {}
      },
      "source": [
        "min_supp = 10\n",
        "relim_input = itemmining.get_relim_input(madeleine_enfant1)\n",
        "item_sets = itemmining.relim(relim_input, min_support=min_supp) # min_support= nbr au pif < lignes\n",
        "item_sets"
      ],
      "execution_count": 0,
      "outputs": []
    },
    {
      "cell_type": "code",
      "metadata": {
        "id": "79bA26vhCjLw",
        "colab_type": "code",
        "colab": {}
      },
      "source": [
        "rules = assocrules.mine_assoc_rules(item_sets, min_support=min_supp, min_confidence=0.5)\n",
        "rules"
      ],
      "execution_count": 0,
      "outputs": []
    },
    {
      "cell_type": "code",
      "metadata": {
        "id": "bTMG63oqCjL2",
        "colab_type": "code",
        "colab": {}
      },
      "source": [
        ""
      ],
      "execution_count": 0,
      "outputs": []
    },
    {
      "cell_type": "code",
      "metadata": {
        "id": "jMFi2HkoCjL7",
        "colab_type": "code",
        "colab": {}
      },
      "source": [
        "#seqs = ( 'caabc', 'abcb', 'cabc', 'abbca')\n",
        "seqs = madeleine_enfant1\n",
        "\n",
        "freq_seqs = seqmining.freq_seq_enum(seqs, 9)\n",
        "for seq in freq_seqs:\n",
        "    print (seq)"
      ],
      "execution_count": 0,
      "outputs": []
    },
    {
      "cell_type": "code",
      "metadata": {
        "id": "K2yF4QgOCjL_",
        "colab_type": "code",
        "colab": {}
      },
      "source": [
        ""
      ],
      "execution_count": 0,
      "outputs": []
    },
    {
      "cell_type": "code",
      "metadata": {
        "id": "ugf9KBGpCjMF",
        "colab_type": "code",
        "colab": {}
      },
      "source": [
        ""
      ],
      "execution_count": 0,
      "outputs": []
    },
    {
      "cell_type": "code",
      "metadata": {
        "id": "Z4GYY3Y6CjMJ",
        "colab_type": "code",
        "colab": {}
      },
      "source": [
        ""
      ],
      "execution_count": 0,
      "outputs": []
    },
    {
      "cell_type": "code",
      "metadata": {
        "id": "X1fECBHSCjMN",
        "colab_type": "code",
        "colab": {}
      },
      "source": [
        ""
      ],
      "execution_count": 0,
      "outputs": []
    },
    {
      "cell_type": "code",
      "metadata": {
        "id": "8F1_H_ztCjMS",
        "colab_type": "code",
        "colab": {}
      },
      "source": [
        ""
      ],
      "execution_count": 0,
      "outputs": []
    }
  ]
}