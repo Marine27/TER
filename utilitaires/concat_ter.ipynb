{
 "cells": [
  {
   "cell_type": "code",
   "execution_count": 29,
   "metadata": {},
   "outputs": [],
   "source": [
    "import os \n",
    "import pandas as pd \n",
    "os.getcwd()\n",
    "os.chdir('/home/bob/Documents/TER/ANAE/data_anae')\n",
    "listing=os.listdir() \n",
    "# On crée une liste de tout les éléments dans un fichier "
   ]
  },
  {
   "cell_type": "code",
   "execution_count": 35,
   "metadata": {},
   "outputs": [],
   "source": [
    "#listing"
   ]
  },
  {
   "cell_type": "code",
   "execution_count": 33,
   "metadata": {},
   "outputs": [],
   "source": [
    "# On va créer tout les dataframes à partir de tout les éléments du fichier puis on va tous les concatener et en sortir \n",
    "# un autre csv . Faire attention aux irrégularité.....\n",
    "d={}\n",
    "for i in listing: \n",
    "    d[i]=pd.read_csv(i, sep='\\t')  \n",
    "    d[i]['name']=i\n",
    "dat=pd.concat([d[i] for i in listing], sort=False) \n",
    "dat.to_csv('nom.csv',sep=';')\n",
    "    "
   ]
  },
  {
   "cell_type": "code",
   "execution_count": null,
   "metadata": {},
   "outputs": [],
   "source": []
  },
  {
   "cell_type": "code",
   "execution_count": null,
   "metadata": {},
   "outputs": [],
   "source": []
  }
 ],
 "metadata": {
  "kernelspec": {
   "display_name": "Python 3",
   "language": "python",
   "name": "python3"
  },
  "language_info": {
   "codemirror_mode": {
    "name": "ipython",
    "version": 3
   },
   "file_extension": ".py",
   "mimetype": "text/x-python",
   "name": "python",
   "nbconvert_exporter": "python",
   "pygments_lexer": "ipython3",
   "version": "3.7.3"
  }
 },
 "nbformat": 4,
 "nbformat_minor": 2
}
