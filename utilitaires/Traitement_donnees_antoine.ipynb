{
  "nbformat": 4,
  "nbformat_minor": 0,
  "metadata": {
    "kernelspec": {
      "display_name": "Python 3",
      "language": "python",
      "name": "python3"
    },
    "language_info": {
      "codemirror_mode": {
        "name": "ipython",
        "version": 3
      },
      "file_extension": ".py",
      "mimetype": "text/x-python",
      "name": "python",
      "nbconvert_exporter": "python",
      "pygments_lexer": "ipython3",
      "version": "3.7.3"
    },
    "colab": {
      "name": "Traitement_donnees_antoine.ipynb",
      "provenance": [],
      "include_colab_link": true
    }
  },
  "cells": [
    {
      "cell_type": "markdown",
      "metadata": {
        "id": "view-in-github",
        "colab_type": "text"
      },
      "source": [
        "<a href=\"https://colab.research.google.com/github/Petrichoeur/TER/blob/master/utilitaires/Traitement_donnees_antoine.ipynb\" target=\"_parent\"><img src=\"https://colab.research.google.com/assets/colab-badge.svg\" alt=\"Open In Colab\"/></a>"
      ]
    },
    {
      "cell_type": "markdown",
      "metadata": {
        "id": "PaQIy_zG3uaq",
        "colab_type": "text"
      },
      "source": [
        "# Traitement des données Antoine\n",
        "\n",
        "---"
      ]
    },
    {
      "cell_type": "markdown",
      "metadata": {
        "id": "e3hJEDdg3uau",
        "colab_type": "text"
      },
      "source": [
        "\n",
        "Antoine est né le 10 avril 2006. Son père est consultant en informatique bancaire et sa mère est responsable d’une agence de voyage. Il est le premier enfant de la famille et a maintenant un petit frère de deux ans et dix mois de moins que lui. Antoine est un petit garçon gracieux, sociable et prudent qui aime explorer le monde qui l’entoure. \n",
        "\n",
        "Christophe Parisse l’a filmé pour la première fois alors qu’il n’était âgé que de 13 jours! Depuis, il se rend dans sa famille environ une heure par mois. Antoine n’est pas un petit garçon naturellement bavard et préfère communiquer par le regard ou des sous-entendus. Par conséquent, il est difficile de qualifier son développement langagier de bon ou moyen car il ne produit pas énormément d’énoncés mais lorsqu’il s’exprime, il parle correctement.\n"
      ]
    },
    {
      "cell_type": "markdown",
      "metadata": {
        "id": "-ReOaCbT3uax",
        "colab_type": "text"
      },
      "source": [
        "# Nettoyage "
      ]
    },
    {
      "cell_type": "markdown",
      "metadata": {
        "id": "pDPNynIm3ua0",
        "colab_type": "text"
      },
      "source": [
        "## Chargement des données"
      ]
    },
    {
      "cell_type": "markdown",
      "metadata": {
        "id": "dk-0BoPw3ua2",
        "colab_type": "text"
      },
      "source": [
        "Récupèrer la liste des noms de fichier pour Antoine :\n",
        "* Ces fichiers sont placés dans un repertoire 'data/antoine_texte'\n",
        "* Ils sont issuent d'une extraction sur le site colaje au format chat\n",
        "* Nous les avons transformés en format .txt afin de pouvoir les traiter avec python"
      ]
    },
    {
      "cell_type": "code",
      "metadata": {
        "id": "UXbo53u83ua6",
        "colab_type": "code",
        "colab": {},
        "outputId": "e19f4fb1-c6d7-4d97-de6c-a1a06d2cacae"
      },
      "source": [
        "import os \n",
        "import pandas as pd \n",
        "\n",
        "print(os.getcwd())\n",
        "os.chdir('C:\\\\Users\\\\Lamou\\\\Desktop\\\\MIASHS\\\\TER_a\\\\data\\\\antoine_texte')\n",
        "listing=os.listdir() # On crée une liste de tout les noms des fichiers"
      ],
      "execution_count": 0,
      "outputs": [
        {
          "output_type": "stream",
          "text": [
            "C:\\Users\\lamou\\Desktop\\MIASHS\\TER_a\n"
          ],
          "name": "stdout"
        }
      ]
    },
    {
      "cell_type": "code",
      "metadata": {
        "id": "BXMejYww3ubD",
        "colab_type": "code",
        "colab": {}
      },
      "source": [
        "#listing"
      ],
      "execution_count": 0,
      "outputs": []
    },
    {
      "cell_type": "markdown",
      "metadata": {
        "id": "zSyM710a3ubK",
        "colab_type": "text"
      },
      "source": [
        "Nous avons 61 fichiers pour Antoine, chacun de ses fichiers corresepondent aux retrancriptions d'un enregistrement vidéo."
      ]
    },
    {
      "cell_type": "markdown",
      "metadata": {
        "id": "uYthqz3z3ubM",
        "colab_type": "text"
      },
      "source": [
        "\n",
        "## Lecture des données"
      ]
    },
    {
      "cell_type": "markdown",
      "metadata": {
        "id": "fZ3xl8ka3ubO",
        "colab_type": "text"
      },
      "source": [
        "* Définir le nom des colonnes selon le fichier final attendu\n",
        "* Lire chaque fichier de la liste \n",
        "* Ajouter les colonnes nom de l'enfant et son age\n",
        "* La colonne age identifie de manière unique l'enregistrement"
      ]
    },
    {
      "cell_type": "code",
      "metadata": {
        "id": "9F_OPhGU3ubQ",
        "colab_type": "code",
        "colab": {}
      },
      "source": [
        "os.chdir('C:\\\\Users\\\\Lamou\\\\Desktop\\\\MIASHS\\\\TER_a\\\\data\\\\antoine_texte')\n",
        "\n",
        "d = {} # Le dictionnaire contenant les noms des fichiers\n",
        "nom_col = ['type', 'seconde_debut', 'seconde_fin', 'contenu']\n",
        "rows = 0 #Compteur de ligne pour vérifier la perte de données\n",
        "\n",
        "for file in listing: \n",
        "    d[file]=pd.read_csv(file, \n",
        "                        sep = '\\t', \n",
        "                        names = nom_col, \n",
        "                        header = None)  \n",
        "\n",
        "    # On ajoute le nom de l'enfant\n",
        "    nom_pos1 = 0\n",
        "    nom_pos2 = file.find('-')\n",
        "    nom = file[nom_pos1:nom_pos2]\n",
        "    d[file]['enfant'] = nom\n",
        "    \n",
        "    #On ajoute l'age de l'enfant\n",
        "    age_pos1 = file.find('_')-1\n",
        "    age_pos2 = file.find('.')\n",
        "    age = file[age_pos1:age_pos2]\n",
        "    d[file]['age'] = age\n",
        "    \n",
        "    rows += len(d[file])\n",
        "    \n",
        "    \n",
        "# DataFrame contenant toutes les lignes de l'enfant\n",
        "data = pd.concat([d[file] for file in listing], \n",
        "                 sort=False,\n",
        "                 ignore_index=True) "
      ],
      "execution_count": 0,
      "outputs": []
    },
    {
      "cell_type": "code",
      "metadata": {
        "id": "TXGAtbgx3ubW",
        "colab_type": "code",
        "colab": {},
        "outputId": "424abe14-8617-4fe8-9588-71d03d689df5"
      },
      "source": [
        "data.shape"
      ],
      "execution_count": 0,
      "outputs": [
        {
          "output_type": "execute_result",
          "data": {
            "text/plain": [
              "(146442, 6)"
            ]
          },
          "metadata": {
            "tags": []
          },
          "execution_count": 4
        }
      ]
    },
    {
      "cell_type": "markdown",
      "metadata": {
        "id": "OBamhN2x3ubb",
        "colab_type": "text"
      },
      "source": [
        "## Vérification de la perte de données"
      ]
    },
    {
      "cell_type": "markdown",
      "metadata": {
        "id": "BtGT9LTa3ubd",
        "colab_type": "text"
      },
      "source": [
        "On vérifie qu'il y a autant de ligne lu (variable rows) que de ligne écritent (len(data))"
      ]
    },
    {
      "cell_type": "code",
      "metadata": {
        "id": "DwH_HyeT3ubf",
        "colab_type": "code",
        "colab": {},
        "outputId": "09141497-61bc-474a-895b-2abdf0e670c8"
      },
      "source": [
        "print(rows == len(data))"
      ],
      "execution_count": 0,
      "outputs": [
        {
          "output_type": "stream",
          "text": [
            "True\n"
          ],
          "name": "stdout"
        }
      ]
    },
    {
      "cell_type": "markdown",
      "metadata": {
        "id": "jyS4wT--3ubl",
        "colab_type": "text"
      },
      "source": [
        "## Ordre des colonnes"
      ]
    },
    {
      "cell_type": "code",
      "metadata": {
        "id": "nPsNCgM83ubo",
        "colab_type": "code",
        "colab": {},
        "outputId": "10ded38f-ba9f-466d-9932-09eeb0b2e798"
      },
      "source": [
        "data=data[['enfant', 'age','type', 'seconde_debut', 'seconde_fin', 'contenu']]\n",
        "data.head()"
      ],
      "execution_count": 0,
      "outputs": [
        {
          "output_type": "execute_result",
          "data": {
            "text/html": [
              "<div>\n",
              "<style scoped>\n",
              "    .dataframe tbody tr th:only-of-type {\n",
              "        vertical-align: middle;\n",
              "    }\n",
              "\n",
              "    .dataframe tbody tr th {\n",
              "        vertical-align: top;\n",
              "    }\n",
              "\n",
              "    .dataframe thead th {\n",
              "        text-align: right;\n",
              "    }\n",
              "</style>\n",
              "<table border=\"1\" class=\"dataframe\">\n",
              "  <thead>\n",
              "    <tr style=\"text-align: right;\">\n",
              "      <th></th>\n",
              "      <th>enfant</th>\n",
              "      <th>age</th>\n",
              "      <th>type</th>\n",
              "      <th>seconde_debut</th>\n",
              "      <th>seconde_fin</th>\n",
              "      <th>contenu</th>\n",
              "    </tr>\n",
              "  </thead>\n",
              "  <tbody>\n",
              "    <tr>\n",
              "      <th>0</th>\n",
              "      <td>ANTOINE</td>\n",
              "      <td>0_00_13</td>\n",
              "      <td>+div+</td>\n",
              "      <td>0.0</td>\n",
              "      <td>212.0</td>\n",
              "      <td>div |</td>\n",
              "    </tr>\n",
              "    <tr>\n",
              "      <th>1</th>\n",
              "      <td>ANTOINE</td>\n",
              "      <td>0_00_13</td>\n",
              "      <td>+div+</td>\n",
              "      <td>0.0</td>\n",
              "      <td>67.0</td>\n",
              "      <td>div |</td>\n",
              "    </tr>\n",
              "    <tr>\n",
              "      <th>2</th>\n",
              "      <td>ANTOINE</td>\n",
              "      <td>0_00_13</td>\n",
              "      <td>CHI</td>\n",
              "      <td>0.0</td>\n",
              "      <td>7.0</td>\n",
              "      <td>0 [= pleurs] .</td>\n",
              "    </tr>\n",
              "    <tr>\n",
              "      <th>3</th>\n",
              "      <td>ANTOINE</td>\n",
              "      <td>0_00_13</td>\n",
              "      <td>CHI</td>\n",
              "      <td>7.0</td>\n",
              "      <td>11.0</td>\n",
              "      <td>0 [= pleurs] .</td>\n",
              "    </tr>\n",
              "    <tr>\n",
              "      <th>4</th>\n",
              "      <td>ANTOINE</td>\n",
              "      <td>0_00_13</td>\n",
              "      <td>FAT</td>\n",
              "      <td>11.0</td>\n",
              "      <td>19.0</td>\n",
              "      <td>regarde !</td>\n",
              "    </tr>\n",
              "  </tbody>\n",
              "</table>\n",
              "</div>"
            ],
            "text/plain": [
              "    enfant      age   type  seconde_debut  seconde_fin         contenu\n",
              "0  ANTOINE  0_00_13  +div+            0.0        212.0           div |\n",
              "1  ANTOINE  0_00_13  +div+            0.0         67.0           div |\n",
              "2  ANTOINE  0_00_13    CHI            0.0          7.0  0 [= pleurs] .\n",
              "3  ANTOINE  0_00_13    CHI            7.0         11.0  0 [= pleurs] .\n",
              "4  ANTOINE  0_00_13    FAT           11.0         19.0       regarde !"
            ]
          },
          "metadata": {
            "tags": []
          },
          "execution_count": 6
        }
      ]
    },
    {
      "cell_type": "markdown",
      "metadata": {
        "id": "d3qCOF7u3ubs",
        "colab_type": "text"
      },
      "source": [
        "## Création du fichier final format csv"
      ]
    },
    {
      "cell_type": "code",
      "metadata": {
        "id": "Eu34qCqZ3ubv",
        "colab_type": "code",
        "colab": {}
      },
      "source": [
        "# Création du fichier enfant\n",
        "os.chdir('C:\\\\Users\\\\Lamou\\\\Desktop\\\\MIASHS\\\\TER_a\\\\data')\n",
        "data.to_csv('data_antoine_final.csv',\n",
        "           encoding = 'utf-8',\n",
        "           sep = '\\t',\n",
        "           header = True)"
      ],
      "execution_count": 0,
      "outputs": []
    },
    {
      "cell_type": "markdown",
      "metadata": {
        "id": "dQfdGAzp3ubz",
        "colab_type": "text"
      },
      "source": [
        "On peut maintenant utiliser le fichier 'data_antoine_finale.csv' pour l'exploration de données."
      ]
    },
    {
      "cell_type": "markdown",
      "metadata": {
        "id": "6iTd3Cxx3ub1",
        "colab_type": "text"
      },
      "source": [
        "## Lecture fichier final"
      ]
    },
    {
      "cell_type": "code",
      "metadata": {
        "id": "ZyafiiFk3ub4",
        "colab_type": "code",
        "colab": {}
      },
      "source": [
        "os.chdir('C:\\\\Users\\\\Lamou\\\\Desktop\\\\MIASHS\\\\TER_a\\\\data')\n",
        "data_antoine = pd.read_csv('data_antoine_final.csv',\n",
        "                           sep = '\\t',\n",
        "                           encoding = 'utf-8',\n",
        "                           index_col=False)\n",
        "\n",
        "# On supprime la colonne qui duplique les index\n",
        "data_antoine = data_antoine.drop(columns = 'Unnamed: 0')"
      ],
      "execution_count": 0,
      "outputs": []
    },
    {
      "cell_type": "code",
      "metadata": {
        "collapsed": true,
        "id": "OhuTIYkJ3ub7",
        "colab_type": "code",
        "colab": {},
        "outputId": "f944a463-d19e-4890-bc8a-00221894f5af"
      },
      "source": [
        "data_antoine.loc[data_antoine['age'] == '0_00_13']"
      ],
      "execution_count": 0,
      "outputs": [
        {
          "output_type": "execute_result",
          "data": {
            "text/html": [
              "<div>\n",
              "<style scoped>\n",
              "    .dataframe tbody tr th:only-of-type {\n",
              "        vertical-align: middle;\n",
              "    }\n",
              "\n",
              "    .dataframe tbody tr th {\n",
              "        vertical-align: top;\n",
              "    }\n",
              "\n",
              "    .dataframe thead th {\n",
              "        text-align: right;\n",
              "    }\n",
              "</style>\n",
              "<table border=\"1\" class=\"dataframe\">\n",
              "  <thead>\n",
              "    <tr style=\"text-align: right;\">\n",
              "      <th></th>\n",
              "      <th>enfant</th>\n",
              "      <th>age</th>\n",
              "      <th>type</th>\n",
              "      <th>seconde_debut</th>\n",
              "      <th>seconde_fin</th>\n",
              "      <th>contenu</th>\n",
              "    </tr>\n",
              "  </thead>\n",
              "  <tbody>\n",
              "    <tr>\n",
              "      <th>0</th>\n",
              "      <td>ANTOINE</td>\n",
              "      <td>0_00_13</td>\n",
              "      <td>+div+</td>\n",
              "      <td>0.0</td>\n",
              "      <td>212.0</td>\n",
              "      <td>div |</td>\n",
              "    </tr>\n",
              "    <tr>\n",
              "      <th>1</th>\n",
              "      <td>ANTOINE</td>\n",
              "      <td>0_00_13</td>\n",
              "      <td>+div+</td>\n",
              "      <td>0.0</td>\n",
              "      <td>67.0</td>\n",
              "      <td>div |</td>\n",
              "    </tr>\n",
              "    <tr>\n",
              "      <th>2</th>\n",
              "      <td>ANTOINE</td>\n",
              "      <td>0_00_13</td>\n",
              "      <td>CHI</td>\n",
              "      <td>0.0</td>\n",
              "      <td>7.0</td>\n",
              "      <td>0 [= pleurs] .</td>\n",
              "    </tr>\n",
              "    <tr>\n",
              "      <th>3</th>\n",
              "      <td>ANTOINE</td>\n",
              "      <td>0_00_13</td>\n",
              "      <td>CHI</td>\n",
              "      <td>7.0</td>\n",
              "      <td>11.0</td>\n",
              "      <td>0 [= pleurs] .</td>\n",
              "    </tr>\n",
              "    <tr>\n",
              "      <th>4</th>\n",
              "      <td>ANTOINE</td>\n",
              "      <td>0_00_13</td>\n",
              "      <td>FAT</td>\n",
              "      <td>11.0</td>\n",
              "      <td>19.0</td>\n",
              "      <td>regarde !</td>\n",
              "    </tr>\n",
              "    <tr>\n",
              "      <th>5</th>\n",
              "      <td>ANTOINE</td>\n",
              "      <td>0_00_13</td>\n",
              "      <td>FAT</td>\n",
              "      <td>19.0</td>\n",
              "      <td>21.0</td>\n",
              "      <td>ça c'est un appareil+photo .</td>\n",
              "    </tr>\n",
              "    <tr>\n",
              "      <th>6</th>\n",
              "      <td>ANTOINE</td>\n",
              "      <td>0_00_13</td>\n",
              "      <td>act</td>\n",
              "      <td>NaN</td>\n",
              "      <td>NaN</td>\n",
              "      <td>FAT caresse la joue de CHI qui se calme .</td>\n",
              "    </tr>\n",
              "    <tr>\n",
              "      <th>7</th>\n",
              "      <td>ANTOINE</td>\n",
              "      <td>0_00_13</td>\n",
              "      <td>FAT</td>\n",
              "      <td>21.0</td>\n",
              "      <td>26.0</td>\n",
              "      <td>ça sert à faire des images .</td>\n",
              "    </tr>\n",
              "    <tr>\n",
              "      <th>8</th>\n",
              "      <td>ANTOINE</td>\n",
              "      <td>0_00_13</td>\n",
              "      <td>FAT</td>\n",
              "      <td>26.0</td>\n",
              "      <td>31.0</td>\n",
              "      <td>moi aussi j' en ai un mais il n' est pas numér...</td>\n",
              "    </tr>\n",
              "    <tr>\n",
              "      <th>9</th>\n",
              "      <td>ANTOINE</td>\n",
              "      <td>0_00_13</td>\n",
              "      <td>act</td>\n",
              "      <td>NaN</td>\n",
              "      <td>NaN</td>\n",
              "      <td>FAT continue à caresser la joue de CHI qui est...</td>\n",
              "    </tr>\n",
              "    <tr>\n",
              "      <th>10</th>\n",
              "      <td>ANTOINE</td>\n",
              "      <td>0_00_13</td>\n",
              "      <td>CHI</td>\n",
              "      <td>31.0</td>\n",
              "      <td>31.0</td>\n",
              "      <td>0 [= pleurs] .</td>\n",
              "    </tr>\n",
              "    <tr>\n",
              "      <th>11</th>\n",
              "      <td>ANTOINE</td>\n",
              "      <td>0_00_13</td>\n",
              "      <td>OBS</td>\n",
              "      <td>31.0</td>\n",
              "      <td>34.0</td>\n",
              "      <td>mais là je filme .</td>\n",
              "    </tr>\n",
              "    <tr>\n",
              "      <th>12</th>\n",
              "      <td>ANTOINE</td>\n",
              "      <td>0_00_13</td>\n",
              "      <td>FAT</td>\n",
              "      <td>34.0</td>\n",
              "      <td>37.0</td>\n",
              "      <td>ah c'est un appareil sophistiqué .</td>\n",
              "    </tr>\n",
              "    <tr>\n",
              "      <th>13</th>\n",
              "      <td>ANTOINE</td>\n",
              "      <td>0_00_13</td>\n",
              "      <td>FAT</td>\n",
              "      <td>37.0</td>\n",
              "      <td>40.0</td>\n",
              "      <td>en+plus il fait des films .</td>\n",
              "    </tr>\n",
              "    <tr>\n",
              "      <th>14</th>\n",
              "      <td>ANTOINE</td>\n",
              "      <td>0_00_13</td>\n",
              "      <td>CHI</td>\n",
              "      <td>40.0</td>\n",
              "      <td>41.0</td>\n",
              "      <td>0 [= pleurs] .</td>\n",
              "    </tr>\n",
              "    <tr>\n",
              "      <th>15</th>\n",
              "      <td>ANTOINE</td>\n",
              "      <td>0_00_13</td>\n",
              "      <td>CHI</td>\n",
              "      <td>41.0</td>\n",
              "      <td>41.0</td>\n",
              "      <td>0 [= pleurs] .</td>\n",
              "    </tr>\n",
              "    <tr>\n",
              "      <th>16</th>\n",
              "      <td>ANTOINE</td>\n",
              "      <td>0_00_13</td>\n",
              "      <td>OBS</td>\n",
              "      <td>41.0</td>\n",
              "      <td>42.0</td>\n",
              "      <td>ben oui !</td>\n",
              "    </tr>\n",
              "    <tr>\n",
              "      <th>17</th>\n",
              "      <td>ANTOINE</td>\n",
              "      <td>0_00_13</td>\n",
              "      <td>FAT</td>\n",
              "      <td>42.0</td>\n",
              "      <td>45.0</td>\n",
              "      <td>regarde la caméra il faut toujours regarder la...</td>\n",
              "    </tr>\n",
              "    <tr>\n",
              "      <th>18</th>\n",
              "      <td>ANTOINE</td>\n",
              "      <td>0_00_13</td>\n",
              "      <td>CHI</td>\n",
              "      <td>45.0</td>\n",
              "      <td>45.0</td>\n",
              "      <td>0 [= pleurs] .</td>\n",
              "    </tr>\n",
              "    <tr>\n",
              "      <th>19</th>\n",
              "      <td>ANTOINE</td>\n",
              "      <td>0_00_13</td>\n",
              "      <td>OBS</td>\n",
              "      <td>45.0</td>\n",
              "      <td>47.0</td>\n",
              "      <td>tiens on va tourner .</td>\n",
              "    </tr>\n",
              "    <tr>\n",
              "      <th>20</th>\n",
              "      <td>ANTOINE</td>\n",
              "      <td>0_00_13</td>\n",
              "      <td>OBS</td>\n",
              "      <td>47.0</td>\n",
              "      <td>54.0</td>\n",
              "      <td>on va regarder la caméra .</td>\n",
              "    </tr>\n",
              "    <tr>\n",
              "      <th>21</th>\n",
              "      <td>ANTOINE</td>\n",
              "      <td>0_00_13</td>\n",
              "      <td>CHI</td>\n",
              "      <td>54.0</td>\n",
              "      <td>54.0</td>\n",
              "      <td>0 [= pleurs] .</td>\n",
              "    </tr>\n",
              "    <tr>\n",
              "      <th>22</th>\n",
              "      <td>ANTOINE</td>\n",
              "      <td>0_00_13</td>\n",
              "      <td>FAT</td>\n",
              "      <td>54.0</td>\n",
              "      <td>56.0</td>\n",
              "      <td>il regarde toujours du même côté .</td>\n",
              "    </tr>\n",
              "    <tr>\n",
              "      <th>23</th>\n",
              "      <td>ANTOINE</td>\n",
              "      <td>0_00_13</td>\n",
              "      <td>FAT</td>\n",
              "      <td>56.0</td>\n",
              "      <td>59.0</td>\n",
              "      <td>ouvre tes yeux pour montrer tes beaux petits y...</td>\n",
              "    </tr>\n",
              "    <tr>\n",
              "      <th>24</th>\n",
              "      <td>ANTOINE</td>\n",
              "      <td>0_00_13</td>\n",
              "      <td>FAT</td>\n",
              "      <td>59.0</td>\n",
              "      <td>60.0</td>\n",
              "      <td>hein mon coco .</td>\n",
              "    </tr>\n",
              "    <tr>\n",
              "      <th>25</th>\n",
              "      <td>ANTOINE</td>\n",
              "      <td>0_00_13</td>\n",
              "      <td>CHI</td>\n",
              "      <td>60.0</td>\n",
              "      <td>63.0</td>\n",
              "      <td>0 [= pleurs] .</td>\n",
              "    </tr>\n",
              "    <tr>\n",
              "      <th>26</th>\n",
              "      <td>ANTOINE</td>\n",
              "      <td>0_00_13</td>\n",
              "      <td>CHI</td>\n",
              "      <td>63.0</td>\n",
              "      <td>65.0</td>\n",
              "      <td>0 [= pleurs] .</td>\n",
              "    </tr>\n",
              "    <tr>\n",
              "      <th>27</th>\n",
              "      <td>ANTOINE</td>\n",
              "      <td>0_00_13</td>\n",
              "      <td>com</td>\n",
              "      <td>NaN</td>\n",
              "      <td>NaN</td>\n",
              "      <td>son correct .</td>\n",
              "    </tr>\n",
              "    <tr>\n",
              "      <th>28</th>\n",
              "      <td>ANTOINE</td>\n",
              "      <td>0_00_13</td>\n",
              "      <td>CHI</td>\n",
              "      <td>65.0</td>\n",
              "      <td>66.0</td>\n",
              "      <td>0 [= pleurs] .</td>\n",
              "    </tr>\n",
              "    <tr>\n",
              "      <th>29</th>\n",
              "      <td>ANTOINE</td>\n",
              "      <td>0_00_13</td>\n",
              "      <td>com</td>\n",
              "      <td>NaN</td>\n",
              "      <td>NaN</td>\n",
              "      <td>son correct .</td>\n",
              "    </tr>\n",
              "    <tr>\n",
              "      <th>...</th>\n",
              "      <td>...</td>\n",
              "      <td>...</td>\n",
              "      <td>...</td>\n",
              "      <td>...</td>\n",
              "      <td>...</td>\n",
              "      <td>...</td>\n",
              "    </tr>\n",
              "    <tr>\n",
              "      <th>49</th>\n",
              "      <td>ANTOINE</td>\n",
              "      <td>0_00_13</td>\n",
              "      <td>MOT</td>\n",
              "      <td>97.0</td>\n",
              "      <td>99.0</td>\n",
              "      <td>oh oui !</td>\n",
              "    </tr>\n",
              "    <tr>\n",
              "      <th>50</th>\n",
              "      <td>ANTOINE</td>\n",
              "      <td>0_00_13</td>\n",
              "      <td>MOT</td>\n",
              "      <td>99.0</td>\n",
              "      <td>102.0</td>\n",
              "      <td>ça+y+est j' me suis calmé .</td>\n",
              "    </tr>\n",
              "    <tr>\n",
              "      <th>51</th>\n",
              "      <td>ANTOINE</td>\n",
              "      <td>0_00_13</td>\n",
              "      <td>MOT</td>\n",
              "      <td>102.0</td>\n",
              "      <td>106.0</td>\n",
              "      <td>ça+y+est j' me suis calmé mon coeur .</td>\n",
              "    </tr>\n",
              "    <tr>\n",
              "      <th>52</th>\n",
              "      <td>ANTOINE</td>\n",
              "      <td>0_00_13</td>\n",
              "      <td>MOT</td>\n",
              "      <td>106.0</td>\n",
              "      <td>108.0</td>\n",
              "      <td>t' as un+peu chaud .</td>\n",
              "    </tr>\n",
              "    <tr>\n",
              "      <th>53</th>\n",
              "      <td>ANTOINE</td>\n",
              "      <td>0_00_13</td>\n",
              "      <td>MOT</td>\n",
              "      <td>108.0</td>\n",
              "      <td>122.0</td>\n",
              "      <td>oui oui oui [= cliquetis de bouche] .</td>\n",
              "    </tr>\n",
              "    <tr>\n",
              "      <th>54</th>\n",
              "      <td>ANTOINE</td>\n",
              "      <td>0_00_13</td>\n",
              "      <td>MOT</td>\n",
              "      <td>122.0</td>\n",
              "      <td>126.0</td>\n",
              "      <td>oh oui # j' ai faim .</td>\n",
              "    </tr>\n",
              "    <tr>\n",
              "      <th>55</th>\n",
              "      <td>ANTOINE</td>\n",
              "      <td>0_00_13</td>\n",
              "      <td>MOT</td>\n",
              "      <td>126.0</td>\n",
              "      <td>128.0</td>\n",
              "      <td>j' ai faim .</td>\n",
              "    </tr>\n",
              "    <tr>\n",
              "      <th>56</th>\n",
              "      <td>ANTOINE</td>\n",
              "      <td>0_00_13</td>\n",
              "      <td>MOT</td>\n",
              "      <td>128.0</td>\n",
              "      <td>151.0</td>\n",
              "      <td>0 [= discussion entre adultes] .</td>\n",
              "    </tr>\n",
              "    <tr>\n",
              "      <th>57</th>\n",
              "      <td>ANTOINE</td>\n",
              "      <td>0_00_13</td>\n",
              "      <td>-div-</td>\n",
              "      <td>NaN</td>\n",
              "      <td>NaN</td>\n",
              "      <td>div |</td>\n",
              "    </tr>\n",
              "    <tr>\n",
              "      <th>58</th>\n",
              "      <td>ANTOINE</td>\n",
              "      <td>0_00_13</td>\n",
              "      <td>+div+</td>\n",
              "      <td>151.0</td>\n",
              "      <td>212.0</td>\n",
              "      <td>div |</td>\n",
              "    </tr>\n",
              "    <tr>\n",
              "      <th>59</th>\n",
              "      <td>ANTOINE</td>\n",
              "      <td>0_00_13</td>\n",
              "      <td>MOT</td>\n",
              "      <td>151.0</td>\n",
              "      <td>152.0</td>\n",
              "      <td>0 .</td>\n",
              "    </tr>\n",
              "    <tr>\n",
              "      <th>60</th>\n",
              "      <td>ANTOINE</td>\n",
              "      <td>0_00_13</td>\n",
              "      <td>MOT</td>\n",
              "      <td>152.0</td>\n",
              "      <td>157.0</td>\n",
              "      <td>tiens tu vois t' as de la chance [= adressé à ...</td>\n",
              "    </tr>\n",
              "    <tr>\n",
              "      <th>61</th>\n",
              "      <td>ANTOINE</td>\n",
              "      <td>0_00_13</td>\n",
              "      <td>MOT</td>\n",
              "      <td>157.0</td>\n",
              "      <td>160.0</td>\n",
              "      <td>allez # hop !</td>\n",
              "    </tr>\n",
              "    <tr>\n",
              "      <th>62</th>\n",
              "      <td>ANTOINE</td>\n",
              "      <td>0_00_13</td>\n",
              "      <td>FAT</td>\n",
              "      <td>160.0</td>\n",
              "      <td>166.0</td>\n",
              "      <td>généralement il fait une grimace genre ah c'es...</td>\n",
              "    </tr>\n",
              "    <tr>\n",
              "      <th>63</th>\n",
              "      <td>ANTOINE</td>\n",
              "      <td>0_00_13</td>\n",
              "      <td>MOT</td>\n",
              "      <td>166.0</td>\n",
              "      <td>169.0</td>\n",
              "      <td>0 [= grimace de dégout] .</td>\n",
              "    </tr>\n",
              "    <tr>\n",
              "      <th>64</th>\n",
              "      <td>ANTOINE</td>\n",
              "      <td>0_00_13</td>\n",
              "      <td>ANN</td>\n",
              "      <td>169.0</td>\n",
              "      <td>172.0</td>\n",
              "      <td>pauvre coco va .</td>\n",
              "    </tr>\n",
              "    <tr>\n",
              "      <th>65</th>\n",
              "      <td>ANTOINE</td>\n",
              "      <td>0_00_13</td>\n",
              "      <td>OBS</td>\n",
              "      <td>172.0</td>\n",
              "      <td>181.0</td>\n",
              "      <td>je ne sais s' il trouve ça pas bon ou si c'est...</td>\n",
              "    </tr>\n",
              "    <tr>\n",
              "      <th>66</th>\n",
              "      <td>ANTOINE</td>\n",
              "      <td>0_00_13</td>\n",
              "      <td>MOT</td>\n",
              "      <td>181.0</td>\n",
              "      <td>186.0</td>\n",
              "      <td>oui mais bon là tu pleures pas hein !</td>\n",
              "    </tr>\n",
              "    <tr>\n",
              "      <th>67</th>\n",
              "      <td>ANTOINE</td>\n",
              "      <td>0_00_13</td>\n",
              "      <td>MOT</td>\n",
              "      <td>186.0</td>\n",
              "      <td>193.0</td>\n",
              "      <td>on va attendre là encore un+petit+peu .</td>\n",
              "    </tr>\n",
              "    <tr>\n",
              "      <th>68</th>\n",
              "      <td>ANTOINE</td>\n",
              "      <td>0_00_13</td>\n",
              "      <td>MOT</td>\n",
              "      <td>193.0</td>\n",
              "      <td>195.0</td>\n",
              "      <td>on va attendre d' entendre un cri .</td>\n",
              "    </tr>\n",
              "    <tr>\n",
              "      <th>69</th>\n",
              "      <td>ANTOINE</td>\n",
              "      <td>0_00_13</td>\n",
              "      <td>MOT</td>\n",
              "      <td>195.0</td>\n",
              "      <td>196.0</td>\n",
              "      <td>hein mon coeur .</td>\n",
              "    </tr>\n",
              "    <tr>\n",
              "      <th>70</th>\n",
              "      <td>ANTOINE</td>\n",
              "      <td>0_00_13</td>\n",
              "      <td>MOT</td>\n",
              "      <td>196.0</td>\n",
              "      <td>197.0</td>\n",
              "      <td>oh oui .</td>\n",
              "    </tr>\n",
              "    <tr>\n",
              "      <th>71</th>\n",
              "      <td>ANTOINE</td>\n",
              "      <td>0_00_13</td>\n",
              "      <td>MOT</td>\n",
              "      <td>197.0</td>\n",
              "      <td>200.0</td>\n",
              "      <td>on va attendre d' entendre un cri .</td>\n",
              "    </tr>\n",
              "    <tr>\n",
              "      <th>72</th>\n",
              "      <td>ANTOINE</td>\n",
              "      <td>0_00_13</td>\n",
              "      <td>MOT</td>\n",
              "      <td>200.0</td>\n",
              "      <td>202.0</td>\n",
              "      <td>ça sert à rien .</td>\n",
              "    </tr>\n",
              "    <tr>\n",
              "      <th>73</th>\n",
              "      <td>ANTOINE</td>\n",
              "      <td>0_00_13</td>\n",
              "      <td>MOT</td>\n",
              "      <td>202.0</td>\n",
              "      <td>205.0</td>\n",
              "      <td>là t' es sage hein !</td>\n",
              "    </tr>\n",
              "    <tr>\n",
              "      <th>74</th>\n",
              "      <td>ANTOINE</td>\n",
              "      <td>0_00_13</td>\n",
              "      <td>MOT</td>\n",
              "      <td>205.0</td>\n",
              "      <td>207.0</td>\n",
              "      <td>hein .</td>\n",
              "    </tr>\n",
              "    <tr>\n",
              "      <th>75</th>\n",
              "      <td>ANTOINE</td>\n",
              "      <td>0_00_13</td>\n",
              "      <td>MOT</td>\n",
              "      <td>207.0</td>\n",
              "      <td>208.0</td>\n",
              "      <td>t' es sage là .</td>\n",
              "    </tr>\n",
              "    <tr>\n",
              "      <th>76</th>\n",
              "      <td>ANTOINE</td>\n",
              "      <td>0_00_13</td>\n",
              "      <td>MOT</td>\n",
              "      <td>208.0</td>\n",
              "      <td>212.0</td>\n",
              "      <td>y+a pas de soucis .</td>\n",
              "    </tr>\n",
              "    <tr>\n",
              "      <th>77</th>\n",
              "      <td>ANTOINE</td>\n",
              "      <td>0_00_13</td>\n",
              "      <td>-div-</td>\n",
              "      <td>NaN</td>\n",
              "      <td>NaN</td>\n",
              "      <td>div |</td>\n",
              "    </tr>\n",
              "    <tr>\n",
              "      <th>78</th>\n",
              "      <td>ANTOINE</td>\n",
              "      <td>0_00_13</td>\n",
              "      <td>-div-</td>\n",
              "      <td>NaN</td>\n",
              "      <td>NaN</td>\n",
              "      <td>div |</td>\n",
              "    </tr>\n",
              "  </tbody>\n",
              "</table>\n",
              "<p>79 rows × 6 columns</p>\n",
              "</div>"
            ],
            "text/plain": [
              "     enfant      age   type  seconde_debut  seconde_fin  \\\n",
              "0   ANTOINE  0_00_13  +div+            0.0        212.0   \n",
              "1   ANTOINE  0_00_13  +div+            0.0         67.0   \n",
              "2   ANTOINE  0_00_13    CHI            0.0          7.0   \n",
              "3   ANTOINE  0_00_13    CHI            7.0         11.0   \n",
              "4   ANTOINE  0_00_13    FAT           11.0         19.0   \n",
              "5   ANTOINE  0_00_13    FAT           19.0         21.0   \n",
              "6   ANTOINE  0_00_13    act            NaN          NaN   \n",
              "7   ANTOINE  0_00_13    FAT           21.0         26.0   \n",
              "8   ANTOINE  0_00_13    FAT           26.0         31.0   \n",
              "9   ANTOINE  0_00_13    act            NaN          NaN   \n",
              "10  ANTOINE  0_00_13    CHI           31.0         31.0   \n",
              "11  ANTOINE  0_00_13    OBS           31.0         34.0   \n",
              "12  ANTOINE  0_00_13    FAT           34.0         37.0   \n",
              "13  ANTOINE  0_00_13    FAT           37.0         40.0   \n",
              "14  ANTOINE  0_00_13    CHI           40.0         41.0   \n",
              "15  ANTOINE  0_00_13    CHI           41.0         41.0   \n",
              "16  ANTOINE  0_00_13    OBS           41.0         42.0   \n",
              "17  ANTOINE  0_00_13    FAT           42.0         45.0   \n",
              "18  ANTOINE  0_00_13    CHI           45.0         45.0   \n",
              "19  ANTOINE  0_00_13    OBS           45.0         47.0   \n",
              "20  ANTOINE  0_00_13    OBS           47.0         54.0   \n",
              "21  ANTOINE  0_00_13    CHI           54.0         54.0   \n",
              "22  ANTOINE  0_00_13    FAT           54.0         56.0   \n",
              "23  ANTOINE  0_00_13    FAT           56.0         59.0   \n",
              "24  ANTOINE  0_00_13    FAT           59.0         60.0   \n",
              "25  ANTOINE  0_00_13    CHI           60.0         63.0   \n",
              "26  ANTOINE  0_00_13    CHI           63.0         65.0   \n",
              "27  ANTOINE  0_00_13    com            NaN          NaN   \n",
              "28  ANTOINE  0_00_13    CHI           65.0         66.0   \n",
              "29  ANTOINE  0_00_13    com            NaN          NaN   \n",
              "..      ...      ...    ...            ...          ...   \n",
              "49  ANTOINE  0_00_13    MOT           97.0         99.0   \n",
              "50  ANTOINE  0_00_13    MOT           99.0        102.0   \n",
              "51  ANTOINE  0_00_13    MOT          102.0        106.0   \n",
              "52  ANTOINE  0_00_13    MOT          106.0        108.0   \n",
              "53  ANTOINE  0_00_13    MOT          108.0        122.0   \n",
              "54  ANTOINE  0_00_13    MOT          122.0        126.0   \n",
              "55  ANTOINE  0_00_13    MOT          126.0        128.0   \n",
              "56  ANTOINE  0_00_13    MOT          128.0        151.0   \n",
              "57  ANTOINE  0_00_13  -div-            NaN          NaN   \n",
              "58  ANTOINE  0_00_13  +div+          151.0        212.0   \n",
              "59  ANTOINE  0_00_13    MOT          151.0        152.0   \n",
              "60  ANTOINE  0_00_13    MOT          152.0        157.0   \n",
              "61  ANTOINE  0_00_13    MOT          157.0        160.0   \n",
              "62  ANTOINE  0_00_13    FAT          160.0        166.0   \n",
              "63  ANTOINE  0_00_13    MOT          166.0        169.0   \n",
              "64  ANTOINE  0_00_13    ANN          169.0        172.0   \n",
              "65  ANTOINE  0_00_13    OBS          172.0        181.0   \n",
              "66  ANTOINE  0_00_13    MOT          181.0        186.0   \n",
              "67  ANTOINE  0_00_13    MOT          186.0        193.0   \n",
              "68  ANTOINE  0_00_13    MOT          193.0        195.0   \n",
              "69  ANTOINE  0_00_13    MOT          195.0        196.0   \n",
              "70  ANTOINE  0_00_13    MOT          196.0        197.0   \n",
              "71  ANTOINE  0_00_13    MOT          197.0        200.0   \n",
              "72  ANTOINE  0_00_13    MOT          200.0        202.0   \n",
              "73  ANTOINE  0_00_13    MOT          202.0        205.0   \n",
              "74  ANTOINE  0_00_13    MOT          205.0        207.0   \n",
              "75  ANTOINE  0_00_13    MOT          207.0        208.0   \n",
              "76  ANTOINE  0_00_13    MOT          208.0        212.0   \n",
              "77  ANTOINE  0_00_13  -div-            NaN          NaN   \n",
              "78  ANTOINE  0_00_13  -div-            NaN          NaN   \n",
              "\n",
              "                                              contenu  \n",
              "0                                               div |  \n",
              "1                                               div |  \n",
              "2                                      0 [= pleurs] .  \n",
              "3                                      0 [= pleurs] .  \n",
              "4                                           regarde !  \n",
              "5                        ça c'est un appareil+photo .  \n",
              "6           FAT caresse la joue de CHI qui se calme .  \n",
              "7                        ça sert à faire des images .  \n",
              "8   moi aussi j' en ai un mais il n' est pas numér...  \n",
              "9   FAT continue à caresser la joue de CHI qui est...  \n",
              "10                                     0 [= pleurs] .  \n",
              "11                                 mais là je filme .  \n",
              "12                 ah c'est un appareil sophistiqué .  \n",
              "13                        en+plus il fait des films .  \n",
              "14                                     0 [= pleurs] .  \n",
              "15                                     0 [= pleurs] .  \n",
              "16                                          ben oui !  \n",
              "17  regarde la caméra il faut toujours regarder la...  \n",
              "18                                     0 [= pleurs] .  \n",
              "19                              tiens on va tourner .  \n",
              "20                         on va regarder la caméra .  \n",
              "21                                     0 [= pleurs] .  \n",
              "22                 il regarde toujours du même côté .  \n",
              "23  ouvre tes yeux pour montrer tes beaux petits y...  \n",
              "24                                    hein mon coco .  \n",
              "25                                     0 [= pleurs] .  \n",
              "26                                     0 [= pleurs] .  \n",
              "27                                      son correct .  \n",
              "28                                     0 [= pleurs] .  \n",
              "29                                      son correct .  \n",
              "..                                                ...  \n",
              "49                                           oh oui !  \n",
              "50                        ça+y+est j' me suis calmé .  \n",
              "51              ça+y+est j' me suis calmé mon coeur .  \n",
              "52                               t' as un+peu chaud .  \n",
              "53              oui oui oui [= cliquetis de bouche] .  \n",
              "54                              oh oui # j' ai faim .  \n",
              "55                                       j' ai faim .  \n",
              "56                   0 [= discussion entre adultes] .  \n",
              "57                                              div |  \n",
              "58                                              div |  \n",
              "59                                                0 .  \n",
              "60  tiens tu vois t' as de la chance [= adressé à ...  \n",
              "61                                      allez # hop !  \n",
              "62  généralement il fait une grimace genre ah c'es...  \n",
              "63                          0 [= grimace de dégout] .  \n",
              "64                                   pauvre coco va .  \n",
              "65  je ne sais s' il trouve ça pas bon ou si c'est...  \n",
              "66              oui mais bon là tu pleures pas hein !  \n",
              "67            on va attendre là encore un+petit+peu .  \n",
              "68                on va attendre d' entendre un cri .  \n",
              "69                                   hein mon coeur .  \n",
              "70                                           oh oui .  \n",
              "71                on va attendre d' entendre un cri .  \n",
              "72                                   ça sert à rien .  \n",
              "73                               là t' es sage hein !  \n",
              "74                                             hein .  \n",
              "75                                    t' es sage là .  \n",
              "76                                y+a pas de soucis .  \n",
              "77                                              div |  \n",
              "78                                              div |  \n",
              "\n",
              "[79 rows x 6 columns]"
            ]
          },
          "metadata": {
            "tags": []
          },
          "execution_count": 37
        }
      ]
    },
    {
      "cell_type": "markdown",
      "metadata": {
        "id": "pG5LTyWD3ub_",
        "colab_type": "text"
      },
      "source": [
        "# Exploration des données\n",
        "\n",
        "---"
      ]
    },
    {
      "cell_type": "markdown",
      "metadata": {
        "id": "zGgMeqDF3ucB",
        "colab_type": "text"
      },
      "source": [
        "Qu'elles sont les différents type de ligne ?"
      ]
    },
    {
      "cell_type": "code",
      "metadata": {
        "id": "SRQgrM1e3ucC",
        "colab_type": "code",
        "colab": {},
        "outputId": "681606fa-54c3-4e72-e25b-a92083ec6231"
      },
      "source": [
        "print(len(data_antoine['type'].unique()))"
      ],
      "execution_count": 0,
      "outputs": [
        {
          "output_type": "stream",
          "text": [
            "51\n"
          ],
          "name": "stdout"
        }
      ]
    },
    {
      "cell_type": "markdown",
      "metadata": {
        "id": "AUnREgvv3ucI",
        "colab_type": "text"
      },
      "source": [
        "Il existe 51 types de ligne dans les fichiers Antoine :"
      ]
    },
    {
      "cell_type": "code",
      "metadata": {
        "id": "qtviz_n73ucK",
        "colab_type": "code",
        "colab": {},
        "outputId": "119dda61-d97a-4c61-913f-02812440f044"
      },
      "source": [
        "print(data_antoine['type'].unique())"
      ],
      "execution_count": 0,
      "outputs": [
        {
          "output_type": "stream",
          "text": [
            "['+div+' 'CHI' 'FAT' 'act' 'OBS' 'com' '-div-' 'MOT' 'ANN' 'UNK' 'GRM'\n",
            " 'pho' 'sit' 'int' 'xpnt' 'add' 'AUN' 'ADU' 'xpol' 'VIS' 'ximi' 'exp'\n",
            " 'xpho' 'GDM' 'UNI' 'BOY' 'GIR' 'gls' 'gpx' 'fac' 'xdia' 'tim' 'xnpt'\n",
            " 'CPT' 'JEN' 'WOM' 'mor' 'GDF' 'lia' 'COL' 'VOI' 'CHA' 'COM' 'COU' 'xrep'\n",
            " 'NAN' 'UNC' 'CAM' 'BRO' 'BAB' 'xpt']\n"
          ],
          "name": "stdout"
        }
      ]
    },
    {
      "cell_type": "markdown",
      "metadata": {
        "id": "rmZkAsZu3ucP",
        "colab_type": "text"
      },
      "source": [
        "## Les phonèmes"
      ]
    },
    {
      "cell_type": "markdown",
      "metadata": {
        "id": "L680Ga_A3ucP",
        "colab_type": "text"
      },
      "source": [
        "Les lignes de type 'pho' correspondent à la traduction phonétique lorsque Antoine s'exprime :\n",
        "* Nous avons à disposition 16116 traductions pour Antoine \n",
        "* On distingue les premiers mots d'Antoine à l'age d'un an et 14 jours\n",
        "* Les traductions s'arrêtent à l'age de 6 ans 3 mois et 8 jours"
      ]
    },
    {
      "cell_type": "code",
      "metadata": {
        "id": "aNMBsDHn3ucR",
        "colab_type": "code",
        "colab": {}
      },
      "source": [
        "pho_antoine = data_antoine[data_antoine['type'] == 'pho']\n",
        "#pho_antoine"
      ],
      "execution_count": 0,
      "outputs": []
    },
    {
      "cell_type": "code",
      "metadata": {
        "id": "dfcE_cn63ucV",
        "colab_type": "code",
        "colab": {}
      },
      "source": [
        "xpho_antoine = data_antoine[data_antoine['type'] == 'xpho']\n",
        "#xpho_antoine"
      ],
      "execution_count": 0,
      "outputs": []
    },
    {
      "cell_type": "markdown",
      "metadata": {
        "id": "2NC2ECju3ucZ",
        "colab_type": "text"
      },
      "source": [
        "### Valeurs NaN\n",
        "\n",
        "Il existe 4 valeurs NaN dans la colonne contenu, nous allons les supprimer :"
      ]
    },
    {
      "cell_type": "code",
      "metadata": {
        "id": "MDsdVNzO3ucb",
        "colab_type": "code",
        "colab": {},
        "outputId": "c531a046-0865-4b7a-8374-e04202dcba72"
      },
      "source": [
        "pho_antoine.loc[pho_antoine['contenu'].isna()]"
      ],
      "execution_count": 0,
      "outputs": [
        {
          "output_type": "execute_result",
          "data": {
            "text/html": [
              "<div>\n",
              "<style scoped>\n",
              "    .dataframe tbody tr th:only-of-type {\n",
              "        vertical-align: middle;\n",
              "    }\n",
              "\n",
              "    .dataframe tbody tr th {\n",
              "        vertical-align: top;\n",
              "    }\n",
              "\n",
              "    .dataframe thead th {\n",
              "        text-align: right;\n",
              "    }\n",
              "</style>\n",
              "<table border=\"1\" class=\"dataframe\">\n",
              "  <thead>\n",
              "    <tr style=\"text-align: right;\">\n",
              "      <th></th>\n",
              "      <th>enfant</th>\n",
              "      <th>age</th>\n",
              "      <th>type</th>\n",
              "      <th>seconde_debut</th>\n",
              "      <th>seconde_fin</th>\n",
              "      <th>contenu</th>\n",
              "    </tr>\n",
              "  </thead>\n",
              "  <tbody>\n",
              "    <tr>\n",
              "      <th>2152</th>\n",
              "      <td>ANTOINE</td>\n",
              "      <td>1_00_24</td>\n",
              "      <td>pho</td>\n",
              "      <td>NaN</td>\n",
              "      <td>NaN</td>\n",
              "      <td>NaN</td>\n",
              "    </tr>\n",
              "    <tr>\n",
              "      <th>2372</th>\n",
              "      <td>ANTOINE</td>\n",
              "      <td>1_00_24</td>\n",
              "      <td>pho</td>\n",
              "      <td>NaN</td>\n",
              "      <td>NaN</td>\n",
              "      <td>NaN</td>\n",
              "    </tr>\n",
              "    <tr>\n",
              "      <th>23672</th>\n",
              "      <td>ANTOINE</td>\n",
              "      <td>1_07_15</td>\n",
              "      <td>pho</td>\n",
              "      <td>NaN</td>\n",
              "      <td>NaN</td>\n",
              "      <td>NaN</td>\n",
              "    </tr>\n",
              "    <tr>\n",
              "      <th>29960</th>\n",
              "      <td>ANTOINE</td>\n",
              "      <td>1_08_05</td>\n",
              "      <td>pho</td>\n",
              "      <td>NaN</td>\n",
              "      <td>NaN</td>\n",
              "      <td>NaN</td>\n",
              "    </tr>\n",
              "  </tbody>\n",
              "</table>\n",
              "</div>"
            ],
            "text/plain": [
              "        enfant      age type  seconde_debut  seconde_fin contenu\n",
              "2152   ANTOINE  1_00_24  pho            NaN          NaN     NaN\n",
              "2372   ANTOINE  1_00_24  pho            NaN          NaN     NaN\n",
              "23672  ANTOINE  1_07_15  pho            NaN          NaN     NaN\n",
              "29960  ANTOINE  1_08_05  pho            NaN          NaN     NaN"
            ]
          },
          "metadata": {
            "tags": []
          },
          "execution_count": 14
        }
      ]
    },
    {
      "cell_type": "code",
      "metadata": {
        "id": "TAw_PSln3ucg",
        "colab_type": "code",
        "colab": {}
      },
      "source": [
        "#Supprime les 4 lignes\n",
        "pho_antoine = pho_antoine.dropna(subset=['type', 'contenu'])"
      ],
      "execution_count": 0,
      "outputs": []
    },
    {
      "cell_type": "markdown",
      "metadata": {
        "id": "SUvpRc8B3ucl",
        "colab_type": "text"
      },
      "source": [
        "Nous allons chercher à visualiser la quantité phonétique de données à disposition"
      ]
    },
    {
      "cell_type": "markdown",
      "metadata": {
        "id": "GPX5Oah-3ucw",
        "colab_type": "text"
      },
      "source": [
        "## Visualisation des données phonétiques"
      ]
    },
    {
      "cell_type": "markdown",
      "metadata": {
        "id": "-g09eZFS3ucx",
        "colab_type": "text"
      },
      "source": [
        "### Ajout des colonnes 'année', 'mois' et 'jour'"
      ]
    },
    {
      "cell_type": "markdown",
      "metadata": {
        "id": "F1BFJv5i3ucy",
        "colab_type": "text"
      },
      "source": [
        "On considère que la colonne age a pout format : x_xx_xx (année_mois_jour) ainsi :\n",
        "* ``pho_antoine['age'][0:1]`` nous donne le nombre d'année\n",
        "* ``pho_antoine['age'][2:4]`` nous donne le nombre de mois\n",
        "* ``pho_antoine['age'][5:7]`` nous donne le nombre de jours"
      ]
    },
    {
      "cell_type": "code",
      "metadata": {
        "id": "iXFioTiE3ucz",
        "colab_type": "code",
        "colab": {}
      },
      "source": [
        "# Ajout du nombre d'année\n",
        "année_pho_antoine = pho_antoine.apply(lambda row: row['age'][0:1], axis=1)\n",
        "pho_antoine['année'] = année_pho_antoine\n",
        "\n",
        "# Ajout du nombre de mois\n",
        "mois_pho_antoine = pho_antoine.apply(lambda row: row['age'][2:4], axis=1)\n",
        "pho_antoine['mois'] = mois_pho_antoine\n",
        "\n",
        "# Ajout du nombre de jour\n",
        "jour_pho_antoine = pho_antoine.apply(lambda row: row['age'][5:7], axis=1)\n",
        "pho_antoine['jour'] = jour_pho_antoine"
      ],
      "execution_count": 0,
      "outputs": []
    },
    {
      "cell_type": "code",
      "metadata": {
        "id": "f8N9W7-J3uc3",
        "colab_type": "code",
        "colab": {}
      },
      "source": [
        "#pho_antoine"
      ],
      "execution_count": 0,
      "outputs": []
    },
    {
      "cell_type": "markdown",
      "metadata": {
        "id": "5oADyrzj3uc7",
        "colab_type": "text"
      },
      "source": [
        "## Quantité de données"
      ]
    },
    {
      "cell_type": "markdown",
      "metadata": {
        "id": "3LaZDZ_33uc7",
        "colab_type": "text"
      },
      "source": [
        "Combien avons-nous de ligne pour chaque année ? mois ? jour ?"
      ]
    },
    {
      "cell_type": "markdown",
      "metadata": {
        "id": "AYh-BRCZ3uc8",
        "colab_type": "text"
      },
      "source": [
        "### Quantité de données par année"
      ]
    },
    {
      "cell_type": "code",
      "metadata": {
        "id": "1gBiwosE3uc-",
        "colab_type": "code",
        "colab": {},
        "outputId": "ac30c159-ee96-483e-8b81-946284cc7bd4"
      },
      "source": [
        "nb_phrase_annee = pho_antoine[{'année','contenu'}].groupby('année').count()\n",
        "nb_phrase_annee.rename(columns={'contenu': 'nb_phrase'})"
      ],
      "execution_count": 0,
      "outputs": [
        {
          "output_type": "execute_result",
          "data": {
            "text/html": [
              "<div>\n",
              "<style scoped>\n",
              "    .dataframe tbody tr th:only-of-type {\n",
              "        vertical-align: middle;\n",
              "    }\n",
              "\n",
              "    .dataframe tbody tr th {\n",
              "        vertical-align: top;\n",
              "    }\n",
              "\n",
              "    .dataframe thead th {\n",
              "        text-align: right;\n",
              "    }\n",
              "</style>\n",
              "<table border=\"1\" class=\"dataframe\">\n",
              "  <thead>\n",
              "    <tr style=\"text-align: right;\">\n",
              "      <th></th>\n",
              "      <th>nb_phrase</th>\n",
              "    </tr>\n",
              "    <tr>\n",
              "      <th>année</th>\n",
              "      <th></th>\n",
              "    </tr>\n",
              "  </thead>\n",
              "  <tbody>\n",
              "    <tr>\n",
              "      <th>1</th>\n",
              "      <td>3574</td>\n",
              "    </tr>\n",
              "    <tr>\n",
              "      <th>2</th>\n",
              "      <td>7291</td>\n",
              "    </tr>\n",
              "    <tr>\n",
              "      <th>3</th>\n",
              "      <td>2456</td>\n",
              "    </tr>\n",
              "    <tr>\n",
              "      <th>4</th>\n",
              "      <td>2215</td>\n",
              "    </tr>\n",
              "    <tr>\n",
              "      <th>5</th>\n",
              "      <td>575</td>\n",
              "    </tr>\n",
              "    <tr>\n",
              "      <th>6</th>\n",
              "      <td>1</td>\n",
              "    </tr>\n",
              "  </tbody>\n",
              "</table>\n",
              "</div>"
            ],
            "text/plain": [
              "       nb_phrase\n",
              "année           \n",
              "1           3574\n",
              "2           7291\n",
              "3           2456\n",
              "4           2215\n",
              "5            575\n",
              "6              1"
            ]
          },
          "metadata": {
            "tags": []
          },
          "execution_count": 18
        }
      ]
    },
    {
      "cell_type": "code",
      "metadata": {
        "id": "Yjos1spY3udB",
        "colab_type": "code",
        "colab": {},
        "outputId": "4b2a19b7-19cd-47de-aaca-d1bd13851680"
      },
      "source": [
        "nb_phrase_annee.plot(kind='bar', \n",
        "                       subplots=True, \n",
        "                       figsize=(20,10),\n",
        "                       title = 'Nombre de données phonétiques par année : Antoine',\n",
        "                       fontsize = 15,\n",
        "                       use_index = True)"
      ],
      "execution_count": 0,
      "outputs": [
        {
          "output_type": "execute_result",
          "data": {
            "text/plain": [
              "array([<matplotlib.axes._subplots.AxesSubplot object at 0x000001C60F2305C0>],\n",
              "      dtype=object)"
            ]
          },
          "metadata": {
            "tags": []
          },
          "execution_count": 19
        }
      ]
    },
    {
      "cell_type": "markdown",
      "metadata": {
        "id": "Py95bJ613udK",
        "colab_type": "text"
      },
      "source": [
        "On voit qu'il y a des quantités de données phonétiques différentes pour chaques années :\n",
        "* Il y a deux fois plus de données la deuxième année que la première (surement dû à une prise de la parole plus importante chez Antoine)\n",
        "* Il y a moins de données les troisième et quatrième années (surement dû à des prises de parole plus complexes chez Antoine)\n",
        "* Il y a moins beaucoup moins de données la cinquième année\n",
        "* Peut-on considérer la sixième année comme n'ayant aucune donnée ?"
      ]
    },
    {
      "cell_type": "markdown",
      "metadata": {
        "id": "E6Af3amP3udM",
        "colab_type": "text"
      },
      "source": [
        "### Quantité de données par mois\n",
        "\n",
        "Regardons plus en détail la quantité de données phonétiques par mois :"
      ]
    },
    {
      "cell_type": "code",
      "metadata": {
        "id": "j-ueRnYv3udO",
        "colab_type": "code",
        "colab": {},
        "outputId": "7c57792a-32f4-4af9-da2f-2867f1356ade"
      },
      "source": [
        "nb_phrase_mois = pho_antoine[{'année','mois','contenu'}].groupby(['année','mois']).count()\n",
        "nb_phrase_mois = nb_phrase_mois.rename(columns={'contenu': 'nb_phrase'})\n",
        "nb_phrase_mois.unstack(level=1)"
      ],
      "execution_count": 0,
      "outputs": [
        {
          "output_type": "execute_result",
          "data": {
            "text/html": [
              "<div>\n",
              "<style scoped>\n",
              "    .dataframe tbody tr th:only-of-type {\n",
              "        vertical-align: middle;\n",
              "    }\n",
              "\n",
              "    .dataframe tbody tr th {\n",
              "        vertical-align: top;\n",
              "    }\n",
              "\n",
              "    .dataframe thead tr th {\n",
              "        text-align: left;\n",
              "    }\n",
              "\n",
              "    .dataframe thead tr:last-of-type th {\n",
              "        text-align: right;\n",
              "    }\n",
              "</style>\n",
              "<table border=\"1\" class=\"dataframe\">\n",
              "  <thead>\n",
              "    <tr>\n",
              "      <th></th>\n",
              "      <th colspan=\"12\" halign=\"left\">nb_phrase</th>\n",
              "    </tr>\n",
              "    <tr>\n",
              "      <th>mois</th>\n",
              "      <th>00</th>\n",
              "      <th>01</th>\n",
              "      <th>02</th>\n",
              "      <th>03</th>\n",
              "      <th>04</th>\n",
              "      <th>05</th>\n",
              "      <th>06</th>\n",
              "      <th>07</th>\n",
              "      <th>08</th>\n",
              "      <th>09</th>\n",
              "      <th>10</th>\n",
              "      <th>11</th>\n",
              "    </tr>\n",
              "    <tr>\n",
              "      <th>année</th>\n",
              "      <th></th>\n",
              "      <th></th>\n",
              "      <th></th>\n",
              "      <th></th>\n",
              "      <th></th>\n",
              "      <th></th>\n",
              "      <th></th>\n",
              "      <th></th>\n",
              "      <th></th>\n",
              "      <th></th>\n",
              "      <th></th>\n",
              "      <th></th>\n",
              "    </tr>\n",
              "  </thead>\n",
              "  <tbody>\n",
              "    <tr>\n",
              "      <th>1</th>\n",
              "      <td>186.0</td>\n",
              "      <td>187.0</td>\n",
              "      <td>170.0</td>\n",
              "      <td>187.0</td>\n",
              "      <td>276.0</td>\n",
              "      <td>256.0</td>\n",
              "      <td>208.0</td>\n",
              "      <td>185.0</td>\n",
              "      <td>403.0</td>\n",
              "      <td>585.0</td>\n",
              "      <td>305.0</td>\n",
              "      <td>626.0</td>\n",
              "    </tr>\n",
              "    <tr>\n",
              "      <th>2</th>\n",
              "      <td>829.0</td>\n",
              "      <td>837.0</td>\n",
              "      <td>1195.0</td>\n",
              "      <td>814.0</td>\n",
              "      <td>706.0</td>\n",
              "      <td>386.0</td>\n",
              "      <td>430.0</td>\n",
              "      <td>476.0</td>\n",
              "      <td>415.0</td>\n",
              "      <td>631.0</td>\n",
              "      <td>NaN</td>\n",
              "      <td>572.0</td>\n",
              "    </tr>\n",
              "    <tr>\n",
              "      <th>3</th>\n",
              "      <td>589.0</td>\n",
              "      <td>NaN</td>\n",
              "      <td>360.0</td>\n",
              "      <td>NaN</td>\n",
              "      <td>NaN</td>\n",
              "      <td>536.0</td>\n",
              "      <td>NaN</td>\n",
              "      <td>425.0</td>\n",
              "      <td>NaN</td>\n",
              "      <td>546.0</td>\n",
              "      <td>NaN</td>\n",
              "      <td>NaN</td>\n",
              "    </tr>\n",
              "    <tr>\n",
              "      <th>4</th>\n",
              "      <td>428.0</td>\n",
              "      <td>NaN</td>\n",
              "      <td>447.0</td>\n",
              "      <td>NaN</td>\n",
              "      <td>NaN</td>\n",
              "      <td>721.0</td>\n",
              "      <td>NaN</td>\n",
              "      <td>NaN</td>\n",
              "      <td>615.0</td>\n",
              "      <td>NaN</td>\n",
              "      <td>4.0</td>\n",
              "      <td>NaN</td>\n",
              "    </tr>\n",
              "    <tr>\n",
              "      <th>5</th>\n",
              "      <td>NaN</td>\n",
              "      <td>NaN</td>\n",
              "      <td>566.0</td>\n",
              "      <td>NaN</td>\n",
              "      <td>5.0</td>\n",
              "      <td>NaN</td>\n",
              "      <td>NaN</td>\n",
              "      <td>4.0</td>\n",
              "      <td>NaN</td>\n",
              "      <td>NaN</td>\n",
              "      <td>NaN</td>\n",
              "      <td>NaN</td>\n",
              "    </tr>\n",
              "    <tr>\n",
              "      <th>6</th>\n",
              "      <td>NaN</td>\n",
              "      <td>NaN</td>\n",
              "      <td>NaN</td>\n",
              "      <td>1.0</td>\n",
              "      <td>NaN</td>\n",
              "      <td>NaN</td>\n",
              "      <td>NaN</td>\n",
              "      <td>NaN</td>\n",
              "      <td>NaN</td>\n",
              "      <td>NaN</td>\n",
              "      <td>NaN</td>\n",
              "      <td>NaN</td>\n",
              "    </tr>\n",
              "  </tbody>\n",
              "</table>\n",
              "</div>"
            ],
            "text/plain": [
              "      nb_phrase                                                           \\\n",
              "mois         00     01      02     03     04     05     06     07     08   \n",
              "année                                                                      \n",
              "1         186.0  187.0   170.0  187.0  276.0  256.0  208.0  185.0  403.0   \n",
              "2         829.0  837.0  1195.0  814.0  706.0  386.0  430.0  476.0  415.0   \n",
              "3         589.0    NaN   360.0    NaN    NaN  536.0    NaN  425.0    NaN   \n",
              "4         428.0    NaN   447.0    NaN    NaN  721.0    NaN    NaN  615.0   \n",
              "5           NaN    NaN   566.0    NaN    5.0    NaN    NaN    4.0    NaN   \n",
              "6           NaN    NaN     NaN    1.0    NaN    NaN    NaN    NaN    NaN   \n",
              "\n",
              "                            \n",
              "mois      09     10     11  \n",
              "année                       \n",
              "1      585.0  305.0  626.0  \n",
              "2      631.0    NaN  572.0  \n",
              "3      546.0    NaN    NaN  \n",
              "4        NaN    4.0    NaN  \n",
              "5        NaN    NaN    NaN  \n",
              "6        NaN    NaN    NaN  "
            ]
          },
          "metadata": {
            "tags": []
          },
          "execution_count": 20
        }
      ]
    },
    {
      "cell_type": "markdown",
      "metadata": {
        "id": "Zcz9ddN-3udT",
        "colab_type": "text"
      },
      "source": [
        "Nous avons moins de 5 phrases pour les ages : \n",
        "* 4_00_xx\n",
        "* 5_04_xx\n",
        "* 5_07_xx\n",
        "* 6_03_xx\n",
        "\n",
        "On voit aussi qu'il y a des mois sans données, cela vérifie qu'il y ait moins de données pour les années 3, 4 et 5 "
      ]
    },
    {
      "cell_type": "code",
      "metadata": {
        "id": "dNbjG_bQ3udU",
        "colab_type": "code",
        "colab": {},
        "outputId": "11871aab-e026-45cc-cb5c-2dc7d2a43790"
      },
      "source": [
        "plt = nb_phrase_mois.unstack(level=0).plot(kind='bar', \n",
        "                                     subplots=True, \n",
        "                                     figsize=(25, 30),\n",
        "                                     title = 'Nombre de données phonétiques par mois : Antoine',\n",
        "                                     fontsize = 15,\n",
        "                                     use_index = True)"
      ],
      "execution_count": 0,
      "outputs": [
        {
          "output_type": "display_data",
          "data": {
            "image/png": "[encoded data removed]",
            "text/plain": [
              "<Figure size 1800x2160 with 6 Axes>"
            ]
          },
          "metadata": {
            "tags": [],
            "needs_background": "light"
          }
        }
      ]
    },
    {
      "cell_type": "markdown",
      "metadata": {
        "id": "SPXN5aEG3udY",
        "colab_type": "text"
      },
      "source": [
        "En effet on voit qu'il y a moins d'enregistrements effectués sur Antoine les troisième et quatrième années. De même la cinquième année ne contient qu'un mois avec une quantité de données significative. On voit encore ici que la sixième contient une seule ligne de traduction phonétique. "
      ]
    },
    {
      "cell_type": "code",
      "metadata": {
        "id": "yVCVhokh3udZ",
        "colab_type": "code",
        "colab": {},
        "outputId": "6cf87e30-bb52-44b2-f115-890cbb7dc1a1"
      },
      "source": [
        "plt = nb_phrase_mois.plot(kind='bar',\n",
        "                    subplots=True, \n",
        "                    figsize=(20, 10),\n",
        "                    title = 'Nombre de données phonétiques par mois : Antoine',\n",
        "                    fontsize = 15,\n",
        "                    use_index = True)"
      ],
      "execution_count": 0,
      "outputs": [
        {
          "output_type": "display_data",
          "data": {
            "image/png": "[encoded data removed]",
            "text/plain": [
              "<Figure size 1440x720 with 1 Axes>"
            ]
          },
          "metadata": {
            "tags": [],
            "needs_background": "light"
          }
        }
      ]
    },
    {
      "cell_type": "markdown",
      "metadata": {
        "id": "FMZOZIV33udc",
        "colab_type": "text"
      },
      "source": [
        "Cette distribution n'est pas homogène, de plus elle n'est pas distribué de manière équitable dans le temps. En effet nous avons ici 23 lignes de données pour les années 1 et 2"
      ]
    },
    {
      "cell_type": "markdown",
      "metadata": {
        "id": "i92Yee6J3udd",
        "colab_type": "text"
      },
      "source": [
        "### Quantité de données par jour\n",
        "\n",
        "Regardons maintenant la quantité de données par jours :"
      ]
    },
    {
      "cell_type": "code",
      "metadata": {
        "id": "2pBUH98E3ude",
        "colab_type": "code",
        "colab": {}
      },
      "source": [
        "nb_phrase_jour = pho_antoine[{'année','mois', 'jour', 'contenu'}].groupby(['année','mois', 'jour']).count()\n",
        "nb_phrase_jour = nb_phrase_jour.rename(columns={'contenu': 'nb_phrase'})\n",
        "#nb_phrase_jour"
      ],
      "execution_count": 0,
      "outputs": []
    },
    {
      "cell_type": "code",
      "metadata": {
        "scrolled": false,
        "id": "Jfz-9NPL3udh",
        "colab_type": "code",
        "colab": {},
        "outputId": "da756fcf-7503-4341-e983-a503b9299bb6"
      },
      "source": [
        "plt = nb_phrase_jour.plot(kind='bar',\n",
        "                    subplots=True,\n",
        "                    figsize=(20, 10),\n",
        "                    title = 'Nombre de données phonétiques par jour : Antoine',\n",
        "                    fontsize = 15,\n",
        "                    use_index = True)"
      ],
      "execution_count": 0,
      "outputs": [
        {
          "output_type": "display_data",
          "data": {
            "image/png": "[encoded data removed]",
            "text/plain": [
              "<Figure size 1440x720 with 1 Axes>"
            ]
          },
          "metadata": {
            "tags": [],
            "needs_background": "light"
          }
        }
      ]
    },
    {
      "cell_type": "markdown",
      "metadata": {
        "id": "SYFz2Ak73udj",
        "colab_type": "text"
      },
      "source": [
        "De cette manière on a une distribution plus homogène de la quantité de données phonétique. En effet nous avons découpé les données de tel sorte à avoir la quantité de données pour chaque enregistrement d'Antoine. Mais elle n'est pas distribué de manière équitable dans le temps. On peut mesurer la croissance du nombre de prise de parole (on pourrait croiser cette donnée avec la durée de l'enregistrement pour une meilleure mesure). <br>\n",
        "Pour cela nous devons ignorer les quantités pour les ages (car ces quantités ne sont pas représentatives et cela fausserais notre mesure):\n",
        "* 2_00_21\n",
        "* 4_10_22\n",
        "* 5_04_11\n",
        "* 5_07_11\n",
        "* 6_03_08"
      ]
    },
    {
      "cell_type": "markdown",
      "metadata": {
        "id": "h2XOZztO3udl",
        "colab_type": "text"
      },
      "source": [
        "On a maintenant une meilleure vision du nombre de la quantité de données phonétiques à disposition et de leur répartition dans le temps pour Antoine."
      ]
    },
    {
      "cell_type": "markdown",
      "metadata": {
        "id": "x1sGeMYy3udl",
        "colab_type": "text"
      },
      "source": [
        "## Nombre de mot\n",
        "Nous allons chercher à explorer le nombre de mot au sens phonétique par phrase. <br>\n",
        "Pour cela on peut compter le nombre d'espace dans la chaîne de caractère :"
      ]
    },
    {
      "cell_type": "code",
      "metadata": {
        "id": "ArIGqJNE3udm",
        "colab_type": "code",
        "colab": {},
        "outputId": "acd9c954-3c70-4446-a8b4-dd368d378af7"
      },
      "source": [
        "# Exemple \n",
        "pho = pho_antoine.at[141596, 'contenu']\n",
        "print('Nombre de mot dans \"' + pho + ' : '+ str(pho.count(' ')+1))"
      ],
      "execution_count": 0,
      "outputs": [
        {
          "output_type": "stream",
          "text": [
            "Nombre de mot dans \"epɥi ʁəgaʁd la kɑ̃ t a f t ɛ fe tudududu sa fɛ kɔm sa : 15\n"
          ],
          "name": "stdout"
        }
      ]
    },
    {
      "cell_type": "markdown",
      "metadata": {
        "id": "UMaw-rQj3udq",
        "colab_type": "text"
      },
      "source": [
        "Pour chaque ligne on calcul le nombre de mot phonétique :"
      ]
    },
    {
      "cell_type": "code",
      "metadata": {
        "id": "ux02jH8n3udr",
        "colab_type": "code",
        "colab": {}
      },
      "source": [
        "nb_mot_pho = pho_antoine.apply(lambda row: row['contenu'].count(' ')+1, axis=1)\n",
        "pho_antoine['nombre_mot_phonétique'] = nb_mot_pho #On ajoute une colonne contenant le nombre de mot"
      ],
      "execution_count": 0,
      "outputs": []
    },
    {
      "cell_type": "markdown",
      "metadata": {
        "id": "9bgEx5Qg3udu",
        "colab_type": "text"
      },
      "source": [
        "Par exemple on peut avoir la phrase d'Antoine avec le plus grand nombre de mot :"
      ]
    },
    {
      "cell_type": "code",
      "metadata": {
        "id": "6EhmCaH_3udv",
        "colab_type": "code",
        "colab": {},
        "outputId": "2fd0f55d-6f17-417f-c9d6-eb2d7ea79bc3"
      },
      "source": [
        "pho_antoine.loc[pho_antoine['nombre_mot_phonétique'] == pho_antoine['nombre_mot_phonétique'].max()].contenu.values"
      ],
      "execution_count": 0,
      "outputs": [
        {
          "output_type": "execute_result",
          "data": {
            "text/plain": [
              "array(['əm matjø mwa ʒ e fini tu lə skɔtʃ alɔʁ i fo k t ɑ̃ ʁəmɛt dɑ̃ ʁəpʁɑ̃d dy skotʃ paʁskə j ɑ̃na ply si si dəmɛ̃ matɛ̃ ʒ vø akʁoʃe ɑ̃kɔʁ dɛ dɛsɛ̃ ʃe mwa'],\n",
              "      dtype=object)"
            ]
          },
          "metadata": {
            "tags": []
          },
          "execution_count": 27
        }
      ]
    },
    {
      "cell_type": "markdown",
      "metadata": {
        "id": "KsFXP5Xk3udy",
        "colab_type": "text"
      },
      "source": [
        "Voici la ligne de cette phrase :"
      ]
    },
    {
      "cell_type": "code",
      "metadata": {
        "id": "fipdD4ax3udy",
        "colab_type": "code",
        "colab": {},
        "outputId": "38dc2d02-96af-4616-e2e2-955750660df5"
      },
      "source": [
        "pho_antoine.loc[pho_antoine['nombre_mot_phonétique'] == 36 ]"
      ],
      "execution_count": 0,
      "outputs": [
        {
          "output_type": "execute_result",
          "data": {
            "text/html": [
              "<div>\n",
              "<style scoped>\n",
              "    .dataframe tbody tr th:only-of-type {\n",
              "        vertical-align: middle;\n",
              "    }\n",
              "\n",
              "    .dataframe tbody tr th {\n",
              "        vertical-align: top;\n",
              "    }\n",
              "\n",
              "    .dataframe thead th {\n",
              "        text-align: right;\n",
              "    }\n",
              "</style>\n",
              "<table border=\"1\" class=\"dataframe\">\n",
              "  <thead>\n",
              "    <tr style=\"text-align: right;\">\n",
              "      <th></th>\n",
              "      <th>enfant</th>\n",
              "      <th>age</th>\n",
              "      <th>type</th>\n",
              "      <th>seconde_debut</th>\n",
              "      <th>seconde_fin</th>\n",
              "      <th>contenu</th>\n",
              "      <th>année</th>\n",
              "      <th>mois</th>\n",
              "      <th>jour</th>\n",
              "      <th>nombre_mot_phonétique</th>\n",
              "    </tr>\n",
              "  </thead>\n",
              "  <tbody>\n",
              "    <tr>\n",
              "      <th>130742</th>\n",
              "      <td>ANTOINE</td>\n",
              "      <td>4_08_02</td>\n",
              "      <td>pho</td>\n",
              "      <td>NaN</td>\n",
              "      <td>NaN</td>\n",
              "      <td>əm matjø mwa ʒ e fini tu lə skɔtʃ alɔʁ i fo k ...</td>\n",
              "      <td>4</td>\n",
              "      <td>08</td>\n",
              "      <td>02</td>\n",
              "      <td>36</td>\n",
              "    </tr>\n",
              "  </tbody>\n",
              "</table>\n",
              "</div>"
            ],
            "text/plain": [
              "         enfant      age type  seconde_debut  seconde_fin  \\\n",
              "130742  ANTOINE  4_08_02  pho            NaN          NaN   \n",
              "\n",
              "                                                  contenu année mois jour  \\\n",
              "130742  əm matjø mwa ʒ e fini tu lə skɔtʃ alɔʁ i fo k ...     4   08   02   \n",
              "\n",
              "        nombre_mot_phonétique  \n",
              "130742                     36  "
            ]
          },
          "metadata": {
            "tags": []
          },
          "execution_count": 28
        }
      ]
    },
    {
      "cell_type": "markdown",
      "metadata": {
        "id": "ZjE0nyTD3ud1",
        "colab_type": "text"
      },
      "source": [
        "### Espérance de mot par phrase"
      ]
    },
    {
      "cell_type": "code",
      "metadata": {
        "id": "ylC-cRcT3ud3",
        "colab_type": "code",
        "colab": {}
      },
      "source": [
        "mean_nb_mot_pho_antoine_jour = pho_antoine[{'année', 'mois', 'jour', 'nombre_mot_phonétique'}].groupby(['année', 'mois', 'jour']).mean()\n",
        "mean_nb_mot_pho_antoine_jour = mean_nb_mot_pho_antoine_jour.rename(columns={'nombre_mot_phonétique': 'espérance_nombre_de_mot_phonétique'})\n",
        "#mean_nb_mot_pho_antoine_jour"
      ],
      "execution_count": 0,
      "outputs": []
    },
    {
      "cell_type": "code",
      "metadata": {
        "id": "dgiZsfC33ud6",
        "colab_type": "code",
        "colab": {},
        "outputId": "9399529c-4476-4266-ea5a-87b45bfc7b86"
      },
      "source": [
        "mean_nb_mot_pho_antoine_jour.plot(kind='bar', \n",
        "                            subplots=True, \n",
        "                            figsize=(20, 20),\n",
        "                            title = 'Espérance du nombre de mot phonétique par mois : Antoine',\n",
        "                            fontsize = 15,\n",
        "                            use_index = True,\n",
        "                            grid=True)"
      ],
      "execution_count": 0,
      "outputs": [
        {
          "output_type": "execute_result",
          "data": {
            "text/plain": [
              "array([<matplotlib.axes._subplots.AxesSubplot object at 0x000001C6113449B0>],\n",
              "      dtype=object)"
            ]
          },
          "metadata": {
            "tags": []
          },
          "execution_count": 31
        },
        {
          "output_type": "display_data",
          "data": {
            "image/png": "[encoded data removed]",
            "text/plain": [
              "<Figure size 1440x1440 with 1 Axes>"
            ]
          },
          "metadata": {
            "tags": [],
            "needs_background": "light"
          }
        }
      ]
    },
    {
      "cell_type": "markdown",
      "metadata": {
        "id": "JGHl0a7s3ud9",
        "colab_type": "text"
      },
      "source": [
        "* On constaste que l'espérance augmente en fonction du temps\n",
        "* L'esperance pour l'age 4_20_22 est exessivement élevée "
      ]
    },
    {
      "cell_type": "markdown",
      "metadata": {
        "id": "4y8QlUwZ3ud_",
        "colab_type": "text"
      },
      "source": [
        "### Variance du nombre de mot par phrase"
      ]
    },
    {
      "cell_type": "code",
      "metadata": {
        "id": "CW-DAWvZ3ud_",
        "colab_type": "code",
        "colab": {},
        "outputId": "f24c8897-792b-4c02-f162-512fff684595"
      },
      "source": [
        "var_nb_mot_pho_antoine = pho_antoine[{'année','mois','nombre_mot_phonétique'}].groupby(['année','mois']).var()\n",
        "var_nb_mot_pho_antoine = var_nb_mot_pho_antoine.rename(columns={'nombre_mot_phonétique': 'variance'})\n",
        "var_nb_mot_pho_antoine.unstack(level=1)"
      ],
      "execution_count": 0,
      "outputs": [
        {
          "output_type": "execute_result",
          "data": {
            "text/html": [
              "<div>\n",
              "<style scoped>\n",
              "    .dataframe tbody tr th:only-of-type {\n",
              "        vertical-align: middle;\n",
              "    }\n",
              "\n",
              "    .dataframe tbody tr th {\n",
              "        vertical-align: top;\n",
              "    }\n",
              "\n",
              "    .dataframe thead tr th {\n",
              "        text-align: left;\n",
              "    }\n",
              "\n",
              "    .dataframe thead tr:last-of-type th {\n",
              "        text-align: right;\n",
              "    }\n",
              "</style>\n",
              "<table border=\"1\" class=\"dataframe\">\n",
              "  <thead>\n",
              "    <tr>\n",
              "      <th></th>\n",
              "      <th colspan=\"12\" halign=\"left\">variance</th>\n",
              "    </tr>\n",
              "    <tr>\n",
              "      <th>mois</th>\n",
              "      <th>00</th>\n",
              "      <th>01</th>\n",
              "      <th>02</th>\n",
              "      <th>03</th>\n",
              "      <th>04</th>\n",
              "      <th>05</th>\n",
              "      <th>06</th>\n",
              "      <th>07</th>\n",
              "      <th>08</th>\n",
              "      <th>09</th>\n",
              "      <th>10</th>\n",
              "      <th>11</th>\n",
              "    </tr>\n",
              "    <tr>\n",
              "      <th>année</th>\n",
              "      <th></th>\n",
              "      <th></th>\n",
              "      <th></th>\n",
              "      <th></th>\n",
              "      <th></th>\n",
              "      <th></th>\n",
              "      <th></th>\n",
              "      <th></th>\n",
              "      <th></th>\n",
              "      <th></th>\n",
              "      <th></th>\n",
              "      <th></th>\n",
              "    </tr>\n",
              "  </thead>\n",
              "  <tbody>\n",
              "    <tr>\n",
              "      <th>1</th>\n",
              "      <td>0.244115</td>\n",
              "      <td>0.699845</td>\n",
              "      <td>0.292238</td>\n",
              "      <td>0.066414</td>\n",
              "      <td>0.108775</td>\n",
              "      <td>0.003906</td>\n",
              "      <td>0.503693</td>\n",
              "      <td>0.241657</td>\n",
              "      <td>0.627051</td>\n",
              "      <td>0.401370</td>\n",
              "      <td>0.396506</td>\n",
              "      <td>0.864289</td>\n",
              "    </tr>\n",
              "    <tr>\n",
              "      <th>2</th>\n",
              "      <td>1.011515</td>\n",
              "      <td>1.422982</td>\n",
              "      <td>1.485587</td>\n",
              "      <td>2.199820</td>\n",
              "      <td>2.290382</td>\n",
              "      <td>3.078211</td>\n",
              "      <td>3.816425</td>\n",
              "      <td>4.057050</td>\n",
              "      <td>2.830243</td>\n",
              "      <td>5.329963</td>\n",
              "      <td>NaN</td>\n",
              "      <td>6.086917</td>\n",
              "    </tr>\n",
              "    <tr>\n",
              "      <th>3</th>\n",
              "      <td>4.519848</td>\n",
              "      <td>NaN</td>\n",
              "      <td>7.103613</td>\n",
              "      <td>NaN</td>\n",
              "      <td>NaN</td>\n",
              "      <td>6.372214</td>\n",
              "      <td>NaN</td>\n",
              "      <td>7.146704</td>\n",
              "      <td>NaN</td>\n",
              "      <td>12.946846</td>\n",
              "      <td>NaN</td>\n",
              "      <td>NaN</td>\n",
              "    </tr>\n",
              "    <tr>\n",
              "      <th>4</th>\n",
              "      <td>8.695632</td>\n",
              "      <td>NaN</td>\n",
              "      <td>7.830710</td>\n",
              "      <td>NaN</td>\n",
              "      <td>NaN</td>\n",
              "      <td>8.207031</td>\n",
              "      <td>NaN</td>\n",
              "      <td>NaN</td>\n",
              "      <td>9.875999</td>\n",
              "      <td>NaN</td>\n",
              "      <td>39.583333</td>\n",
              "      <td>NaN</td>\n",
              "    </tr>\n",
              "    <tr>\n",
              "      <th>5</th>\n",
              "      <td>NaN</td>\n",
              "      <td>NaN</td>\n",
              "      <td>10.642797</td>\n",
              "      <td>NaN</td>\n",
              "      <td>16.300000</td>\n",
              "      <td>NaN</td>\n",
              "      <td>NaN</td>\n",
              "      <td>35.000000</td>\n",
              "      <td>NaN</td>\n",
              "      <td>NaN</td>\n",
              "      <td>NaN</td>\n",
              "      <td>NaN</td>\n",
              "    </tr>\n",
              "    <tr>\n",
              "      <th>6</th>\n",
              "      <td>NaN</td>\n",
              "      <td>NaN</td>\n",
              "      <td>NaN</td>\n",
              "      <td>NaN</td>\n",
              "      <td>NaN</td>\n",
              "      <td>NaN</td>\n",
              "      <td>NaN</td>\n",
              "      <td>NaN</td>\n",
              "      <td>NaN</td>\n",
              "      <td>NaN</td>\n",
              "      <td>NaN</td>\n",
              "      <td>NaN</td>\n",
              "    </tr>\n",
              "  </tbody>\n",
              "</table>\n",
              "</div>"
            ],
            "text/plain": [
              "       variance                                                                \\\n",
              "mois         00        01         02        03         04        05        06   \n",
              "année                                                                           \n",
              "1      0.244115  0.699845   0.292238  0.066414   0.108775  0.003906  0.503693   \n",
              "2      1.011515  1.422982   1.485587  2.199820   2.290382  3.078211  3.816425   \n",
              "3      4.519848       NaN   7.103613       NaN        NaN  6.372214       NaN   \n",
              "4      8.695632       NaN   7.830710       NaN        NaN  8.207031       NaN   \n",
              "5           NaN       NaN  10.642797       NaN  16.300000       NaN       NaN   \n",
              "6           NaN       NaN        NaN       NaN        NaN       NaN       NaN   \n",
              "\n",
              "                                                            \n",
              "mois          07        08         09         10        11  \n",
              "année                                                       \n",
              "1       0.241657  0.627051   0.401370   0.396506  0.864289  \n",
              "2       4.057050  2.830243   5.329963        NaN  6.086917  \n",
              "3       7.146704       NaN  12.946846        NaN       NaN  \n",
              "4            NaN  9.875999        NaN  39.583333       NaN  \n",
              "5      35.000000       NaN        NaN        NaN       NaN  \n",
              "6            NaN       NaN        NaN        NaN       NaN  "
            ]
          },
          "metadata": {
            "tags": []
          },
          "execution_count": 40
        }
      ]
    },
    {
      "cell_type": "markdown",
      "metadata": {
        "id": "L_-UMXLk3ueE",
        "colab_type": "text"
      },
      "source": [
        "### Plus grande phrase "
      ]
    },
    {
      "cell_type": "code",
      "metadata": {
        "id": "PRtPZfYF3ueG",
        "colab_type": "code",
        "colab": {},
        "outputId": "ffce213e-3557-4ccf-b231-6b99dc936c50"
      },
      "source": [
        "max_mot_pho_antoine = pho_antoine[{'année','mois','nombre_mot_phonétique'}].groupby(['année','mois']).max()\n",
        "max_mot_pho_antoine = max_mot_pho_antoine.rename(columns={'nombre_mot_phonétique': 'longueur_max'})\n",
        "max_mot_pho_antoine.unstack(level=1)"
      ],
      "execution_count": 0,
      "outputs": [
        {
          "output_type": "execute_result",
          "data": {
            "text/html": [
              "<div>\n",
              "<style scoped>\n",
              "    .dataframe tbody tr th:only-of-type {\n",
              "        vertical-align: middle;\n",
              "    }\n",
              "\n",
              "    .dataframe tbody tr th {\n",
              "        vertical-align: top;\n",
              "    }\n",
              "\n",
              "    .dataframe thead tr th {\n",
              "        text-align: left;\n",
              "    }\n",
              "\n",
              "    .dataframe thead tr:last-of-type th {\n",
              "        text-align: right;\n",
              "    }\n",
              "</style>\n",
              "<table border=\"1\" class=\"dataframe\">\n",
              "  <thead>\n",
              "    <tr>\n",
              "      <th></th>\n",
              "      <th colspan=\"12\" halign=\"left\">longueur_max</th>\n",
              "    </tr>\n",
              "    <tr>\n",
              "      <th>mois</th>\n",
              "      <th>00</th>\n",
              "      <th>01</th>\n",
              "      <th>02</th>\n",
              "      <th>03</th>\n",
              "      <th>04</th>\n",
              "      <th>05</th>\n",
              "      <th>06</th>\n",
              "      <th>07</th>\n",
              "      <th>08</th>\n",
              "      <th>09</th>\n",
              "      <th>10</th>\n",
              "      <th>11</th>\n",
              "    </tr>\n",
              "    <tr>\n",
              "      <th>année</th>\n",
              "      <th></th>\n",
              "      <th></th>\n",
              "      <th></th>\n",
              "      <th></th>\n",
              "      <th></th>\n",
              "      <th></th>\n",
              "      <th></th>\n",
              "      <th></th>\n",
              "      <th></th>\n",
              "      <th></th>\n",
              "      <th></th>\n",
              "      <th></th>\n",
              "    </tr>\n",
              "  </thead>\n",
              "  <tbody>\n",
              "    <tr>\n",
              "      <th>1</th>\n",
              "      <td>5.0</td>\n",
              "      <td>12.0</td>\n",
              "      <td>5.0</td>\n",
              "      <td>3.0</td>\n",
              "      <td>3.0</td>\n",
              "      <td>2.0</td>\n",
              "      <td>6.0</td>\n",
              "      <td>3.0</td>\n",
              "      <td>8.0</td>\n",
              "      <td>8.0</td>\n",
              "      <td>6.0</td>\n",
              "      <td>10.0</td>\n",
              "    </tr>\n",
              "    <tr>\n",
              "      <th>2</th>\n",
              "      <td>14.0</td>\n",
              "      <td>10.0</td>\n",
              "      <td>11.0</td>\n",
              "      <td>13.0</td>\n",
              "      <td>14.0</td>\n",
              "      <td>9.0</td>\n",
              "      <td>15.0</td>\n",
              "      <td>13.0</td>\n",
              "      <td>16.0</td>\n",
              "      <td>20.0</td>\n",
              "      <td>NaN</td>\n",
              "      <td>28.0</td>\n",
              "    </tr>\n",
              "    <tr>\n",
              "      <th>3</th>\n",
              "      <td>12.0</td>\n",
              "      <td>NaN</td>\n",
              "      <td>18.0</td>\n",
              "      <td>NaN</td>\n",
              "      <td>NaN</td>\n",
              "      <td>17.0</td>\n",
              "      <td>NaN</td>\n",
              "      <td>19.0</td>\n",
              "      <td>NaN</td>\n",
              "      <td>27.0</td>\n",
              "      <td>NaN</td>\n",
              "      <td>NaN</td>\n",
              "    </tr>\n",
              "    <tr>\n",
              "      <th>4</th>\n",
              "      <td>24.0</td>\n",
              "      <td>NaN</td>\n",
              "      <td>21.0</td>\n",
              "      <td>NaN</td>\n",
              "      <td>NaN</td>\n",
              "      <td>24.0</td>\n",
              "      <td>NaN</td>\n",
              "      <td>NaN</td>\n",
              "      <td>36.0</td>\n",
              "      <td>NaN</td>\n",
              "      <td>20.0</td>\n",
              "      <td>NaN</td>\n",
              "    </tr>\n",
              "    <tr>\n",
              "      <th>5</th>\n",
              "      <td>NaN</td>\n",
              "      <td>NaN</td>\n",
              "      <td>35.0</td>\n",
              "      <td>NaN</td>\n",
              "      <td>10.0</td>\n",
              "      <td>NaN</td>\n",
              "      <td>NaN</td>\n",
              "      <td>15.0</td>\n",
              "      <td>NaN</td>\n",
              "      <td>NaN</td>\n",
              "      <td>NaN</td>\n",
              "      <td>NaN</td>\n",
              "    </tr>\n",
              "    <tr>\n",
              "      <th>6</th>\n",
              "      <td>NaN</td>\n",
              "      <td>NaN</td>\n",
              "      <td>NaN</td>\n",
              "      <td>5.0</td>\n",
              "      <td>NaN</td>\n",
              "      <td>NaN</td>\n",
              "      <td>NaN</td>\n",
              "      <td>NaN</td>\n",
              "      <td>NaN</td>\n",
              "      <td>NaN</td>\n",
              "      <td>NaN</td>\n",
              "      <td>NaN</td>\n",
              "    </tr>\n",
              "  </tbody>\n",
              "</table>\n",
              "</div>"
            ],
            "text/plain": [
              "      longueur_max                                                        \\\n",
              "mois            00    01    02    03    04    05    06    07    08    09   \n",
              "année                                                                      \n",
              "1              5.0  12.0   5.0   3.0   3.0   2.0   6.0   3.0   8.0   8.0   \n",
              "2             14.0  10.0  11.0  13.0  14.0   9.0  15.0  13.0  16.0  20.0   \n",
              "3             12.0   NaN  18.0   NaN   NaN  17.0   NaN  19.0   NaN  27.0   \n",
              "4             24.0   NaN  21.0   NaN   NaN  24.0   NaN   NaN  36.0   NaN   \n",
              "5              NaN   NaN  35.0   NaN  10.0   NaN   NaN  15.0   NaN   NaN   \n",
              "6              NaN   NaN   NaN   5.0   NaN   NaN   NaN   NaN   NaN   NaN   \n",
              "\n",
              "                   \n",
              "mois     10    11  \n",
              "année              \n",
              "1       6.0  10.0  \n",
              "2       NaN  28.0  \n",
              "3       NaN   NaN  \n",
              "4      20.0   NaN  \n",
              "5       NaN   NaN  \n",
              "6       NaN   NaN  "
            ]
          },
          "metadata": {
            "tags": []
          },
          "execution_count": 41
        }
      ]
    },
    {
      "cell_type": "code",
      "metadata": {
        "id": "qIdKeyyj3ueM",
        "colab_type": "code",
        "colab": {},
        "outputId": "604e3640-ca91-4010-cb7b-b69cdc37dbf7"
      },
      "source": [
        "max_mot_pho_antoine.plot(kind='bar', \n",
        "                            subplots=True, \n",
        "                            figsize=(20, 20),\n",
        "                            title = 'Longueur de la plus grande par jour : Antoine',\n",
        "                            fontsize = 15,\n",
        "                            use_index = True,\n",
        "                            grid=True)"
      ],
      "execution_count": 0,
      "outputs": [
        {
          "output_type": "execute_result",
          "data": {
            "text/plain": [
              "array([<matplotlib.axes._subplots.AxesSubplot object at 0x000001C61192B710>],\n",
              "      dtype=object)"
            ]
          },
          "metadata": {
            "tags": []
          },
          "execution_count": 34
        },
        {
          "output_type": "display_data",
          "data": {
            "image/png": "[encoded data removed]",
            "text/plain": [
              "<Figure size 1440x1440 with 1 Axes>"
            ]
          },
          "metadata": {
            "tags": [],
            "needs_background": "light"
          }
        }
      ]
    },
    {
      "cell_type": "markdown",
      "metadata": {
        "id": "kXcH5fvK3ueR",
        "colab_type": "text"
      },
      "source": [
        "On voit qu'antoine a s'est exprimer à l'age 1_01_xx avec une phrase comportant un nombre de mot assez grand : "
      ]
    },
    {
      "cell_type": "code",
      "metadata": {
        "id": "Dakwtame3ueS",
        "colab_type": "code",
        "colab": {},
        "outputId": "bffc0e58-cdc6-4db5-f70d-89bf5f651ac8"
      },
      "source": [
        "pho_antoine.loc[pho_antoine['année'] == '1'].loc[pho_antoine.loc[pho_antoine['année'] == '1']['nombre_mot_phonétique'] == 12]\n",
        "#pho_antoine\n",
        "#pho_antoine_annee_1.loc[pho_antoine_annee_1['nombre_mot_phonétique'] == pho_antoine_annee_1['nombre_mot_phonétique'].max()]"
      ],
      "execution_count": 0,
      "outputs": [
        {
          "output_type": "execute_result",
          "data": {
            "text/html": [
              "<div>\n",
              "<style scoped>\n",
              "    .dataframe tbody tr th:only-of-type {\n",
              "        vertical-align: middle;\n",
              "    }\n",
              "\n",
              "    .dataframe tbody tr th {\n",
              "        vertical-align: top;\n",
              "    }\n",
              "\n",
              "    .dataframe thead th {\n",
              "        text-align: right;\n",
              "    }\n",
              "</style>\n",
              "<table border=\"1\" class=\"dataframe\">\n",
              "  <thead>\n",
              "    <tr style=\"text-align: right;\">\n",
              "      <th></th>\n",
              "      <th>enfant</th>\n",
              "      <th>age</th>\n",
              "      <th>type</th>\n",
              "      <th>seconde_debut</th>\n",
              "      <th>seconde_fin</th>\n",
              "      <th>contenu</th>\n",
              "      <th>année</th>\n",
              "      <th>mois</th>\n",
              "      <th>jour</th>\n",
              "      <th>nombre_mot_phonétique</th>\n",
              "    </tr>\n",
              "  </thead>\n",
              "  <tbody>\n",
              "    <tr>\n",
              "      <th>6963</th>\n",
              "      <td>ANTOINE</td>\n",
              "      <td>1_01_24</td>\n",
              "      <td>pho</td>\n",
              "      <td>NaN</td>\n",
              "      <td>NaN</td>\n",
              "      <td>puʁ diʁ mɛʁsi d tɑ̃ zɑ̃ tã i di i di si</td>\n",
              "      <td>1</td>\n",
              "      <td>01</td>\n",
              "      <td>24</td>\n",
              "      <td>12</td>\n",
              "    </tr>\n",
              "  </tbody>\n",
              "</table>\n",
              "</div>"
            ],
            "text/plain": [
              "       enfant      age type  seconde_debut  seconde_fin  \\\n",
              "6963  ANTOINE  1_01_24  pho            NaN          NaN   \n",
              "\n",
              "                                       contenu année mois jour  \\\n",
              "6963  puʁ diʁ mɛʁsi d tɑ̃ zɑ̃ tã i di i di si     1   01   24   \n",
              "\n",
              "      nombre_mot_phonétique  \n",
              "6963                     12  "
            ]
          },
          "metadata": {
            "tags": []
          },
          "execution_count": 29
        }
      ]
    },
    {
      "cell_type": "markdown",
      "metadata": {
        "id": "LoJxLBEo3ueV",
        "colab_type": "text"
      },
      "source": [
        "### Gestion de l'encodage"
      ]
    },
    {
      "cell_type": "code",
      "metadata": {
        "id": "P7DjcKzW3ueV",
        "colab_type": "code",
        "colab": {},
        "outputId": "bcc2448d-e16d-423b-cf40-1acd6e1e66b0"
      },
      "source": [
        "import chardet\n",
        "\n",
        "with open('data_antoine_final.csv', 'rb') as f:\n",
        "    result = chardet.detect(f.read())  # or readline if the file is large\n",
        "\n",
        "result"
      ],
      "execution_count": 0,
      "outputs": [
        {
          "output_type": "execute_result",
          "data": {
            "text/plain": [
              "{'encoding': 'utf-8', 'confidence': 0.99, 'language': ''}"
            ]
          },
          "metadata": {
            "tags": []
          },
          "execution_count": 35
        }
      ]
    },
    {
      "cell_type": "code",
      "metadata": {
        "id": "CMraSj2Q3ueb",
        "colab_type": "code",
        "colab": {}
      },
      "source": [
        "#data_antoine_final = pd.read_csv('data_antoine_final.csv', encoding=result['encoding'])\n",
        "#data_antoine_final"
      ],
      "execution_count": 0,
      "outputs": []
    }
  ]
}