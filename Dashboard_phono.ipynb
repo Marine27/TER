{
 "cells": [
  {
   "cell_type": "code",
   "execution_count": 111,
   "metadata": {
    "extensions": {
     "jupyter_dashboards": {
      "version": 1,
      "views": {
       "grid_default": {},
       "report_default": {
        "hidden": true
       }
      }
     }
    }
   },
   "outputs": [],
   "source": [
    "import pandas as pd  \n",
    "import numpy as np \n",
    "from matplotlib import pyplot as plt   \n",
    "from ipywidgets import interact, interact_manual, interactive, HBox \n",
    "import ipywidgets as widgets\n",
    "import os , sys  \n",
    "import joblib \n",
    "from IPython.core.display import HTML\n",
    "def header1(string):\n",
    "    raw_html = \"<h1>\"+string+\"</h1>\"\n",
    "    return HTML(raw_html)\n",
    "plt.style.use('dark_background')\n",
    "%config IPCompleter.use_jedi = False \n",
    "PATH = '/home/bob/Musique/FUCKYEAH/data/'"
   ]
  },
  {
   "cell_type": "code",
   "execution_count": 2,
   "metadata": {
    "extensions": {
     "jupyter_dashboards": {
      "version": 1,
      "views": {
       "grid_default": {},
       "report_default": {
        "hidden": true
       }
      }
     }
    }
   },
   "outputs": [],
   "source": [
    "IPA = \"a,r,l,e,s,i,ɛ,ə,t,k,p,d,m,ɑ̃,n,u,v,o,y,ɔ̃,ʒ,ɔ,ɛ̃,f,b,j,w,ɥ,z,ø,ʃ,œ̃,œ,g,ɑ,ɲ,tr,kr,dr,gr\" \n",
    "IPA2= IPA.split(',')\n",
    "Dic={'0':'ɑ̃','1':'ɔ̃','2':'ɛ̃','3':'œ̃','4':'tr','5':'kr','6':'dr','7':'gr'} \n",
    "\n",
    "\n",
    "voyelle= ['a','ɑ','i','u','ɛ','ɔ','œ','ə','0','1','2','3','e','ø','o','y']\n",
    "v_relache =['a','ɑ','ɛ','ɔ','œ']\n",
    "v_tendu =['i','e','ø','o','y','ə','u'] \n",
    "v_nasal=['0','1','2','3']\n",
    "consomnes = ['ʒ','ʃ','ɲ','b','p','m','d','t','k','g','f','v','n','s','z','l','r']\n",
    "semi_co=['j','w','ɥ']\n",
    "\n",
    "Occlusives_bilabiales= ['b','p','m']\n",
    "\n",
    "A_Occlusives= ['d','t','k','g','n','ɲ']\n",
    "\n",
    "Constrictives_précis=['f','v','s','z']\n",
    "\n",
    "Liquides=['l','r']\n",
    "\n",
    "Constrictives_large=['ʒ','ʃ']\n",
    "\n",
    "semicofacile=['j']\n",
    "semicodifficile=['w','ɥ'] \n",
    "opposition_trdr=['4','6'] \n",
    "opposition_krgr=['5','7']\n",
    "groupe_consonatique = ['4','5','6','7'] \n",
    "\n",
    "\n",
    "\n",
    "\n",
    "def ipa_(x): \n",
    "  x=x.replace('ɑ̃','0')\n",
    "  x=x.replace('ɔ̃','1') \n",
    "  x=x.replace('ɛ̃', '2') \n",
    "  x=x.replace('œ̃','3') \n",
    "  x=x.replace('tr','4')\n",
    "  x=x.replace('kr','5')\n",
    "  x=x.replace('dr','6')\n",
    "  x=x.replace('gr','7')\n",
    "  return x "
   ]
  },
  {
   "cell_type": "code",
   "execution_count": 3,
   "metadata": {
    "extensions": {
     "jupyter_dashboards": {
      "version": 1,
      "views": {
       "grid_default": {},
       "report_default": {
        "hidden": true
       }
      }
     }
    }
   },
   "outputs": [
    {
     "name": "stderr",
     "output_type": "stream",
     "text": [
      "/home/bob/anaconda3/lib/python3.7/site-packages/ipykernel_launcher.py:24: SettingWithCopyWarning: \n",
      "A value is trying to be set on a copy of a slice from a DataFrame.\n",
      "Try using .loc[row_indexer,col_indexer] = value instead\n",
      "\n",
      "See the caveats in the documentation: http://pandas.pydata.org/pandas-docs/stable/user_guide/indexing.html#returning-a-view-versus-a-copy\n",
      "/home/bob/anaconda3/lib/python3.7/site-packages/ipykernel_launcher.py:26: FutureWarning: \n",
      "Passing list-likes to .loc or [] with any missing label will raise\n",
      "KeyError in the future, you can use .reindex() as an alternative.\n",
      "\n",
      "See the documentation here:\n",
      "https://pandas.pydata.org/pandas-docs/stable/user_guide/indexing.html#deprecate-loc-reindex-listlike\n",
      "/home/bob/anaconda3/lib/python3.7/site-packages/ipykernel_launcher.py:27: FutureWarning: \n",
      "Passing list-likes to .loc or [] with any missing label will raise\n",
      "KeyError in the future, you can use .reindex() as an alternative.\n",
      "\n",
      "See the documentation here:\n",
      "https://pandas.pydata.org/pandas-docs/stable/user_guide/indexing.html#deprecate-loc-reindex-listlike\n"
     ]
    }
   ],
   "source": [
    "listage = os.listdir(PATH) \n",
    "data_list=[elem for elem in listage if ('data' in elem)] \n",
    "vizu_list=[elem for elem in listage if ('LISTAGE' in elem)] \n",
    "vizu_name=''.join(vizu_list).replace('_LISTAGE.csv',';').split(';')[:-1]  \n",
    "IPA_labelised=ipa_(IPA).split(',')\n",
    "data_viz={}  \n",
    "indexage={}\n",
    "for i in range(len(vizu_list)):  \n",
    "    data=pd.read_csv(PATH+vizu_list[i],sep=',') \n",
    "    toviz = data.groupby('index').sum() \n",
    "    toviz['phoneme']=toviz['phoneme'].apply(lambda x: list(x)) \n",
    "    tograph=toviz \n",
    "    for k in IPA_labelised: \n",
    "        tograph[k]=tograph['phoneme'].apply(lambda x: x.count(k))\n",
    "    tograph_=tograph.drop('phoneme',axis=1)\n",
    "    Y=tograph.drop('phoneme',axis=1).transpose()  \n",
    "    #level1=np.asarray([Y.loc[k].sum(axis=0).values for k in [voyelle,consomnes,semi_co,groupe_consonatique]  ])\n",
    "    #level2=np.asarray([ Y.loc[k].sum(axis=0).values for k in [v_relache,v_tendu,v_nasal,Occlusives_bilabiales,\n",
    "     #                                                        A_Occlusives, Constrictives_précis, \n",
    "      #                                                       Constrictives_large, Liquides, \n",
    "       #                                                      semicofacile,semicodifficile,groupe_consonatique]  ]) \n",
    "    Yn=Y.iloc[1:]\n",
    "    for j in Y.columns:\n",
    "        Yn[j]=Yn[j]/(Yn[j].sum())\n",
    "\n",
    "    level1_=np.asarray([Yn.loc[k].sum(axis=0).values for k in [voyelle,consomnes,semi_co,groupe_consonatique]  ])\n",
    "    level2_=np.asarray([ Yn.loc[k].sum(axis=0).values for k in [v_relache,v_tendu,v_nasal,Occlusives_bilabiales,\n",
    "                                                                 A_Occlusives, Constrictives_précis, \n",
    "                                                                 Constrictives_large, Liquides, \n",
    "                                                                 semicofacile,semicodifficile,groupe_consonatique]  ])   \n",
    "    \n",
    "    indexage[vizu_name[i]]=Yn.columns\n",
    "    data_viz[vizu_name[i]]={'global':level1_,'groupe':level2_}"
   ]
  },
  {
   "cell_type": "code",
   "execution_count": 4,
   "metadata": {
    "extensions": {
     "jupyter_dashboards": {
      "version": 1,
      "views": {
       "grid_default": {},
       "report_default": {
        "hidden": true
       }
      }
     }
    }
   },
   "outputs": [],
   "source": [
    "\n",
    "\n",
    "\n",
    "def stack_plot(hierarchy,size,name,palette,focus,zoom): \n",
    "    palette3=['#7f3b08','#b35806','#e08214','#fdb863','#fee0b6','#f7f7f7','#d8daeb','#b2abd2','#8073ac','#542788','#2d004b']\n",
    "    palette2=['#40004b','#762a83','#9970ab','#c2a5cf','#e7d4e8','#f7f7f7','#d9f0d3','#a6dba0','#5aae61','#1b7837','#00441b']\n",
    "    palette1=['#67001f','#b2182b','#d6604d','#f4a582','#fddbc7','#ffffff','#e0e0e0','#bababa','#878787','#4d4d4d','#1a1a1a']\n",
    "    label={'global':['voyelle','consomnes','semi_consomnes','groupe consonatique'], \n",
    "         'groupe':['v_relache','v_tendu','v_nasal',\n",
    "                   'Occlusives_bilabiales','A_Occlusives',\n",
    "                   'Constrictives_précis','Constrictives_large',\n",
    "                   'Liquides','semicofacile','semicodifficile', \n",
    "                   'groupe consonnatique']} \n",
    "    pal={'palette 1':palette1,'palette 2':palette2,'palette 3':palette3}\n",
    "    plt.rcParams['figure.figsize']=(size*2,size) \n",
    "    \n",
    "    # Your x and y axis \n",
    "    y=data_viz[name][hierarchy]\n",
    "    x=indexage[name]\n",
    "    #x=y.columns\n",
    "    \n",
    "    labeling=label[hierarchy] \n",
    "    \n",
    "\n",
    "    # Basic stacked area chart.\n",
    "  \n",
    "    plt.title('Stackgraph phonème niveau 2')\n",
    "    plt.stackplot(x[focus:focus+zoom],y[:,focus:focus+zoom],\n",
    "                  baseline='zero', \n",
    "                  labels=labeling, \n",
    "                 colors=pal[palette])\n",
    "    plt.legend(loc='upper right')\n",
    "    plt.grid(axis='x')\n",
    "    plt.show()\n"
   ]
  },
  {
   "cell_type": "code",
   "execution_count": 7,
   "metadata": {
    "extensions": {
     "jupyter_dashboards": {
      "version": 1,
      "views": {
       "grid_default": {},
       "report_default": {
        "hidden": false
       }
      }
     }
    }
   },
   "outputs": [],
   "source": [
    "\n",
    "stack=interactive(stack_plot, hierarchy=['groupe','global'],\n",
    "         size=widgets.IntSlider(min=5, max=10, step=1, value=5),\n",
    "         name=vizu_name,\n",
    "         palette=['palette 1','palette 2','palette 3'], \n",
    "         focus=widgets.IntSlider(min=1, max=30, step=1, value=1), \n",
    "         zoom = widgets.IntSlider(min=2, max=30, step=1, value=2) )\n"
   ]
  },
  {
   "cell_type": "code",
   "execution_count": 118,
   "metadata": {
    "extensions": {
     "jupyter_dashboards": {
      "version": 1,
      "views": {
       "grid_default": {},
       "report_default": {
        "hidden": false
       }
      }
     }
    }
   },
   "outputs": [
    {
     "data": {
      "text/html": [
       "<h1>Stackplot Visualisation</h1>"
      ],
      "text/plain": [
       "<IPython.core.display.HTML object>"
      ]
     },
     "metadata": {},
     "output_type": "display_data"
    },
    {
     "data": {
      "application/vnd.jupyter.widget-view+json": {
       "model_id": "488e2dd2fc1b460d986ee45c4905a9ef",
       "version_major": 2,
       "version_minor": 0
      },
      "text/plain": [
       "VBox(children=(Dropdown(description='hierarchy', index=1, options=('groupe', 'global'), value='global'), IntSl…"
      ]
     },
     "metadata": {},
     "output_type": "display_data"
    }
   ],
   "source": [
    "display(header1('Stackplot Visualisation'))\n",
    "display( widgets.VBox(stack.children) ) \n",
    "#grid_stack=widgets.GridBox(stack.children, layout=widgets.Layout(grid_template_columns=\"repeat(2, 300px)\"))\n",
    "#display(grid_stack)\n",
    "#display(stack.out)"
   ]
  },
  {
   "cell_type": "code",
   "execution_count": null,
   "metadata": {
    "extensions": {
     "jupyter_dashboards": {
      "version": 1,
      "views": {
       "grid_default": {},
       "report_default": {
        "hidden": true
       }
      }
     }
    }
   },
   "outputs": [],
   "source": []
  },
  {
   "cell_type": "code",
   "execution_count": null,
   "metadata": {
    "extensions": {
     "jupyter_dashboards": {
      "version": 1,
      "views": {
       "grid_default": {},
       "report_default": {
        "hidden": true
       }
      }
     }
    }
   },
   "outputs": [],
   "source": []
  },
  {
   "cell_type": "code",
   "execution_count": null,
   "metadata": {
    "extensions": {
     "jupyter_dashboards": {
      "version": 1,
      "views": {
       "grid_default": {},
       "report_default": {
        "hidden": true
       }
      }
     }
    }
   },
   "outputs": [],
   "source": []
  },
  {
   "cell_type": "code",
   "execution_count": null,
   "metadata": {
    "extensions": {
     "jupyter_dashboards": {
      "version": 1,
      "views": {
       "grid_default": {},
       "report_default": {
        "hidden": true
       }
      }
     }
    }
   },
   "outputs": [],
   "source": []
  },
  {
   "cell_type": "code",
   "execution_count": null,
   "metadata": {
    "extensions": {
     "jupyter_dashboards": {
      "version": 1,
      "views": {
       "grid_default": {},
       "report_default": {
        "hidden": true
       }
      }
     }
    }
   },
   "outputs": [],
   "source": []
  },
  {
   "cell_type": "code",
   "execution_count": 25,
   "metadata": {
    "extensions": {
     "jupyter_dashboards": {
      "version": 1,
      "views": {
       "grid_default": {},
       "report_default": {
        "hidden": true
       }
      }
     }
    }
   },
   "outputs": [],
   "source": []
  },
  {
   "cell_type": "code",
   "execution_count": 30,
   "metadata": {
    "extensions": {
     "jupyter_dashboards": {
      "version": 1,
      "views": {
       "grid_default": {},
       "report_default": {
        "hidden": true
       }
      }
     }
    }
   },
   "outputs": [
    {
     "data": {
      "text/plain": [
       "['antoine', 'theophile', 'julie', 'anae', 'madeleine', 'adrien']"
      ]
     },
     "execution_count": 30,
     "metadata": {},
     "output_type": "execute_result"
    }
   ],
   "source": []
  },
  {
   "cell_type": "code",
   "execution_count": 81,
   "metadata": {
    "extensions": {
     "jupyter_dashboards": {
      "version": 1,
      "views": {
       "grid_default": {},
       "report_default": {
        "hidden": true
       }
      }
     }
    }
   },
   "outputs": [],
   "source": [
    "Dic_data=joblib.load(PATH+'dic_frame.pkl') \n",
    "name=list(Dic_data.keys()) \n",
    "frame_type=['Phonetic retranscription','Phonetic occurences'] \n",
    "data_frame = None \n",
    "def meta_frame(name,frame_type,zoom): \n",
    "    if frame_type == 'Phonetic retranscription': \n",
    "        data_frame =Dic_data[name][0] \n",
    "    else : \n",
    "        data_frame =Dic_data[name][1] \n",
    "    f_step = zoom\n",
    "    f_min = 1 \n",
    "    f_max= data_frame.shape[0]//zoom \n",
    "    rolling_window = widgets.IntSlider(min=2, max=f_max-1, step=1, value=1)   \n",
    "    def frame(roll): \n",
    "        display(data_frame.iloc[roll*zoom:(roll+1)*zoom])  \n",
    "    frame_int=interactive(frame, roll=rolling_window) \n",
    "    display(frame_int)\n",
    "         "
   ]
  },
  {
   "cell_type": "code",
   "execution_count": 82,
   "metadata": {
    "extensions": {
     "jupyter_dashboards": {
      "version": 1,
      "views": {
       "grid_default": {},
       "report_default": {
        "hidden": true
       }
      }
     }
    }
   },
   "outputs": [],
   "source": [
    "data_frame_show=interactive(meta_frame,name=name,frame_type=frame_type,zoom=widgets.IntSlider(min=1, max=10, step=1, value=1))"
   ]
  },
  {
   "cell_type": "code",
   "execution_count": 117,
   "metadata": {
    "extensions": {
     "jupyter_dashboards": {
      "version": 1,
      "views": {
       "grid_default": {},
       "report_default": {
        "hidden": false
       }
      }
     }
    }
   },
   "outputs": [
    {
     "data": {
      "text/html": [
       "<h1>Données Collaj Nettoyées</h1>"
      ],
      "text/plain": [
       "<IPython.core.display.HTML object>"
      ]
     },
     "metadata": {},
     "output_type": "display_data"
    },
    {
     "data": {
      "application/vnd.jupyter.widget-view+json": {
       "model_id": "7fb918f90d1f43a4b2135c000844669d",
       "version_major": 2,
       "version_minor": 0
      },
      "text/plain": [
       "interactive(children=(Dropdown(description='name', options=('antoine', 'theophile', 'julie', 'anae', 'madelein…"
      ]
     },
     "metadata": {},
     "output_type": "display_data"
    }
   ],
   "source": [
    "display(header1('Données Collaj Nettoyées'))\n",
    "data_frame_show"
   ]
  },
  {
   "cell_type": "code",
   "execution_count": 96,
   "metadata": {
    "extensions": {
     "jupyter_dashboards": {
      "version": 1,
      "views": {
       "grid_default": {},
       "report_default": {
        "hidden": false
       }
      }
     }
    }
   },
   "outputs": [],
   "source": [
    "from IPython.display import Image\n",
    "list_plot_test= os.listdir(PATH +'plot') \n",
    "Dic_plot={}\n",
    "list_plot_item= ''.join(list_plot_test).replace('.png','').replace('damerau_Levenstein_antoine_',';').split(';')[1:]\n",
    "for i in range(len(list_plot_test)): \n",
    "    Dic_plot[list_plot_item[i]]=list_plot_test[i]"
   ]
  },
  {
   "cell_type": "code",
   "execution_count": 106,
   "metadata": {
    "extensions": {
     "jupyter_dashboards": {
      "version": 1,
      "views": {
       "grid_default": {},
       "report_default": {
        "hidden": true
       }
      }
     }
    }
   },
   "outputs": [],
   "source": [
    "def Damerau_plot(name) : \n",
    "    display(Image(PATH+'plot/'+Dic_plot[name]))"
   ]
  },
  {
   "cell_type": "code",
   "execution_count": 108,
   "metadata": {
    "extensions": {
     "jupyter_dashboards": {
      "version": 1,
      "views": {
       "grid_default": {},
       "report_default": {
        "hidden": true
       }
      }
     }
    }
   },
   "outputs": [],
   "source": [
    "Damerau_test=interactive(Damerau_plot,name=Dic_plot.keys())"
   ]
  },
  {
   "cell_type": "code",
   "execution_count": 115,
   "metadata": {
    "extensions": {
     "jupyter_dashboards": {
      "version": 1,
      "views": {
       "grid_default": {},
       "report_default": {
        "hidden": false
       }
      }
     }
    }
   },
   "outputs": [
    {
     "data": {
      "text/html": [
       "<h1>Distance de Damerau-Levenshtein par enfant</h1>"
      ],
      "text/plain": [
       "<IPython.core.display.HTML object>"
      ]
     },
     "metadata": {},
     "output_type": "display_data"
    },
    {
     "data": {
      "application/vnd.jupyter.widget-view+json": {
       "model_id": "bd95179325c24f168a79e3fd78a3524b",
       "version_major": 2,
       "version_minor": 0
      },
      "text/plain": [
       "interactive(children=(Dropdown(description='name', index=17, options=('encore', 'grand', 'Tchoupi', 'pour', 'a…"
      ]
     },
     "metadata": {},
     "output_type": "display_data"
    }
   ],
   "source": [
    "display(header1('Distance de Damerau-Levenshtein par enfant'))\n",
    "Damerau_test"
   ]
  },
  {
   "cell_type": "code",
   "execution_count": 121,
   "metadata": {
    "extensions": {
     "jupyter_dashboards": {
      "version": 1,
      "views": {
       "grid_default": {},
       "report_default": {
        "hidden": true
       }
      }
     }
    }
   },
   "outputs": [
    {
     "data": {
      "text/html": [
       "<div>\n",
       "<style scoped>\n",
       "    .dataframe tbody tr th:only-of-type {\n",
       "        vertical-align: middle;\n",
       "    }\n",
       "\n",
       "    .dataframe tbody tr th {\n",
       "        vertical-align: top;\n",
       "    }\n",
       "\n",
       "    .dataframe thead th {\n",
       "        text-align: right;\n",
       "    }\n",
       "</style>\n",
       "<table border=\"1\" class=\"dataframe\">\n",
       "  <thead>\n",
       "    <tr style=\"text-align: right;\">\n",
       "      <th></th>\n",
       "      <th>vrai valeurs</th>\n",
       "      <th>valeur phono enfant</th>\n",
       "    </tr>\n",
       "  </thead>\n",
       "  <tbody>\n",
       "    <tr>\n",
       "      <td>1_00_24</td>\n",
       "      <td>yy</td>\n",
       "      <td>a</td>\n",
       "    </tr>\n",
       "    <tr>\n",
       "      <td>1_00_24</td>\n",
       "      <td>yy</td>\n",
       "      <td>a</td>\n",
       "    </tr>\n",
       "    <tr>\n",
       "      <td>1_00_24</td>\n",
       "      <td>yyy</td>\n",
       "      <td>ajabə</td>\n",
       "    </tr>\n",
       "    <tr>\n",
       "      <td>1_00_24</td>\n",
       "      <td>yy</td>\n",
       "      <td>abi</td>\n",
       "    </tr>\n",
       "    <tr>\n",
       "      <td>1_00_24</td>\n",
       "      <td>yy</td>\n",
       "      <td>a</td>\n",
       "    </tr>\n",
       "    <tr>\n",
       "      <td>...</td>\n",
       "      <td>...</td>\n",
       "      <td>...</td>\n",
       "    </tr>\n",
       "    <tr>\n",
       "      <td>6_03_08</td>\n",
       "      <td>des</td>\n",
       "      <td>dɛ</td>\n",
       "    </tr>\n",
       "    <tr>\n",
       "      <td>6_03_08</td>\n",
       "      <td>crevettes</td>\n",
       "      <td>kʁəpɛt</td>\n",
       "    </tr>\n",
       "    <tr>\n",
       "      <td>6_03_08</td>\n",
       "      <td>et</td>\n",
       "      <td>e</td>\n",
       "    </tr>\n",
       "    <tr>\n",
       "      <td>6_03_08</td>\n",
       "      <td>des</td>\n",
       "      <td>dɛ</td>\n",
       "    </tr>\n",
       "    <tr>\n",
       "      <td>6_03_08</td>\n",
       "      <td>crabes</td>\n",
       "      <td>kʁab</td>\n",
       "    </tr>\n",
       "  </tbody>\n",
       "</table>\n",
       "<p>33139 rows × 2 columns</p>\n",
       "</div>"
      ],
      "text/plain": [
       "        vrai valeurs valeur phono enfant\n",
       "1_00_24           yy                   a\n",
       "1_00_24           yy                   a\n",
       "1_00_24          yyy               ajabə\n",
       "1_00_24           yy                 abi\n",
       "1_00_24           yy                   a\n",
       "...              ...                 ...\n",
       "6_03_08          des                  dɛ\n",
       "6_03_08    crevettes              kʁəpɛt\n",
       "6_03_08           et                   e\n",
       "6_03_08          des                  dɛ\n",
       "6_03_08       crabes                kʁab\n",
       "\n",
       "[33139 rows x 2 columns]"
      ]
     },
     "execution_count": 121,
     "metadata": {},
     "output_type": "execute_result"
    }
   ],
   "source": [
    "Dic_data['antoine'][0]"
   ]
  },
  {
   "cell_type": "code",
   "execution_count": 112,
   "metadata": {
    "extensions": {
     "jupyter_dashboards": {
      "version": 1,
      "views": {
       "grid_default": {},
       "report_default": {
        "hidden": true
       }
      }
     }
    }
   },
   "outputs": [
    {
     "data": {
      "text/html": [
       "<h1>patate</h1>"
      ],
      "text/plain": [
       "<IPython.core.display.HTML object>"
      ]
     },
     "execution_count": 112,
     "metadata": {},
     "output_type": "execute_result"
    }
   ],
   "source": []
  },
  {
   "cell_type": "code",
   "execution_count": null,
   "metadata": {
    "extensions": {
     "jupyter_dashboards": {
      "version": 1,
      "views": {
       "grid_default": {},
       "report_default": {
        "hidden": true
       }
      }
     }
    }
   },
   "outputs": [],
   "source": []
  }
 ],
 "metadata": {
  "extensions": {
   "jupyter_dashboards": {
    "activeView": "report_default",
    "version": 1,
    "views": {
     "grid_default": {
      "cellMargin": 10,
      "defaultCellHeight": 20,
      "maxColumns": 12,
      "name": "grid",
      "type": "grid"
     },
     "report_default": {
      "name": "report",
      "type": "report"
     }
    }
   }
  },
  "kernelspec": {
   "display_name": "Python 3",
   "language": "python",
   "name": "python3"
  },
  "language_info": {
   "codemirror_mode": {
    "name": "ipython",
    "version": 3
   },
   "file_extension": ".py",
   "mimetype": "text/x-python",
   "name": "python",
   "nbconvert_exporter": "python",
   "pygments_lexer": "ipython3",
   "version": "3.7.4"
  }
 },
 "nbformat": 4,
 "nbformat_minor": 2
}
