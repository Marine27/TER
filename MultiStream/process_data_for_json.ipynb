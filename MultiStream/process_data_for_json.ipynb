{
 "cells": [
  {
   "cell_type": "markdown",
   "metadata": {
    "colab_type": "text",
    "id": "view-in-github"
   },
   "source": [
    "<a href=\"https://colab.research.google.com/github/Petrichoeur/TER/blob/master/MultiStream/process_list_for_json_with_txt_parser.ipynb\" target=\"_parent\"><img src=\"https://colab.research.google.com/assets/colab-badge.svg\" alt=\"Open In Colab\"/></a>"
   ]
  },
  {
   "cell_type": "code",
   "execution_count": 1,
   "metadata": {},
   "outputs": [],
   "source": [
    "import pandas as pd  \n",
    "import numpy as np\n",
    "from time import gmtime, strftime"
   ]
  },
  {
   "cell_type": "markdown",
   "metadata": {},
   "source": [
    "**Remarques:** \n",
    "* Le nom de l'enfant est à modifier à deux endroits.\n",
    "* Il faut remplacer la liste des dates par celle correspondante a l'enfant."
   ]
  },
  {
   "cell_type": "code",
   "execution_count": 2,
   "metadata": {},
   "outputs": [],
   "source": [
    "#Chargement du jeu de donnees\n",
    "data_child = pd.read_csv('/Users/marine/Desktop/Projet_TER/TER/data/data_theophile_final.csv',\n",
    "                           sep = '\\t',\n",
    "                           encoding = 'utf-8',\n",
    "                           index_col = False)\n",
    "\n",
    "# Supression de la colonne qui duplique l'index\n",
    "#data_child = data_child.drop(columns = 'Unnamed: 0') \n",
    "# on a pas besoin car vu qu'apres on prend que deux colonnes cela l'enleve aussi\n",
    "# Mettre dans l'ordre les valeurs (verification car normalement c'est deja le cas)\n",
    "#data_child = data_child.sort_values(by = ['age','seconde_debut'])\n",
    "# Creer un indexage a partir de cet ordre\n",
    "#data_child['ind']=[ i for i in range(len(data_child))]\n",
    "#data_child= data_child.set_index('ind')\n",
    "\n",
    "#data_child.head()"
   ]
  },
  {
   "cell_type": "code",
   "execution_count": 3,
   "metadata": {
    "colab": {},
    "colab_type": "code",
    "id": "7pxrkVp4Zrd3"
   },
   "outputs": [],
   "source": [
    "# Recuperation de la partie phonetique des intervention de l'enfant\n",
    "data_child = data_child.where(data_child['type']=='pho').dropna(subset=['type'])\n",
    "# Conservation des deux colonnes avec des informations pertinantes \n",
    "data_child = data_child[['age','contenu']]\n",
    "\n",
    "#data_child.head()"
   ]
  },
  {
   "cell_type": "code",
   "execution_count": 4,
   "metadata": {},
   "outputs": [
    {
     "data": {
      "text/plain": [
       "array(['1_00_09', '1_01_14', '1_02_10', '1_03_02', '1_04_01', '1_05_05',\n",
       "       '1_06_08', '1_07_01', '1_08_08', '1_09_06', '1_10_00', '1_11_07',\n",
       "       '1_11_25', '2_00_20', '2_02_08', '2_03_01', '2_04_05', '2_04_29',\n",
       "       '2_06_03', '2_07_04', '2_07_28', '2_09_07', '2_10_01', '2_10_28',\n",
       "       '2_11_28', '3_02_00', '3_03_02', '3_04_10', '3_05_11', '3_06_10',\n",
       "       '3_07_08', '3_08_15', '3_10_00', '3_11_15', '4_01_24', '4_03_29',\n",
       "       '4_06_20', '4_09_07', '4_11_11'], dtype=object)"
      ]
     },
     "execution_count": 4,
     "metadata": {},
     "output_type": "execute_result"
    }
   ],
   "source": [
    "data_child.age.unique()"
   ]
  },
  {
   "cell_type": "code",
   "execution_count": 5,
   "metadata": {},
   "outputs": [
    {
     "data": {
      "text/plain": [
       "(39,)"
      ]
     },
     "execution_count": 5,
     "metadata": {},
     "output_type": "execute_result"
    }
   ],
   "source": [
    "data_child.age.unique().shape"
   ]
  },
  {
   "cell_type": "code",
   "execution_count": 6,
   "metadata": {},
   "outputs": [],
   "source": [
    "age = data_child['age']\n",
    "\n",
    "l=[i for i in range(len(age))]\n",
    "k=[age.values]\n",
    "k.append(l)\n",
    "tuples = list(zip(*k))\n",
    "\n",
    "index = pd.MultiIndex.from_tuples(tuples, names=['age', 'index'])\n",
    "data_child.set_index(index,inplace=True)\n",
    "\n",
    "#data_child.head()"
   ]
  },
  {
   "cell_type": "code",
   "execution_count": 7,
   "metadata": {},
   "outputs": [],
   "source": [
    "data_child=data_child[['contenu']]\n",
    "\n",
    "#data_child.head()"
   ]
  },
  {
   "cell_type": "code",
   "execution_count": 8,
   "metadata": {},
   "outputs": [],
   "source": [
    "data_child['contenu']=data_child['contenu'].apply(lambda x: str(x))\n",
    "#data_child.head()"
   ]
  },
  {
   "cell_type": "code",
   "execution_count": 9,
   "metadata": {},
   "outputs": [],
   "source": [
    "mots = {}\n",
    "for i in list(age.values):\n",
    "    # recupere toutes les phrases a la i eme date\n",
    "    phrases = data_child['contenu'].loc[i].values\n",
    "    # creer une variable texte avec toutes les phrases\n",
    "    phrase = ' '.join(phrases)\n",
    "    # sépare en mot\n",
    "    mots[i] = phrase.split()\n",
    "    \n",
    "#se parcourt avec un age en parametre\n",
    "# D[\"1_00_05\"]"
   ]
  },
  {
   "cell_type": "code",
   "execution_count": 10,
   "metadata": {
    "colab": {
     "base_uri": "https://localhost:8080/",
     "height": 141
    },
    "colab_type": "code",
    "id": "Qw8SabcHXi_r",
    "outputId": "df8e9c3f-71ad-4460-d1d3-a41416c1d71f"
   },
   "outputs": [],
   "source": [
    "df = {} \n",
    "age_unique = age.unique()\n",
    "\n",
    "for i in age_unique : \n",
    "    df[i]=pd.DataFrame(mots[i], index= [i for _ in range(len(mots[i]))] , columns=['mot']) \n",
    "\n",
    "df = pd.concat([df[i] for i in age_unique]) \n",
    "\n",
    "#df.head()"
   ]
  },
  {
   "cell_type": "code",
   "execution_count": 11,
   "metadata": {},
   "outputs": [],
   "source": [
    "df['index_age']=df.index \n",
    "forjson=df[['index_age','mot']]\n",
    "\n",
    "# forjson.head()"
   ]
  },
  {
   "cell_type": "code",
   "execution_count": 12,
   "metadata": {},
   "outputs": [],
   "source": [
    "# Creation du dicctionnaire des phonemes \n",
    "IPA = \"a,r,l,e,s,i,ɛ,ə,t,k,p,d,m,ɑ̃,n,u,v,o,y,ɔ̃,ʒ,ɔ,ɛ̃,f,b,j,w,ɥ,z,ø,ʃ,œ̃,œ,g,ɑ,ɲ,tr,kr,dr,gr\" \n",
    "IPA2 = IPA.split(',')\n",
    "Dic = {'0':'ɑ̃','1':'ɔ̃','2':'ɛ̃','3':'œ̃','4':'tr','5':'kr','6':'dr','7':'gr'}\n",
    "IPA_ = []\n",
    "def ipa_(x):\n",
    "  x=x.replace('ʁ','r') \n",
    "  x=x.replace('ɑ̃','0')\n",
    "  x=x.replace('ɔ̃','1') \n",
    "  x=x.replace('ɛ̃', '2') \n",
    "  x=x.replace('œ̃','3') \n",
    "  x=x.replace('tr','4')\n",
    "  x=x.replace('kr','5')\n",
    "  x=x.replace('dr','6')\n",
    "  x=x.replace('gr','7')\n",
    "  return x "
   ]
  },
  {
   "cell_type": "code",
   "execution_count": 13,
   "metadata": {},
   "outputs": [],
   "source": [
    "# Fonction pour diviser le contenu\n",
    "def splitage(x): \n",
    "    l=[]\n",
    "    for y in x: \n",
    "        l.append(y)\n",
    "    return l"
   ]
  },
  {
   "cell_type": "code",
   "execution_count": 14,
   "metadata": {},
   "outputs": [],
   "source": [
    "# Transforme les phonemes composee de deux caracteres en un\n",
    "forjson['mot']=forjson['mot'].apply(lambda x: ipa_(str(x)))\n",
    "# Decoupage des mot en phonemes\n",
    "forjson['mot_ut']=forjson['mot'].apply(lambda x: splitage(str(x))) \n",
    "\n",
    "# forjson.head()"
   ]
  },
  {
   "cell_type": "code",
   "execution_count": 15,
   "metadata": {
    "colab": {},
    "colab_type": "code",
    "id": "7wlqwE1qNCPO"
   },
   "outputs": [],
   "source": [
    "D={}\n",
    "for i in age_unique:\n",
    "    D[i]=forjson[forjson['index_age']== i]\n",
    "\n",
    "\n",
    "name_for_pho={}\n",
    "for i in age_unique: \n",
    "    l=D[i].mot.values\n",
    "    k=list(D[i].mot_ut.values)\n",
    "    name=[] \n",
    "    for p in range(len(k)):\n",
    "        for j in range(len(k[p])):\n",
    "            name.append(l[p])  \n",
    "        name_for_pho[i]=name\n",
    "\n",
    "final={} \n",
    "for i in age_unique:\n",
    "    final[i]=pd.DataFrame([name_for_pho[i],D[i]['mot_ut'].sum()],index=['mot','phoneme']).transpose()"
   ]
  },
  {
   "cell_type": "markdown",
   "metadata": {
    "colab_type": "text",
    "id": "2cgMJDnZkIdB"
   },
   "source": []
  },
  {
   "cell_type": "code",
   "execution_count": 16,
   "metadata": {
    "colab": {},
    "colab_type": "code",
    "id": "P4Nj9OaNPvos"
   },
   "outputs": [],
   "source": [
    "def discrimi(x):\n",
    "    if x not in ipa_(IPA): \n",
    "        return np.nan\n",
    "    else :\n",
    "        return x \n",
    "    \n",
    "for i in final.keys():\n",
    "    final[i]['phoneme'] = final[i]['phoneme'].apply(lambda x: discrimi(x) ) \n",
    "    final[i].dropna(inplace=True)"
   ]
  },
  {
   "cell_type": "code",
   "execution_count": 17,
   "metadata": {},
   "outputs": [],
   "source": [
    "dates = ['09/01/2001',\n",
    "'14/02/2001',\n",
    "'13/03/2001',\n",
    "'04/04/2001',\n",
    "'04/05/2001',\n",
    "'07/06/2001',\n",
    "'11/07/2001',\n",
    "'04/08/2001',\n",
    "'08/09/2001',\n",
    "'07/10/2001',\n",
    "'31/10/2001',\n",
    "'08/12/2001',\n",
    "'26/12/2001',\n",
    "'20/01/2002',\n",
    "'11/03/2002',\n",
    "'03/04/2002',\n",
    "'08/05/2002',\n",
    "'01/06/2002',\n",
    "'06/07/2002',\n",
    "'07/08/2002',\n",
    "'31/08/2002',\n",
    "'09/10/2002',\n",
    "'02/11/2002',\n",
    "'29/11/2002',\n",
    "'30/12/2002',\n",
    "'04/03/2003',\n",
    "'05/04/2003',\n",
    "'14/05/2003',\n",
    "'14/06/2003',\n",
    "'14/07/2003',\n",
    "'12/08/2003',\n",
    "'16/09/2003',\n",
    "'01/11/2003',\n",
    "'17/12/2003',\n",
    "'25/02/2004',\n",
    "'31/03/2004',\n",
    "'01/05/2004',\n",
    "'23/07/2004',\n",
    "'08/10/2004',\n",
    "'12/12/2004',\n",
    "'16/05/2005',\n",
    "'27/10/2005',\n",
    "'01/05/2006'\n",
    "]\n",
    "#dates"
   ]
  },
  {
   "cell_type": "code",
   "execution_count": 18,
   "metadata": {},
   "outputs": [
    {
     "data": {
      "text/plain": [
       "43"
      ]
     },
     "execution_count": 18,
     "metadata": {},
     "output_type": "execute_result"
    }
   ],
   "source": [
    "len(dates)"
   ]
  },
  {
   "cell_type": "code",
   "execution_count": 19,
   "metadata": {},
   "outputs": [],
   "source": [
    "fichier = open(\"TheophileDataJson.txt\", \"a\")\n",
    "itera=0\n",
    "for key,df_val in final.items(): \n",
    "    for i in range(len(df_val)):\n",
    "        to_write=strftime('{\"date_time\": \"'+dates[itera]+' %H:%M:%S\",\"text\": \"'+df_val.mot.iloc[i]+'\",\"value\": \"'+df_val.phoneme.iloc[i]+'\"}, \\n', gmtime(i))\n",
    "        fichier.write(to_write)\n",
    "    itera+=1\n",
    "\n",
    "\n",
    "fichier.close()\n",
    "# itera correspond a la i eme date\n",
    "#key = nom du fichier\n",
    "#df_val = le contenu ; mot et pho\n",
    "#len(df_val) nous renseigne sur le nbr d'itteration par date"
   ]
  },
  {
   "cell_type": "code",
   "execution_count": null,
   "metadata": {},
   "outputs": [],
   "source": []
  }
 ],
 "metadata": {
  "colab": {
   "include_colab_link": true,
   "name": "Untitled3.ipynb",
   "provenance": []
  },
  "kernelspec": {
   "display_name": "Python 3",
   "language": "python",
   "name": "python3"
  },
  "language_info": {
   "codemirror_mode": {
    "name": "ipython",
    "version": 3
   },
   "file_extension": ".py",
   "mimetype": "text/x-python",
   "name": "python",
   "nbconvert_exporter": "python",
   "pygments_lexer": "ipython3",
   "version": "3.7.3"
  }
 },
 "nbformat": 4,
 "nbformat_minor": 1
}
