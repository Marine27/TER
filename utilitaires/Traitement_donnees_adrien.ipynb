{
 "cells": [
  {
   "cell_type": "markdown",
   "metadata": {
    "colab_type": "text",
    "id": "view-in-github"
   },
   "source": [
    "<a href=\"https://colab.research.google.com/github/Petrichoeur/TER/blob/master/utilitaires/Traitement_donnees_adrien.ipynb\" target=\"_parent\"><img src=\"https://colab.research.google.com/assets/colab-badge.svg\" alt=\"Open In Colab\"/></a>"
   ]
  },
  {
   "cell_type": "markdown",
   "metadata": {
    "colab_type": "text",
    "id": "_1HVwNxT1Cs0"
   },
   "source": [
    "# Traitement des données Adrien\n",
    "\n",
    "---"
   ]
  },
  {
   "cell_type": "markdown",
   "metadata": {
    "colab_type": "text",
    "id": "Hj4EiYdu1Cs6"
   },
   "source": [
    "Adrien est né le 28 décembre 2004. Il est fils unique. Sa mère est secrétaire juridique et son père est ingénieur. Adrien est un petit garçon coquin, qui aime faire des blagues, surtout à son chat. \n",
    "\n",
    "Adrien a un développement linguistique typique et adore répéter les nouveaux mots. Naomi Yamaguchi l’a filmé une heure par mois depuis qu’il a 15 mois et arrêté les enregistrements à 4;11,20."
   ]
  },
  {
   "cell_type": "markdown",
   "metadata": {
    "colab_type": "text",
    "id": "RXHRX6JX1Cs-"
   },
   "source": [
    "# Nettoyage "
   ]
  },
  {
   "cell_type": "markdown",
   "metadata": {
    "colab_type": "text",
    "id": "zZpG5iXL1CtA"
   },
   "source": [
    "## Chargement des données"
   ]
  },
  {
   "cell_type": "markdown",
   "metadata": {
    "colab_type": "text",
    "id": "wBq_gfQe1CtC"
   },
   "source": [
    "Récupèrer la liste des noms de fichier pour Julie :\n",
    "* Ces fichiers sont placés dans un repertoire 'data/adrien_texte'\n",
    "* Ils sont issuent d'une extraction sur le site colaje au format chat\n",
    "* Nous les avons converti en format .txt afin de pouvoir les traiter avec python"
   ]
  },
  {
   "cell_type": "code",
   "execution_count": 35,
   "metadata": {
    "colab": {},
    "colab_type": "code",
    "id": "Jdcte4Xe1CtF",
    "outputId": "8b54bdd3-4523-4431-89cd-c432e71c2b31"
   },
   "outputs": [],
   "source": [
    "import os \n",
    "import pandas as pd \n",
    "import warnings\n",
    "warnings.filterwarnings(\"ignore\")\n",
    "import matplotlib.pyplot as plt\n",
    "import chardet\n",
    "#print(os.getcwd())\n",
    "#os.chdir('C:\\\\Users\\\\lamou\\\\Desktop\\\\MIASHS\\\\TER_a\\\\data\\\\adrien_texte')\n",
    "#listing=os.listdir() # On crée une liste de tout les noms des fichiers"
   ]
  },
  {
   "cell_type": "code",
   "execution_count": 3,
   "metadata": {
    "colab": {},
    "colab_type": "code",
    "id": "imRlVsYR1CtO"
   },
   "outputs": [],
   "source": [
    "#listing.sort()\n",
    "#listing"
   ]
  },
  {
   "cell_type": "code",
   "execution_count": 7,
   "metadata": {},
   "outputs": [
    {
     "data": {
      "text/plain": [
       "31"
      ]
     },
     "execution_count": 7,
     "metadata": {},
     "output_type": "execute_result"
    }
   ],
   "source": [
    "len(listing)"
   ]
  },
  {
   "cell_type": "markdown",
   "metadata": {
    "colab_type": "text",
    "id": "1gkydb8Q1CtU"
   },
   "source": [
    "Nous avons 31 fichiers pour Adrien, chacun de ces fichiers corresepondent aux retrancriptions d'un enregistrement vidéo."
   ]
  },
  {
   "cell_type": "markdown",
   "metadata": {
    "colab_type": "text",
    "id": "x-C4wbhY1CtW"
   },
   "source": [
    "\n",
    "## Lecture des données"
   ]
  },
  {
   "cell_type": "markdown",
   "metadata": {
    "colab_type": "text",
    "id": "SqKbJRDT1CtY"
   },
   "source": [
    "* Définir le nom des colonnes selon le fichier final attendu\n",
    "* Lire chaque fichier de la liste \n",
    "* Ajouter les colonnes nom de l'enfant et son age\n",
    "* La colonne age identifie de manière unique l'enregistrement"
   ]
  },
  {
   "cell_type": "code",
   "execution_count": 10,
   "metadata": {
    "colab": {},
    "colab_type": "code",
    "id": "8AhvyJAy1Cta"
   },
   "outputs": [],
   "source": [
    "os.chdir('C:\\\\Users\\\\Lamou\\\\Desktop\\\\MIASHS\\\\TER_a\\\\data\\\\adrien_texte')\n",
    "\n",
    "d = {} # Le dictionnaire contenant les noms des fichiers\n",
    "nom_col = ['type', 'seconde_debut', 'seconde_fin', 'contenu']\n",
    "rows = 0 #Compteur de ligne pour vérifier la perte de données\n",
    "\n",
    "for file in listing: \n",
    "    d[file]=pd.read_csv(file, \n",
    "                        sep = '\\t', \n",
    "                        names = nom_col, \n",
    "                        header = None)  \n",
    "\n",
    "    # On ajoute le nom de l'enfant\n",
    "    nom_pos1 = 0\n",
    "    nom_pos2 = file.find('-')\n",
    "    nom = file[nom_pos1:nom_pos2]\n",
    "    d[file]['enfant'] = nom\n",
    "    \n",
    "    #On ajoute l'age de l'enfant\n",
    "    age_pos1 = file.find('_')-1\n",
    "    age_pos2 = file.find('.')\n",
    "    age = file[age_pos1:age_pos2]\n",
    "    d[file]['age'] = age\n",
    "    \n",
    "    rows += len(d[file])\n",
    "    \n",
    "    \n",
    "# DataFrame contenant toutes les lignes de l'enfant\n",
    "data = pd.concat([d[file] for file in listing], \n",
    "                 sort=False,\n",
    "                 ignore_index=True) "
   ]
  },
  {
   "cell_type": "code",
   "execution_count": 8,
   "metadata": {
    "colab": {},
    "colab_type": "code",
    "id": "trY1NtkV1Ctg",
    "outputId": "47d980e2-11a5-47aa-a580-b439b7ae0e27"
   },
   "outputs": [],
   "source": [
    "#data.shape"
   ]
  },
  {
   "cell_type": "markdown",
   "metadata": {
    "colab_type": "text",
    "id": "f6mtjXHA1Ctk"
   },
   "source": [
    "## Vérification de la perte de données"
   ]
  },
  {
   "cell_type": "markdown",
   "metadata": {
    "colab_type": "text",
    "id": "qpng94Ka1Ctm"
   },
   "source": [
    "On vérifie qu'il y a autant de ligne lu (variable rows) que de ligne écritent (len(data))"
   ]
  },
  {
   "cell_type": "code",
   "execution_count": 0,
   "metadata": {
    "colab": {},
    "colab_type": "code",
    "id": "t0YMybbV1Ctn",
    "outputId": "0dd7e821-12b2-469a-dd9f-bfc699d70ee5"
   },
   "outputs": [
    {
     "name": "stdout",
     "output_type": "stream",
     "text": [
      "True\n"
     ]
    }
   ],
   "source": [
    "print(rows == len(data))"
   ]
  },
  {
   "cell_type": "markdown",
   "metadata": {
    "colab_type": "text",
    "id": "qClU_Mbh1Ctu"
   },
   "source": [
    "## Ordre des colonnes"
   ]
  },
  {
   "cell_type": "code",
   "execution_count": 11,
   "metadata": {
    "colab": {},
    "colab_type": "code",
    "id": "XPwUX1dM1Ctw",
    "outputId": "0b483871-78c2-4d73-e1d9-877ab70bd563"
   },
   "outputs": [
    {
     "data": {
      "text/html": [
       "<div>\n",
       "<style scoped>\n",
       "    .dataframe tbody tr th:only-of-type {\n",
       "        vertical-align: middle;\n",
       "    }\n",
       "\n",
       "    .dataframe tbody tr th {\n",
       "        vertical-align: top;\n",
       "    }\n",
       "\n",
       "    .dataframe thead th {\n",
       "        text-align: right;\n",
       "    }\n",
       "</style>\n",
       "<table border=\"1\" class=\"dataframe\">\n",
       "  <thead>\n",
       "    <tr style=\"text-align: right;\">\n",
       "      <th></th>\n",
       "      <th>enfant</th>\n",
       "      <th>age</th>\n",
       "      <th>type</th>\n",
       "      <th>seconde_debut</th>\n",
       "      <th>seconde_fin</th>\n",
       "      <th>contenu</th>\n",
       "    </tr>\n",
       "  </thead>\n",
       "  <tbody>\n",
       "    <tr>\n",
       "      <th>0</th>\n",
       "      <td>ADRIEN</td>\n",
       "      <td>1_03_09</td>\n",
       "      <td>+div+</td>\n",
       "      <td>0.0</td>\n",
       "      <td>1096.0</td>\n",
       "      <td>div |</td>\n",
       "    </tr>\n",
       "    <tr>\n",
       "      <th>1</th>\n",
       "      <td>ADRIEN</td>\n",
       "      <td>1_03_09</td>\n",
       "      <td>+div+</td>\n",
       "      <td>0.0</td>\n",
       "      <td>362.0</td>\n",
       "      <td>div |</td>\n",
       "    </tr>\n",
       "    <tr>\n",
       "      <th>2</th>\n",
       "      <td>ADRIEN</td>\n",
       "      <td>1_03_09</td>\n",
       "      <td>FAT</td>\n",
       "      <td>0.0</td>\n",
       "      <td>6.0</td>\n",
       "      <td>hop , merde .</td>\n",
       "    </tr>\n",
       "    <tr>\n",
       "      <th>3</th>\n",
       "      <td>ADRIEN</td>\n",
       "      <td>1_03_09</td>\n",
       "      <td>xgestes</td>\n",
       "      <td>NaN</td>\n",
       "      <td>NaN</td>\n",
       "      <td>Em prend le pommeau de douche</td>\n",
       "    </tr>\n",
       "    <tr>\n",
       "      <th>4</th>\n",
       "      <td>ADRIEN</td>\n",
       "      <td>1_03_09</td>\n",
       "      <td>sit</td>\n",
       "      <td>NaN</td>\n",
       "      <td>NaN</td>\n",
       "      <td>A est dans son bain.</td>\n",
       "    </tr>\n",
       "  </tbody>\n",
       "</table>\n",
       "</div>"
      ],
      "text/plain": [
       "   enfant      age     type  seconde_debut  seconde_fin  \\\n",
       "0  ADRIEN  1_03_09    +div+            0.0       1096.0   \n",
       "1  ADRIEN  1_03_09    +div+            0.0        362.0   \n",
       "2  ADRIEN  1_03_09      FAT            0.0          6.0   \n",
       "3  ADRIEN  1_03_09  xgestes            NaN          NaN   \n",
       "4  ADRIEN  1_03_09      sit            NaN          NaN   \n",
       "\n",
       "                         contenu  \n",
       "0                          div |  \n",
       "1                          div |  \n",
       "2                  hop , merde .  \n",
       "3  Em prend le pommeau de douche  \n",
       "4           A est dans son bain.  "
      ]
     },
     "execution_count": 11,
     "metadata": {},
     "output_type": "execute_result"
    }
   ],
   "source": [
    "data=data[['enfant', 'age','type', 'seconde_debut', 'seconde_fin', 'contenu']]\n",
    "data.head()"
   ]
  },
  {
   "cell_type": "markdown",
   "metadata": {
    "colab_type": "text",
    "id": "XmOBZumn1Ct1"
   },
   "source": [
    "## Création du fichier final format csv"
   ]
  },
  {
   "cell_type": "code",
   "execution_count": 0,
   "metadata": {
    "colab": {},
    "colab_type": "code",
    "id": "GbaUPsH-1Ct2"
   },
   "outputs": [],
   "source": [
    "# Création du fichier enfant\n",
    "os.chdir('C:\\\\Users\\\\Lamou\\\\Desktop\\\\MIASHS\\\\TER_a\\\\data')\n",
    "data.to_csv('data_adrien_final.csv',\n",
    "           encoding = 'utf-8',\n",
    "           sep = '\\t',\n",
    "           header = True)"
   ]
  },
  {
   "cell_type": "markdown",
   "metadata": {
    "colab_type": "text",
    "id": "dKSZcbAL1Ct8"
   },
   "source": [
    "On peut maintenant utiliser le fichier 'data_adrien_final.csv' pour l'exploration de données."
   ]
  },
  {
   "cell_type": "markdown",
   "metadata": {
    "colab_type": "text",
    "id": "amlv-QBe1Ct-"
   },
   "source": [
    "## Lecture fichier final"
   ]
  },
  {
   "cell_type": "code",
   "execution_count": 2,
   "metadata": {
    "colab": {},
    "colab_type": "code",
    "id": "KYPgUcdN1Ct_"
   },
   "outputs": [],
   "source": [
    "data_child = pd.read_csv('..\\data\\data_adrien_final.csv',\n",
    "                           sep = '\\t',\n",
    "                           encoding = 'utf-8',\n",
    "                           index_col=False)\n",
    "\n",
    "# On supprime la colonne qui duplique les index\n",
    "data_child = data_child.drop(columns = 'Unnamed: 0')"
   ]
  },
  {
   "cell_type": "code",
   "execution_count": 3,
   "metadata": {
    "colab": {},
    "colab_type": "code",
    "id": "TOesoOru1CuD",
    "outputId": "12d9211e-baa7-4075-aae5-ebbf54aaa2b4"
   },
   "outputs": [
    {
     "data": {
      "text/plain": [
       "(74154, 6)"
      ]
     },
     "execution_count": 3,
     "metadata": {},
     "output_type": "execute_result"
    }
   ],
   "source": [
    "data_child.shape"
   ]
  },
  {
   "cell_type": "markdown",
   "metadata": {
    "colab_type": "text",
    "id": "QJ_rAtJw1CuI"
   },
   "source": [
    "# Exploration des données\n",
    "\n",
    "---"
   ]
  },
  {
   "cell_type": "markdown",
   "metadata": {
    "colab_type": "text",
    "id": "5sUMR1nx1CuI"
   },
   "source": [
    "Qu'elles sont les différents type de ligne ?"
   ]
  },
  {
   "cell_type": "code",
   "execution_count": 8,
   "metadata": {
    "colab": {},
    "colab_type": "code",
    "id": "ZBZrS3G01CuJ",
    "outputId": "9efede71-feef-4dd5-b482-101713140d7d"
   },
   "outputs": [
    {
     "name": "stdout",
     "output_type": "stream",
     "text": [
      "16\n"
     ]
    }
   ],
   "source": [
    "print(len(data_child['type'].unique()))"
   ]
  },
  {
   "cell_type": "markdown",
   "metadata": {
    "colab_type": "text",
    "id": "k4VFgD0E1CuP"
   },
   "source": [
    "Il existe 16 types de ligne dans les fichiers Andrien :"
   ]
  },
  {
   "cell_type": "code",
   "execution_count": 9,
   "metadata": {
    "colab": {},
    "colab_type": "code",
    "id": "sXGaxml_1CuQ",
    "outputId": "d46424e7-ba2a-4b57-8929-e05ed97ebc7d"
   },
   "outputs": [
    {
     "name": "stdout",
     "output_type": "stream",
     "text": [
      "['+div+' 'FAT' 'xgestes' 'sit' 'OBS' 'CHI' 'pho' 'mod' 'com' '-div-' 'MOT'\n",
      " 'xindpho' 'CTK' 'EMI' 'AKE' 'CLA']\n"
     ]
    }
   ],
   "source": [
    "print(data_child['type'].unique())"
   ]
  },
  {
   "cell_type": "markdown",
   "metadata": {
    "colab_type": "text",
    "id": "2rxgFXNx1CuV"
   },
   "source": [
    "## Les phonèmes"
   ]
  },
  {
   "cell_type": "markdown",
   "metadata": {
    "colab_type": "text",
    "id": "9ht6oGam1CuW"
   },
   "source": [
    "Les lignes de type 'pho' correspondent à la traduction phonétique lorsque d'Adrien s'exprime :\n",
    "* Nous avons à disposition 17498 transcriptions phonétique pour Adrien \n",
    "* On distingue les premiers mots d'Adrien à l'âge de un an 3 mois et 9 jours\n",
    "* Les traductions s'arrêtent à l'age de 4 ans 3 mois et 26 jours"
   ]
  },
  {
   "cell_type": "code",
   "execution_count": 14,
   "metadata": {
    "colab": {},
    "colab_type": "code",
    "id": "k0YjLy3J1CuX"
   },
   "outputs": [
    {
     "data": {
      "text/html": [
       "<div>\n",
       "<style scoped>\n",
       "    .dataframe tbody tr th:only-of-type {\n",
       "        vertical-align: middle;\n",
       "    }\n",
       "\n",
       "    .dataframe tbody tr th {\n",
       "        vertical-align: top;\n",
       "    }\n",
       "\n",
       "    .dataframe thead th {\n",
       "        text-align: right;\n",
       "    }\n",
       "</style>\n",
       "<table border=\"1\" class=\"dataframe\">\n",
       "  <thead>\n",
       "    <tr style=\"text-align: right;\">\n",
       "      <th></th>\n",
       "      <th>enfant</th>\n",
       "      <th>age</th>\n",
       "      <th>type</th>\n",
       "      <th>seconde_debut</th>\n",
       "      <th>seconde_fin</th>\n",
       "      <th>contenu</th>\n",
       "    </tr>\n",
       "  </thead>\n",
       "  <tbody>\n",
       "    <tr>\n",
       "      <th>56</th>\n",
       "      <td>ADRIEN</td>\n",
       "      <td>1_03_09</td>\n",
       "      <td>pho</td>\n",
       "      <td>NaN</td>\n",
       "      <td>NaN</td>\n",
       "      <td>aːːːβaβa</td>\n",
       "    </tr>\n",
       "    <tr>\n",
       "      <th>89</th>\n",
       "      <td>ADRIEN</td>\n",
       "      <td>1_03_09</td>\n",
       "      <td>pho</td>\n",
       "      <td>NaN</td>\n",
       "      <td>NaN</td>\n",
       "      <td>aʋa</td>\n",
       "    </tr>\n",
       "    <tr>\n",
       "      <th>93</th>\n",
       "      <td>ADRIEN</td>\n",
       "      <td>1_03_09</td>\n",
       "      <td>pho</td>\n",
       "      <td>NaN</td>\n",
       "      <td>NaN</td>\n",
       "      <td>ma</td>\n",
       "    </tr>\n",
       "    <tr>\n",
       "      <th>111</th>\n",
       "      <td>ADRIEN</td>\n",
       "      <td>1_03_09</td>\n",
       "      <td>pho</td>\n",
       "      <td>NaN</td>\n",
       "      <td>NaN</td>\n",
       "      <td>mmm</td>\n",
       "    </tr>\n",
       "    <tr>\n",
       "      <th>118</th>\n",
       "      <td>ADRIEN</td>\n",
       "      <td>1_03_09</td>\n",
       "      <td>pho</td>\n",
       "      <td>NaN</td>\n",
       "      <td>NaN</td>\n",
       "      <td>mmmmmm</td>\n",
       "    </tr>\n",
       "    <tr>\n",
       "      <th>124</th>\n",
       "      <td>ADRIEN</td>\n",
       "      <td>1_03_09</td>\n",
       "      <td>pho</td>\n",
       "      <td>NaN</td>\n",
       "      <td>NaN</td>\n",
       "      <td>bwoː</td>\n",
       "    </tr>\n",
       "    <tr>\n",
       "      <th>129</th>\n",
       "      <td>ADRIEN</td>\n",
       "      <td>1_03_09</td>\n",
       "      <td>pho</td>\n",
       "      <td>NaN</td>\n",
       "      <td>NaN</td>\n",
       "      <td>bwoːwoː</td>\n",
       "    </tr>\n",
       "    <tr>\n",
       "      <th>132</th>\n",
       "      <td>ADRIEN</td>\n",
       "      <td>1_03_09</td>\n",
       "      <td>pho</td>\n",
       "      <td>NaN</td>\n",
       "      <td>NaN</td>\n",
       "      <td>mmmm</td>\n",
       "    </tr>\n",
       "    <tr>\n",
       "      <th>145</th>\n",
       "      <td>ADRIEN</td>\n",
       "      <td>1_03_09</td>\n",
       "      <td>pho</td>\n",
       "      <td>NaN</td>\n",
       "      <td>NaN</td>\n",
       "      <td>bwoːː</td>\n",
       "    </tr>\n",
       "    <tr>\n",
       "      <th>151</th>\n",
       "      <td>ADRIEN</td>\n",
       "      <td>1_03_09</td>\n",
       "      <td>pho</td>\n",
       "      <td>NaN</td>\n",
       "      <td>NaN</td>\n",
       "      <td>gwoːːː</td>\n",
       "    </tr>\n",
       "  </tbody>\n",
       "</table>\n",
       "</div>"
      ],
      "text/plain": [
       "     enfant      age type  seconde_debut  seconde_fin   contenu\n",
       "56   ADRIEN  1_03_09  pho            NaN          NaN  aːːːβaβa\n",
       "89   ADRIEN  1_03_09  pho            NaN          NaN       aʋa\n",
       "93   ADRIEN  1_03_09  pho            NaN          NaN        ma\n",
       "111  ADRIEN  1_03_09  pho            NaN          NaN       mmm\n",
       "118  ADRIEN  1_03_09  pho            NaN          NaN    mmmmmm\n",
       "124  ADRIEN  1_03_09  pho            NaN          NaN      bwoː\n",
       "129  ADRIEN  1_03_09  pho            NaN          NaN   bwoːwoː\n",
       "132  ADRIEN  1_03_09  pho            NaN          NaN      mmmm\n",
       "145  ADRIEN  1_03_09  pho            NaN          NaN     bwoːː\n",
       "151  ADRIEN  1_03_09  pho            NaN          NaN    gwoːːː"
      ]
     },
     "execution_count": 14,
     "metadata": {},
     "output_type": "execute_result"
    }
   ],
   "source": [
    "pho_child = data_child[data_child['type'] == 'pho']\n",
    "pho_child.head(10)"
   ]
  },
  {
   "cell_type": "markdown",
   "metadata": {
    "colab_type": "text",
    "id": "Op3kscuH1Cub"
   },
   "source": [
    "### Valeurs NaN\n",
    "\n",
    "Il n'existe pas de valeur NaN dans la colonne contenu"
   ]
  },
  {
   "cell_type": "code",
   "execution_count": 5,
   "metadata": {
    "colab": {},
    "colab_type": "code",
    "id": "0qIaT61C1Cud",
    "outputId": "9671d7f0-e1dd-463b-ed3a-76abbf32494b"
   },
   "outputs": [
    {
     "data": {
      "text/html": [
       "<div>\n",
       "<style scoped>\n",
       "    .dataframe tbody tr th:only-of-type {\n",
       "        vertical-align: middle;\n",
       "    }\n",
       "\n",
       "    .dataframe tbody tr th {\n",
       "        vertical-align: top;\n",
       "    }\n",
       "\n",
       "    .dataframe thead th {\n",
       "        text-align: right;\n",
       "    }\n",
       "</style>\n",
       "<table border=\"1\" class=\"dataframe\">\n",
       "  <thead>\n",
       "    <tr style=\"text-align: right;\">\n",
       "      <th></th>\n",
       "      <th>enfant</th>\n",
       "      <th>age</th>\n",
       "      <th>type</th>\n",
       "      <th>seconde_debut</th>\n",
       "      <th>seconde_fin</th>\n",
       "      <th>contenu</th>\n",
       "    </tr>\n",
       "  </thead>\n",
       "  <tbody>\n",
       "  </tbody>\n",
       "</table>\n",
       "</div>"
      ],
      "text/plain": [
       "Empty DataFrame\n",
       "Columns: [enfant, age, type, seconde_debut, seconde_fin, contenu]\n",
       "Index: []"
      ]
     },
     "execution_count": 5,
     "metadata": {},
     "output_type": "execute_result"
    }
   ],
   "source": [
    "pho_child.loc[pho_child['contenu'].isna()]"
   ]
  },
  {
   "cell_type": "markdown",
   "metadata": {
    "colab_type": "text",
    "id": "-V8G2EXd1Cuh"
   },
   "source": [
    "Nous allons chercher à visualiser la quantité phonétique de données à disposition"
   ]
  },
  {
   "cell_type": "markdown",
   "metadata": {
    "colab_type": "text",
    "id": "g8eqouVn1Cuj"
   },
   "source": [
    "## Visualisation des données phonétiques"
   ]
  },
  {
   "cell_type": "markdown",
   "metadata": {
    "colab_type": "text",
    "id": "4ghACGfg1Cul"
   },
   "source": [
    "### Ajout des colonnes 'année', 'mois' et 'jour'"
   ]
  },
  {
   "cell_type": "markdown",
   "metadata": {
    "colab_type": "text",
    "id": "y_DEvVhK1Cul"
   },
   "source": [
    "On considère que la colonne age a pout format : x_xx_xx (année_mois_jour) ainsi :\n",
    "* ``pho_child['age'][0:1]`` nous donne le nombre d'année\n",
    "* ``pho_child['age'][2:4]`` nous donne le nombre de mois\n",
    "* ``pho_child['age'][5:7]`` nous donne le nombre de jours"
   ]
  },
  {
   "cell_type": "code",
   "execution_count": 17,
   "metadata": {
    "colab": {},
    "colab_type": "code",
    "id": "hF_Z1rbo1Cun",
    "outputId": "45fb41cd-86c9-41f1-cfbd-c00b246fbd65"
   },
   "outputs": [],
   "source": [
    "# Ajout du nombre d'année\n",
    "année_pho_child = pho_child.apply(lambda row: row['age'][0:1], axis=1)\n",
    "pho_child['année'] = année_pho_child\n",
    "\n",
    "# Ajout du nombre de mois\n",
    "mois_pho_child = pho_child.apply(lambda row: row['age'][2:4], axis=1)\n",
    "pho_child['mois'] = mois_pho_child\n",
    "\n",
    "# Ajout du nombre de jour\n",
    "jour_pho_child = pho_child.apply(lambda row: row['age'][5:7], axis=1)\n",
    "pho_child['jour'] = jour_pho_child"
   ]
  },
  {
   "cell_type": "code",
   "execution_count": 0,
   "metadata": {
    "colab": {},
    "colab_type": "code",
    "id": "yz6htutn1Cur"
   },
   "outputs": [],
   "source": [
    "#pho_child"
   ]
  },
  {
   "cell_type": "markdown",
   "metadata": {
    "colab_type": "text",
    "id": "fA6_whpE1Cuv"
   },
   "source": [
    "## Quantité de données"
   ]
  },
  {
   "cell_type": "markdown",
   "metadata": {
    "colab_type": "text",
    "id": "dbU-oBHG1Cux"
   },
   "source": [
    "Combien avons-nous de ligne pour chaque année ? mois ? jour ?"
   ]
  },
  {
   "cell_type": "markdown",
   "metadata": {
    "colab_type": "text",
    "id": "zM4Skgy41Cux"
   },
   "source": [
    "### Quantité de données par année"
   ]
  },
  {
   "cell_type": "code",
   "execution_count": 21,
   "metadata": {
    "colab": {},
    "colab_type": "code",
    "collapsed": true,
    "id": "qYWjqpF-1Cuy",
    "outputId": "71f69e51-55aa-4e92-97dc-5d4c3fd18e83"
   },
   "outputs": [
    {
     "data": {
      "text/html": [
       "<div>\n",
       "<style scoped>\n",
       "    .dataframe tbody tr th:only-of-type {\n",
       "        vertical-align: middle;\n",
       "    }\n",
       "\n",
       "    .dataframe tbody tr th {\n",
       "        vertical-align: top;\n",
       "    }\n",
       "\n",
       "    .dataframe thead th {\n",
       "        text-align: right;\n",
       "    }\n",
       "</style>\n",
       "<table border=\"1\" class=\"dataframe\">\n",
       "  <thead>\n",
       "    <tr style=\"text-align: right;\">\n",
       "      <th></th>\n",
       "      <th>nb_phrase</th>\n",
       "    </tr>\n",
       "    <tr>\n",
       "      <th>année</th>\n",
       "      <th></th>\n",
       "    </tr>\n",
       "  </thead>\n",
       "  <tbody>\n",
       "    <tr>\n",
       "      <th>1</th>\n",
       "      <td>230</td>\n",
       "    </tr>\n",
       "    <tr>\n",
       "      <th>2</th>\n",
       "      <td>10705</td>\n",
       "    </tr>\n",
       "    <tr>\n",
       "      <th>3</th>\n",
       "      <td>4360</td>\n",
       "    </tr>\n",
       "    <tr>\n",
       "      <th>4</th>\n",
       "      <td>2203</td>\n",
       "    </tr>\n",
       "  </tbody>\n",
       "</table>\n",
       "</div>"
      ],
      "text/plain": [
       "       nb_phrase\n",
       "année           \n",
       "1            230\n",
       "2          10705\n",
       "3           4360\n",
       "4           2203"
      ]
     },
     "execution_count": 21,
     "metadata": {},
     "output_type": "execute_result"
    }
   ],
   "source": [
    "nb_phrase_annee = pho_child[{'année','contenu'}].groupby('année').count()\n",
    "nb_phrase_annee.rename(columns={'contenu': 'nb_phrase'})"
   ]
  },
  {
   "cell_type": "code",
   "execution_count": 38,
   "metadata": {
    "colab": {},
    "colab_type": "code",
    "id": "mGfLn38W1Cu1",
    "outputId": "2aec8085-b407-4b9a-c72b-fc03b2ae7967"
   },
   "outputs": [
    {
     "data": {
      "image/png": "[encoded data removed]",
      "text/plain": [
       "<Figure size 720x360 with 1 Axes>"
      ]
     },
     "metadata": {
      "needs_background": "light"
     },
     "output_type": "display_data"
    }
   ],
   "source": [
    "plt = nb_phrase_annee.plot(kind='bar', \n",
    "                       subplots=True, \n",
    "                       figsize=(10,5),\n",
    "                       title = 'Nombre de phrases phonétiques retranscritent par année : Adrien',\n",
    "                       fontsize = 15,\n",
    "                       use_index = True)"
   ]
  },
  {
   "cell_type": "markdown",
   "metadata": {
    "colab_type": "text",
    "id": "sPoLJmwm1Cu5"
   },
   "source": [
    "On voit qu'il y a des quantités de données phonétiques différentes pour chaques années :\n",
    "* Nous avons très peu de données pour la première année (230 lignes)\n",
    "* Nous avons beaucoup de données la deuxième année (10705 lignes)\n",
    "* Il y a de moins en moins de données la troisième puis la quatrième année (4360 puis 2203 lignes)"
   ]
  },
  {
   "cell_type": "markdown",
   "metadata": {
    "colab_type": "text",
    "id": "_1t7_5fq1Cu5"
   },
   "source": [
    "### Quantité de données par mois\n",
    "\n",
    "Regardons plus en détail la quantité de données phonétiques par mois :"
   ]
  },
  {
   "cell_type": "code",
   "execution_count": 23,
   "metadata": {
    "colab": {},
    "colab_type": "code",
    "id": "N7V52fJP1Cu6",
    "outputId": "9ff0e33c-644a-42be-d447-1c06a40d57d6"
   },
   "outputs": [
    {
     "data": {
      "text/html": [
       "<div>\n",
       "<style scoped>\n",
       "    .dataframe tbody tr th:only-of-type {\n",
       "        vertical-align: middle;\n",
       "    }\n",
       "\n",
       "    .dataframe tbody tr th {\n",
       "        vertical-align: top;\n",
       "    }\n",
       "\n",
       "    .dataframe thead tr th {\n",
       "        text-align: left;\n",
       "    }\n",
       "\n",
       "    .dataframe thead tr:last-of-type th {\n",
       "        text-align: right;\n",
       "    }\n",
       "</style>\n",
       "<table border=\"1\" class=\"dataframe\">\n",
       "  <thead>\n",
       "    <tr>\n",
       "      <th></th>\n",
       "      <th colspan=\"11\" halign=\"left\">nb_phrase</th>\n",
       "    </tr>\n",
       "    <tr>\n",
       "      <th>mois</th>\n",
       "      <th>00</th>\n",
       "      <th>01</th>\n",
       "      <th>02</th>\n",
       "      <th>03</th>\n",
       "      <th>04</th>\n",
       "      <th>05</th>\n",
       "      <th>07</th>\n",
       "      <th>08</th>\n",
       "      <th>09</th>\n",
       "      <th>10</th>\n",
       "      <th>11</th>\n",
       "    </tr>\n",
       "    <tr>\n",
       "      <th>année</th>\n",
       "      <th></th>\n",
       "      <th></th>\n",
       "      <th></th>\n",
       "      <th></th>\n",
       "      <th></th>\n",
       "      <th></th>\n",
       "      <th></th>\n",
       "      <th></th>\n",
       "      <th></th>\n",
       "      <th></th>\n",
       "      <th></th>\n",
       "    </tr>\n",
       "  </thead>\n",
       "  <tbody>\n",
       "    <tr>\n",
       "      <th>1</th>\n",
       "      <td>NaN</td>\n",
       "      <td>NaN</td>\n",
       "      <td>NaN</td>\n",
       "      <td>46.0</td>\n",
       "      <td>63.0</td>\n",
       "      <td>NaN</td>\n",
       "      <td>NaN</td>\n",
       "      <td>NaN</td>\n",
       "      <td>NaN</td>\n",
       "      <td>NaN</td>\n",
       "      <td>121.0</td>\n",
       "    </tr>\n",
       "    <tr>\n",
       "      <th>2</th>\n",
       "      <td>755.0</td>\n",
       "      <td>975.0</td>\n",
       "      <td>1155.0</td>\n",
       "      <td>1011.0</td>\n",
       "      <td>1010.0</td>\n",
       "      <td>1216.0</td>\n",
       "      <td>871.0</td>\n",
       "      <td>1380.0</td>\n",
       "      <td>716.0</td>\n",
       "      <td>1312.0</td>\n",
       "      <td>304.0</td>\n",
       "    </tr>\n",
       "    <tr>\n",
       "      <th>3</th>\n",
       "      <td>652.0</td>\n",
       "      <td>386.0</td>\n",
       "      <td>511.0</td>\n",
       "      <td>336.0</td>\n",
       "      <td>246.0</td>\n",
       "      <td>379.0</td>\n",
       "      <td>NaN</td>\n",
       "      <td>595.0</td>\n",
       "      <td>421.0</td>\n",
       "      <td>389.0</td>\n",
       "      <td>445.0</td>\n",
       "    </tr>\n",
       "    <tr>\n",
       "      <th>4</th>\n",
       "      <td>628.0</td>\n",
       "      <td>365.0</td>\n",
       "      <td>536.0</td>\n",
       "      <td>674.0</td>\n",
       "      <td>NaN</td>\n",
       "      <td>NaN</td>\n",
       "      <td>NaN</td>\n",
       "      <td>NaN</td>\n",
       "      <td>NaN</td>\n",
       "      <td>NaN</td>\n",
       "      <td>NaN</td>\n",
       "    </tr>\n",
       "  </tbody>\n",
       "</table>\n",
       "</div>"
      ],
      "text/plain": [
       "      nb_phrase                                                               \\\n",
       "mois         00     01      02      03      04      05     07      08     09   \n",
       "année                                                                          \n",
       "1           NaN    NaN     NaN    46.0    63.0     NaN    NaN     NaN    NaN   \n",
       "2         755.0  975.0  1155.0  1011.0  1010.0  1216.0  871.0  1380.0  716.0   \n",
       "3         652.0  386.0   511.0   336.0   246.0   379.0    NaN   595.0  421.0   \n",
       "4         628.0  365.0   536.0   674.0     NaN     NaN    NaN     NaN    NaN   \n",
       "\n",
       "                      \n",
       "mois       10     11  \n",
       "année                 \n",
       "1         NaN  121.0  \n",
       "2      1312.0  304.0  \n",
       "3       389.0  445.0  \n",
       "4         NaN    NaN  "
      ]
     },
     "execution_count": 23,
     "metadata": {},
     "output_type": "execute_result"
    }
   ],
   "source": [
    "nb_phrase_mois = pho_child[{'année','mois','contenu'}].groupby(['année','mois']).count()\n",
    "nb_phrase_mois = nb_phrase_mois.rename(columns={'contenu': 'nb_phrase'})\n",
    "nb_phrase_mois.unstack(level=1)"
   ]
  },
  {
   "cell_type": "markdown",
   "metadata": {
    "colab_type": "text",
    "id": "nN8KrjQY1Cu-"
   },
   "source": [
    "Nous avons que peu de lignes pour les mois :\n",
    "* 1,03,xx\n",
    "* 1,04,xx\n",
    "* 1,11,xx\n",
    "\n",
    "On voit aussi qu'il y a des mois sans données, cela vérifie qu'il y ait moins de données pour les années 0 et 4, en effet les retranscriptions s'arrête à l'age 4,03,xx"
   ]
  },
  {
   "cell_type": "code",
   "execution_count": 25,
   "metadata": {
    "colab": {},
    "colab_type": "code",
    "id": "ajPb4vRH1CvA",
    "outputId": "dafbf986-1501-4903-b6a2-c0627da391f7"
   },
   "outputs": [
    {
     "data": {
      "image/png": "[encoded data removed]",
      "text/plain": [
       "<Figure size 1440x1440 with 4 Axes>"
      ]
     },
     "metadata": {
      "needs_background": "light"
     },
     "output_type": "display_data"
    }
   ],
   "source": [
    "plt = nb_phrase_mois.unstack(level=0).plot(kind='bar', \n",
    "                                     subplots=True, \n",
    "                                     figsize=(20, 20),\n",
    "                                     title = 'Nombre de phrases phonétiques retranscritent par mois : Adrien',\n",
    "                                     fontsize = 15,\n",
    "                                     use_index = True)"
   ]
  },
  {
   "cell_type": "markdown",
   "metadata": {
    "colab_type": "text",
    "id": "ZhFH32Dg1CvF"
   },
   "source": [
    "On voit que les enregistrements d'Adrien s'arretent à l'age de 4 ans et 4 mois."
   ]
  },
  {
   "cell_type": "code",
   "execution_count": 39,
   "metadata": {
    "colab": {},
    "colab_type": "code",
    "id": "SQXO1Gcu1CvG",
    "outputId": "a01de4ef-2043-4387-c017-57c399f5d8c2"
   },
   "outputs": [
    {
     "data": {
      "image/png": "[encoded data removed]",
      "text/plain": [
       "<Figure size 1440x720 with 1 Axes>"
      ]
     },
     "metadata": {
      "needs_background": "light"
     },
     "output_type": "display_data"
    }
   ],
   "source": [
    "plt = nb_phrase_mois.plot(kind='bar',\n",
    "                    subplots=True, \n",
    "                    figsize=(20, 10),\n",
    "                    title = 'Nombre de phrases phonétiques retranscritent par mois : Adrien',\n",
    "                    fontsize = 15,\n",
    "                    use_index = True)"
   ]
  },
  {
   "cell_type": "markdown",
   "metadata": {
    "colab_type": "text",
    "id": "7vLYGlKG1CvI"
   },
   "source": [
    "### Quantité de données par jour\n",
    "\n",
    "Regardons maintenant la quantité de données par jours :"
   ]
  },
  {
   "cell_type": "code",
   "execution_count": 27,
   "metadata": {
    "colab": {},
    "colab_type": "code",
    "id": "jF1A_wL-1CvJ",
    "outputId": "e461444a-b42d-4353-9075-c35e1c66d269"
   },
   "outputs": [],
   "source": [
    "nb_phrase_jour = pho_child[{'année','mois', 'jour', 'contenu'}].groupby(['année','mois', 'jour']).count()\n",
    "nb_phrase_jour = nb_phrase_jour.rename(columns={'contenu': 'nb_phrase'})\n",
    "#nb_phrase_jour"
   ]
  },
  {
   "cell_type": "code",
   "execution_count": 28,
   "metadata": {
    "colab": {},
    "colab_type": "code",
    "id": "-vHmhWBN1CvN",
    "outputId": "134b4642-3927-4f5a-8084-367404778dd3",
    "scrolled": false
   },
   "outputs": [
    {
     "data": {
      "image/png": "[encoded data removed]",
      "text/plain": [
       "<Figure size 1440x720 with 1 Axes>"
      ]
     },
     "metadata": {
      "needs_background": "light"
     },
     "output_type": "display_data"
    }
   ],
   "source": [
    "plt = nb_phrase_jour.plot(kind='bar',\n",
    "                    subplots=True,\n",
    "                    figsize=(20, 10),\n",
    "                    title = 'Nombre de phrases phonétiques retranscritent par jour : Adrien',\n",
    "                    fontsize = 15,\n",
    "                    use_index = True)"
   ]
  },
  {
   "cell_type": "markdown",
   "metadata": {
    "colab_type": "text",
    "id": "YqS-USJb1CvQ"
   },
   "source": [
    "De cette manière la distribution de la quantité de données phonétiques n'est pas continu. En effet nous avons découpé les données de tel sorte à avoir la quantité de données pour chaque enregistrement d'Adrien. On remarque que les valeurs fluctu : il serait interressant d'observer de plus près pour connaitre les raisons de cette fluctuation : \n",
    "\n",
    "* Est-ce du à la durée d'enregistrement ?\n",
    "* Est-ce du à un problème technique ?\n",
    "* Est-ce du à l'enfant ?\n",
    "\n",
    "De plus elle n'est pas distribué de manière équitable dans le temps. <br>\n",
    "On peut difficilement mesurer la croissance du nombre de prise de parole (on pourrait croiser cette donnée avec la durée de l'enregistrement pour une meilleure mesure). <br>"
   ]
  },
  {
   "cell_type": "markdown",
   "metadata": {
    "colab_type": "text",
    "id": "zAIOU88T1CvR"
   },
   "source": [
    "On a maintenant une meilleure vision de la quantité de données phonétiques à disposition et de leur répartition dans le temps pour Adrien."
   ]
  },
  {
   "cell_type": "markdown",
   "metadata": {
    "colab_type": "text",
    "id": "CrsVITUR1CvS"
   },
   "source": [
    "## Nombre de mot\n",
    "Nous allons chercher à explorer le nombre de mot au sens phonétique par phrase. <br>\n",
    "Pour cela on peut compter le nombre d'espace dans la chaîne de caractère :"
   ]
  },
  {
   "cell_type": "code",
   "execution_count": 29,
   "metadata": {
    "colab": {},
    "colab_type": "code",
    "id": "FVED5Z5q1CvV",
    "outputId": "82dbdae3-8af5-497f-cbd3-fecb47b1a7b0"
   },
   "outputs": [
    {
     "name": "stdout",
     "output_type": "stream",
     "text": [
      "Nombre de mot dans \"‹kø kø sa› : 3\n"
     ]
    }
   ],
   "source": [
    "# Exemple \n",
    "pho = pho_child.at[74089, 'contenu']\n",
    "print('Nombre de mot dans \"' + pho + ' : '+ str(pho.count(' ')+1))"
   ]
  },
  {
   "cell_type": "markdown",
   "metadata": {
    "colab_type": "text",
    "id": "z0ky4gvB1CvX"
   },
   "source": [
    "Pour chaque ligne on calcul le nombre de mot phonétique :"
   ]
  },
  {
   "cell_type": "code",
   "execution_count": 30,
   "metadata": {
    "colab": {},
    "colab_type": "code",
    "id": "cGErHqGo1CvY",
    "outputId": "ca37ec66-8356-4fca-d96b-36781018b221"
   },
   "outputs": [],
   "source": [
    "nb_mot_pho = pho_child.apply(lambda row: row['contenu'].count(' ')+1, axis=1)\n",
    "pho_child['nombre_mot_phonétique'] = nb_mot_pho #On ajoute une colonne contenant le nombre de mot"
   ]
  },
  {
   "cell_type": "markdown",
   "metadata": {
    "colab_type": "text",
    "id": "k6hhAGdQ1Cvb"
   },
   "source": [
    "Par exemple on peut avoir la phrase de Julie avec le plus grand nombre de mot :"
   ]
  },
  {
   "cell_type": "code",
   "execution_count": 31,
   "metadata": {
    "colab": {},
    "colab_type": "code",
    "id": "Oc5GwLqy1Cvb",
    "outputId": "9de14328-2e87-4395-eb46-14e9838277b5"
   },
   "outputs": [
    {
     "name": "stdout",
     "output_type": "stream",
     "text": [
      "['‹e œ̃ bu də fɛs la œ̃ bu də fɛs bjɛ̃ dody si si mwa ʒə vø mɑ̃ʒe mwa ʒ vø mɑ̃ʒe œ̃ pti bu la d adʁijɛ̃ ʒ vø mɑ̃ʒe œ̃ pti bu ʁəɡaʁd si si mwa ʒ vø mɑ̃ʒe œ̃ pti bu pas kə ʒ ɛ fɛ̃›']\n",
      "longueur: 49\n"
     ]
    }
   ],
   "source": [
    "a = pho_child.loc[pho_child['nombre_mot_phonétique'] == pho_child['nombre_mot_phonétique'].max()].contenu.values\n",
    "print(a)\n",
    "print('longueur: '+str(str(a).count(' ')+1))"
   ]
  },
  {
   "cell_type": "markdown",
   "metadata": {
    "colab_type": "text",
    "id": "wi0wZ4_y1Cve"
   },
   "source": [
    "Voici la ligne de cette phrase :"
   ]
  },
  {
   "cell_type": "code",
   "execution_count": 32,
   "metadata": {
    "colab": {},
    "colab_type": "code",
    "id": "fL0nN9lV1Cvf",
    "outputId": "bd69d775-ac52-456f-b73c-3ba6ab4fd449"
   },
   "outputs": [
    {
     "data": {
      "text/html": [
       "<div>\n",
       "<style scoped>\n",
       "    .dataframe tbody tr th:only-of-type {\n",
       "        vertical-align: middle;\n",
       "    }\n",
       "\n",
       "    .dataframe tbody tr th {\n",
       "        vertical-align: top;\n",
       "    }\n",
       "\n",
       "    .dataframe thead th {\n",
       "        text-align: right;\n",
       "    }\n",
       "</style>\n",
       "<table border=\"1\" class=\"dataframe\">\n",
       "  <thead>\n",
       "    <tr style=\"text-align: right;\">\n",
       "      <th></th>\n",
       "      <th>enfant</th>\n",
       "      <th>age</th>\n",
       "      <th>type</th>\n",
       "      <th>seconde_debut</th>\n",
       "      <th>seconde_fin</th>\n",
       "      <th>contenu</th>\n",
       "      <th>année</th>\n",
       "      <th>mois</th>\n",
       "      <th>jour</th>\n",
       "      <th>nombre_mot_phonétique</th>\n",
       "    </tr>\n",
       "  </thead>\n",
       "  <tbody>\n",
       "    <tr>\n",
       "      <th>35833</th>\n",
       "      <td>ADRIEN</td>\n",
       "      <td>2_09_13</td>\n",
       "      <td>pho</td>\n",
       "      <td>NaN</td>\n",
       "      <td>NaN</td>\n",
       "      <td>‹e œ̃ bu də fɛs la œ̃ bu də fɛs bjɛ̃ dody si s...</td>\n",
       "      <td>2</td>\n",
       "      <td>09</td>\n",
       "      <td>13</td>\n",
       "      <td>49</td>\n",
       "    </tr>\n",
       "  </tbody>\n",
       "</table>\n",
       "</div>"
      ],
      "text/plain": [
       "       enfant      age type  seconde_debut  seconde_fin  \\\n",
       "35833  ADRIEN  2_09_13  pho            NaN          NaN   \n",
       "\n",
       "                                                 contenu année mois jour  \\\n",
       "35833  ‹e œ̃ bu də fɛs la œ̃ bu də fɛs bjɛ̃ dody si s...     2   09   13   \n",
       "\n",
       "       nombre_mot_phonétique  \n",
       "35833                     49  "
      ]
     },
     "execution_count": 32,
     "metadata": {},
     "output_type": "execute_result"
    }
   ],
   "source": [
    "pho_child.loc[pho_child['nombre_mot_phonétique'] == 49 ]"
   ]
  },
  {
   "cell_type": "markdown",
   "metadata": {
    "colab_type": "text",
    "id": "FjRzmDX21Cvi"
   },
   "source": [
    "### Espérance de mot par phrase"
   ]
  },
  {
   "cell_type": "markdown",
   "metadata": {},
   "source": [
    "Il est intéressant d'observer le nombre de mot moyen que contient les phrases. C'est un indicateur qui peut nous aiguiller sur l'explosion du lexicale de l'enfant. "
   ]
  },
  {
   "cell_type": "code",
   "execution_count": 42,
   "metadata": {
    "colab": {},
    "colab_type": "code",
    "id": "sDg83TwF1Cvj"
   },
   "outputs": [],
   "source": [
    "mean_nb_mot_pho_jour = pho_child[{'année', 'mois', 'jour', 'nombre_mot_phonétique'}].groupby(['année', 'mois', 'jour']).mean()\n",
    "mean_nb_mot_pho_jour = mean_nb_mot_pho_jour.rename(columns={'nombre_mot_phonétique': 'espérance_nombre_de_mot_phonétique'})\n",
    "#mean_nb_mot_pho_jour"
   ]
  },
  {
   "cell_type": "code",
   "execution_count": 44,
   "metadata": {
    "colab": {},
    "colab_type": "code",
    "id": "LOOoczRX1Cvl",
    "outputId": "9e706a1b-967e-4082-eea7-f8f3cddbad55"
   },
   "outputs": [
    {
     "data": {
      "image/png": "[encoded data removed]",
      "text/plain": [
       "<Figure size 1440x936 with 1 Axes>"
      ]
     },
     "metadata": {
      "needs_background": "light"
     },
     "output_type": "display_data"
    }
   ],
   "source": [
    "plt = mean_nb_mot_pho_jour.plot(kind='bar', \n",
    "                            subplots=True, \n",
    "                            figsize=(20, 13),\n",
    "                            title = 'Espérance du nombre de mots phonétiques par jours : Adrien',\n",
    "                            fontsize = 15,\n",
    "                            use_index = True,\n",
    "                            grid=True)"
   ]
  },
  {
   "cell_type": "markdown",
   "metadata": {
    "colab_type": "text",
    "id": "ecFuqI0D1Cvp"
   },
   "source": [
    "On constaste une distribution de l'espérance étrange :\n",
    " - l'espérance augmente la première année\n",
    " - elle chute à partir de l'enregistrement 2-11-11\n",
    " - à partir de cet enregistrement elle augmente"
   ]
  },
  {
   "cell_type": "markdown",
   "metadata": {
    "colab_type": "text",
    "id": "MtlJIJJ61Cvq"
   },
   "source": [
    "### Variance du nombre de mot par phrase"
   ]
  },
  {
   "cell_type": "markdown",
   "metadata": {},
   "source": [
    "Il peut être aussi intéressant d'observer la variance du nombre de mot par phrase de Léonard."
   ]
  },
  {
   "cell_type": "code",
   "execution_count": 45,
   "metadata": {
    "colab": {},
    "colab_type": "code",
    "id": "E9_D1hKy1Cvq"
   },
   "outputs": [],
   "source": [
    "var_nb_mot_pho_jour = pho_child[{'année','mois','jour', 'nombre_mot_phonétique'}].groupby(['année','mois', 'jour']).var()\n",
    "var_nb_mot_pho_jour = var_nb_mot_pho_jour.rename(columns={'nombre_mot_phonétique': 'variance'})\n",
    "#var_nb_mot_pho_jour"
   ]
  },
  {
   "cell_type": "code",
   "execution_count": 49,
   "metadata": {
    "colab": {},
    "colab_type": "code",
    "id": "vIIDjEuJ1Cvu",
    "outputId": "e7e13936-fc62-4201-f5f1-55ee1d78e3d4"
   },
   "outputs": [
    {
     "data": {
      "image/png": "[encoded data removed]",
      "text/plain": [
       "<Figure size 1080x504 with 1 Axes>"
      ]
     },
     "metadata": {
      "needs_background": "light"
     },
     "output_type": "display_data"
    }
   ],
   "source": [
    "plt = var_nb_mot_pho_jour.plot(kind='bar', \n",
    "                            subplots=True, \n",
    "                            figsize=(15, 7),\n",
    "                            title = 'Variance du nombre de mot phonétique par jours : Adrien',\n",
    "                            fontsize = 15,\n",
    "                            use_index = True,\n",
    "                            grid=True)"
   ]
  },
  {
   "cell_type": "markdown",
   "metadata": {
    "colab_type": "text",
    "id": "vce32IIZ1Cvy"
   },
   "source": [
    "### Plus grande phrase "
   ]
  },
  {
   "cell_type": "code",
   "execution_count": 50,
   "metadata": {
    "colab": {},
    "colab_type": "code",
    "id": "8o1ueZjh1Cvz"
   },
   "outputs": [],
   "source": [
    "max_mot_pho_child = pho_child[{'année','mois','jour', 'nombre_mot_phonétique'}].groupby(['année','mois','jour']).max()\n",
    "max_mot_pho_child = max_mot_pho_child.rename(columns={'nombre_mot_phonétique': 'longueur_max'})\n",
    "#max_mot_pho_child"
   ]
  },
  {
   "cell_type": "code",
   "execution_count": 51,
   "metadata": {
    "colab": {},
    "colab_type": "code",
    "id": "4DUCmxBK1Cv3",
    "outputId": "7cb0ede6-8790-4ce3-8e72-fda7e4228ccc"
   },
   "outputs": [
    {
     "data": {
      "image/png": "[encoded data removed]",
      "text/plain": [
       "<Figure size 1440x1440 with 1 Axes>"
      ]
     },
     "metadata": {
      "needs_background": "light"
     },
     "output_type": "display_data"
    }
   ],
   "source": [
    "plt = max_mot_pho_child.plot(kind='bar', \n",
    "                            subplots=True, \n",
    "                            figsize=(20, 20),\n",
    "                            title = 'Longueur de la plus grande par jour : Antoine',\n",
    "                            fontsize = 15,\n",
    "                            use_index = True,\n",
    "                            grid=True)"
   ]
  },
  {
   "cell_type": "markdown",
   "metadata": {
    "colab_type": "text",
    "id": "KJ0RyC9r1Cv6"
   },
   "source": [
    "On constate encore une distribution étrange qui est lié avec l'espérance."
   ]
  },
  {
   "cell_type": "code",
   "execution_count": 53,
   "metadata": {
    "colab": {},
    "colab_type": "code",
    "id": "P_KrOFqD1Cv7",
    "outputId": "efaa9eaa-d8a8-495e-a9b8-c654ccf75312"
   },
   "outputs": [],
   "source": [
    "#Exemple: selection des phrases de 12 mots à l'age 2,xx,xx\n",
    "#pho_child.loc[pho_child['année'] == '2'].loc[pho_child.loc[pho_child['année'] == '2']['nombre_mot_phonétique'] == 12]"
   ]
  }
 ],
 "metadata": {
  "colab": {
   "include_colab_link": true,
   "name": "Copie de Traitement_donnees_adrien.ipynb",
   "provenance": []
  },
  "kernelspec": {
   "display_name": "Python 3",
   "language": "python",
   "name": "python3"
  },
  "language_info": {
   "codemirror_mode": {
    "name": "ipython",
    "version": 3
   },
   "file_extension": ".py",
   "mimetype": "text/x-python",
   "name": "python",
   "nbconvert_exporter": "python",
   "pygments_lexer": "ipython3",
   "version": "3.7.3"
  }
 },
 "nbformat": 4,
 "nbformat_minor": 1
}
