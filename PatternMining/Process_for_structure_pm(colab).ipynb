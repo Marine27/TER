{
  "nbformat": 4,
  "nbformat_minor": 0,
  "metadata": {
    "kernelspec": {
      "name": "python3",
      "display_name": "Python 3"
    },
    "language_info": {
      "codemirror_mode": {
        "name": "ipython",
        "version": 3
      },
      "file_extension": ".py",
      "mimetype": "text/x-python",
      "name": "python",
      "nbconvert_exporter": "python",
      "pygments_lexer": "ipython3",
      "version": "3.7.3"
    },
    "colab": {
      "name": "Process_for_structure_pm.ipynb",
      "provenance": [],
      "machine_shape": "hm",
      "include_colab_link": true
    },
    "accelerator": "GPU"
  },
  "cells": [
    {
      "cell_type": "markdown",
      "metadata": {
        "id": "view-in-github",
        "colab_type": "text"
      },
      "source": [
        "<a href=\"https://colab.research.google.com/github/Marine27/TER/blob/master/PatternMining/Process_for_structure_pm(colab).ipynb\" target=\"_parent\"><img src=\"https://colab.research.google.com/assets/colab-badge.svg\" alt=\"Open In Colab\"/></a>"
      ]
    },
    {
      "cell_type": "markdown",
      "metadata": {
        "id": "ogkc-BrPCjKK",
        "colab_type": "text"
      },
      "source": [
        "# Mise en forme des donnees pour le *Pattern Mining*"
      ]
    },
    {
      "cell_type": "markdown",
      "metadata": {
        "id": "YkwFVjTICjKO",
        "colab_type": "text"
      },
      "source": [
        "### Imports"
      ]
    },
    {
      "cell_type": "code",
      "metadata": {
        "id": "tQ0Qo-WSCjKT",
        "colab_type": "code",
        "colab": {}
      },
      "source": [
        "import pandas as pd  \n",
        "import numpy as np\n",
        "import warnings"
      ],
      "execution_count": 0,
      "outputs": []
    },
    {
      "cell_type": "markdown",
      "metadata": {
        "id": "hgz92tZhCjKf",
        "colab_type": "text"
      },
      "source": [
        "### Recuperation et preparation des donnnees"
      ]
    },
    {
      "cell_type": "code",
      "metadata": {
        "id": "P3ag6pRgCjKi",
        "colab_type": "code",
        "outputId": "1a078254-5452-4d42-f59f-5b00dfb92b95",
        "colab": {
          "base_uri": "https://localhost:8080/",
          "height": 237
        }
      },
      "source": [
        "#Chargement du jeu de donnees\n",
        "data_child = pd.read_csv('data_madeleine_final.csv',\n",
        "                           sep = '\\t',\n",
        "                           encoding = 'utf-8',\n",
        "                           index_col = False)\n",
        "\n",
        "# Supression de la colonne qui duplique l'index\n",
        "data_child = data_child.drop(columns = 'Unnamed: 0') \n",
        "\n",
        "# Recuperation de la partie phonetique des intervention de l'enfant\n",
        "data_child = data_child.where(data_child['type']=='pho').dropna(subset=['type'])\n",
        "\n",
        "# Conservation des deux colonnes avec des informations pertinantes \n",
        "data_child = data_child[['age','contenu']]\n",
        "\n",
        "# Creer un indexage a partir de cet ordre\n",
        "data_child['index']=[ i for i in range(len(data_child))]\n",
        "data_child= data_child.set_index('index')\n",
        "\n",
        "# Creation d'un numpy utile par la suite pour les boucles\n",
        "ages = data_child.age.unique()\n",
        "\n",
        "# Indexage par l'age de l'enfant\n",
        "age = data_child['age']\n",
        "\n",
        "l=[i for i in range(len(age))]\n",
        "k=[age.values]\n",
        "k.append(l)\n",
        "tuples = list(zip(*k))\n",
        "\n",
        "index = pd.MultiIndex.from_tuples(tuples, names=['age', 'index'])\n",
        "data_child.set_index(index,inplace=True)\n",
        "\n",
        "# Supression de la colonne age car present en index\n",
        "data_child=data_child[['contenu']]\n",
        "\n",
        "data_child.head()"
      ],
      "execution_count": 4,
      "outputs": [
        {
          "output_type": "execute_result",
          "data": {
            "text/html": [
              "<div>\n",
              "<style scoped>\n",
              "    .dataframe tbody tr th:only-of-type {\n",
              "        vertical-align: middle;\n",
              "    }\n",
              "\n",
              "    .dataframe tbody tr th {\n",
              "        vertical-align: top;\n",
              "    }\n",
              "\n",
              "    .dataframe thead th {\n",
              "        text-align: right;\n",
              "    }\n",
              "</style>\n",
              "<table border=\"1\" class=\"dataframe\">\n",
              "  <thead>\n",
              "    <tr style=\"text-align: right;\">\n",
              "      <th></th>\n",
              "      <th></th>\n",
              "      <th>contenu</th>\n",
              "    </tr>\n",
              "    <tr>\n",
              "      <th>age</th>\n",
              "      <th>index</th>\n",
              "      <th></th>\n",
              "    </tr>\n",
              "  </thead>\n",
              "  <tbody>\n",
              "    <tr>\n",
              "      <th rowspan=\"5\" valign=\"top\">1_00_05</th>\n",
              "      <th>0</th>\n",
              "      <td>eː</td>\n",
              "    </tr>\n",
              "    <tr>\n",
              "      <th>1</th>\n",
              "      <td>bɛ</td>\n",
              "    </tr>\n",
              "    <tr>\n",
              "      <th>2</th>\n",
              "      <td>vœga</td>\n",
              "    </tr>\n",
              "    <tr>\n",
              "      <th>3</th>\n",
              "      <td>gatœ̃</td>\n",
              "    </tr>\n",
              "    <tr>\n",
              "      <th>4</th>\n",
              "      <td>kaka</td>\n",
              "    </tr>\n",
              "  </tbody>\n",
              "</table>\n",
              "</div>"
            ],
            "text/plain": [
              "              contenu\n",
              "age     index        \n",
              "1_00_05 0          eː\n",
              "        1          bɛ\n",
              "        2        vœga\n",
              "        3       gatœ̃\n",
              "        4        kaka"
            ]
          },
          "metadata": {
            "tags": []
          },
          "execution_count": 4
        }
      ]
    },
    {
      "cell_type": "markdown",
      "metadata": {
        "id": "awslGtRmCjKr",
        "colab_type": "text"
      },
      "source": [
        "### Demarches pour la division de chaque enregistrement en 4 parties"
      ]
    },
    {
      "cell_type": "code",
      "metadata": {
        "id": "A9itJNpJCjKu",
        "colab_type": "code",
        "colab": {}
      },
      "source": [
        "# Sépare en mots au lieu de phrases\n",
        "mots = {}\n",
        "for i in list(ages):\n",
        "    # recupere toutes les phrases a la i eme date\n",
        "    phrases = data_child['contenu'].loc[i].values\n",
        "    # creer une variable texte avec toutes les phrases\n",
        "    phrase = ' '.join(phrases)\n",
        "    # sépare en mot\n",
        "    mots[i] = phrase.split()\n",
        "    \n",
        "# se parcourt avec un age en parametre\n",
        "#mots[\"1_00_05\"]"
      ],
      "execution_count": 0,
      "outputs": []
    },
    {
      "cell_type": "code",
      "metadata": {
        "id": "OFSlic_-CjK1",
        "colab_type": "code",
        "outputId": "05d76b65-e56d-4b56-f50f-dc91917d2cf7",
        "colab": {
          "base_uri": "https://localhost:8080/",
          "height": 72
        }
      },
      "source": [
        "# Sépare en 4 \"enfants\" chaque enregistrement\n",
        "enregistrement = {}\n",
        "sizes = []\n",
        "for i in list(ages):\n",
        "    # recupere tout les mots a la i eme date\n",
        "    #data = data_child['contenu'].loc[i].values\n",
        "    data = mots[i]\n",
        "    # separe les mots en 4 groupes ( 3 goupes de meme dim et le dernier avec le reste)\n",
        "    if len(data)<4:\n",
        "        warnings.warn(\"\\nAttention un l'enregistrement \"+ i + \" contient moins de 4 mots\")\n",
        "    s = len(data)//4\n",
        "    sizes.append(s)\n",
        "    enfant1 = data[:s]\n",
        "    enfant2 = data[s:2*s]\n",
        "    enfant3 = data[2*s:3*s]\n",
        "    enfant4 = data[3*s:]\n",
        "    # creer une variable texte de chaque goupe\n",
        "    #enfant1 = ' '.join(enfant1)\n",
        "    #enfant2 = ' '.join(enfant2)\n",
        "    #enfant3 = ' '.join(enfant3)\n",
        "    #enfant4 = ' '.join(enfant4)\n",
        "    \n",
        "    enfant1 = tuple(enfant1)\n",
        "    enfant2 = tuple(enfant2)\n",
        "    enfant3 = tuple(enfant3)\n",
        "    enfant4 = tuple(enfant4)\n",
        "    \n",
        "    # sépare en 4 enfants\n",
        "    enregistrement[i] = [enfant1, enfant2, enfant3, enfant4]\n",
        "    \n",
        "# se parcourt avec un age en parametre\n",
        "#enregistrement[\"1_00_05\"]"
      ],
      "execution_count": 6,
      "outputs": [
        {
          "output_type": "stream",
          "text": [
            "/usr/local/lib/python3.6/dist-packages/ipykernel_launcher.py:9: UserWarning: \n",
            "Attention un l'enregistrement 6_11_27 contient moins de 4 mots\n",
            "  if __name__ == '__main__':\n"
          ],
          "name": "stderr"
        }
      ]
    },
    {
      "cell_type": "code",
      "metadata": {
        "id": "kEZF9iuKCjK-",
        "colab_type": "code",
        "outputId": "83edde7e-81a9-414c-f2b6-4a704e41ec3e",
        "colab": {
          "base_uri": "https://localhost:8080/",
          "height": 81
        }
      },
      "source": [
        "# Pour avoir une idée du nombre de mots par enregistrement après répartition\n",
        "pd.DataFrame(sizes[:-1]).describe().T"
      ],
      "execution_count": 7,
      "outputs": [
        {
          "output_type": "execute_result",
          "data": {
            "text/html": [
              "<div>\n",
              "<style scoped>\n",
              "    .dataframe tbody tr th:only-of-type {\n",
              "        vertical-align: middle;\n",
              "    }\n",
              "\n",
              "    .dataframe tbody tr th {\n",
              "        vertical-align: top;\n",
              "    }\n",
              "\n",
              "    .dataframe thead th {\n",
              "        text-align: right;\n",
              "    }\n",
              "</style>\n",
              "<table border=\"1\" class=\"dataframe\">\n",
              "  <thead>\n",
              "    <tr style=\"text-align: right;\">\n",
              "      <th></th>\n",
              "      <th>count</th>\n",
              "      <th>mean</th>\n",
              "      <th>std</th>\n",
              "      <th>min</th>\n",
              "      <th>25%</th>\n",
              "      <th>50%</th>\n",
              "      <th>75%</th>\n",
              "      <th>max</th>\n",
              "    </tr>\n",
              "  </thead>\n",
              "  <tbody>\n",
              "    <tr>\n",
              "      <th>0</th>\n",
              "      <td>34.0</td>\n",
              "      <td>395.588235</td>\n",
              "      <td>285.178744</td>\n",
              "      <td>15.0</td>\n",
              "      <td>126.75</td>\n",
              "      <td>364.0</td>\n",
              "      <td>646.25</td>\n",
              "      <td>1101.0</td>\n",
              "    </tr>\n",
              "  </tbody>\n",
              "</table>\n",
              "</div>"
            ],
            "text/plain": [
              "   count        mean         std   min     25%    50%     75%     max\n",
              "0   34.0  395.588235  285.178744  15.0  126.75  364.0  646.25  1101.0"
            ]
          },
          "metadata": {
            "tags": []
          },
          "execution_count": 7
        }
      ]
    },
    {
      "cell_type": "code",
      "metadata": {
        "id": "GPnViFJ1CjLE",
        "colab_type": "code",
        "outputId": "720371f8-97b5-4a93-a496-2c57f085dcec",
        "colab": {
          "base_uri": "https://localhost:8080/",
          "height": 293
        }
      },
      "source": [
        "# Crée une DataFrame de toutes les donnees\n",
        "tab_4groupes = []\n",
        "#sizes = []\n",
        "for i in list(ages):\n",
        "    t = enregistrement[i]\n",
        "    #s = len(t)\n",
        "    tab_4groupes.append(t)\n",
        "    #sizes.append(s)\n",
        "    \n",
        "tab_madeleine = pd.DataFrame(tab_4groupes)\n",
        "\n",
        "etiquettes = [\"madeleine_enfant1\",\n",
        "              \"madeleine_enfant2\", \n",
        "              \"madeleine_enfant3\", \n",
        "              \"madeleine_enfant4\"]\n",
        "\n",
        "tab_madeleine.columns = etiquettes\n",
        "\n",
        "tab_madeleine.head()\n",
        "# tab_madeleine.loc[1] recherche par numero de l'enregistrement\n",
        "# tab_madeleine[1] recherche par numero de l'enfant"
      ],
      "execution_count": 8,
      "outputs": [
        {
          "output_type": "execute_result",
          "data": {
            "text/html": [
              "<div>\n",
              "<style scoped>\n",
              "    .dataframe tbody tr th:only-of-type {\n",
              "        vertical-align: middle;\n",
              "    }\n",
              "\n",
              "    .dataframe tbody tr th {\n",
              "        vertical-align: top;\n",
              "    }\n",
              "\n",
              "    .dataframe thead th {\n",
              "        text-align: right;\n",
              "    }\n",
              "</style>\n",
              "<table border=\"1\" class=\"dataframe\">\n",
              "  <thead>\n",
              "    <tr style=\"text-align: right;\">\n",
              "      <th></th>\n",
              "      <th>madeleine_enfant1</th>\n",
              "      <th>madeleine_enfant2</th>\n",
              "      <th>madeleine_enfant3</th>\n",
              "      <th>madeleine_enfant4</th>\n",
              "    </tr>\n",
              "  </thead>\n",
              "  <tbody>\n",
              "    <tr>\n",
              "      <th>0</th>\n",
              "      <td>(eː, bɛ, vœga, gatœ̃, kaka, dœjøkɛka, m, taka,...</td>\n",
              "      <td>(gla, ga, ga, gøga, gøga, ga, gaga, a, deda, œ...</td>\n",
              "      <td>(gaga, gaga, gagaga, ga, mœmœmœmœ, ala, adla, ...</td>\n",
              "      <td>(œmøː, œmøː, gaga, gagaga, daɥy, aga, œm, œm, ...</td>\n",
              "    </tr>\n",
              "    <tr>\n",
              "      <th>1</th>\n",
              "      <td>(ja, aljɛla, jaka, meja, agø, ga, beːja, ʃa, o...</td>\n",
              "      <td>(ʃa, ʃa, ʃa, ʃa, ʃa, ʃa, ʃa, ʃa, ʃa, aja, ja, ...</td>\n",
              "      <td>(ʃa, ejaː, edjadjajaaa, edahahaoga, u, ajne, e...</td>\n",
              "      <td>(ada, aja, gɛʒeʒa, ajəda, dedaː, da, ega, ja, ...</td>\n",
              "    </tr>\n",
              "    <tr>\n",
              "      <th>2</th>\n",
              "      <td>(je, ʃidɔm, øʃi, alapa, ʃː, ʃ, a, ʃa, øː, aaː,...</td>\n",
              "      <td>(bɛ, y, øː, ʃ, mememebuja, eaa, iɲa, ia, ʃɛ̃, ...</td>\n",
              "      <td>(ʃa, ʒy, aːaːɛ, ɛɛ, sə, wauːua, a, χ, wa, waa,...</td>\n",
              "      <td>(bidun, bida, bjɛtna, bebøː, dakula, daguba, m...</td>\n",
              "    </tr>\n",
              "    <tr>\n",
              "      <th>3</th>\n",
              "      <td>(evøpuʃa, gegedɔ̃, dɔ, ty, hɛsys, ejə, ʃa, gøt...</td>\n",
              "      <td>(mama, mama, bekaliʃaʃa, øtatɛ, mama, løʃa, pe...</td>\n",
              "      <td>(ʃa, ʃa, ʃa, ʃa, ʃa, ʃa, ʃa, ʃːa, səba, ʃa, ʃa...</td>\n",
              "      <td>(lelɛ, lala, lala, uu, iː, jejejejejee, eː, mː...</td>\n",
              "    </tr>\n",
              "    <tr>\n",
              "      <th>4</th>\n",
              "      <td>(i, lɛ, vwa, a, aː, ti, vwa, aː, ty, pø, t, as...</td>\n",
              "      <td>(wikɔ, ejdøwa, ɛʃa, pøpa, ɛøgødididitetɛe, bøb...</td>\n",
              "      <td>(wœ, wa, wawa, pwapwa, awœ, œœ, ba, m, jeje, e...</td>\n",
              "      <td>(jije, ini, œː, i, ʃi, uba, veve, tilele, nine...</td>\n",
              "    </tr>\n",
              "  </tbody>\n",
              "</table>\n",
              "</div>"
            ],
            "text/plain": [
              "                                   madeleine_enfant1  ...                                  madeleine_enfant4\n",
              "0  (eː, bɛ, vœga, gatœ̃, kaka, dœjøkɛka, m, taka,...  ...  (œmøː, œmøː, gaga, gagaga, daɥy, aga, œm, œm, ...\n",
              "1  (ja, aljɛla, jaka, meja, agø, ga, beːja, ʃa, o...  ...  (ada, aja, gɛʒeʒa, ajəda, dedaː, da, ega, ja, ...\n",
              "2  (je, ʃidɔm, øʃi, alapa, ʃː, ʃ, a, ʃa, øː, aaː,...  ...  (bidun, bida, bjɛtna, bebøː, dakula, daguba, m...\n",
              "3  (evøpuʃa, gegedɔ̃, dɔ, ty, hɛsys, ejə, ʃa, gøt...  ...  (lelɛ, lala, lala, uu, iː, jejejejejee, eː, mː...\n",
              "4  (i, lɛ, vwa, a, aː, ti, vwa, aː, ty, pø, t, as...  ...  (jije, ini, œː, i, ʃi, uba, veve, tilele, nine...\n",
              "\n",
              "[5 rows x 4 columns]"
            ]
          },
          "metadata": {
            "tags": []
          },
          "execution_count": 8
        }
      ]
    },
    {
      "cell_type": "markdown",
      "metadata": {
        "id": "Q_0_W7jsCjLK",
        "colab_type": "text"
      },
      "source": [
        "### Addaptation de la structure"
      ]
    },
    {
      "cell_type": "code",
      "metadata": {
        "id": "LPYz4Go8CjLN",
        "colab_type": "code",
        "colab": {}
      },
      "source": [
        "# transactions = (('a', 'b', 'c'), ('b'), ('a'), ('a', 'c', 'd'), ('b', 'c'), ('b', 'c'))\n",
        "# doit etre de cette forme:\n",
        "# madeleine_enfant1 = transactions\n",
        "# un enregistrement = ('a', 'b', 'c')\n",
        "# un mot = 'a'"
      ],
      "execution_count": 0,
      "outputs": []
    },
    {
      "cell_type": "code",
      "metadata": {
        "id": "2XWEekvWCjLT",
        "colab_type": "code",
        "colab": {}
      },
      "source": [
        "madeleine_enfant1 = tuple(tab_madeleine[\"madeleine_enfant1\"][:-1])\n",
        "madeleine_enfant2 = tuple(tab_madeleine[\"madeleine_enfant2\"][:-1])\n",
        "madeleine_enfant3 = tuple(tab_madeleine[\"madeleine_enfant3\"][:-1])\n",
        "madeleine_enfant4 = tuple(tab_madeleine[\"madeleine_enfant4\"][:])"
      ],
      "execution_count": 0,
      "outputs": []
    },
    {
      "cell_type": "code",
      "metadata": {
        "id": "ab2iW1OKCjLa",
        "colab_type": "code",
        "outputId": "c95f908f-29dd-4cc6-a33e-33af77830fce",
        "colab": {
          "base_uri": "https://localhost:8080/",
          "height": 35
        }
      },
      "source": [
        "print(type(madeleine_enfant1))\n",
        "#print(madeleine_enfant1)"
      ],
      "execution_count": 11,
      "outputs": [
        {
          "output_type": "stream",
          "text": [
            "<class 'tuple'>\n"
          ],
          "name": "stdout"
        }
      ]
    },
    {
      "cell_type": "markdown",
      "metadata": {
        "id": "vWHeFGdQCjLh",
        "colab_type": "text"
      },
      "source": [
        "### PATTERN MINING"
      ]
    },
    {
      "cell_type": "code",
      "metadata": {
        "id": "w5ZyzbS9CjLj",
        "colab_type": "code",
        "outputId": "befaddb6-7504-4517-bc3e-b0bcdf3756b4",
        "colab": {
          "base_uri": "https://localhost:8080/",
          "height": 110
        }
      },
      "source": [
        "!pip install pymining\n",
        "from pymining import itemmining\n",
        "from pymining import assocrules\n",
        "from pymining import seqmining"
      ],
      "execution_count": 12,
      "outputs": [
        {
          "output_type": "stream",
          "text": [
            "Collecting pymining\n",
            "  Downloading https://files.pythonhosted.org/packages/8d/e2/0bd08d25d0a72e1a32b2665b7a1395ae7b7e6beba748f8aaaecc89515598/pymining-0.2-py2.py3-none-any.whl\n",
            "Installing collected packages: pymining\n",
            "Successfully installed pymining-0.2\n"
          ],
          "name": "stdout"
        }
      ]
    },
    {
      "cell_type": "markdown",
      "metadata": {
        "id": "iQkkhCkvHlt8",
        "colab_type": "text"
      },
      "source": [
        "### support min = 20"
      ]
    },
    {
      "cell_type": "code",
      "metadata": {
        "colab_type": "code",
        "id": "N3HQKH6zHkF5",
        "colab": {}
      },
      "source": [
        "min_supp = 25\n",
        "relim_input_1 = itemmining.get_relim_input(madeleine_enfant1)\n",
        "relim_input_2 = itemmining.get_relim_input(madeleine_enfant2)\n",
        "relim_input_3 = itemmining.get_relim_input(madeleine_enfant3)\n",
        "relim_input_4 = itemmining.get_relim_input(madeleine_enfant4)\n",
        "\n",
        "item_sets_1 = itemmining.relim(relim_input_1, min_support=min_supp) \n",
        "item_sets_2 = itemmining.relim(relim_input_2, min_support=min_supp)\n",
        "item_sets_3 = itemmining.relim(relim_input_3, min_support=min_supp)\n",
        "item_sets_4 = itemmining.relim(relim_input_4, min_support=min_supp)\n",
        "\n"
      ],
      "execution_count": 0,
      "outputs": []
    },
    {
      "cell_type": "code",
      "metadata": {
        "colab_type": "code",
        "id": "UYZ7sEgaHkGJ",
        "outputId": "7fb43e25-2eb9-4dcf-d742-7d203d3e95a4",
        "colab": {
          "base_uri": "https://localhost:8080/",
          "height": 90
        }
      },
      "source": [
        "print(len(item_sets_1))\n",
        "print(len(item_sets_2))\n",
        "print(len(item_sets_3))\n",
        "print(len(item_sets_4))"
      ],
      "execution_count": 14,
      "outputs": [
        {
          "output_type": "stream",
          "text": [
            "20\n",
            "20\n",
            "14\n",
            "18\n"
          ],
          "name": "stdout"
        }
      ]
    },
    {
      "cell_type": "code",
      "metadata": {
        "id": "ImVbwrJRX8Rz",
        "colab_type": "code",
        "colab": {}
      },
      "source": [
        "#item_sets_1"
      ],
      "execution_count": 0,
      "outputs": []
    },
    {
      "cell_type": "code",
      "metadata": {
        "id": "SnRDTIfkX8ap",
        "colab_type": "code",
        "colab": {}
      },
      "source": [
        "#item_sets_2"
      ],
      "execution_count": 0,
      "outputs": []
    },
    {
      "cell_type": "code",
      "metadata": {
        "id": "nnViAuvMX8g6",
        "colab_type": "code",
        "colab": {}
      },
      "source": [
        "#item_sets_3"
      ],
      "execution_count": 0,
      "outputs": []
    },
    {
      "cell_type": "code",
      "metadata": {
        "id": "ua8osfDOX8ng",
        "colab_type": "code",
        "colab": {}
      },
      "source": [
        "#item_sets_4"
      ],
      "execution_count": 0,
      "outputs": []
    },
    {
      "cell_type": "code",
      "metadata": {
        "colab_type": "code",
        "id": "KHFFgbT4HkGV",
        "colab": {}
      },
      "source": [
        "rules_1 = assocrules.mine_assoc_rules(item_sets_1, min_support=min_supp, min_confidence=0.8)\n",
        "rules_2 = assocrules.mine_assoc_rules(item_sets_2, min_support=min_supp, min_confidence=0.8)\n",
        "rules_3 = assocrules.mine_assoc_rules(item_sets_3, min_support=min_supp, min_confidence=0.8)\n",
        "rules_4 = assocrules.mine_assoc_rules(item_sets_4, min_support=min_supp, min_confidence=0.8)"
      ],
      "execution_count": 0,
      "outputs": []
    },
    {
      "cell_type": "code",
      "metadata": {
        "colab_type": "code",
        "id": "f-HIgesNHkGb",
        "outputId": "695c615a-bb58-48c4-a7ec-7e0e24eb98f3",
        "colab": {
          "base_uri": "https://localhost:8080/",
          "height": 90
        }
      },
      "source": [
        "print(len(rules_1))\n",
        "print(len(rules_2))\n",
        "print(len(rules_3))\n",
        "print(len(rules_4))"
      ],
      "execution_count": 20,
      "outputs": [
        {
          "output_type": "stream",
          "text": [
            "29\n",
            "52\n",
            "26\n",
            "50\n"
          ],
          "name": "stdout"
        }
      ]
    },
    {
      "cell_type": "code",
      "metadata": {
        "id": "a1yrQRswYDEs",
        "colab_type": "code",
        "colab": {}
      },
      "source": [
        "#rules_1"
      ],
      "execution_count": 0,
      "outputs": []
    },
    {
      "cell_type": "code",
      "metadata": {
        "id": "Di0XPpvfYDPG",
        "colab_type": "code",
        "colab": {}
      },
      "source": [
        "#rules_2"
      ],
      "execution_count": 0,
      "outputs": []
    },
    {
      "cell_type": "code",
      "metadata": {
        "id": "JAfdfWh3YDVy",
        "colab_type": "code",
        "colab": {}
      },
      "source": [
        "#rules_3"
      ],
      "execution_count": 0,
      "outputs": []
    },
    {
      "cell_type": "code",
      "metadata": {
        "id": "JRdEFYlrYDdB",
        "colab_type": "code",
        "colab": {}
      },
      "source": [
        "#rules_4"
      ],
      "execution_count": 0,
      "outputs": []
    },
    {
      "cell_type": "code",
      "metadata": {
        "colab_type": "code",
        "id": "MnCkq3t4HkGm",
        "colab": {}
      },
      "source": [
        "seqs_1 = madeleine_enfant1\n",
        "seqs_2 = madeleine_enfant2\n",
        "seqs_3 = madeleine_enfant3\n",
        "seqs_4 = madeleine_enfant4\n",
        "\n",
        "freq_seqs_1 = seqmining.freq_seq_enum(seqs_1, 20)\n",
        "freq_seqs_2 = seqmining.freq_seq_enum(seqs_2, 20)\n",
        "freq_seqs_3 = seqmining.freq_seq_enum(seqs_3, 20)\n",
        "freq_seqs_4 = seqmining.freq_seq_enum(seqs_4, 20)\n",
        "\n",
        "#for seq in freq_seqs:\n",
        "#    print (seq)"
      ],
      "execution_count": 0,
      "outputs": []
    },
    {
      "cell_type": "code",
      "metadata": {
        "colab_type": "code",
        "id": "D6jJhhpOHkGt",
        "outputId": "3dc3b509-882b-4e21-97c0-b970ea621dd7",
        "colab": {
          "base_uri": "https://localhost:8080/",
          "height": 90
        }
      },
      "source": [
        "print(len(freq_seqs_1))\n",
        "print(len(freq_seqs_2))\n",
        "print(len(freq_seqs_3))\n",
        "print(len(freq_seqs_4))"
      ],
      "execution_count": 26,
      "outputs": [
        {
          "output_type": "stream",
          "text": [
            "4800\n",
            "5373\n",
            "10290\n",
            "5640\n"
          ],
          "name": "stdout"
        }
      ]
    },
    {
      "cell_type": "code",
      "metadata": {
        "id": "hZxpW6vuYePj",
        "colab_type": "code",
        "colab": {}
      },
      "source": [
        "for seq in freq_seqs_1:\n",
        "    print (seq)"
      ],
      "execution_count": 0,
      "outputs": []
    },
    {
      "cell_type": "code",
      "metadata": {
        "id": "P0u3Iou1YeYP",
        "colab_type": "code",
        "colab": {}
      },
      "source": [
        "for seq in freq_seqs_2:\n",
        "    print (seq)"
      ],
      "execution_count": 0,
      "outputs": []
    },
    {
      "cell_type": "code",
      "metadata": {
        "id": "nZalzigjYeev",
        "colab_type": "code",
        "colab": {}
      },
      "source": [
        "for seq in freq_seqs_3:\n",
        "    print (seq)"
      ],
      "execution_count": 0,
      "outputs": []
    },
    {
      "cell_type": "code",
      "metadata": {
        "id": "enF8X6y5YemR",
        "colab_type": "code",
        "colab": {}
      },
      "source": [
        "for seq in freq_seqs_4:\n",
        "    print (seq)"
      ],
      "execution_count": 0,
      "outputs": []
    }
  ]
}