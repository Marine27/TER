{
 "cells": [
  {
   "cell_type": "markdown",
   "metadata": {},
   "source": [
    "# Traitement de données Léonard"
   ]
  },
  {
   "cell_type": "markdown",
   "metadata": {},
   "source": [
    "Léonard est né le 15 octobre 1990 dans une famille parisienne. Sa mère, écrivain, lui raconte souvent des histoires dans lesquelles il est le héros et son père, producteur et réalisateur, le filme régulièrement. Léonard est un petit garçon vif et imaginatif dont le développement langagier peut être qualifié d’assez rapide. Il était enfant unique et âgé de 1;08 lors des premiers enregistrements et Aliyah Morgenstern l’a filmé chez lui une heure par mois jusqu’à ses 3;03 composant ainsi un corpus longitudinal en situation naturelle."
   ]
  },
  {
   "cell_type": "markdown",
   "metadata": {},
   "source": [
    "## Nettoyage"
   ]
  },
  {
   "cell_type": "markdown",
   "metadata": {},
   "source": [
    "\n",
    "Récupèrer la liste des noms de fichier pour Madeleine :\n",
    "\n",
    "- Ces fichiers sont placés dans un repertoire 'data/madeleine_texte'\n",
    "- Ils sont issuent d'une extraction sur le site colaje au format chat\n",
    "- Nous les avons transformés en format .txt afin de pouvoir les traiter avec python"
   ]
  },
  {
   "cell_type": "code",
   "execution_count": 1,
   "metadata": {},
   "outputs": [],
   "source": [
    "import os \n",
    "import pandas as pd \n",
    "import warnings\n",
    "warnings.filterwarnings(\"ignore\")\n",
    "import matplotlib.pyplot as plt\n",
    "import chardet"
   ]
  },
  {
   "cell_type": "code",
   "execution_count": 2,
   "metadata": {},
   "outputs": [
    {
     "name": "stdout",
     "output_type": "stream",
     "text": [
      "/Users/sariakarandrianjanahary/Desktop/M1_MIASHS/TER\n"
     ]
    }
   ],
   "source": [
    "print(os.getcwd())\n",
    "os.chdir('/Users/sariakarandrianjanahary/Desktop/M1_MIASHS/TER/fichiecsv')\n",
    "listing=os.listdir()"
   ]
  },
  {
   "cell_type": "code",
   "execution_count": 3,
   "metadata": {},
   "outputs": [
    {
     "data": {
      "text/plain": [
       "['.DS_Store',\n",
       " 'LEONARD-01-1_08_09.tei_corpo.csv',\n",
       " 'LEONARD-02-1_10_24.tei_corpo.xml.csv',\n",
       " 'LEONARD-03-1_11_15.tei_corpo.xml.csv',\n",
       " 'LEONARD-04-2_00_08.tei_corpo.xml.csv',\n",
       " 'LEONARD-05-2_00_26.tei_corpo.xml.csv',\n",
       " 'LEONARD-06-2_01_27.tei_corpo.xml.csv',\n",
       " 'LEONARD-07-2_03_00.tei_corpo.xml.csv',\n",
       " 'LEONARD-08-2_03_26.tei_corpo.xml.csv',\n",
       " 'LEONARD-09-2_04_25.tei_corpo.xml.csv',\n",
       " 'LEONARD-10-2_06_07.tei_corpo.xml.csv',\n",
       " 'LEONARD-11-2_07_25.tei_corpo.xml.csv',\n",
       " 'LEONARD-12-2_11_03.tei_corpo.xml.csv',\n",
       " 'LEONARD-13-2_11_30.tei_corpo.xml.csv',\n",
       " 'LEONARD-14-3_02_25.tei_corpo.xml.csv']"
      ]
     },
     "execution_count": 3,
     "metadata": {},
     "output_type": "execute_result"
    }
   ],
   "source": [
    "listing.sort()\n",
    "listing"
   ]
  },
  {
   "cell_type": "code",
   "execution_count": 4,
   "metadata": {},
   "outputs": [
    {
     "data": {
      "text/plain": [
       "14"
      ]
     },
     "execution_count": 4,
     "metadata": {},
     "output_type": "execute_result"
    }
   ],
   "source": [
    "del listing[0] # pour retirer '.DS_Store'\n",
    "len(listing)"
   ]
  },
  {
   "cell_type": "markdown",
   "metadata": {},
   "source": [
    "Nous avons 15 fichiers pour Madeleine, chacun de ses fichiers corresepondent aux retrancriptions d'un enregistrement vidéo.\n",
    "\n"
   ]
  },
  {
   "cell_type": "markdown",
   "metadata": {},
   "source": [
    " ## Lecture des données"
   ]
  },
  {
   "cell_type": "markdown",
   "metadata": {},
   "source": [
    "- Définir le nom des colonnes selon le fichier final attendu\n",
    "- Lire chaque fichier de la liste\n",
    "- Ajouter les colonnes nom de l'enfant et son age\n",
    "- La colonne age identifie de manière unique l'enregistrement"
   ]
  },
  {
   "cell_type": "code",
   "execution_count": 5,
   "metadata": {},
   "outputs": [],
   "source": [
    "os.chdir('/Users/sariakarandrianjanahary/Desktop/M1_MIASHS/TER/fichiecsv')\n",
    "d = {} # Le dictionnaire contenant les noms des fichiers\n",
    "nom_col = ['type', 'seconde_debut', 'seconde_fin', 'contenu']\n",
    "rows = 0 #Compteur de ligne pour vérifier la perte de données\n",
    "\n",
    "for file in listing: \n",
    "    d[file]=pd.read_csv(file, \n",
    "                        sep = '\\t', \n",
    "                        names = nom_col, \n",
    "                        header = None)  \n",
    "\n",
    "    # On ajoute le nom de l'enfant\n",
    "    nom_pos1 = 0\n",
    "    nom_pos2 = file.find('-')\n",
    "    nom = file[nom_pos1:nom_pos2]\n",
    "    d[file]['enfant'] = nom\n",
    "    \n",
    "    # On ajoute l'age de l'enfant\n",
    "    age_pos1 = file.find('_')-1\n",
    "    age_pos2 = file.find('.')\n",
    "    age = file[age_pos1:age_pos2]\n",
    "    d[file]['age'] = age\n",
    "    \n",
    "    rows += len(d[file])\n",
    "    \n",
    "    \n",
    "# DataFrame contenant toutes les lignes de l'enfant\n",
    "data = pd.concat([d[file] for file in listing], \n",
    "                 sort=False,\n",
    "                 ignore_index=True)"
   ]
  },
  {
   "cell_type": "code",
   "execution_count": 6,
   "metadata": {},
   "outputs": [
    {
     "data": {
      "text/plain": [
       "(28746, 6)"
      ]
     },
     "execution_count": 6,
     "metadata": {},
     "output_type": "execute_result"
    }
   ],
   "source": [
    "data.shape"
   ]
  },
  {
   "cell_type": "markdown",
   "metadata": {},
   "source": [
    "## Vérification de la perte de données\n"
   ]
  },
  {
   "cell_type": "markdown",
   "metadata": {},
   "source": [
    "On vérifie qu'il y a autant de ligne lu (variable rows) que de ligne écritent (len(data))"
   ]
  },
  {
   "cell_type": "code",
   "execution_count": 7,
   "metadata": {},
   "outputs": [
    {
     "name": "stdout",
     "output_type": "stream",
     "text": [
      "True\n"
     ]
    }
   ],
   "source": [
    "print(rows == len(data))"
   ]
  },
  {
   "cell_type": "markdown",
   "metadata": {},
   "source": [
    "## Ordre des colonnes"
   ]
  },
  {
   "cell_type": "code",
   "execution_count": 8,
   "metadata": {},
   "outputs": [
    {
     "data": {
      "text/html": [
       "<div>\n",
       "<style scoped>\n",
       "    .dataframe tbody tr th:only-of-type {\n",
       "        vertical-align: middle;\n",
       "    }\n",
       "\n",
       "    .dataframe tbody tr th {\n",
       "        vertical-align: top;\n",
       "    }\n",
       "\n",
       "    .dataframe thead th {\n",
       "        text-align: right;\n",
       "    }\n",
       "</style>\n",
       "<table border=\"1\" class=\"dataframe\">\n",
       "  <thead>\n",
       "    <tr style=\"text-align: right;\">\n",
       "      <th></th>\n",
       "      <th>enfant</th>\n",
       "      <th>age</th>\n",
       "      <th>type</th>\n",
       "      <th>seconde_debut</th>\n",
       "      <th>seconde_fin</th>\n",
       "      <th>contenu</th>\n",
       "    </tr>\n",
       "  </thead>\n",
       "  <tbody>\n",
       "    <tr>\n",
       "      <th>0</th>\n",
       "      <td>LEONARD</td>\n",
       "      <td>1_08_09</td>\n",
       "      <td>+div+</td>\n",
       "      <td>0.0</td>\n",
       "      <td>1967.815</td>\n",
       "      <td>Situation</td>\n",
       "    </tr>\n",
       "    <tr>\n",
       "      <th>1</th>\n",
       "      <td>LEONARD</td>\n",
       "      <td>1_08_09</td>\n",
       "      <td>+div+</td>\n",
       "      <td>0.0</td>\n",
       "      <td>787.467</td>\n",
       "      <td>BG</td>\n",
       "    </tr>\n",
       "    <tr>\n",
       "      <th>2</th>\n",
       "      <td>LEONARD</td>\n",
       "      <td>1_08_09</td>\n",
       "      <td>CHI</td>\n",
       "      <td>0.0</td>\n",
       "      <td>2.456</td>\n",
       "      <td>oh !</td>\n",
       "    </tr>\n",
       "    <tr>\n",
       "      <th>3</th>\n",
       "      <td>LEONARD</td>\n",
       "      <td>1_08_09</td>\n",
       "      <td>mod</td>\n",
       "      <td>NaN</td>\n",
       "      <td>NaN</td>\n",
       "      <td>ɔ</td>\n",
       "    </tr>\n",
       "    <tr>\n",
       "      <th>4</th>\n",
       "      <td>LEONARD</td>\n",
       "      <td>1_08_09</td>\n",
       "      <td>pho</td>\n",
       "      <td>NaN</td>\n",
       "      <td>NaN</td>\n",
       "      <td>oː</td>\n",
       "    </tr>\n",
       "  </tbody>\n",
       "</table>\n",
       "</div>"
      ],
      "text/plain": [
       "    enfant      age   type  seconde_debut  seconde_fin    contenu\n",
       "0  LEONARD  1_08_09  +div+            0.0     1967.815  Situation\n",
       "1  LEONARD  1_08_09  +div+            0.0      787.467         BG\n",
       "2  LEONARD  1_08_09    CHI            0.0        2.456       oh !\n",
       "3  LEONARD  1_08_09    mod            NaN          NaN          ɔ\n",
       "4  LEONARD  1_08_09    pho            NaN          NaN         oː"
      ]
     },
     "execution_count": 8,
     "metadata": {},
     "output_type": "execute_result"
    }
   ],
   "source": [
    "data=data[['enfant', 'age','type', 'seconde_debut', 'seconde_fin', 'contenu']]\n",
    "data.head()"
   ]
  },
  {
   "cell_type": "markdown",
   "metadata": {},
   "source": [
    "## Création  fichier final csv"
   ]
  },
  {
   "cell_type": "code",
   "execution_count": 9,
   "metadata": {},
   "outputs": [],
   "source": [
    "# Création du fichier enfant\n",
    "os.chdir('/Users/sariakarandrianjanahary/Desktop/M1_MIASHS/TER')\n",
    "data.to_csv('data_leonard_final.csv',\n",
    "           encoding = 'utf-8',\n",
    "           sep = '\\t',\n",
    "           header = True)"
   ]
  },
  {
   "cell_type": "markdown",
   "metadata": {},
   "source": [
    "\n",
    "On peut maintenant utiliser le fichier 'data_leonard_finale.csv' pour l'exploration de données."
   ]
  },
  {
   "cell_type": "markdown",
   "metadata": {},
   "source": [
    "## Lecture fichier final"
   ]
  },
  {
   "cell_type": "code",
   "execution_count": 10,
   "metadata": {},
   "outputs": [],
   "source": [
    "data_leonard = pd.read_csv('data_leonard_final.csv',\n",
    "                           sep = '\\t',\n",
    "                           encoding = 'utf-8',\n",
    "                           index_col=False)\n",
    "\n",
    "# On supprime la colonne qui duplique les index\n",
    "data_leonard = data_leonard.drop(columns = 'Unnamed: 0')"
   ]
  },
  {
   "cell_type": "code",
   "execution_count": 11,
   "metadata": {},
   "outputs": [
    {
     "data": {
      "text/plain": [
       "(28746, 6)"
      ]
     },
     "execution_count": 11,
     "metadata": {},
     "output_type": "execute_result"
    }
   ],
   "source": [
    "# dimesion de notre données\n",
    "data_leonard.shape"
   ]
  },
  {
   "cell_type": "markdown",
   "metadata": {},
   "source": [
    "## Exploitation de données"
   ]
  },
  {
   "cell_type": "markdown",
   "metadata": {},
   "source": [
    "Qu'elles sont les différents type de ligne ?"
   ]
  },
  {
   "cell_type": "code",
   "execution_count": 12,
   "metadata": {},
   "outputs": [
    {
     "name": "stdout",
     "output_type": "stream",
     "text": [
      "25\n"
     ]
    }
   ],
   "source": [
    "print(len(data_leonard['type'].unique()))"
   ]
  },
  {
   "cell_type": "markdown",
   "metadata": {},
   "source": [
    "## Le phonèmes"
   ]
  },
  {
   "cell_type": "markdown",
   "metadata": {},
   "source": [
    "\n",
    "Les lignes de type 'pho' correspondent à la traduction phonétique lorsque Madeleine s'exprime :\n",
    "\n",
    "- Nous avons à disposition 3852 traductions pour Leonard\n",
    "- Les traductions s'arrêtent à l'age de 3 ans 2 mois et 25 jours"
   ]
  },
  {
   "cell_type": "code",
   "execution_count": 13,
   "metadata": {},
   "outputs": [
    {
     "data": {
      "text/html": [
       "<div>\n",
       "<style scoped>\n",
       "    .dataframe tbody tr th:only-of-type {\n",
       "        vertical-align: middle;\n",
       "    }\n",
       "\n",
       "    .dataframe tbody tr th {\n",
       "        vertical-align: top;\n",
       "    }\n",
       "\n",
       "    .dataframe thead th {\n",
       "        text-align: right;\n",
       "    }\n",
       "</style>\n",
       "<table border=\"1\" class=\"dataframe\">\n",
       "  <thead>\n",
       "    <tr style=\"text-align: right;\">\n",
       "      <th></th>\n",
       "      <th>enfant</th>\n",
       "      <th>age</th>\n",
       "      <th>type</th>\n",
       "      <th>seconde_debut</th>\n",
       "      <th>seconde_fin</th>\n",
       "      <th>contenu</th>\n",
       "    </tr>\n",
       "  </thead>\n",
       "  <tbody>\n",
       "    <tr>\n",
       "      <th>4</th>\n",
       "      <td>LEONARD</td>\n",
       "      <td>1_08_09</td>\n",
       "      <td>pho</td>\n",
       "      <td>NaN</td>\n",
       "      <td>NaN</td>\n",
       "      <td>oː</td>\n",
       "    </tr>\n",
       "    <tr>\n",
       "      <th>10</th>\n",
       "      <td>LEONARD</td>\n",
       "      <td>1_08_09</td>\n",
       "      <td>pho</td>\n",
       "      <td>NaN</td>\n",
       "      <td>NaN</td>\n",
       "      <td>kɔkɔ</td>\n",
       "    </tr>\n",
       "    <tr>\n",
       "      <th>14</th>\n",
       "      <td>LEONARD</td>\n",
       "      <td>1_08_09</td>\n",
       "      <td>pho</td>\n",
       "      <td>NaN</td>\n",
       "      <td>NaN</td>\n",
       "      <td>kɔkɔ</td>\n",
       "    </tr>\n",
       "    <tr>\n",
       "      <th>18</th>\n",
       "      <td>LEONARD</td>\n",
       "      <td>1_08_09</td>\n",
       "      <td>pho</td>\n",
       "      <td>NaN</td>\n",
       "      <td>NaN</td>\n",
       "      <td>e kɔkɔ XX e kɔkɔ</td>\n",
       "    </tr>\n",
       "    <tr>\n",
       "      <th>24</th>\n",
       "      <td>LEONARD</td>\n",
       "      <td>1_08_09</td>\n",
       "      <td>pho</td>\n",
       "      <td>NaN</td>\n",
       "      <td>NaN</td>\n",
       "      <td>oː</td>\n",
       "    </tr>\n",
       "    <tr>\n",
       "      <th>27</th>\n",
       "      <td>LEONARD</td>\n",
       "      <td>1_08_09</td>\n",
       "      <td>pho</td>\n",
       "      <td>NaN</td>\n",
       "      <td>NaN</td>\n",
       "      <td>jedede XX</td>\n",
       "    </tr>\n",
       "    <tr>\n",
       "      <th>31</th>\n",
       "      <td>LEONARD</td>\n",
       "      <td>1_08_09</td>\n",
       "      <td>pho</td>\n",
       "      <td>NaN</td>\n",
       "      <td>NaN</td>\n",
       "      <td>dede</td>\n",
       "    </tr>\n",
       "    <tr>\n",
       "      <th>36</th>\n",
       "      <td>LEONARD</td>\n",
       "      <td>1_08_09</td>\n",
       "      <td>pho</td>\n",
       "      <td>NaN</td>\n",
       "      <td>NaN</td>\n",
       "      <td>o kole</td>\n",
       "    </tr>\n",
       "    <tr>\n",
       "      <th>39</th>\n",
       "      <td>LEONARD</td>\n",
       "      <td>1_08_09</td>\n",
       "      <td>pho</td>\n",
       "      <td>NaN</td>\n",
       "      <td>NaN</td>\n",
       "      <td>e koko</td>\n",
       "    </tr>\n",
       "    <tr>\n",
       "      <th>43</th>\n",
       "      <td>LEONARD</td>\n",
       "      <td>1_08_09</td>\n",
       "      <td>pho</td>\n",
       "      <td>NaN</td>\n",
       "      <td>NaN</td>\n",
       "      <td>ɛ̃ papa</td>\n",
       "    </tr>\n",
       "    <tr>\n",
       "      <th>53</th>\n",
       "      <td>LEONARD</td>\n",
       "      <td>1_08_09</td>\n",
       "      <td>pho</td>\n",
       "      <td>NaN</td>\n",
       "      <td>NaN</td>\n",
       "      <td>a koko</td>\n",
       "    </tr>\n",
       "    <tr>\n",
       "      <th>57</th>\n",
       "      <td>LEONARD</td>\n",
       "      <td>1_08_09</td>\n",
       "      <td>pho</td>\n",
       "      <td>NaN</td>\n",
       "      <td>NaN</td>\n",
       "      <td>e koko</td>\n",
       "    </tr>\n",
       "    <tr>\n",
       "      <th>61</th>\n",
       "      <td>LEONARD</td>\n",
       "      <td>1_08_09</td>\n",
       "      <td>pho</td>\n",
       "      <td>NaN</td>\n",
       "      <td>NaN</td>\n",
       "      <td>oː koko</td>\n",
       "    </tr>\n",
       "    <tr>\n",
       "      <th>72</th>\n",
       "      <td>LEONARD</td>\n",
       "      <td>1_08_09</td>\n",
       "      <td>pho</td>\n",
       "      <td>NaN</td>\n",
       "      <td>NaN</td>\n",
       "      <td>nɔ̃ koko</td>\n",
       "    </tr>\n",
       "    <tr>\n",
       "      <th>76</th>\n",
       "      <td>LEONARD</td>\n",
       "      <td>1_08_09</td>\n",
       "      <td>pho</td>\n",
       "      <td>NaN</td>\n",
       "      <td>NaN</td>\n",
       "      <td>ø gato øga gatoː</td>\n",
       "    </tr>\n",
       "    <tr>\n",
       "      <th>84</th>\n",
       "      <td>LEONARD</td>\n",
       "      <td>1_08_09</td>\n",
       "      <td>pho</td>\n",
       "      <td>NaN</td>\n",
       "      <td>NaN</td>\n",
       "      <td>na datoː</td>\n",
       "    </tr>\n",
       "    <tr>\n",
       "      <th>90</th>\n",
       "      <td>LEONARD</td>\n",
       "      <td>1_08_09</td>\n",
       "      <td>pho</td>\n",
       "      <td>NaN</td>\n",
       "      <td>NaN</td>\n",
       "      <td>dato</td>\n",
       "    </tr>\n",
       "    <tr>\n",
       "      <th>97</th>\n",
       "      <td>LEONARD</td>\n",
       "      <td>1_08_09</td>\n",
       "      <td>pho</td>\n",
       "      <td>NaN</td>\n",
       "      <td>NaN</td>\n",
       "      <td>nɔ̃</td>\n",
       "    </tr>\n",
       "    <tr>\n",
       "      <th>100</th>\n",
       "      <td>LEONARD</td>\n",
       "      <td>1_08_09</td>\n",
       "      <td>pho</td>\n",
       "      <td>NaN</td>\n",
       "      <td>NaN</td>\n",
       "      <td>nɔ̃</td>\n",
       "    </tr>\n",
       "    <tr>\n",
       "      <th>106</th>\n",
       "      <td>LEONARD</td>\n",
       "      <td>1_08_09</td>\n",
       "      <td>pho</td>\n",
       "      <td>NaN</td>\n",
       "      <td>NaN</td>\n",
       "      <td>ɛ̃ dato</td>\n",
       "    </tr>\n",
       "    <tr>\n",
       "      <th>109</th>\n",
       "      <td>LEONARD</td>\n",
       "      <td>1_08_09</td>\n",
       "      <td>pho</td>\n",
       "      <td>NaN</td>\n",
       "      <td>NaN</td>\n",
       "      <td>dato</td>\n",
       "    </tr>\n",
       "    <tr>\n",
       "      <th>112</th>\n",
       "      <td>LEONARD</td>\n",
       "      <td>1_08_09</td>\n",
       "      <td>pho</td>\n",
       "      <td>NaN</td>\n",
       "      <td>NaN</td>\n",
       "      <td>dato</td>\n",
       "    </tr>\n",
       "    <tr>\n",
       "      <th>115</th>\n",
       "      <td>LEONARD</td>\n",
       "      <td>1_08_09</td>\n",
       "      <td>pho</td>\n",
       "      <td>NaN</td>\n",
       "      <td>NaN</td>\n",
       "      <td>ə dato</td>\n",
       "    </tr>\n",
       "    <tr>\n",
       "      <th>118</th>\n",
       "      <td>LEONARD</td>\n",
       "      <td>1_08_09</td>\n",
       "      <td>pho</td>\n",
       "      <td>NaN</td>\n",
       "      <td>NaN</td>\n",
       "      <td>da papa</td>\n",
       "    </tr>\n",
       "    <tr>\n",
       "      <th>126</th>\n",
       "      <td>LEONARD</td>\n",
       "      <td>1_08_09</td>\n",
       "      <td>pho</td>\n",
       "      <td>NaN</td>\n",
       "      <td>NaN</td>\n",
       "      <td>nɔ̃</td>\n",
       "    </tr>\n",
       "    <tr>\n",
       "      <th>130</th>\n",
       "      <td>LEONARD</td>\n",
       "      <td>1_08_09</td>\n",
       "      <td>pho</td>\n",
       "      <td>NaN</td>\n",
       "      <td>NaN</td>\n",
       "      <td>dado dado</td>\n",
       "    </tr>\n",
       "    <tr>\n",
       "      <th>138</th>\n",
       "      <td>LEONARD</td>\n",
       "      <td>1_08_09</td>\n",
       "      <td>pho</td>\n",
       "      <td>NaN</td>\n",
       "      <td>NaN</td>\n",
       "      <td>nɔ̃ nɔ̃</td>\n",
       "    </tr>\n",
       "    <tr>\n",
       "      <th>144</th>\n",
       "      <td>LEONARD</td>\n",
       "      <td>1_08_09</td>\n",
       "      <td>pho</td>\n",
       "      <td>NaN</td>\n",
       "      <td>NaN</td>\n",
       "      <td>a tɛt</td>\n",
       "    </tr>\n",
       "    <tr>\n",
       "      <th>151</th>\n",
       "      <td>LEONARD</td>\n",
       "      <td>1_08_09</td>\n",
       "      <td>pho</td>\n",
       "      <td>NaN</td>\n",
       "      <td>NaN</td>\n",
       "      <td>nɔ̃</td>\n",
       "    </tr>\n",
       "    <tr>\n",
       "      <th>155</th>\n",
       "      <td>LEONARD</td>\n",
       "      <td>1_08_09</td>\n",
       "      <td>pho</td>\n",
       "      <td>NaN</td>\n",
       "      <td>NaN</td>\n",
       "      <td>nɔ̃ː le mɛ̃</td>\n",
       "    </tr>\n",
       "    <tr>\n",
       "      <th>...</th>\n",
       "      <td>...</td>\n",
       "      <td>...</td>\n",
       "      <td>...</td>\n",
       "      <td>...</td>\n",
       "      <td>...</td>\n",
       "      <td>...</td>\n",
       "    </tr>\n",
       "    <tr>\n",
       "      <th>25883</th>\n",
       "      <td>LEONARD</td>\n",
       "      <td>2_11_30</td>\n",
       "      <td>pho</td>\n",
       "      <td>NaN</td>\n",
       "      <td>NaN</td>\n",
       "      <td>ə zə vø ʀəgaʀde mik e lə aʀiko maʒik</td>\n",
       "    </tr>\n",
       "    <tr>\n",
       "      <th>25914</th>\n",
       "      <td>LEONARD</td>\n",
       "      <td>2_11_30</td>\n",
       "      <td>pho</td>\n",
       "      <td>NaN</td>\n",
       "      <td>NaN</td>\n",
       "      <td>mɛ zə vø ʀəgaʀde lə mik e lə aʀiko maʒik</td>\n",
       "    </tr>\n",
       "    <tr>\n",
       "      <th>25976</th>\n",
       "      <td>LEONARD</td>\n",
       "      <td>2_11_30</td>\n",
       "      <td>pho</td>\n",
       "      <td>NaN</td>\n",
       "      <td>NaN</td>\n",
       "      <td>mwa zə tə tʀuv pa bo va tɑ̃</td>\n",
       "    </tr>\n",
       "    <tr>\n",
       "      <th>25987</th>\n",
       "      <td>LEONARD</td>\n",
       "      <td>2_11_30</td>\n",
       "      <td>pho</td>\n",
       "      <td>NaN</td>\n",
       "      <td>NaN</td>\n",
       "      <td>va tɑ̃ zə tə vwa zə vø pa tə vwaʀ</td>\n",
       "    </tr>\n",
       "    <tr>\n",
       "      <th>25993</th>\n",
       "      <td>LEONARD</td>\n",
       "      <td>2_11_30</td>\n",
       "      <td>pho</td>\n",
       "      <td>NaN</td>\n",
       "      <td>NaN</td>\n",
       "      <td>zə vø ʀəgaʀde la pətit siʀɛn</td>\n",
       "    </tr>\n",
       "    <tr>\n",
       "      <th>26001</th>\n",
       "      <td>LEONARD</td>\n",
       "      <td>2_11_30</td>\n",
       "      <td>pho</td>\n",
       "      <td>NaN</td>\n",
       "      <td>NaN</td>\n",
       "      <td>zə vø ʀəgaʀde la ptit siʀɛn</td>\n",
       "    </tr>\n",
       "    <tr>\n",
       "      <th>26010</th>\n",
       "      <td>LEONARD</td>\n",
       "      <td>2_11_30</td>\n",
       "      <td>pho</td>\n",
       "      <td>NaN</td>\n",
       "      <td>NaN</td>\n",
       "      <td>zə vø zə vø</td>\n",
       "    </tr>\n",
       "    <tr>\n",
       "      <th>26020</th>\n",
       "      <td>LEONARD</td>\n",
       "      <td>2_11_30</td>\n",
       "      <td>pho</td>\n",
       "      <td>NaN</td>\n",
       "      <td>NaN</td>\n",
       "      <td>zə sɛ</td>\n",
       "    </tr>\n",
       "    <tr>\n",
       "      <th>26062</th>\n",
       "      <td>LEONARD</td>\n",
       "      <td>2_11_30</td>\n",
       "      <td>pho</td>\n",
       "      <td>NaN</td>\n",
       "      <td>NaN</td>\n",
       "      <td>dy pʀɛ̃s sɛʁmø̃</td>\n",
       "    </tr>\n",
       "    <tr>\n",
       "      <th>26133</th>\n",
       "      <td>LEONARD</td>\n",
       "      <td>2_11_30</td>\n",
       "      <td>pho</td>\n",
       "      <td>NaN</td>\n",
       "      <td>NaN</td>\n",
       "      <td>le pjo</td>\n",
       "    </tr>\n",
       "    <tr>\n",
       "      <th>26143</th>\n",
       "      <td>LEONARD</td>\n",
       "      <td>2_11_30</td>\n",
       "      <td>pho</td>\n",
       "      <td>NaN</td>\n",
       "      <td>NaN</td>\n",
       "      <td>eli elitʃo</td>\n",
       "    </tr>\n",
       "    <tr>\n",
       "      <th>26162</th>\n",
       "      <td>LEONARD</td>\n",
       "      <td>2_11_30</td>\n",
       "      <td>pho</td>\n",
       "      <td>NaN</td>\n",
       "      <td>NaN</td>\n",
       "      <td>nɔ̃ sɛ de balan</td>\n",
       "    </tr>\n",
       "    <tr>\n",
       "      <th>26203</th>\n",
       "      <td>LEONARD</td>\n",
       "      <td>2_11_30</td>\n",
       "      <td>pho</td>\n",
       "      <td>NaN</td>\n",
       "      <td>NaN</td>\n",
       "      <td>nɔ̃ sɛ lə pasɔ̃</td>\n",
       "    </tr>\n",
       "    <tr>\n",
       "      <th>26243</th>\n",
       "      <td>LEONARD</td>\n",
       "      <td>2_11_30</td>\n",
       "      <td>pho</td>\n",
       "      <td>NaN</td>\n",
       "      <td>NaN</td>\n",
       "      <td>la la e la zɛm bjɛ̃</td>\n",
       "    </tr>\n",
       "    <tr>\n",
       "      <th>26288</th>\n",
       "      <td>LEONARD</td>\n",
       "      <td>2_11_30</td>\n",
       "      <td>pho</td>\n",
       "      <td>NaN</td>\n",
       "      <td>NaN</td>\n",
       "      <td>zə sɛ bjɛ̃</td>\n",
       "    </tr>\n",
       "    <tr>\n",
       "      <th>26350</th>\n",
       "      <td>LEONARD</td>\n",
       "      <td>2_11_30</td>\n",
       "      <td>pho</td>\n",
       "      <td>NaN</td>\n",
       "      <td>NaN</td>\n",
       "      <td>wɛ</td>\n",
       "    </tr>\n",
       "    <tr>\n",
       "      <th>26401</th>\n",
       "      <td>LEONARD</td>\n",
       "      <td>2_11_30</td>\n",
       "      <td>pho</td>\n",
       "      <td>NaN</td>\n",
       "      <td>NaN</td>\n",
       "      <td>puʀkwa i vø lakase</td>\n",
       "    </tr>\n",
       "    <tr>\n",
       "      <th>26456</th>\n",
       "      <td>LEONARD</td>\n",
       "      <td>2_11_30</td>\n",
       "      <td>pho</td>\n",
       "      <td>NaN</td>\n",
       "      <td>NaN</td>\n",
       "      <td>sa sɛ de ipotam</td>\n",
       "    </tr>\n",
       "    <tr>\n",
       "      <th>26459</th>\n",
       "      <td>LEONARD</td>\n",
       "      <td>2_11_30</td>\n",
       "      <td>pho</td>\n",
       "      <td>NaN</td>\n",
       "      <td>NaN</td>\n",
       "      <td>ipozam</td>\n",
       "    </tr>\n",
       "    <tr>\n",
       "      <th>26499</th>\n",
       "      <td>LEONARD</td>\n",
       "      <td>2_11_30</td>\n",
       "      <td>pho</td>\n",
       "      <td>NaN</td>\n",
       "      <td>NaN</td>\n",
       "      <td>zə tə ʀəgaʀd pa</td>\n",
       "    </tr>\n",
       "    <tr>\n",
       "      <th>26518</th>\n",
       "      <td>LEONARD</td>\n",
       "      <td>2_11_30</td>\n",
       "      <td>pho</td>\n",
       "      <td>NaN</td>\n",
       "      <td>NaN</td>\n",
       "      <td>mwa zɛm bjɛ̃ ʀəgaʀde le kasɛt tuʒuʀ</td>\n",
       "    </tr>\n",
       "    <tr>\n",
       "      <th>26526</th>\n",
       "      <td>LEONARD</td>\n",
       "      <td>2_11_30</td>\n",
       "      <td>pho</td>\n",
       "      <td>NaN</td>\n",
       "      <td>NaN</td>\n",
       "      <td>e zə sɥi ɛ̃ pəti pakɛ ki ʀul</td>\n",
       "    </tr>\n",
       "    <tr>\n",
       "      <th>26564</th>\n",
       "      <td>LEONARD</td>\n",
       "      <td>2_11_30</td>\n",
       "      <td>pho</td>\n",
       "      <td>NaN</td>\n",
       "      <td>NaN</td>\n",
       "      <td>zə sɥi evanwi</td>\n",
       "    </tr>\n",
       "    <tr>\n",
       "      <th>26595</th>\n",
       "      <td>LEONARD</td>\n",
       "      <td>2_11_30</td>\n",
       "      <td>pho</td>\n",
       "      <td>NaN</td>\n",
       "      <td>NaN</td>\n",
       "      <td>zə tɛ fɛ ɛ̃ bizu</td>\n",
       "    </tr>\n",
       "    <tr>\n",
       "      <th>26631</th>\n",
       "      <td>LEONARD</td>\n",
       "      <td>2_11_30</td>\n",
       "      <td>pho</td>\n",
       "      <td>NaN</td>\n",
       "      <td>NaN</td>\n",
       "      <td>zə zə vø zə vø ma malɛt</td>\n",
       "    </tr>\n",
       "    <tr>\n",
       "      <th>26736</th>\n",
       "      <td>LEONARD</td>\n",
       "      <td>2_11_30</td>\n",
       "      <td>pho</td>\n",
       "      <td>NaN</td>\n",
       "      <td>NaN</td>\n",
       "      <td>zə vø ɛ̃ ply fɔʀ</td>\n",
       "    </tr>\n",
       "    <tr>\n",
       "      <th>26961</th>\n",
       "      <td>LEONARD</td>\n",
       "      <td>3_02_25</td>\n",
       "      <td>pho</td>\n",
       "      <td>NaN</td>\n",
       "      <td>NaN</td>\n",
       "      <td>wɛ zetɛ dɑ̃ lə film</td>\n",
       "    </tr>\n",
       "    <tr>\n",
       "      <th>27160</th>\n",
       "      <td>LEONARD</td>\n",
       "      <td>3_02_25</td>\n",
       "      <td>pho</td>\n",
       "      <td>NaN</td>\n",
       "      <td>NaN</td>\n",
       "      <td>e mwa zə vudʀɛ bjɛ̃ fɛʀ ɛ̃ a</td>\n",
       "    </tr>\n",
       "    <tr>\n",
       "      <th>27263</th>\n",
       "      <td>LEONARD</td>\n",
       "      <td>3_02_25</td>\n",
       "      <td>pho</td>\n",
       "      <td>NaN</td>\n",
       "      <td>NaN</td>\n",
       "      <td>ʀəgaʀd zɛ fɛ ʀəgaʀd zɛ fɛ yn pɔʀt</td>\n",
       "    </tr>\n",
       "    <tr>\n",
       "      <th>27266</th>\n",
       "      <td>LEONARD</td>\n",
       "      <td>3_02_25</td>\n",
       "      <td>pho</td>\n",
       "      <td>NaN</td>\n",
       "      <td>NaN</td>\n",
       "      <td>ɛt pɥi ʀəgaʀd i a kɛlkɛ̃ ki va ɑ̃tʀe</td>\n",
       "    </tr>\n",
       "  </tbody>\n",
       "</table>\n",
       "<p>3852 rows × 6 columns</p>\n",
       "</div>"
      ],
      "text/plain": [
       "        enfant      age type  seconde_debut  seconde_fin  \\\n",
       "4      LEONARD  1_08_09  pho            NaN          NaN   \n",
       "10     LEONARD  1_08_09  pho            NaN          NaN   \n",
       "14     LEONARD  1_08_09  pho            NaN          NaN   \n",
       "18     LEONARD  1_08_09  pho            NaN          NaN   \n",
       "24     LEONARD  1_08_09  pho            NaN          NaN   \n",
       "27     LEONARD  1_08_09  pho            NaN          NaN   \n",
       "31     LEONARD  1_08_09  pho            NaN          NaN   \n",
       "36     LEONARD  1_08_09  pho            NaN          NaN   \n",
       "39     LEONARD  1_08_09  pho            NaN          NaN   \n",
       "43     LEONARD  1_08_09  pho            NaN          NaN   \n",
       "53     LEONARD  1_08_09  pho            NaN          NaN   \n",
       "57     LEONARD  1_08_09  pho            NaN          NaN   \n",
       "61     LEONARD  1_08_09  pho            NaN          NaN   \n",
       "72     LEONARD  1_08_09  pho            NaN          NaN   \n",
       "76     LEONARD  1_08_09  pho            NaN          NaN   \n",
       "84     LEONARD  1_08_09  pho            NaN          NaN   \n",
       "90     LEONARD  1_08_09  pho            NaN          NaN   \n",
       "97     LEONARD  1_08_09  pho            NaN          NaN   \n",
       "100    LEONARD  1_08_09  pho            NaN          NaN   \n",
       "106    LEONARD  1_08_09  pho            NaN          NaN   \n",
       "109    LEONARD  1_08_09  pho            NaN          NaN   \n",
       "112    LEONARD  1_08_09  pho            NaN          NaN   \n",
       "115    LEONARD  1_08_09  pho            NaN          NaN   \n",
       "118    LEONARD  1_08_09  pho            NaN          NaN   \n",
       "126    LEONARD  1_08_09  pho            NaN          NaN   \n",
       "130    LEONARD  1_08_09  pho            NaN          NaN   \n",
       "138    LEONARD  1_08_09  pho            NaN          NaN   \n",
       "144    LEONARD  1_08_09  pho            NaN          NaN   \n",
       "151    LEONARD  1_08_09  pho            NaN          NaN   \n",
       "155    LEONARD  1_08_09  pho            NaN          NaN   \n",
       "...        ...      ...  ...            ...          ...   \n",
       "25883  LEONARD  2_11_30  pho            NaN          NaN   \n",
       "25914  LEONARD  2_11_30  pho            NaN          NaN   \n",
       "25976  LEONARD  2_11_30  pho            NaN          NaN   \n",
       "25987  LEONARD  2_11_30  pho            NaN          NaN   \n",
       "25993  LEONARD  2_11_30  pho            NaN          NaN   \n",
       "26001  LEONARD  2_11_30  pho            NaN          NaN   \n",
       "26010  LEONARD  2_11_30  pho            NaN          NaN   \n",
       "26020  LEONARD  2_11_30  pho            NaN          NaN   \n",
       "26062  LEONARD  2_11_30  pho            NaN          NaN   \n",
       "26133  LEONARD  2_11_30  pho            NaN          NaN   \n",
       "26143  LEONARD  2_11_30  pho            NaN          NaN   \n",
       "26162  LEONARD  2_11_30  pho            NaN          NaN   \n",
       "26203  LEONARD  2_11_30  pho            NaN          NaN   \n",
       "26243  LEONARD  2_11_30  pho            NaN          NaN   \n",
       "26288  LEONARD  2_11_30  pho            NaN          NaN   \n",
       "26350  LEONARD  2_11_30  pho            NaN          NaN   \n",
       "26401  LEONARD  2_11_30  pho            NaN          NaN   \n",
       "26456  LEONARD  2_11_30  pho            NaN          NaN   \n",
       "26459  LEONARD  2_11_30  pho            NaN          NaN   \n",
       "26499  LEONARD  2_11_30  pho            NaN          NaN   \n",
       "26518  LEONARD  2_11_30  pho            NaN          NaN   \n",
       "26526  LEONARD  2_11_30  pho            NaN          NaN   \n",
       "26564  LEONARD  2_11_30  pho            NaN          NaN   \n",
       "26595  LEONARD  2_11_30  pho            NaN          NaN   \n",
       "26631  LEONARD  2_11_30  pho            NaN          NaN   \n",
       "26736  LEONARD  2_11_30  pho            NaN          NaN   \n",
       "26961  LEONARD  3_02_25  pho            NaN          NaN   \n",
       "27160  LEONARD  3_02_25  pho            NaN          NaN   \n",
       "27263  LEONARD  3_02_25  pho            NaN          NaN   \n",
       "27266  LEONARD  3_02_25  pho            NaN          NaN   \n",
       "\n",
       "                                        contenu  \n",
       "4                                            oː  \n",
       "10                                         kɔkɔ  \n",
       "14                                         kɔkɔ  \n",
       "18                             e kɔkɔ XX e kɔkɔ  \n",
       "24                                           oː  \n",
       "27                                    jedede XX  \n",
       "31                                         dede  \n",
       "36                                       o kole  \n",
       "39                                       e koko  \n",
       "43                                      ɛ̃ papa  \n",
       "53                                       a koko  \n",
       "57                                       e koko  \n",
       "61                                      oː koko  \n",
       "72                                     nɔ̃ koko  \n",
       "76                             ø gato øga gatoː  \n",
       "84                                     na datoː  \n",
       "90                                         dato  \n",
       "97                                          nɔ̃  \n",
       "100                                         nɔ̃  \n",
       "106                                     ɛ̃ dato  \n",
       "109                                        dato  \n",
       "112                                        dato  \n",
       "115                                      ə dato  \n",
       "118                                     da papa  \n",
       "126                                         nɔ̃  \n",
       "130                                   dado dado  \n",
       "138                                     nɔ̃ nɔ̃  \n",
       "144                                       a tɛt  \n",
       "151                                         nɔ̃  \n",
       "155                                 nɔ̃ː le mɛ̃  \n",
       "...                                         ...  \n",
       "25883      ə zə vø ʀəgaʀde mik e lə aʀiko maʒik  \n",
       "25914  mɛ zə vø ʀəgaʀde lə mik e lə aʀiko maʒik  \n",
       "25976               mwa zə tə tʀuv pa bo va tɑ̃  \n",
       "25987         va tɑ̃ zə tə vwa zə vø pa tə vwaʀ  \n",
       "25993              zə vø ʀəgaʀde la pətit siʀɛn  \n",
       "26001               zə vø ʀəgaʀde la ptit siʀɛn  \n",
       "26010                               zə vø zə vø  \n",
       "26020                                     zə sɛ  \n",
       "26062                           dy pʀɛ̃s sɛʁmø̃  \n",
       "26133                                    le pjo  \n",
       "26143                                eli elitʃo  \n",
       "26162                           nɔ̃ sɛ de balan  \n",
       "26203                           nɔ̃ sɛ lə pasɔ̃  \n",
       "26243                       la la e la zɛm bjɛ̃  \n",
       "26288                                zə sɛ bjɛ̃  \n",
       "26350                                        wɛ  \n",
       "26401                        puʀkwa i vø lakase  \n",
       "26456                           sa sɛ de ipotam  \n",
       "26459                                    ipozam  \n",
       "26499                           zə tə ʀəgaʀd pa  \n",
       "26518       mwa zɛm bjɛ̃ ʀəgaʀde le kasɛt tuʒuʀ  \n",
       "26526              e zə sɥi ɛ̃ pəti pakɛ ki ʀul  \n",
       "26564                             zə sɥi evanwi  \n",
       "26595                          zə tɛ fɛ ɛ̃ bizu  \n",
       "26631                   zə zə vø zə vø ma malɛt  \n",
       "26736                          zə vø ɛ̃ ply fɔʀ  \n",
       "26961                       wɛ zetɛ dɑ̃ lə film  \n",
       "27160              e mwa zə vudʀɛ bjɛ̃ fɛʀ ɛ̃ a  \n",
       "27263         ʀəgaʀd zɛ fɛ ʀəgaʀd zɛ fɛ yn pɔʀt  \n",
       "27266      ɛt pɥi ʀəgaʀd i a kɛlkɛ̃ ki va ɑ̃tʀe  \n",
       "\n",
       "[3852 rows x 6 columns]"
      ]
     },
     "execution_count": 13,
     "metadata": {},
     "output_type": "execute_result"
    }
   ],
   "source": [
    "pho_leonard = data_leonard[data_leonard['type'] == 'pho']\n",
    "pho_leonard"
   ]
  },
  {
   "cell_type": "markdown",
   "metadata": {},
   "source": [
    "## Visualisation des données honétiques"
   ]
  },
  {
   "cell_type": "markdown",
   "metadata": {},
   "source": [
    "### Ajout des colonnes 'années' , 'mois', 'jours'"
   ]
  },
  {
   "cell_type": "markdown",
   "metadata": {},
   "source": [
    "On considère que la colonne age a pout format : x_xx_xx (année_mois_jour) ainsi :\n",
    "\n",
    "- pho_madeleine['age'][0:1] nous donne le nombre d'année\n",
    "- pho_madeleine['age'][2:4] nous donne le nombre de mois\n",
    "- pho_madeleine['age'][5:7] nous donne le nombre de jours"
   ]
  },
  {
   "cell_type": "code",
   "execution_count": 14,
   "metadata": {},
   "outputs": [],
   "source": [
    "# Ajout du nombre d'année\n",
    "année_pho_leonard = pho_leonard.apply(lambda row: row['age'][0:1], axis=1)\n",
    "pho_leonard['année'] = année_pho_leonard\n",
    "\n",
    "# Ajout du nombre de mois\n",
    "mois_pho_leonard = pho_leonard.apply(lambda row: row['age'][2:4], axis=1)\n",
    "pho_leonard['mois'] = mois_pho_leonard\n",
    "\n",
    "# Ajout du nombre de jour\n",
    "jour_pho_leonard = pho_leonard.apply(lambda row: row['age'][5:7], axis=1)\n",
    "pho_leonard['jour'] = jour_pho_leonard"
   ]
  },
  {
   "cell_type": "markdown",
   "metadata": {},
   "source": [
    "### Quantité de données"
   ]
  },
  {
   "cell_type": "markdown",
   "metadata": {},
   "source": [
    "Combien avons-nous de ligne pour chaque année ? mois ? jour ?"
   ]
  },
  {
   "cell_type": "markdown",
   "metadata": {},
   "source": [
    "#### Quantité de données par année"
   ]
  },
  {
   "cell_type": "code",
   "execution_count": 15,
   "metadata": {},
   "outputs": [
    {
     "data": {
      "text/html": [
       "<div>\n",
       "<style scoped>\n",
       "    .dataframe tbody tr th:only-of-type {\n",
       "        vertical-align: middle;\n",
       "    }\n",
       "\n",
       "    .dataframe tbody tr th {\n",
       "        vertical-align: top;\n",
       "    }\n",
       "\n",
       "    .dataframe thead th {\n",
       "        text-align: right;\n",
       "    }\n",
       "</style>\n",
       "<table border=\"1\" class=\"dataframe\">\n",
       "  <thead>\n",
       "    <tr style=\"text-align: right;\">\n",
       "      <th></th>\n",
       "      <th>nb_phrase</th>\n",
       "    </tr>\n",
       "    <tr>\n",
       "      <th>année</th>\n",
       "      <th></th>\n",
       "    </tr>\n",
       "  </thead>\n",
       "  <tbody>\n",
       "    <tr>\n",
       "      <th>1</th>\n",
       "      <td>952</td>\n",
       "    </tr>\n",
       "    <tr>\n",
       "      <th>2</th>\n",
       "      <td>2895</td>\n",
       "    </tr>\n",
       "    <tr>\n",
       "      <th>3</th>\n",
       "      <td>4</td>\n",
       "    </tr>\n",
       "  </tbody>\n",
       "</table>\n",
       "</div>"
      ],
      "text/plain": [
       "       nb_phrase\n",
       "année           \n",
       "1            952\n",
       "2           2895\n",
       "3              4"
      ]
     },
     "execution_count": 15,
     "metadata": {},
     "output_type": "execute_result"
    }
   ],
   "source": [
    "nb_phrase_annee = pho_leonard[{'année','contenu'}].groupby('année').count()\n",
    "nb_phrase_annee.rename(columns={'contenu': 'nb_phrase'})"
   ]
  },
  {
   "cell_type": "code",
   "execution_count": 16,
   "metadata": {},
   "outputs": [
    {
     "data": {
      "image/png": "[encoded data removed]",
      "text/plain": [
       "<Figure size 720x360 with 1 Axes>"
      ]
     },
     "metadata": {
      "needs_background": "light"
     },
     "output_type": "display_data"
    }
   ],
   "source": [
    "nb_phrase_annee.plot(kind='bar', \n",
    "                       subplots=True, \n",
    "                       figsize=(10,5),\n",
    "                       title = 'Nombre de données phonétiques par année : Leonard',\n",
    "                       fontsize = 15,\n",
    "                       use_index = True);"
   ]
  },
  {
   "cell_type": "markdown",
   "metadata": {},
   "source": [
    "\n",
    "On voit qu'il y a des quantités de données phonétiques à l'age de deux ans :\n",
    "\n",
    "- Il y a un riche contenue des la premiere annee\n",
    "- Le pic de données phonétiques se situe a l'age de 2 ans\n",
    "- La quantité de données diminue a partir de 2 ans\n"
   ]
  },
  {
   "cell_type": "markdown",
   "metadata": {},
   "source": [
    "#### Quantité de données par mois"
   ]
  },
  {
   "cell_type": "markdown",
   "metadata": {},
   "source": [
    "Regardons plus en détail la quantité de données phonétiques par mois :"
   ]
  },
  {
   "cell_type": "code",
   "execution_count": 17,
   "metadata": {},
   "outputs": [
    {
     "data": {
      "text/html": [
       "<div>\n",
       "<style scoped>\n",
       "    .dataframe tbody tr th:only-of-type {\n",
       "        vertical-align: middle;\n",
       "    }\n",
       "\n",
       "    .dataframe tbody tr th {\n",
       "        vertical-align: top;\n",
       "    }\n",
       "\n",
       "    .dataframe thead tr th {\n",
       "        text-align: left;\n",
       "    }\n",
       "\n",
       "    .dataframe thead tr:last-of-type th {\n",
       "        text-align: right;\n",
       "    }\n",
       "</style>\n",
       "<table border=\"1\" class=\"dataframe\">\n",
       "  <thead>\n",
       "    <tr>\n",
       "      <th></th>\n",
       "      <th colspan=\"10\" halign=\"left\">nb_phrase</th>\n",
       "    </tr>\n",
       "    <tr>\n",
       "      <th>mois</th>\n",
       "      <th>00</th>\n",
       "      <th>01</th>\n",
       "      <th>02</th>\n",
       "      <th>03</th>\n",
       "      <th>04</th>\n",
       "      <th>06</th>\n",
       "      <th>07</th>\n",
       "      <th>08</th>\n",
       "      <th>10</th>\n",
       "      <th>11</th>\n",
       "    </tr>\n",
       "    <tr>\n",
       "      <th>année</th>\n",
       "      <th></th>\n",
       "      <th></th>\n",
       "      <th></th>\n",
       "      <th></th>\n",
       "      <th></th>\n",
       "      <th></th>\n",
       "      <th></th>\n",
       "      <th></th>\n",
       "      <th></th>\n",
       "      <th></th>\n",
       "    </tr>\n",
       "  </thead>\n",
       "  <tbody>\n",
       "    <tr>\n",
       "      <th>1</th>\n",
       "      <td>NaN</td>\n",
       "      <td>NaN</td>\n",
       "      <td>NaN</td>\n",
       "      <td>NaN</td>\n",
       "      <td>NaN</td>\n",
       "      <td>NaN</td>\n",
       "      <td>NaN</td>\n",
       "      <td>234.0</td>\n",
       "      <td>467.0</td>\n",
       "      <td>251.0</td>\n",
       "    </tr>\n",
       "    <tr>\n",
       "      <th>2</th>\n",
       "      <td>999.0</td>\n",
       "      <td>410.0</td>\n",
       "      <td>NaN</td>\n",
       "      <td>842.0</td>\n",
       "      <td>511.0</td>\n",
       "      <td>38.0</td>\n",
       "      <td>39.0</td>\n",
       "      <td>NaN</td>\n",
       "      <td>NaN</td>\n",
       "      <td>56.0</td>\n",
       "    </tr>\n",
       "    <tr>\n",
       "      <th>3</th>\n",
       "      <td>NaN</td>\n",
       "      <td>NaN</td>\n",
       "      <td>4.0</td>\n",
       "      <td>NaN</td>\n",
       "      <td>NaN</td>\n",
       "      <td>NaN</td>\n",
       "      <td>NaN</td>\n",
       "      <td>NaN</td>\n",
       "      <td>NaN</td>\n",
       "      <td>NaN</td>\n",
       "    </tr>\n",
       "  </tbody>\n",
       "</table>\n",
       "</div>"
      ],
      "text/plain": [
       "      nb_phrase                                                           \n",
       "mois         00     01   02     03     04    06    07     08     10     11\n",
       "année                                                                     \n",
       "1           NaN    NaN  NaN    NaN    NaN   NaN   NaN  234.0  467.0  251.0\n",
       "2         999.0  410.0  NaN  842.0  511.0  38.0  39.0    NaN    NaN   56.0\n",
       "3           NaN    NaN  4.0    NaN    NaN   NaN   NaN    NaN    NaN    NaN"
      ]
     },
     "execution_count": 17,
     "metadata": {},
     "output_type": "execute_result"
    }
   ],
   "source": [
    "nb_phrase_mois = pho_leonard[{'année','mois','contenu'}].groupby(['année','mois']).count()\n",
    "nb_phrase_mois = nb_phrase_mois.rename(columns={'contenu': 'nb_phrase'})\n",
    "nb_phrase_mois.unstack(level=1)"
   ]
  },
  {
   "cell_type": "code",
   "execution_count": 18,
   "metadata": {},
   "outputs": [
    {
     "data": {
      "image/png": "[encoded data removed]",
      "text/plain": [
       "<Figure size 1440x2160 with 3 Axes>"
      ]
     },
     "metadata": {
      "needs_background": "light"
     },
     "output_type": "display_data"
    }
   ],
   "source": [
    "plt = nb_phrase_mois.unstack(level=0).plot(kind='bar', \n",
    "                                     subplots=True, \n",
    "                                     figsize=(20, 30),\n",
    "                                     title = 'Nombre de données phonétiques par mois : Leonard',\n",
    "                                     fontsize = 15,\n",
    "                                     use_index = True)"
   ]
  },
  {
   "cell_type": "markdown",
   "metadata": {},
   "source": [
    "#### Quantité de données par jours"
   ]
  },
  {
   "cell_type": "markdown",
   "metadata": {},
   "source": [
    "Regardons maintenant la quantité de données par jours :\n",
    "\n"
   ]
  },
  {
   "cell_type": "code",
   "execution_count": 19,
   "metadata": {},
   "outputs": [
    {
     "data": {
      "image/png": "[encoded data removed]",
      "text/plain": [
       "<Figure size 1440x720 with 1 Axes>"
      ]
     },
     "metadata": {
      "needs_background": "light"
     },
     "output_type": "display_data"
    }
   ],
   "source": [
    "plt = nb_phrase_mois.plot(kind='bar',\n",
    "                    subplots=True, \n",
    "                    figsize=(20, 10),\n",
    "                    title = 'Nombre de données phonétiques par mois : Leonard',\n",
    "                    fontsize = 15,\n",
    "                    use_index = True)\n"
   ]
  },
  {
   "cell_type": "code",
   "execution_count": 20,
   "metadata": {
    "scrolled": true
   },
   "outputs": [
    {
     "data": {
      "text/html": [
       "<div>\n",
       "<style scoped>\n",
       "    .dataframe tbody tr th:only-of-type {\n",
       "        vertical-align: middle;\n",
       "    }\n",
       "\n",
       "    .dataframe tbody tr th {\n",
       "        vertical-align: top;\n",
       "    }\n",
       "\n",
       "    .dataframe thead th {\n",
       "        text-align: right;\n",
       "    }\n",
       "</style>\n",
       "<table border=\"1\" class=\"dataframe\">\n",
       "  <thead>\n",
       "    <tr style=\"text-align: right;\">\n",
       "      <th></th>\n",
       "      <th></th>\n",
       "      <th></th>\n",
       "      <th>nb_phrase</th>\n",
       "    </tr>\n",
       "    <tr>\n",
       "      <th>année</th>\n",
       "      <th>mois</th>\n",
       "      <th>jour</th>\n",
       "      <th></th>\n",
       "    </tr>\n",
       "  </thead>\n",
       "  <tbody>\n",
       "    <tr>\n",
       "      <th rowspan=\"3\" valign=\"top\">1</th>\n",
       "      <th>08</th>\n",
       "      <th>09</th>\n",
       "      <td>234</td>\n",
       "    </tr>\n",
       "    <tr>\n",
       "      <th>10</th>\n",
       "      <th>24</th>\n",
       "      <td>467</td>\n",
       "    </tr>\n",
       "    <tr>\n",
       "      <th>11</th>\n",
       "      <th>15</th>\n",
       "      <td>251</td>\n",
       "    </tr>\n",
       "    <tr>\n",
       "      <th rowspan=\"10\" valign=\"top\">2</th>\n",
       "      <th rowspan=\"2\" valign=\"top\">00</th>\n",
       "      <th>08</th>\n",
       "      <td>422</td>\n",
       "    </tr>\n",
       "    <tr>\n",
       "      <th>26</th>\n",
       "      <td>577</td>\n",
       "    </tr>\n",
       "    <tr>\n",
       "      <th>01</th>\n",
       "      <th>27</th>\n",
       "      <td>410</td>\n",
       "    </tr>\n",
       "    <tr>\n",
       "      <th rowspan=\"2\" valign=\"top\">03</th>\n",
       "      <th>00</th>\n",
       "      <td>384</td>\n",
       "    </tr>\n",
       "    <tr>\n",
       "      <th>26</th>\n",
       "      <td>458</td>\n",
       "    </tr>\n",
       "    <tr>\n",
       "      <th>04</th>\n",
       "      <th>25</th>\n",
       "      <td>511</td>\n",
       "    </tr>\n",
       "    <tr>\n",
       "      <th>06</th>\n",
       "      <th>07</th>\n",
       "      <td>38</td>\n",
       "    </tr>\n",
       "    <tr>\n",
       "      <th>07</th>\n",
       "      <th>25</th>\n",
       "      <td>39</td>\n",
       "    </tr>\n",
       "    <tr>\n",
       "      <th rowspan=\"2\" valign=\"top\">11</th>\n",
       "      <th>03</th>\n",
       "      <td>12</td>\n",
       "    </tr>\n",
       "    <tr>\n",
       "      <th>30</th>\n",
       "      <td>44</td>\n",
       "    </tr>\n",
       "    <tr>\n",
       "      <th>3</th>\n",
       "      <th>02</th>\n",
       "      <th>25</th>\n",
       "      <td>4</td>\n",
       "    </tr>\n",
       "  </tbody>\n",
       "</table>\n",
       "</div>"
      ],
      "text/plain": [
       "                 nb_phrase\n",
       "année mois jour           \n",
       "1     08   09          234\n",
       "      10   24          467\n",
       "      11   15          251\n",
       "2     00   08          422\n",
       "           26          577\n",
       "      01   27          410\n",
       "      03   00          384\n",
       "           26          458\n",
       "      04   25          511\n",
       "      06   07           38\n",
       "      07   25           39\n",
       "      11   03           12\n",
       "           30           44\n",
       "3     02   25            4"
      ]
     },
     "execution_count": 20,
     "metadata": {},
     "output_type": "execute_result"
    }
   ],
   "source": [
    "nb_phrase_jour = pho_leonard[{'année','mois', 'jour', 'contenu'}].groupby(['année','mois', 'jour']).count()\n",
    "nb_phrase_jour = nb_phrase_jour.rename(columns={'contenu': 'nb_phrase'})\n",
    "nb_phrase_jour"
   ]
  },
  {
   "cell_type": "code",
   "execution_count": 21,
   "metadata": {},
   "outputs": [
    {
     "data": {
      "image/png": "[encoded data removed]",
      "text/plain": [
       "<Figure size 1440x720 with 1 Axes>"
      ]
     },
     "metadata": {
      "needs_background": "light"
     },
     "output_type": "display_data"
    }
   ],
   "source": [
    "plt = nb_phrase_jour.plot(kind='bar',\n",
    "                    subplots=True,\n",
    "                    figsize=(20, 10),\n",
    "                    title = 'Nombre de données phonétiques par jour : Leonard',\n",
    "                    fontsize = 15,\n",
    "                    use_index = True)"
   ]
  },
  {
   "cell_type": "markdown",
   "metadata": {},
   "source": [
    "Ici nous avons découpé les données de tel sorte à avoir la quantité de données pour chaque enregistrement de Madeleine. Mais elles ne sont pas distribué de manière équitable dans le temps. On peut mesurer la croissance du nombre de prise de parole (on pourrait croiser cette donnée avec la durée de l'enregistrement pour une meilleure mesure).\n",
    "\n",
    "\n",
    "Les quantites de donnnees phonetiques pour les ages ci-dessous, sont tres faible à partir de 2_06_07.\n",
    "\n",
    "\n",
    "On a maintenant une meilleure vision du nombre de la quantité de données phonétiques à disposition et de leur répartition dans le temps pour Madeleine."
   ]
  },
  {
   "cell_type": "markdown",
   "metadata": {},
   "source": [
    "### Nombre de mots"
   ]
  },
  {
   "cell_type": "markdown",
   "metadata": {},
   "source": [
    "Nous allons chercher à explorer le nombre de mot au sens phonétique par phrase.\n",
    "\n",
    "Pour cela on peut compter le nombre d'espace dans la chaîne de caractère :\n"
   ]
  },
  {
   "cell_type": "markdown",
   "metadata": {},
   "source": [
    "Pour chaque ligne on calcul le nombre de mot phonétique :"
   ]
  },
  {
   "cell_type": "code",
   "execution_count": 22,
   "metadata": {},
   "outputs": [
    {
     "ename": "KeyError",
     "evalue": "28487",
     "output_type": "error",
     "traceback": [
      "\u001b[0;31m---------------------------------------------------------------------------\u001b[0m",
      "\u001b[0;31mKeyError\u001b[0m                                  Traceback (most recent call last)",
      "\u001b[0;32m<ipython-input-22-95652196c1bc>\u001b[0m in \u001b[0;36m<module>\u001b[0;34m\u001b[0m\n\u001b[1;32m      1\u001b[0m \u001b[0;31m# Exemple\u001b[0m\u001b[0;34m\u001b[0m\u001b[0;34m\u001b[0m\u001b[0;34m\u001b[0m\u001b[0m\n\u001b[0;32m----> 2\u001b[0;31m \u001b[0mpho\u001b[0m \u001b[0;34m=\u001b[0m \u001b[0mpho_leonard\u001b[0m\u001b[0;34m.\u001b[0m\u001b[0mat\u001b[0m\u001b[0;34m[\u001b[0m\u001b[0;36m28487\u001b[0m\u001b[0;34m,\u001b[0m \u001b[0;34m'contenu'\u001b[0m\u001b[0;34m]\u001b[0m\u001b[0;34m\u001b[0m\u001b[0;34m\u001b[0m\u001b[0m\n\u001b[0m\u001b[1;32m      3\u001b[0m \u001b[0mprint\u001b[0m\u001b[0;34m(\u001b[0m\u001b[0;34m'Nombre de mot dans \"'\u001b[0m \u001b[0;34m+\u001b[0m \u001b[0mpho\u001b[0m \u001b[0;34m+\u001b[0m \u001b[0;34m' : '\u001b[0m\u001b[0;34m+\u001b[0m \u001b[0mstr\u001b[0m\u001b[0;34m(\u001b[0m\u001b[0mpho\u001b[0m\u001b[0;34m.\u001b[0m\u001b[0mcount\u001b[0m\u001b[0;34m(\u001b[0m\u001b[0;34m' '\u001b[0m\u001b[0;34m)\u001b[0m\u001b[0;34m+\u001b[0m\u001b[0;36m1\u001b[0m\u001b[0;34m)\u001b[0m\u001b[0;34m)\u001b[0m\u001b[0;34m\u001b[0m\u001b[0;34m\u001b[0m\u001b[0m\n",
      "\u001b[0;32m//anaconda3/lib/python3.7/site-packages/pandas/core/indexing.py\u001b[0m in \u001b[0;36m__getitem__\u001b[0;34m(self, key)\u001b[0m\n\u001b[1;32m   2268\u001b[0m \u001b[0;34m\u001b[0m\u001b[0m\n\u001b[1;32m   2269\u001b[0m         \u001b[0mkey\u001b[0m \u001b[0;34m=\u001b[0m \u001b[0mself\u001b[0m\u001b[0;34m.\u001b[0m\u001b[0m_convert_key\u001b[0m\u001b[0;34m(\u001b[0m\u001b[0mkey\u001b[0m\u001b[0;34m)\u001b[0m\u001b[0;34m\u001b[0m\u001b[0;34m\u001b[0m\u001b[0m\n\u001b[0;32m-> 2270\u001b[0;31m         \u001b[0;32mreturn\u001b[0m \u001b[0mself\u001b[0m\u001b[0;34m.\u001b[0m\u001b[0mobj\u001b[0m\u001b[0;34m.\u001b[0m\u001b[0m_get_value\u001b[0m\u001b[0;34m(\u001b[0m\u001b[0;34m*\u001b[0m\u001b[0mkey\u001b[0m\u001b[0;34m,\u001b[0m \u001b[0mtakeable\u001b[0m\u001b[0;34m=\u001b[0m\u001b[0mself\u001b[0m\u001b[0;34m.\u001b[0m\u001b[0m_takeable\u001b[0m\u001b[0;34m)\u001b[0m\u001b[0;34m\u001b[0m\u001b[0;34m\u001b[0m\u001b[0m\n\u001b[0m\u001b[1;32m   2271\u001b[0m \u001b[0;34m\u001b[0m\u001b[0m\n\u001b[1;32m   2272\u001b[0m     \u001b[0;32mdef\u001b[0m \u001b[0m__setitem__\u001b[0m\u001b[0;34m(\u001b[0m\u001b[0mself\u001b[0m\u001b[0;34m,\u001b[0m \u001b[0mkey\u001b[0m\u001b[0;34m,\u001b[0m \u001b[0mvalue\u001b[0m\u001b[0;34m)\u001b[0m\u001b[0;34m:\u001b[0m\u001b[0;34m\u001b[0m\u001b[0;34m\u001b[0m\u001b[0m\n",
      "\u001b[0;32m//anaconda3/lib/python3.7/site-packages/pandas/core/frame.py\u001b[0m in \u001b[0;36m_get_value\u001b[0;34m(self, index, col, takeable)\u001b[0m\n\u001b[1;32m   2769\u001b[0m \u001b[0;34m\u001b[0m\u001b[0m\n\u001b[1;32m   2770\u001b[0m         \u001b[0;32mtry\u001b[0m\u001b[0;34m:\u001b[0m\u001b[0;34m\u001b[0m\u001b[0;34m\u001b[0m\u001b[0m\n\u001b[0;32m-> 2771\u001b[0;31m             \u001b[0;32mreturn\u001b[0m \u001b[0mengine\u001b[0m\u001b[0;34m.\u001b[0m\u001b[0mget_value\u001b[0m\u001b[0;34m(\u001b[0m\u001b[0mseries\u001b[0m\u001b[0;34m.\u001b[0m\u001b[0m_values\u001b[0m\u001b[0;34m,\u001b[0m \u001b[0mindex\u001b[0m\u001b[0;34m)\u001b[0m\u001b[0;34m\u001b[0m\u001b[0;34m\u001b[0m\u001b[0m\n\u001b[0m\u001b[1;32m   2772\u001b[0m         \u001b[0;32mexcept\u001b[0m \u001b[0;34m(\u001b[0m\u001b[0mTypeError\u001b[0m\u001b[0;34m,\u001b[0m \u001b[0mValueError\u001b[0m\u001b[0;34m)\u001b[0m\u001b[0;34m:\u001b[0m\u001b[0;34m\u001b[0m\u001b[0;34m\u001b[0m\u001b[0m\n\u001b[1;32m   2773\u001b[0m \u001b[0;34m\u001b[0m\u001b[0m\n",
      "\u001b[0;32mpandas/_libs/index.pyx\u001b[0m in \u001b[0;36mpandas._libs.index.IndexEngine.get_value\u001b[0;34m()\u001b[0m\n",
      "\u001b[0;32mpandas/_libs/index.pyx\u001b[0m in \u001b[0;36mpandas._libs.index.IndexEngine.get_value\u001b[0;34m()\u001b[0m\n",
      "\u001b[0;32mpandas/_libs/index.pyx\u001b[0m in \u001b[0;36mpandas._libs.index.IndexEngine.get_loc\u001b[0;34m()\u001b[0m\n",
      "\u001b[0;32mpandas/_libs/hashtable_class_helper.pxi\u001b[0m in \u001b[0;36mpandas._libs.hashtable.Int64HashTable.get_item\u001b[0;34m()\u001b[0m\n",
      "\u001b[0;32mpandas/_libs/hashtable_class_helper.pxi\u001b[0m in \u001b[0;36mpandas._libs.hashtable.Int64HashTable.get_item\u001b[0;34m()\u001b[0m\n",
      "\u001b[0;31mKeyError\u001b[0m: 28487"
     ]
    }
   ],
   "source": [
    "# Exemple \n",
    "pho = pho_leonard.at[28487, 'contenu']\n",
    "print('Nombre de mot dans \"' + pho + ' : '+ str(pho.count(' ')+1))"
   ]
  },
  {
   "cell_type": "code",
   "execution_count": null,
   "metadata": {},
   "outputs": [],
   "source": [
    "pho_leonard.info()"
   ]
  },
  {
   "cell_type": "markdown",
   "metadata": {},
   "source": [
    "Pour chaque ligne on calcul le nombre de mot phonétique :"
   ]
  },
  {
   "cell_type": "code",
   "execution_count": null,
   "metadata": {},
   "outputs": [],
   "source": [
    "nb_mot_pho = pho_leonard.apply(lambda row: str(row['contenu']).count(' ')+1, axis=1)\n",
    "pho_leonard['nombre_mot_phonétique'] = nb_mot_pho #On ajoute une colonne contenant le nombre de mot"
   ]
  },
  {
   "cell_type": "markdown",
   "metadata": {},
   "source": [
    "\n",
    "Par exemple on peut avoir la phrase de Madeleine avec le plus grand nombre de mot :"
   ]
  },
  {
   "cell_type": "code",
   "execution_count": null,
   "metadata": {},
   "outputs": [],
   "source": [
    "pho_leonard.loc[pho_leonard['nombre_mot_phonétique'] == pho_leonard['nombre_mot_phonétique'].max()].contenu.values"
   ]
  },
  {
   "cell_type": "markdown",
   "metadata": {},
   "source": [
    "Voici la ligne de cette phrase :"
   ]
  },
  {
   "cell_type": "code",
   "execution_count": null,
   "metadata": {},
   "outputs": [],
   "source": [
    "pho_leonard.loc[pho_leonard['nombre_mot_phonétique'] == pho_leonard['nombre_mot_phonétique'].max()]"
   ]
  },
  {
   "cell_type": "markdown",
   "metadata": {},
   "source": [
    "## Esperance du mot par phrase"
   ]
  },
  {
   "cell_type": "code",
   "execution_count": null,
   "metadata": {
    "scrolled": true
   },
   "outputs": [],
   "source": [
    "mean_nb_mot_pho_leonard_jour = pho_leonard[{'année', 'mois', 'jour', 'nombre_mot_phonétique'}].groupby(['année', 'mois', 'jour']).mean()\n",
    "mean_nb_mot_pho_leonard_jour = mean_nb_mot_pho_leonard_jour.rename(columns={'nombre_mot_phonétique': 'espérance_nombre_de_mot_phonétique'})\n",
    "mean_nb_mot_pho_leonard_jour"
   ]
  },
  {
   "cell_type": "code",
   "execution_count": null,
   "metadata": {},
   "outputs": [],
   "source": [
    "mean_nb_mot_pho_leonard_jour.plot(kind='bar', \n",
    "                            subplots=True, \n",
    "                            figsize=(20, 20),\n",
    "                            title = 'Espérance du nombre de mot phonétique par mois : Madeleine',\n",
    "                            fontsize = 15,\n",
    "                            use_index = True,\n",
    "                            grid=True);\n"
   ]
  },
  {
   "cell_type": "markdown",
   "metadata": {},
   "source": [
    "- On constaste que l'espérance a tendance a augmenter au fil du temps\n",
    "- L'esperance pour l'age 3_02_25 est exessivement élevée\n"
   ]
  },
  {
   "cell_type": "markdown",
   "metadata": {},
   "source": [
    "## Variance du nombre de mot par phrase"
   ]
  },
  {
   "cell_type": "code",
   "execution_count": null,
   "metadata": {},
   "outputs": [],
   "source": [
    "var_nb_mot_pho_leonard = pho_leonard[{'année','mois','nombre_mot_phonétique'}].groupby(['année','mois']).var()\n",
    "var_nb_mot_pho_leonard = var_nb_mot_pho_leonard.rename(columns={'nombre_mot_phonétique': 'variance'})\n",
    "var_nb_mot_pho_leonard.unstack(level=1)"
   ]
  },
  {
   "cell_type": "markdown",
   "metadata": {},
   "source": [
    "### Plus grande phrase"
   ]
  },
  {
   "cell_type": "code",
   "execution_count": null,
   "metadata": {},
   "outputs": [],
   "source": [
    "max_mot_pho_leonard = pho_leonard[{'année','mois','nombre_mot_phonétique'}].groupby(['année','mois']).max()\n",
    "max_mot_pho_leonard = max_mot_pho_leonard.rename(columns={'nombre_mot_phonétique': 'longueur_max'})\n",
    "max_mot_pho_leonard.unstack(level=1)"
   ]
  },
  {
   "cell_type": "code",
   "execution_count": null,
   "metadata": {},
   "outputs": [],
   "source": [
    "max_mot_pho_leonard.plot(kind='bar', \n",
    "                            subplots=True, \n",
    "                            figsize=(20, 20),\n",
    "                            title = 'Longueur de la plus grande par jour : Madeleine',\n",
    "                            fontsize = 15,\n",
    "                            use_index = True,\n",
    "                            grid=True);"
   ]
  },
  {
   "cell_type": "markdown",
   "metadata": {},
   "source": [
    "On note une que la longueur de la plus longue phrase par enregistrement évolue jusqu'à ses 3 ans.\n",
    "Remarque: le fait que l'enfant effectue une longue prhase signifie pas forcement que celle-ci a un sens"
   ]
  },
  {
   "cell_type": "code",
   "execution_count": null,
   "metadata": {},
   "outputs": [],
   "source": []
  }
 ],
 "metadata": {
  "kernelspec": {
   "display_name": "Python 3",
   "language": "python",
   "name": "python3"
  },
  "language_info": {
   "codemirror_mode": {
    "name": "ipython",
    "version": 3
   },
   "file_extension": ".py",
   "mimetype": "text/x-python",
   "name": "python",
   "nbconvert_exporter": "python",
   "pygments_lexer": "ipython3",
   "version": "3.7.3"
  }
 },
 "nbformat": 4,
 "nbformat_minor": 2
}
