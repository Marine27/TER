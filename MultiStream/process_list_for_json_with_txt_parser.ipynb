{
  "nbformat": 4,
  "nbformat_minor": 0,
  "metadata": {
    "colab": {
      "name": "Untitled3.ipynb",
      "provenance": [],
      "include_colab_link": true
    },
    "kernelspec": {
      "name": "python3",
      "display_name": "Python 3"
    }
  },
  "cells": [
    {
      "cell_type": "markdown",
      "metadata": {
        "id": "view-in-github",
        "colab_type": "text"
      },
      "source": [
        "<a href=\"https://colab.research.google.com/github/Petrichoeur/TER/blob/master/MultiStream/process_list_for_json_with_txt_parser.ipynb\" target=\"_parent\"><img src=\"https://colab.research.google.com/assets/colab-badge.svg\" alt=\"Open In Colab\"/></a>"
      ]
    },
    {
      "cell_type": "code",
      "metadata": {
        "id": "BU78udFNXgHn",
        "colab_type": "code",
        "colab": {}
      },
      "source": [
        "import pandas as pd  \n",
        "import numpy as np\n",
        "# Changer data anae final par un autre enfant \n",
        "\n",
        "def Reverse(tuples): \n",
        "    new_tup = tuples[::-1] \n",
        "    return new_tup \n",
        "\n",
        "data_child = pd.read_csv('data_madeleine_final.csv',\n",
        "                           sep = '\\t',\n",
        "                           encoding = 'utf-8',\n",
        "                           index_col=False)\n",
        "\n",
        "# On supprime la colonne qui duplique les index\n",
        "data_child = data_child.drop(columns = 'Unnamed: 0') \n",
        "data_child=data_child.sort_values(by = ['age','seconde_debut']) \n",
        "\n",
        "data_child.head()\n",
        "data_child['ind']=[ i for i in range(len(data_child))]\n",
        "data_child= data_child.set_index('ind')\n"
      ],
      "execution_count": 0,
      "outputs": []
    },
    {
      "cell_type": "code",
      "metadata": {
        "id": "7pxrkVp4Zrd3",
        "colab_type": "code",
        "colab": {}
      },
      "source": [
        "\n",
        "pho_child = data_child.where(data_child['type']=='pho').dropna(subset=['type'])\n",
        "#pho_child.to_csv('phono_anae.csv',sep=';') \n",
        "\n"
      ],
      "execution_count": 0,
      "outputs": []
    },
    {
      "cell_type": "code",
      "metadata": {
        "id": "Qw8SabcHXi_r",
        "colab_type": "code",
        "outputId": "cdeada79-5acd-499e-805e-8e092a7f30a1",
        "colab": {
          "base_uri": "https://localhost:8080/",
          "height": 141
        }
      },
      "source": [
        "data=pd.read_csv('phono_anae.csv',sep=';')\n",
        "data=pho_child\n",
        "pho=data[['age','contenu']] \n",
        "\n",
        "age=data['age'] \n",
        "l=[i for i in range(len(age))]\n",
        "k=[age.values]\n",
        "k.append(l)\n",
        "tuples = list(zip(*k))\n",
        "index = pd.MultiIndex.from_tuples(tuples, names=['index', 'age'])\n",
        "data.set_index(index,inplace=True)\n",
        "\n",
        "D={} \n",
        "pho=data[['contenu']]\n",
        "pho['contenu']=pho['contenu'].apply(lambda x: str(x))\n",
        "for i in list(zip(*pho.index))[0]:  \n",
        "    z=pho['contenu'].loc[i].values\n",
        "    y= ' '.join(z) \n",
        "    D[i]=y.split()\n",
        "    \n",
        "    \n",
        "flemme = pd.DataFrame(list(zip(*pho.index))[0]) \n",
        "\n",
        "FLEMME=flemme[0].unique()\n",
        "\n",
        "df = {} \n",
        "for i in FLEMME : \n",
        "    df[i]=pd.DataFrame(D[i], index= [i for _ in range(len(D[i]))] , columns=['mot']) \n",
        "\n",
        "    \n",
        "df2=pd.concat([df[i] for i in FLEMME]) \n"
      ],
      "execution_count": 132,
      "outputs": [
        {
          "output_type": "stream",
          "text": [
            "/usr/local/lib/python3.6/dist-packages/ipykernel_launcher.py:15: SettingWithCopyWarning: \n",
            "A value is trying to be set on a copy of a slice from a DataFrame.\n",
            "Try using .loc[row_indexer,col_indexer] = value instead\n",
            "\n",
            "See the caveats in the documentation: http://pandas.pydata.org/pandas-docs/stable/user_guide/indexing.html#returning-a-view-versus-a-copy\n",
            "  from ipykernel import kernelapp as app\n"
          ],
          "name": "stderr"
        }
      ]
    },
    {
      "cell_type": "code",
      "metadata": {
        "id": "7wlqwE1qNCPO",
        "colab_type": "code",
        "colab": {}
      },
      "source": [
        "\n",
        "IPA = \"a,r,l,e,s,i,ɛ,ə,t,k,p,d,m,ɑ̃,n,u,v,o,y,ɔ̃,ʒ,ɔ,ɛ̃,f,b,j,w,ɥ,z,ø,ʃ,œ̃,œ,g,ɑ,ɲ,tr,kr,dr,gr\" \n",
        "IPA2= IPA.split(',')\n",
        "Dic={'0':'ɑ̃','1':'ɔ̃','2':'ɛ̃','3':'œ̃','4':'tr','5':'kr','6':'dr','7':'gr'}\n",
        "IPA_=[]\n",
        "def ipa_(x):\n",
        "  x=x.replace( 'ʁ','r') \n",
        "  x=x.replace('ɑ̃','0')\n",
        "  x=x.replace('ɔ̃','1') \n",
        "  x=x.replace('ɛ̃', '2') \n",
        "  x=x.replace('œ̃','3') \n",
        "  x=x.replace('tr','4')\n",
        "  x=x.replace('kr','5')\n",
        "  x=x.replace('dr','6')\n",
        "  x=x.replace('gr','7')\n",
        "  x=x.replace( 'ʁ','r')\n",
        "  return x \n",
        "\n",
        "df=df2\n",
        "\n",
        "df['index_age']=df.index \n",
        "forjson=df[['index_age','mot']]\n",
        "\n",
        "\n",
        "def splitage(x): \n",
        "    l=[]\n",
        "    for y in x: \n",
        "        l.append(y)\n",
        "    return l\n",
        "\n",
        "\n",
        "\n",
        "def return_pho(x,choose=False):  \n",
        "  l=[] \n",
        "  for i in ipa_(IPA): \n",
        "    for ch in x : \n",
        "      if i==x :\n",
        "        l.append(i) \n",
        "  return l \n",
        "\n",
        "\n",
        "\n",
        "forjson['mot']=forjson['mot'].apply(lambda x: ipa_(str(x))) \n",
        "\n",
        "forjson['mot_ut']=forjson['mot'].apply(lambda x: splitage(str(x))) \n",
        "\n",
        "\n",
        "D={}\n",
        "for i in forjson['index_age'].unique(): \n",
        "  D[i]=forjson[forjson['index_age']== i]  \n",
        "\n",
        "index_json=forjson['index_age'].unique()\n",
        "\n",
        "name_for_pho={}\n",
        "for i in index_json : \n",
        "  l=D[i].mot.values\n",
        "  k=list(D[i].mot_ut.values)\n",
        "  name=[] \n",
        "  for p in range(len(k)) :\n",
        "   for j in range(len(k[p])): \n",
        "    name.append(l[p])  \n",
        "  name_for_pho[i]=name\n",
        "\n",
        " \n",
        "final={} \n",
        "for i in index_json: \n",
        "  final[i]=pd.DataFrame([name_for_pho[i],D[i]['mot_ut'].sum()],index=['mot','phoneme']).transpose()\n"
      ],
      "execution_count": 0,
      "outputs": []
    },
    {
      "cell_type": "code",
      "metadata": {
        "id": "63xaL0OgOope",
        "colab_type": "code",
        "outputId": "a3b679d4-d013-4553-d2db-3dc05cd2c376",
        "colab": {
          "base_uri": "https://localhost:8080/",
          "height": 455
        }
      },
      "source": [
        "pho_child[['type','contenu']]"
      ],
      "execution_count": 134,
      "outputs": [
        {
          "output_type": "execute_result",
          "data": {
            "text/html": [
              "<div>\n",
              "<style scoped>\n",
              "    .dataframe tbody tr th:only-of-type {\n",
              "        vertical-align: middle;\n",
              "    }\n",
              "\n",
              "    .dataframe tbody tr th {\n",
              "        vertical-align: top;\n",
              "    }\n",
              "\n",
              "    .dataframe thead th {\n",
              "        text-align: right;\n",
              "    }\n",
              "</style>\n",
              "<table border=\"1\" class=\"dataframe\">\n",
              "  <thead>\n",
              "    <tr style=\"text-align: right;\">\n",
              "      <th></th>\n",
              "      <th></th>\n",
              "      <th>type</th>\n",
              "      <th>contenu</th>\n",
              "    </tr>\n",
              "    <tr>\n",
              "      <th>index</th>\n",
              "      <th>age</th>\n",
              "      <th></th>\n",
              "      <th></th>\n",
              "    </tr>\n",
              "  </thead>\n",
              "  <tbody>\n",
              "    <tr>\n",
              "      <th rowspan=\"5\" valign=\"top\">1_00_05</th>\n",
              "      <th>0</th>\n",
              "      <td>pho</td>\n",
              "      <td>eː</td>\n",
              "    </tr>\n",
              "    <tr>\n",
              "      <th>1</th>\n",
              "      <td>pho</td>\n",
              "      <td>bɛ</td>\n",
              "    </tr>\n",
              "    <tr>\n",
              "      <th>2</th>\n",
              "      <td>pho</td>\n",
              "      <td>vœga</td>\n",
              "    </tr>\n",
              "    <tr>\n",
              "      <th>3</th>\n",
              "      <td>pho</td>\n",
              "      <td>gatœ̃</td>\n",
              "    </tr>\n",
              "    <tr>\n",
              "      <th>4</th>\n",
              "      <td>pho</td>\n",
              "      <td>kaka</td>\n",
              "    </tr>\n",
              "    <tr>\n",
              "      <th>...</th>\n",
              "      <th>...</th>\n",
              "      <td>...</td>\n",
              "      <td>...</td>\n",
              "    </tr>\n",
              "    <tr>\n",
              "      <th rowspan=\"3\" valign=\"top\">6_05_14</th>\n",
              "      <th>14609</th>\n",
              "      <td>pho</td>\n",
              "      <td>kuzɛ̃</td>\n",
              "    </tr>\n",
              "    <tr>\n",
              "      <th>14610</th>\n",
              "      <td>pho</td>\n",
              "      <td>mamɑ̃</td>\n",
              "    </tr>\n",
              "    <tr>\n",
              "      <th>14611</th>\n",
              "      <td>pho</td>\n",
              "      <td>ʁəgaʁd</td>\n",
              "    </tr>\n",
              "    <tr>\n",
              "      <th rowspan=\"2\" valign=\"top\">6_11_27</th>\n",
              "      <th>14612</th>\n",
              "      <td>pho</td>\n",
              "      <td>wiʃ</td>\n",
              "    </tr>\n",
              "    <tr>\n",
              "      <th>14613</th>\n",
              "      <td>pho</td>\n",
              "      <td>wiʃ</td>\n",
              "    </tr>\n",
              "  </tbody>\n",
              "</table>\n",
              "<p>14614 rows × 2 columns</p>\n",
              "</div>"
            ],
            "text/plain": [
              "              type contenu\n",
              "index   age               \n",
              "1_00_05 0      pho      eː\n",
              "        1      pho      bɛ\n",
              "        2      pho    vœga\n",
              "        3      pho   gatœ̃\n",
              "        4      pho    kaka\n",
              "...            ...     ...\n",
              "6_05_14 14609  pho   kuzɛ̃\n",
              "        14610  pho   mamɑ̃\n",
              "        14611  pho  ʁəgaʁd\n",
              "6_11_27 14612  pho     wiʃ\n",
              "        14613  pho     wiʃ\n",
              "\n",
              "[14614 rows x 2 columns]"
            ]
          },
          "metadata": {
            "tags": []
          },
          "execution_count": 134
        }
      ]
    },
    {
      "cell_type": "markdown",
      "metadata": {
        "id": "2cgMJDnZkIdB",
        "colab_type": "text"
      },
      "source": [
        ""
      ]
    },
    {
      "cell_type": "code",
      "metadata": {
        "id": "P4Nj9OaNPvos",
        "colab_type": "code",
        "colab": {}
      },
      "source": [
        "def discrimi(x): \n",
        "  if x not in ipa_(IPA): \n",
        "    return np.nan \n",
        "  else : \n",
        "    return x \n",
        "for i in final.keys():\n",
        "  final[i]['phoneme'] = final[i]['phoneme'].apply(lambda x: discrimi(x) ) \n",
        "  final[i].dropna(inplace=True)"
      ],
      "execution_count": 0,
      "outputs": []
    },
    {
      "cell_type": "code",
      "metadata": {
        "id": "Z6P1A4etK88r",
        "colab_type": "code",
        "colab": {}
      },
      "source": [
        "fake_hour =(' '.join(list(final.keys()))).replace('_',':').split(' ')"
      ],
      "execution_count": 0,
      "outputs": []
    },
    {
      "cell_type": "code",
      "metadata": {
        "id": "QUF4r-nXarOV",
        "colab_type": "code",
        "colab": {}
      },
      "source": [
        "fichier = open(\"mady.txt\", \"a\")\n",
        "itera=0\n",
        "for key,df_val in final.items(): \n",
        "  for i in range(len(df_val)):\n",
        "    to_write='{\"date_time\": \"%s\",\"text\": \"%s\",\"value\": \"%s\"},' % (fake_hour[itera],df_val.mot.iloc[i],df_val.phoneme.iloc[i]) \n",
        "    fichier.write(to_write) \n",
        "itera+=1\n",
        "\n",
        "\n",
        "fichier.close()\n",
        "\n"
      ],
      "execution_count": 0,
      "outputs": []
    },
    {
      "cell_type": "code",
      "metadata": {
        "id": "7dIG7UTedHF-",
        "colab_type": "code",
        "colab": {
          "base_uri": "https://localhost:8080/",
          "height": 34
        },
        "outputId": "84166213-450b-4cdc-a7c3-66f9a9b2ecb4"
      },
      "source": [
        ""
      ],
      "execution_count": 157,
      "outputs": [
        {
          "output_type": "execute_result",
          "data": {
            "text/plain": [
              "35"
            ]
          },
          "metadata": {
            "tags": []
          },
          "execution_count": 157
        }
      ]
    },
    {
      "cell_type": "code",
      "metadata": {
        "id": "-Lb27uLNLyKo",
        "colab_type": "code",
        "colab": {
          "base_uri": "https://localhost:8080/",
          "height": 170
        },
        "outputId": "44ee2f34-3c96-4ca2-c7cf-a6ab9a9a5120"
      },
      "source": [
        "'{\"date_time\": \"11/09/2003 15:51:01\",\"text\": \"mot\",\"value\": \"phoneme\"}'"
      ],
      "execution_count": 149,
      "outputs": [
        {
          "output_type": "error",
          "ename": "ValueError",
          "evalue": "ignored",
          "traceback": [
            "\u001b[0;31m---------------------------------------------------------------------------\u001b[0m",
            "\u001b[0;31mValueError\u001b[0m                                Traceback (most recent call last)",
            "\u001b[0;32m<ipython-input-149-af0d500dd058>\u001b[0m in \u001b[0;36m<module>\u001b[0;34m()\u001b[0m\n\u001b[0;32m----> 1\u001b[0;31m \u001b[0;34mf'{\"date_time\": \"11/09/2003 15:51:01\",\"text\": \"mot\",\"value\": \"phoneme\"}'\u001b[0m\u001b[0;34m\u001b[0m\u001b[0;34m\u001b[0m\u001b[0m\n\u001b[0m",
            "\u001b[0;31mValueError\u001b[0m: Invalid format specifier"
          ]
        }
      ]
    },
    {
      "cell_type": "code",
      "metadata": {
        "id": "cpOwEOVOMV20",
        "colab_type": "code",
        "colab": {
          "base_uri": "https://localhost:8080/",
          "height": 34
        },
        "outputId": "998b076e-a4b6-4cca-92cd-c9ba1ea8f160"
      },
      "source": [
        "'{\"date_time\": \"%s\",\"text\": \"%s\",\"value\": \"%s\"}'%('a','b','c')"
      ],
      "execution_count": 151,
      "outputs": [
        {
          "output_type": "execute_result",
          "data": {
            "text/plain": [
              "'{\"date_time\": \"a\",\"text\": \"b\",\"value\": \"c\"}'"
            ]
          },
          "metadata": {
            "tags": []
          },
          "execution_count": 151
        }
      ]
    },
    {
      "cell_type": "code",
      "metadata": {
        "id": "ZNlDuxtCP839",
        "colab_type": "code",
        "colab": {}
      },
      "source": [
        ""
      ],
      "execution_count": 0,
      "outputs": []
    },
    {
      "cell_type": "code",
      "metadata": {
        "id": "rjEHrxfVQyH6",
        "colab_type": "code",
        "colab": {}
      },
      "source": [
        ""
      ],
      "execution_count": 0,
      "outputs": []
    }
  ]
}