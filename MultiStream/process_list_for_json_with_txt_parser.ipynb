{
  "nbformat": 4,
  "nbformat_minor": 0,
  "metadata": {
    "colab": {
      "name": "Untitled3.ipynb",
      "provenance": [],
      "include_colab_link": true
    },
    "kernelspec": {
      "name": "python3",
      "display_name": "Python 3"
    }
  },
  "cells": [
    {
      "cell_type": "markdown",
      "metadata": {
        "id": "view-in-github",
        "colab_type": "text"
      },
      "source": [
        "<a href=\"https://colab.research.google.com/github/Petrichoeur/TER/blob/master/MultiStream/process_list_for_json_with_txt_parser.ipynb\" target=\"_parent\"><img src=\"https://colab.research.google.com/assets/colab-badge.svg\" alt=\"Open In Colab\"/></a>"
      ]
    },
    {
      "cell_type": "code",
      "metadata": {
        "id": "BU78udFNXgHn",
        "colab_type": "code",
        "colab": {}
      },
      "source": [
        "import pandas as pd  \n",
        "import numpy as np\n",
        "# Changer data anae final par un autre enfant \n",
        "\n",
        "def Reverse(tuples): \n",
        "    new_tup = tuples[::-1] \n",
        "    return new_tup \n",
        "\n",
        "data_child = pd.read_csv('data_anae_final_.csv',\n",
        "                           sep = '\\t',\n",
        "                           encoding = 'utf-8',\n",
        "                           index_col=False)\n",
        "\n",
        "# On supprime la colonne qui duplique les index\n",
        "data_child = data_child.drop(columns = 'Unnamed: 0') \n",
        "data_child=data_child.sort_values(by = ['age','seconde_debut']) \n",
        "\n",
        "data_child.head()\n",
        "data_child['ind']=[ i for i in range(len(data_child))]\n",
        "data_child= data_child.set_index('ind')\n"
      ],
      "execution_count": 0,
      "outputs": []
    },
    {
      "cell_type": "code",
      "metadata": {
        "id": "7pxrkVp4Zrd3",
        "colab_type": "code",
        "colab": {}
      },
      "source": [
        "\n",
        "pho_child = data_child.where(data_child['type']=='pho').dropna(subset=['type'])\n",
        "#pho_child.to_csv('phono_anae.csv',sep=';') \n",
        "\n"
      ],
      "execution_count": 0,
      "outputs": []
    },
    {
      "cell_type": "code",
      "metadata": {
        "id": "Qw8SabcHXi_r",
        "colab_type": "code",
        "outputId": "df8e9c3f-71ad-4460-d1d3-a41416c1d71f",
        "colab": {
          "base_uri": "https://localhost:8080/",
          "height": 141
        }
      },
      "source": [
        "#data=pd.read_csv('phono_anae.csv',sep=';')\n",
        "data=pho_child\n",
        "pho=data[['age','contenu']] \n",
        "\n",
        "age=data['age'] \n",
        "l=[i for i in range(len(age))]\n",
        "k=[age.values]\n",
        "k.append(l)\n",
        "tuples = list(zip(*k))\n",
        "index = pd.MultiIndex.from_tuples(tuples, names=['index', 'age'])\n",
        "data.set_index(index,inplace=True)\n",
        "\n",
        "D={} \n",
        "pho=data[['contenu']]\n",
        "pho['contenu']=pho['contenu'].apply(lambda x: str(x))\n",
        "for i in list(zip(*pho.index))[0]:  \n",
        "    z=pho['contenu'].loc[i].values\n",
        "    y= ' '.join(z) \n",
        "    D[i]=y.split()\n",
        "    \n",
        "    \n",
        "flemme = pd.DataFrame(list(zip(*pho.index))[0]) \n",
        "\n",
        "FLEMME=flemme[0].unique()\n",
        "\n",
        "df = {} \n",
        "for i in FLEMME : \n",
        "    df[i]=pd.DataFrame(D[i], index= [i for _ in range(len(D[i]))] , columns=['mot']) \n",
        "\n",
        "    \n",
        "df2=pd.concat([df[i] for i in FLEMME]) \n"
      ],
      "execution_count": 8,
      "outputs": [
        {
          "output_type": "stream",
          "text": [
            "/usr/local/lib/python3.6/dist-packages/ipykernel_launcher.py:14: SettingWithCopyWarning: \n",
            "A value is trying to be set on a copy of a slice from a DataFrame.\n",
            "Try using .loc[row_indexer,col_indexer] = value instead\n",
            "\n",
            "See the caveats in the documentation: http://pandas.pydata.org/pandas-docs/stable/user_guide/indexing.html#returning-a-view-versus-a-copy\n",
            "  \n"
          ],
          "name": "stderr"
        }
      ]
    },
    {
      "cell_type": "code",
      "metadata": {
        "id": "7wlqwE1qNCPO",
        "colab_type": "code",
        "colab": {}
      },
      "source": [
        "\n",
        "IPA = \"a,r,l,e,s,i,ɛ,ə,t,k,p,d,m,ɑ̃,n,u,v,o,y,ɔ̃,ʒ,ɔ,ɛ̃,f,b,j,w,ɥ,z,ø,ʃ,œ̃,œ,g,ɑ,ɲ,tr,kr,dr,gr\" \n",
        "IPA2= IPA.split(',')\n",
        "Dic={'0':'ɑ̃','1':'ɔ̃','2':'ɛ̃','3':'œ̃','4':'tr','5':'kr','6':'dr','7':'gr'}\n",
        "IPA_=[]\n",
        "def ipa_(x):\n",
        "  x=x.replace( 'ʁ','r') \n",
        "  x=x.replace('ɑ̃','0')\n",
        "  x=x.replace('ɔ̃','1') \n",
        "  x=x.replace('ɛ̃', '2') \n",
        "  x=x.replace('œ̃','3') \n",
        "  x=x.replace('tr','4')\n",
        "  x=x.replace('kr','5')\n",
        "  x=x.replace('dr','6')\n",
        "  x=x.replace('gr','7')\n",
        "  x=x.replace( 'ʁ','r')\n",
        "  return x \n",
        "\n",
        "df=df2\n",
        "\n",
        "df['index_age']=df.index \n",
        "forjson=df[['index_age','mot']]\n",
        "\n",
        "\n",
        "def splitage(x): \n",
        "    l=[]\n",
        "    for y in x: \n",
        "        l.append(y)\n",
        "    return l\n",
        "\n",
        "\n",
        "\n",
        "def return_pho(x,choose=False):  \n",
        "  l=[] \n",
        "  for i in ipa_(IPA): \n",
        "    for ch in x : \n",
        "      if i==x :\n",
        "        l.append(i) \n",
        "  return l \n",
        "\n",
        "\n",
        "\n",
        "forjson['mot']=forjson['mot'].apply(lambda x: ipa_(str(x))) \n",
        "\n",
        "forjson['mot_ut']=forjson['mot'].apply(lambda x: splitage(str(x))) \n",
        "\n",
        "\n",
        "D={}\n",
        "for i in forjson['index_age'].unique(): \n",
        "  D[i]=forjson[forjson['index_age']== i]  \n",
        "\n",
        "index_json=forjson['index_age'].unique()\n",
        "\n",
        "name_for_pho={}\n",
        "for i in index_json : \n",
        "  l=D[i].mot.values\n",
        "  k=list(D[i].mot_ut.values)\n",
        "  name=[] \n",
        "  for p in range(len(k)) :\n",
        "   for j in range(len(k[p])): \n",
        "    name.append(l[p])  \n",
        "  name_for_pho[i]=name\n",
        "\n",
        " \n",
        "final={} \n",
        "for i in index_json: \n",
        "  final[i]=pd.DataFrame([name_for_pho[i],D[i]['mot_ut'].sum()],index=['mot','phoneme']).transpose()\n"
      ],
      "execution_count": 0,
      "outputs": []
    },
    {
      "cell_type": "code",
      "metadata": {
        "id": "63xaL0OgOope",
        "colab_type": "code",
        "outputId": "81a95f10-ad0e-4df1-ede5-fc1b2f3ceeab",
        "colab": {
          "base_uri": "https://localhost:8080/",
          "height": 455
        }
      },
      "source": [
        "pho_child[['type','contenu']]"
      ],
      "execution_count": 10,
      "outputs": [
        {
          "output_type": "execute_result",
          "data": {
            "text/html": [
              "<div>\n",
              "<style scoped>\n",
              "    .dataframe tbody tr th:only-of-type {\n",
              "        vertical-align: middle;\n",
              "    }\n",
              "\n",
              "    .dataframe tbody tr th {\n",
              "        vertical-align: top;\n",
              "    }\n",
              "\n",
              "    .dataframe thead th {\n",
              "        text-align: right;\n",
              "    }\n",
              "</style>\n",
              "<table border=\"1\" class=\"dataframe\">\n",
              "  <thead>\n",
              "    <tr style=\"text-align: right;\">\n",
              "      <th></th>\n",
              "      <th></th>\n",
              "      <th>type</th>\n",
              "      <th>contenu</th>\n",
              "    </tr>\n",
              "    <tr>\n",
              "      <th>index</th>\n",
              "      <th>age</th>\n",
              "      <th></th>\n",
              "      <th></th>\n",
              "    </tr>\n",
              "  </thead>\n",
              "  <tbody>\n",
              "    <tr>\n",
              "      <th rowspan=\"5\" valign=\"top\">1_04_20</th>\n",
              "      <th>0</th>\n",
              "      <td>pho</td>\n",
              "      <td>mɔmɑ̃</td>\n",
              "    </tr>\n",
              "    <tr>\n",
              "      <th>1</th>\n",
              "      <td>pho</td>\n",
              "      <td>kakatetəma</td>\n",
              "    </tr>\n",
              "    <tr>\n",
              "      <th>2</th>\n",
              "      <td>pho</td>\n",
              "      <td>eːja</td>\n",
              "    </tr>\n",
              "    <tr>\n",
              "      <th>3</th>\n",
              "      <td>pho</td>\n",
              "      <td>mmmnamna mnamnam</td>\n",
              "    </tr>\n",
              "    <tr>\n",
              "      <th>4</th>\n",
              "      <td>pho</td>\n",
              "      <td>u</td>\n",
              "    </tr>\n",
              "    <tr>\n",
              "      <th>...</th>\n",
              "      <th>...</th>\n",
              "      <td>...</td>\n",
              "      <td>...</td>\n",
              "    </tr>\n",
              "    <tr>\n",
              "      <th rowspan=\"5\" valign=\"top\">5_07_06</th>\n",
              "      <th>18751</th>\n",
              "      <td>pho</td>\n",
              "      <td>e ty di zeʁo zɑ̃</td>\n",
              "    </tr>\n",
              "    <tr>\n",
              "      <th>18752</th>\n",
              "      <td>pho</td>\n",
              "      <td>ta</td>\n",
              "    </tr>\n",
              "    <tr>\n",
              "      <th>18753</th>\n",
              "      <td>pho</td>\n",
              "      <td>mə</td>\n",
              "    </tr>\n",
              "    <tr>\n",
              "      <th>18754</th>\n",
              "      <td>pho</td>\n",
              "      <td>m</td>\n",
              "    </tr>\n",
              "    <tr>\n",
              "      <th>18755</th>\n",
              "      <td>pho</td>\n",
              "      <td>a</td>\n",
              "    </tr>\n",
              "  </tbody>\n",
              "</table>\n",
              "<p>18756 rows × 2 columns</p>\n",
              "</div>"
            ],
            "text/plain": [
              "              type           contenu\n",
              "index   age                         \n",
              "1_04_20 0      pho             mɔmɑ̃\n",
              "        1      pho        kakatetəma\n",
              "        2      pho              eːja\n",
              "        3      pho  mmmnamna mnamnam\n",
              "        4      pho                 u\n",
              "...            ...               ...\n",
              "5_07_06 18751  pho  e ty di zeʁo zɑ̃\n",
              "        18752  pho                ta\n",
              "        18753  pho                mə\n",
              "        18754  pho                 m\n",
              "        18755  pho                 a\n",
              "\n",
              "[18756 rows x 2 columns]"
            ]
          },
          "metadata": {
            "tags": []
          },
          "execution_count": 10
        }
      ]
    },
    {
      "cell_type": "markdown",
      "metadata": {
        "id": "2cgMJDnZkIdB",
        "colab_type": "text"
      },
      "source": [
        ""
      ]
    },
    {
      "cell_type": "code",
      "metadata": {
        "id": "P4Nj9OaNPvos",
        "colab_type": "code",
        "colab": {}
      },
      "source": [
        "def discrimi(x): \n",
        "  if x not in ipa_(IPA): \n",
        "    return np.nan \n",
        "  else : \n",
        "    return x \n",
        "for i in final.keys():\n",
        "  final[i]['phoneme'] = final[i]['phoneme'].apply(lambda x: discrimi(x) ) \n",
        "  final[i].dropna(inplace=True)"
      ],
      "execution_count": 0,
      "outputs": []
    },
    {
      "cell_type": "code",
      "metadata": {
        "id": "Z6P1A4etK88r",
        "colab_type": "code",
        "colab": {}
      },
      "source": [
        "fake_hour =(' '.join(list(final.keys()))).replace('_','/').split(' ') \n",
        "timer_add=0\n",
        "for i in range(len(fake_hour)):\n",
        "  fake_hour[i]='0'+''.join(list(fake_hour[i])[:-2])+'2010'+' '+time_fake"
      ],
      "execution_count": 0,
      "outputs": []
    },
    {
      "cell_type": "code",
      "metadata": {
        "id": "QUF4r-nXarOV",
        "colab_type": "code",
        "colab": {}
      },
      "source": [
        "fichier = open(\"anae3.txt\", \"a\")\n",
        "itera=0\n",
        "for key,df_val in final.items(): \n",
        "  for i in range(len(df_val)):\n",
        "    to_write='{\"date_time\": \"%s\",\"text\": \"%s\",\"value\": \"%s\"}, \\n' % (fake_hour[itera],df_val.mot.iloc[i],df_val.phoneme.iloc[i]) \n",
        "    fichier.write(to_write) \n",
        "itera+=1\n",
        "\n",
        "\n",
        "fichier.close()\n",
        "\n"
      ],
      "execution_count": 0,
      "outputs": []
    },
    {
      "cell_type": "code",
      "metadata": {
        "id": "7dIG7UTedHF-",
        "colab_type": "code",
        "outputId": "1872cdef-92eb-4967-c470-1bfdcbc456aa",
        "colab": {
          "base_uri": "https://localhost:8080/",
          "height": 424
        }
      },
      "source": [
        "test_json=[]\n",
        "for key,val in final.items():\n"
      ],
      "execution_count": 31,
      "outputs": [
        {
          "output_type": "execute_result",
          "data": {
            "text/html": [
              "<div>\n",
              "<style scoped>\n",
              "    .dataframe tbody tr th:only-of-type {\n",
              "        vertical-align: middle;\n",
              "    }\n",
              "\n",
              "    .dataframe tbody tr th {\n",
              "        vertical-align: top;\n",
              "    }\n",
              "\n",
              "    .dataframe thead th {\n",
              "        text-align: right;\n",
              "    }\n",
              "</style>\n",
              "<table border=\"1\" class=\"dataframe\">\n",
              "  <thead>\n",
              "    <tr style=\"text-align: right;\">\n",
              "      <th></th>\n",
              "      <th>mot</th>\n",
              "      <th>phoneme</th>\n",
              "    </tr>\n",
              "  </thead>\n",
              "  <tbody>\n",
              "    <tr>\n",
              "      <th>0</th>\n",
              "      <td>mɔm0</td>\n",
              "      <td>m</td>\n",
              "    </tr>\n",
              "    <tr>\n",
              "      <th>1</th>\n",
              "      <td>mɔm0</td>\n",
              "      <td>ɔ</td>\n",
              "    </tr>\n",
              "    <tr>\n",
              "      <th>2</th>\n",
              "      <td>mɔm0</td>\n",
              "      <td>m</td>\n",
              "    </tr>\n",
              "    <tr>\n",
              "      <th>3</th>\n",
              "      <td>mɔm0</td>\n",
              "      <td>0</td>\n",
              "    </tr>\n",
              "    <tr>\n",
              "      <th>4</th>\n",
              "      <td>kakatetəma</td>\n",
              "      <td>k</td>\n",
              "    </tr>\n",
              "    <tr>\n",
              "      <th>...</th>\n",
              "      <td>...</td>\n",
              "      <td>...</td>\n",
              "    </tr>\n",
              "    <tr>\n",
              "      <th>1390</th>\n",
              "      <td>tepapa</td>\n",
              "      <td>a</td>\n",
              "    </tr>\n",
              "    <tr>\n",
              "      <th>1391</th>\n",
              "      <td>tepapa</td>\n",
              "      <td>p</td>\n",
              "    </tr>\n",
              "    <tr>\n",
              "      <th>1392</th>\n",
              "      <td>tepapa</td>\n",
              "      <td>a</td>\n",
              "    </tr>\n",
              "    <tr>\n",
              "      <th>1393</th>\n",
              "      <td>n1</td>\n",
              "      <td>n</td>\n",
              "    </tr>\n",
              "    <tr>\n",
              "      <th>1394</th>\n",
              "      <td>n1</td>\n",
              "      <td>1</td>\n",
              "    </tr>\n",
              "  </tbody>\n",
              "</table>\n",
              "<p>1369 rows × 2 columns</p>\n",
              "</div>"
            ],
            "text/plain": [
              "             mot phoneme\n",
              "0           mɔm0       m\n",
              "1           mɔm0       ɔ\n",
              "2           mɔm0       m\n",
              "3           mɔm0       0\n",
              "4     kakatetəma       k\n",
              "...          ...     ...\n",
              "1390      tepapa       a\n",
              "1391      tepapa       p\n",
              "1392      tepapa       a\n",
              "1393          n1       n\n",
              "1394          n1       1\n",
              "\n",
              "[1369 rows x 2 columns]"
            ]
          },
          "metadata": {
            "tags": []
          },
          "execution_count": 31
        }
      ]
    },
    {
      "cell_type": "code",
      "metadata": {
        "id": "-Lb27uLNLyKo",
        "colab_type": "code",
        "colab": {}
      },
      "source": [
        "\n"
      ],
      "execution_count": 0,
      "outputs": []
    },
    {
      "cell_type": "code",
      "metadata": {
        "id": "cpOwEOVOMV20",
        "colab_type": "code",
        "outputId": "29cd71b8-9a84-4e58-b34a-4f9867567ee2",
        "colab": {
          "base_uri": "https://localhost:8080/",
          "height": 555
        }
      },
      "source": [
        "fake_hour"
      ],
      "execution_count": 23,
      "outputs": [
        {
          "output_type": "execute_result",
          "data": {
            "text/plain": [
              "['1/04/2010 00:00:00',\n",
              " '1/06/2010 00:00:00',\n",
              " '1/07/2010 00:00:00',\n",
              " '1/09/2010 00:00:00',\n",
              " '1/10/2010 00:00:00',\n",
              " '2/00/2010 00:00:00',\n",
              " '2/00/2010 00:00:00',\n",
              " '2/01/2010 00:00:00',\n",
              " '2/02/2010 00:00:00',\n",
              " '2/03/2010 00:00:00',\n",
              " '2/04/2010 00:00:00',\n",
              " '2/05/2010 00:00:00',\n",
              " '2/06/2010 00:00:00',\n",
              " '2/08/2010 00:00:00',\n",
              " '2/09/2010 00:00:00',\n",
              " '2/10/2010 00:00:00',\n",
              " '2/11/2010 00:00:00',\n",
              " '3/01/2010 00:00:00',\n",
              " '3/03/2010 00:00:00',\n",
              " '3/04/2010 00:00:00',\n",
              " '3/05/2010 00:00:00',\n",
              " '3/06/2010 00:00:00',\n",
              " '3/08/2010 00:00:00',\n",
              " '3/10/2010 00:00:00',\n",
              " '4/00/2010 00:00:00',\n",
              " '4/01/2010 00:00:00',\n",
              " '4/04/2010 00:00:00',\n",
              " '4/05/2010 00:00:00',\n",
              " '4/08/2010 00:00:00',\n",
              " '5/01/2010 00:00:00',\n",
              " '5/07/2010 00:00:00']"
            ]
          },
          "metadata": {
            "tags": []
          },
          "execution_count": 23
        }
      ]
    },
    {
      "cell_type": "code",
      "metadata": {
        "id": "ZNlDuxtCP839",
        "colab_type": "code",
        "colab": {}
      },
      "source": [
        ""
      ],
      "execution_count": 0,
      "outputs": []
    },
    {
      "cell_type": "code",
      "metadata": {
        "id": "rjEHrxfVQyH6",
        "colab_type": "code",
        "colab": {}
      },
      "source": [
        ""
      ],
      "execution_count": 0,
      "outputs": []
    }
  ]
}