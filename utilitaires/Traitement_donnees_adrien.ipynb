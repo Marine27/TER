{
 "cells": [
  {
   "cell_type": "markdown",
   "metadata": {},
   "source": [
    "# Traitement des données Adrien\n",
    "\n",
    "---"
   ]
  },
  {
   "cell_type": "markdown",
   "metadata": {},
   "source": [
    "Adrien est né le 28 décembre 2004. Il est fils unique. Sa mère est secrétaire juridique et son père est ingénieur. Adrien est un petit garçon coquin, qui aime faire des blagues, surtout à son chat. \n",
    "\n",
    "Adrien a un développement linguistique typique et adore répéter les nouveaux mots. Naomi Yamaguchi l’a filmé une heure par mois depuis qu’il a 15 mois et arrêté les enregistrements à 4;11,20."
   ]
  },
  {
   "cell_type": "markdown",
   "metadata": {},
   "source": [
    "# Nettoyage "
   ]
  },
  {
   "cell_type": "markdown",
   "metadata": {},
   "source": [
    "## Chargement des données"
   ]
  },
  {
   "cell_type": "markdown",
   "metadata": {},
   "source": [
    "Récupèrer la liste des noms de fichier pour Julie :\n",
    "* Ces fichiers sont placés dans un repertoire 'data/adrien_texte'\n",
    "* Ils sont issuent d'une extraction sur le site colaje au format chat\n",
    "* Nous les avons converti en format .txt afin de pouvoir les traiter avec python"
   ]
  },
  {
   "cell_type": "code",
   "execution_count": 1,
   "metadata": {},
   "outputs": [
    {
     "name": "stdout",
     "output_type": "stream",
     "text": [
      "C:\\Users\\lamou\\Desktop\\MIASHS\\TER_a\n"
     ]
    }
   ],
   "source": [
    "import os \n",
    "import pandas as pd \n",
    "\n",
    "print(os.getcwd())\n",
    "os.chdir('C:\\\\Users\\\\Lamou\\\\Desktop\\\\MIASHS\\\\TER_a\\\\data\\\\adrien_texte')\n",
    "listing=os.listdir() # On crée une liste de tout les noms des fichiers"
   ]
  },
  {
   "cell_type": "code",
   "execution_count": 13,
   "metadata": {},
   "outputs": [],
   "source": [
    "#listing"
   ]
  },
  {
   "cell_type": "markdown",
   "metadata": {},
   "source": [
    "Nous avons 31 fichiers pour Adrien, chacun de ces fichiers corresepondent aux retrancriptions d'un enregistrement vidéo."
   ]
  },
  {
   "cell_type": "markdown",
   "metadata": {},
   "source": [
    "\n",
    "## Lecture des données"
   ]
  },
  {
   "cell_type": "markdown",
   "metadata": {},
   "source": [
    "* Définir le nom des colonnes selon le fichier final attendu\n",
    "* Lire chaque fichier de la liste \n",
    "* Ajouter les colonnes nom de l'enfant et son age\n",
    "* La colonne age identifie de manière unique l'enregistrement"
   ]
  },
  {
   "cell_type": "code",
   "execution_count": 5,
   "metadata": {},
   "outputs": [],
   "source": [
    "os.chdir('C:\\\\Users\\\\Lamou\\\\Desktop\\\\MIASHS\\\\TER_a\\\\data\\\\adrien_texte')\n",
    "\n",
    "d = {} # Le dictionnaire contenant les noms des fichiers\n",
    "nom_col = ['type', 'seconde_debut', 'seconde_fin', 'contenu']\n",
    "rows = 0 #Compteur de ligne pour vérifier la perte de données\n",
    "\n",
    "for file in listing: \n",
    "    d[file]=pd.read_csv(file, \n",
    "                        sep = '\\t', \n",
    "                        names = nom_col, \n",
    "                        header = None)  \n",
    "\n",
    "    # On ajoute le nom de l'enfant\n",
    "    nom_pos1 = 0\n",
    "    nom_pos2 = file.find('-')\n",
    "    nom = file[nom_pos1:nom_pos2]\n",
    "    d[file]['enfant'] = nom\n",
    "    \n",
    "    #On ajoute l'age de l'enfant\n",
    "    age_pos1 = file.find('_')-1\n",
    "    age_pos2 = file.find('.')\n",
    "    age = file[age_pos1:age_pos2]\n",
    "    d[file]['age'] = age\n",
    "    \n",
    "    rows += len(d[file])\n",
    "    \n",
    "    \n",
    "# DataFrame contenant toutes les lignes de l'enfant\n",
    "data = pd.concat([d[file] for file in listing], \n",
    "                 sort=False,\n",
    "                 ignore_index=True) "
   ]
  },
  {
   "cell_type": "code",
   "execution_count": 6,
   "metadata": {},
   "outputs": [
    {
     "data": {
      "text/plain": [
       "(74154, 6)"
      ]
     },
     "execution_count": 6,
     "metadata": {},
     "output_type": "execute_result"
    }
   ],
   "source": [
    "data.shape"
   ]
  },
  {
   "cell_type": "markdown",
   "metadata": {},
   "source": [
    "## Vérification de la perte de données"
   ]
  },
  {
   "cell_type": "markdown",
   "metadata": {},
   "source": [
    "On vérifie qu'il y a autant de ligne lu (variable rows) que de ligne écritent (len(data))"
   ]
  },
  {
   "cell_type": "code",
   "execution_count": 7,
   "metadata": {},
   "outputs": [
    {
     "name": "stdout",
     "output_type": "stream",
     "text": [
      "True\n"
     ]
    }
   ],
   "source": [
    "print(rows == len(data))"
   ]
  },
  {
   "cell_type": "markdown",
   "metadata": {},
   "source": [
    "## Ordre des colonnes"
   ]
  },
  {
   "cell_type": "code",
   "execution_count": 8,
   "metadata": {},
   "outputs": [
    {
     "data": {
      "text/html": [
       "<div>\n",
       "<style scoped>\n",
       "    .dataframe tbody tr th:only-of-type {\n",
       "        vertical-align: middle;\n",
       "    }\n",
       "\n",
       "    .dataframe tbody tr th {\n",
       "        vertical-align: top;\n",
       "    }\n",
       "\n",
       "    .dataframe thead th {\n",
       "        text-align: right;\n",
       "    }\n",
       "</style>\n",
       "<table border=\"1\" class=\"dataframe\">\n",
       "  <thead>\n",
       "    <tr style=\"text-align: right;\">\n",
       "      <th></th>\n",
       "      <th>enfant</th>\n",
       "      <th>age</th>\n",
       "      <th>type</th>\n",
       "      <th>seconde_debut</th>\n",
       "      <th>seconde_fin</th>\n",
       "      <th>contenu</th>\n",
       "    </tr>\n",
       "  </thead>\n",
       "  <tbody>\n",
       "    <tr>\n",
       "      <th>0</th>\n",
       "      <td>ADRIEN</td>\n",
       "      <td>1_03_09</td>\n",
       "      <td>+div+</td>\n",
       "      <td>0.0</td>\n",
       "      <td>1096.0</td>\n",
       "      <td>div |</td>\n",
       "    </tr>\n",
       "    <tr>\n",
       "      <th>1</th>\n",
       "      <td>ADRIEN</td>\n",
       "      <td>1_03_09</td>\n",
       "      <td>+div+</td>\n",
       "      <td>0.0</td>\n",
       "      <td>362.0</td>\n",
       "      <td>div |</td>\n",
       "    </tr>\n",
       "    <tr>\n",
       "      <th>2</th>\n",
       "      <td>ADRIEN</td>\n",
       "      <td>1_03_09</td>\n",
       "      <td>FAT</td>\n",
       "      <td>0.0</td>\n",
       "      <td>6.0</td>\n",
       "      <td>hop , merde .</td>\n",
       "    </tr>\n",
       "    <tr>\n",
       "      <th>3</th>\n",
       "      <td>ADRIEN</td>\n",
       "      <td>1_03_09</td>\n",
       "      <td>xgestes</td>\n",
       "      <td>NaN</td>\n",
       "      <td>NaN</td>\n",
       "      <td>Em prend le pommeau de douche</td>\n",
       "    </tr>\n",
       "    <tr>\n",
       "      <th>4</th>\n",
       "      <td>ADRIEN</td>\n",
       "      <td>1_03_09</td>\n",
       "      <td>sit</td>\n",
       "      <td>NaN</td>\n",
       "      <td>NaN</td>\n",
       "      <td>A est dans son bain.</td>\n",
       "    </tr>\n",
       "  </tbody>\n",
       "</table>\n",
       "</div>"
      ],
      "text/plain": [
       "   enfant      age     type  seconde_debut  seconde_fin  \\\n",
       "0  ADRIEN  1_03_09    +div+            0.0       1096.0   \n",
       "1  ADRIEN  1_03_09    +div+            0.0        362.0   \n",
       "2  ADRIEN  1_03_09      FAT            0.0          6.0   \n",
       "3  ADRIEN  1_03_09  xgestes            NaN          NaN   \n",
       "4  ADRIEN  1_03_09      sit            NaN          NaN   \n",
       "\n",
       "                         contenu  \n",
       "0                          div |  \n",
       "1                          div |  \n",
       "2                  hop , merde .  \n",
       "3  Em prend le pommeau de douche  \n",
       "4           A est dans son bain.  "
      ]
     },
     "execution_count": 8,
     "metadata": {},
     "output_type": "execute_result"
    }
   ],
   "source": [
    "data=data[['enfant', 'age','type', 'seconde_debut', 'seconde_fin', 'contenu']]\n",
    "data.head()"
   ]
  },
  {
   "cell_type": "markdown",
   "metadata": {},
   "source": [
    "## Création du fichier final format csv"
   ]
  },
  {
   "cell_type": "code",
   "execution_count": 10,
   "metadata": {},
   "outputs": [],
   "source": [
    "# Création du fichier enfant\n",
    "os.chdir('C:\\\\Users\\\\Lamou\\\\Desktop\\\\MIASHS\\\\TER_a\\\\data')\n",
    "data.to_csv('data_adrien_final.csv',\n",
    "           encoding = 'utf-8',\n",
    "           sep = '\\t',\n",
    "           header = True)"
   ]
  },
  {
   "cell_type": "markdown",
   "metadata": {},
   "source": [
    "On peut maintenant utiliser le fichier 'data_adrien_final.csv' pour l'exploration de données."
   ]
  },
  {
   "cell_type": "markdown",
   "metadata": {},
   "source": [
    "## Lecture fichier final"
   ]
  },
  {
   "cell_type": "code",
   "execution_count": 11,
   "metadata": {},
   "outputs": [],
   "source": [
    "os.chdir('C:\\\\Users\\\\Lamou\\\\Desktop\\\\MIASHS\\\\TER_a\\\\data')\n",
    "data_child = pd.read_csv('data_adrien_final.csv',\n",
    "                           sep = '\\t',\n",
    "                           encoding = 'utf-8',\n",
    "                           index_col=False)\n",
    "\n",
    "# On supprime la colonne qui duplique les index\n",
    "data_child = data_child.drop(columns = 'Unnamed: 0')"
   ]
  },
  {
   "cell_type": "code",
   "execution_count": 17,
   "metadata": {},
   "outputs": [
    {
     "data": {
      "text/plain": [
       "(74154, 6)"
      ]
     },
     "execution_count": 17,
     "metadata": {},
     "output_type": "execute_result"
    }
   ],
   "source": [
    "data_child.shape"
   ]
  },
  {
   "cell_type": "markdown",
   "metadata": {},
   "source": [
    "# Exploration des données\n",
    "\n",
    "---"
   ]
  },
  {
   "cell_type": "markdown",
   "metadata": {},
   "source": [
    "Qu'elles sont les différents type de ligne ?"
   ]
  },
  {
   "cell_type": "code",
   "execution_count": 18,
   "metadata": {},
   "outputs": [
    {
     "name": "stdout",
     "output_type": "stream",
     "text": [
      "16\n"
     ]
    }
   ],
   "source": [
    "print(len(data_child['type'].unique()))"
   ]
  },
  {
   "cell_type": "markdown",
   "metadata": {},
   "source": [
    "Il existe 16 types de ligne dans les fichiers Andrien :"
   ]
  },
  {
   "cell_type": "code",
   "execution_count": 11,
   "metadata": {},
   "outputs": [
    {
     "name": "stdout",
     "output_type": "stream",
     "text": [
      "['+div+' 'FAT' 'act' 'CHI' 'xpnt' 'MOT' 'pho' 'sit' 'com' 'add' 'int'\n",
      " 'BRO' '-div-' 'OBS' 'GIR' 'gpx' 'nof' 'disc' 'BAB' 'HOU' 'UNK' 'VOI'\n",
      " 'dis' '@EG::' 'SIS' 'SAM']\n"
     ]
    }
   ],
   "source": [
    "print(data_child['type'].unique())"
   ]
  },
  {
   "cell_type": "markdown",
   "metadata": {},
   "source": [
    "## Les phonèmes"
   ]
  },
  {
   "cell_type": "markdown",
   "metadata": {},
   "source": [
    "Les lignes de type 'pho' correspondent à la traduction phonétique lorsque d'Adrien s'exprime :\n",
    "* Nous avons à disposition 17498 traductions pour Adrien \n",
    "* On distingue les premiers mots d'Adrien à l'age de un an 3 mois et 9 jours\n",
    "* Les traductions s'arrêtent à l'age de 4 ans 3 mois et 26 jours"
   ]
  },
  {
   "cell_type": "code",
   "execution_count": 21,
   "metadata": {},
   "outputs": [],
   "source": [
    "pho_child = data_child[data_child['type'] == 'pho']\n",
    "#pho_child"
   ]
  },
  {
   "cell_type": "markdown",
   "metadata": {},
   "source": [
    "### Valeurs NaN\n",
    "\n",
    "Il n'existe pas de valeur NaN dans la colonne contenu"
   ]
  },
  {
   "cell_type": "code",
   "execution_count": 22,
   "metadata": {},
   "outputs": [
    {
     "data": {
      "text/html": [
       "<div>\n",
       "<style scoped>\n",
       "    .dataframe tbody tr th:only-of-type {\n",
       "        vertical-align: middle;\n",
       "    }\n",
       "\n",
       "    .dataframe tbody tr th {\n",
       "        vertical-align: top;\n",
       "    }\n",
       "\n",
       "    .dataframe thead th {\n",
       "        text-align: right;\n",
       "    }\n",
       "</style>\n",
       "<table border=\"1\" class=\"dataframe\">\n",
       "  <thead>\n",
       "    <tr style=\"text-align: right;\">\n",
       "      <th></th>\n",
       "      <th>enfant</th>\n",
       "      <th>age</th>\n",
       "      <th>type</th>\n",
       "      <th>seconde_debut</th>\n",
       "      <th>seconde_fin</th>\n",
       "      <th>contenu</th>\n",
       "    </tr>\n",
       "  </thead>\n",
       "  <tbody>\n",
       "  </tbody>\n",
       "</table>\n",
       "</div>"
      ],
      "text/plain": [
       "Empty DataFrame\n",
       "Columns: [enfant, age, type, seconde_debut, seconde_fin, contenu]\n",
       "Index: []"
      ]
     },
     "execution_count": 22,
     "metadata": {},
     "output_type": "execute_result"
    }
   ],
   "source": [
    "pho_child.loc[pho_child['contenu'].isna()]"
   ]
  },
  {
   "cell_type": "markdown",
   "metadata": {},
   "source": [
    "Nous allons chercher à visualiser la quantité phonétique de données à disposition"
   ]
  },
  {
   "cell_type": "markdown",
   "metadata": {},
   "source": [
    "## Visualisation des données phonétiques"
   ]
  },
  {
   "cell_type": "markdown",
   "metadata": {},
   "source": [
    "### Ajout des colonnes 'année', 'mois' et 'jour'"
   ]
  },
  {
   "cell_type": "markdown",
   "metadata": {},
   "source": [
    "On considère que la colonne age a pout format : x_xx_xx (année_mois_jour) ainsi :\n",
    "* ``pho_child['age'][0:1]`` nous donne le nombre d'année\n",
    "* ``pho_child['age'][2:4]`` nous donne le nombre de mois\n",
    "* ``pho_child['age'][5:7]`` nous donne le nombre de jours"
   ]
  },
  {
   "cell_type": "code",
   "execution_count": 25,
   "metadata": {},
   "outputs": [
    {
     "name": "stderr",
     "output_type": "stream",
     "text": [
      "C:\\Users\\lamou\\Anaconda3\\lib\\site-packages\\ipykernel_launcher.py:3: SettingWithCopyWarning: \n",
      "A value is trying to be set on a copy of a slice from a DataFrame.\n",
      "Try using .loc[row_indexer,col_indexer] = value instead\n",
      "\n",
      "See the caveats in the documentation: http://pandas.pydata.org/pandas-docs/stable/indexing.html#indexing-view-versus-copy\n",
      "  This is separate from the ipykernel package so we can avoid doing imports until\n",
      "C:\\Users\\lamou\\Anaconda3\\lib\\site-packages\\ipykernel_launcher.py:7: SettingWithCopyWarning: \n",
      "A value is trying to be set on a copy of a slice from a DataFrame.\n",
      "Try using .loc[row_indexer,col_indexer] = value instead\n",
      "\n",
      "See the caveats in the documentation: http://pandas.pydata.org/pandas-docs/stable/indexing.html#indexing-view-versus-copy\n",
      "  import sys\n",
      "C:\\Users\\lamou\\Anaconda3\\lib\\site-packages\\ipykernel_launcher.py:11: SettingWithCopyWarning: \n",
      "A value is trying to be set on a copy of a slice from a DataFrame.\n",
      "Try using .loc[row_indexer,col_indexer] = value instead\n",
      "\n",
      "See the caveats in the documentation: http://pandas.pydata.org/pandas-docs/stable/indexing.html#indexing-view-versus-copy\n",
      "  # This is added back by InteractiveShellApp.init_path()\n"
     ]
    }
   ],
   "source": [
    "# Ajout du nombre d'année\n",
    "année_pho_child = pho_child.apply(lambda row: row['age'][0:1], axis=1)\n",
    "pho_child['année'] = année_pho_child\n",
    "\n",
    "# Ajout du nombre de mois\n",
    "mois_pho_child = pho_child.apply(lambda row: row['age'][2:4], axis=1)\n",
    "pho_child['mois'] = mois_pho_child\n",
    "\n",
    "# Ajout du nombre de jour\n",
    "jour_pho_child = pho_child.apply(lambda row: row['age'][5:7], axis=1)\n",
    "pho_child['jour'] = jour_pho_child"
   ]
  },
  {
   "cell_type": "code",
   "execution_count": 26,
   "metadata": {},
   "outputs": [],
   "source": [
    "#pho_child"
   ]
  },
  {
   "cell_type": "markdown",
   "metadata": {},
   "source": [
    "## Quantité de données"
   ]
  },
  {
   "cell_type": "markdown",
   "metadata": {},
   "source": [
    "Combien avons-nous de ligne pour chaque année ? mois ? jour ?"
   ]
  },
  {
   "cell_type": "markdown",
   "metadata": {},
   "source": [
    "### Quantité de données par année"
   ]
  },
  {
   "cell_type": "code",
   "execution_count": 27,
   "metadata": {},
   "outputs": [
    {
     "data": {
      "text/html": [
       "<div>\n",
       "<style scoped>\n",
       "    .dataframe tbody tr th:only-of-type {\n",
       "        vertical-align: middle;\n",
       "    }\n",
       "\n",
       "    .dataframe tbody tr th {\n",
       "        vertical-align: top;\n",
       "    }\n",
       "\n",
       "    .dataframe thead th {\n",
       "        text-align: right;\n",
       "    }\n",
       "</style>\n",
       "<table border=\"1\" class=\"dataframe\">\n",
       "  <thead>\n",
       "    <tr style=\"text-align: right;\">\n",
       "      <th></th>\n",
       "      <th>nb_phrase</th>\n",
       "    </tr>\n",
       "    <tr>\n",
       "      <th>année</th>\n",
       "      <th></th>\n",
       "    </tr>\n",
       "  </thead>\n",
       "  <tbody>\n",
       "    <tr>\n",
       "      <th>1</th>\n",
       "      <td>230</td>\n",
       "    </tr>\n",
       "    <tr>\n",
       "      <th>2</th>\n",
       "      <td>10705</td>\n",
       "    </tr>\n",
       "    <tr>\n",
       "      <th>3</th>\n",
       "      <td>4360</td>\n",
       "    </tr>\n",
       "    <tr>\n",
       "      <th>4</th>\n",
       "      <td>2203</td>\n",
       "    </tr>\n",
       "  </tbody>\n",
       "</table>\n",
       "</div>"
      ],
      "text/plain": [
       "       nb_phrase\n",
       "année           \n",
       "1            230\n",
       "2          10705\n",
       "3           4360\n",
       "4           2203"
      ]
     },
     "execution_count": 27,
     "metadata": {},
     "output_type": "execute_result"
    }
   ],
   "source": [
    "nb_phrase_annee = pho_child[{'année','contenu'}].groupby('année').count()\n",
    "nb_phrase_annee.rename(columns={'contenu': 'nb_phrase'})"
   ]
  },
  {
   "cell_type": "code",
   "execution_count": 29,
   "metadata": {},
   "outputs": [
    {
     "data": {
      "text/plain": [
       "array([<matplotlib.axes._subplots.AxesSubplot object at 0x000001F28B7A6F28>],\n",
       "      dtype=object)"
      ]
     },
     "execution_count": 29,
     "metadata": {},
     "output_type": "execute_result"
    },
    {
     "data": {
      "image/png": "[encoded data removed]",
      "text/plain": [
       "<Figure size 1440x720 with 1 Axes>"
      ]
     },
     "metadata": {
      "needs_background": "light"
     },
     "output_type": "display_data"
    }
   ],
   "source": [
    "nb_phrase_annee.plot(kind='bar', \n",
    "                       subplots=True, \n",
    "                       figsize=(20,10),\n",
    "                       title = 'Nombre de données phonétiques par année : Julie',\n",
    "                       fontsize = 15,\n",
    "                       use_index = True)"
   ]
  },
  {
   "cell_type": "markdown",
   "metadata": {},
   "source": [
    "On voit qu'il y a des quantités de données phonétiques différentes pour chaques années :\n",
    "* Nous avons très peu de données pour la première année (230 lignes)\n",
    "* Nous avons beaucoup de données la deuxième année (10705 lignes)\n",
    "* Il y a de moins en moins de données la troisième puis la quatrième année (4360 puis 2203 lignes)"
   ]
  },
  {
   "cell_type": "markdown",
   "metadata": {},
   "source": [
    "### Quantité de données par mois\n",
    "\n",
    "Regardons plus en détail la quantité de données phonétiques par mois :"
   ]
  },
  {
   "cell_type": "code",
   "execution_count": 30,
   "metadata": {},
   "outputs": [
    {
     "data": {
      "text/html": [
       "<div>\n",
       "<style scoped>\n",
       "    .dataframe tbody tr th:only-of-type {\n",
       "        vertical-align: middle;\n",
       "    }\n",
       "\n",
       "    .dataframe tbody tr th {\n",
       "        vertical-align: top;\n",
       "    }\n",
       "\n",
       "    .dataframe thead tr th {\n",
       "        text-align: left;\n",
       "    }\n",
       "\n",
       "    .dataframe thead tr:last-of-type th {\n",
       "        text-align: right;\n",
       "    }\n",
       "</style>\n",
       "<table border=\"1\" class=\"dataframe\">\n",
       "  <thead>\n",
       "    <tr>\n",
       "      <th></th>\n",
       "      <th colspan=\"11\" halign=\"left\">nb_phrase</th>\n",
       "    </tr>\n",
       "    <tr>\n",
       "      <th>mois</th>\n",
       "      <th>00</th>\n",
       "      <th>01</th>\n",
       "      <th>02</th>\n",
       "      <th>03</th>\n",
       "      <th>04</th>\n",
       "      <th>05</th>\n",
       "      <th>07</th>\n",
       "      <th>08</th>\n",
       "      <th>09</th>\n",
       "      <th>10</th>\n",
       "      <th>11</th>\n",
       "    </tr>\n",
       "    <tr>\n",
       "      <th>année</th>\n",
       "      <th></th>\n",
       "      <th></th>\n",
       "      <th></th>\n",
       "      <th></th>\n",
       "      <th></th>\n",
       "      <th></th>\n",
       "      <th></th>\n",
       "      <th></th>\n",
       "      <th></th>\n",
       "      <th></th>\n",
       "      <th></th>\n",
       "    </tr>\n",
       "  </thead>\n",
       "  <tbody>\n",
       "    <tr>\n",
       "      <th>1</th>\n",
       "      <td>NaN</td>\n",
       "      <td>NaN</td>\n",
       "      <td>NaN</td>\n",
       "      <td>46.0</td>\n",
       "      <td>63.0</td>\n",
       "      <td>NaN</td>\n",
       "      <td>NaN</td>\n",
       "      <td>NaN</td>\n",
       "      <td>NaN</td>\n",
       "      <td>NaN</td>\n",
       "      <td>121.0</td>\n",
       "    </tr>\n",
       "    <tr>\n",
       "      <th>2</th>\n",
       "      <td>755.0</td>\n",
       "      <td>975.0</td>\n",
       "      <td>1155.0</td>\n",
       "      <td>1011.0</td>\n",
       "      <td>1010.0</td>\n",
       "      <td>1216.0</td>\n",
       "      <td>871.0</td>\n",
       "      <td>1380.0</td>\n",
       "      <td>716.0</td>\n",
       "      <td>1312.0</td>\n",
       "      <td>304.0</td>\n",
       "    </tr>\n",
       "    <tr>\n",
       "      <th>3</th>\n",
       "      <td>652.0</td>\n",
       "      <td>386.0</td>\n",
       "      <td>511.0</td>\n",
       "      <td>336.0</td>\n",
       "      <td>246.0</td>\n",
       "      <td>379.0</td>\n",
       "      <td>NaN</td>\n",
       "      <td>595.0</td>\n",
       "      <td>421.0</td>\n",
       "      <td>389.0</td>\n",
       "      <td>445.0</td>\n",
       "    </tr>\n",
       "    <tr>\n",
       "      <th>4</th>\n",
       "      <td>628.0</td>\n",
       "      <td>365.0</td>\n",
       "      <td>536.0</td>\n",
       "      <td>674.0</td>\n",
       "      <td>NaN</td>\n",
       "      <td>NaN</td>\n",
       "      <td>NaN</td>\n",
       "      <td>NaN</td>\n",
       "      <td>NaN</td>\n",
       "      <td>NaN</td>\n",
       "      <td>NaN</td>\n",
       "    </tr>\n",
       "  </tbody>\n",
       "</table>\n",
       "</div>"
      ],
      "text/plain": [
       "      nb_phrase                                                               \\\n",
       "mois         00     01      02      03      04      05     07      08     09   \n",
       "année                                                                          \n",
       "1           NaN    NaN     NaN    46.0    63.0     NaN    NaN     NaN    NaN   \n",
       "2         755.0  975.0  1155.0  1011.0  1010.0  1216.0  871.0  1380.0  716.0   \n",
       "3         652.0  386.0   511.0   336.0   246.0   379.0    NaN   595.0  421.0   \n",
       "4         628.0  365.0   536.0   674.0     NaN     NaN    NaN     NaN    NaN   \n",
       "\n",
       "                      \n",
       "mois       10     11  \n",
       "année                 \n",
       "1         NaN  121.0  \n",
       "2      1312.0  304.0  \n",
       "3       389.0  445.0  \n",
       "4         NaN    NaN  "
      ]
     },
     "execution_count": 30,
     "metadata": {},
     "output_type": "execute_result"
    }
   ],
   "source": [
    "nb_phrase_mois = pho_child[{'année','mois','contenu'}].groupby(['année','mois']).count()\n",
    "nb_phrase_mois = nb_phrase_mois.rename(columns={'contenu': 'nb_phrase'})\n",
    "nb_phrase_mois.unstack(level=1)"
   ]
  },
  {
   "cell_type": "markdown",
   "metadata": {},
   "source": [
    "Nous avons que peu de lignes pour les mois :\n",
    "* 1,03,xx\n",
    "* 1,04,xx\n",
    "* 1,11,xx\n",
    "\n",
    "On voit aussi qu'il y a des mois sans données, cela vérifie qu'il y ait moins de données pour les années 0 et 4, en effet les retranscriptions s'arrête à l'age 4,03,xx"
   ]
  },
  {
   "cell_type": "code",
   "execution_count": 32,
   "metadata": {},
   "outputs": [
    {
     "data": {
      "image/png": "[encoded data removed]",
      "text/plain": [
       "<Figure size 1800x2160 with 4 Axes>"
      ]
     },
     "metadata": {
      "needs_background": "light"
     },
     "output_type": "display_data"
    }
   ],
   "source": [
    "plt = nb_phrase_mois.unstack(level=0).plot(kind='bar', \n",
    "                                     subplots=True, \n",
    "                                     figsize=(25, 30),\n",
    "                                     title = 'Nombre de données phonétiques par mois : Adrien',\n",
    "                                     fontsize = 15,\n",
    "                                     use_index = True)"
   ]
  },
  {
   "cell_type": "markdown",
   "metadata": {},
   "source": [
    "On voit qu'il y a moins d'enregistrements effectués sur Julie la troisième année et surtout sur les quatrième et cinquième année (en effet elles ne contiennent qu'un mois avec une quantité de données significative)"
   ]
  },
  {
   "cell_type": "code",
   "execution_count": 34,
   "metadata": {},
   "outputs": [
    {
     "data": {
      "image/png": "[encoded data removed]",
      "text/plain": [
       "<Figure size 1440x720 with 1 Axes>"
      ]
     },
     "metadata": {
      "needs_background": "light"
     },
     "output_type": "display_data"
    }
   ],
   "source": [
    "plt = nb_phrase_mois.plot(kind='bar',\n",
    "                    subplots=True, \n",
    "                    figsize=(20, 10),\n",
    "                    title = 'Nombre de données phonétiques par mois : Adrien',\n",
    "                    fontsize = 15,\n",
    "                    use_index = True)"
   ]
  },
  {
   "cell_type": "markdown",
   "metadata": {},
   "source": [
    "### Quantité de données par jour\n",
    "\n",
    "Regardons maintenant la quantité de données par jours :"
   ]
  },
  {
   "cell_type": "code",
   "execution_count": 37,
   "metadata": {
    "collapsed": true
   },
   "outputs": [
    {
     "data": {
      "text/html": [
       "<div>\n",
       "<style scoped>\n",
       "    .dataframe tbody tr th:only-of-type {\n",
       "        vertical-align: middle;\n",
       "    }\n",
       "\n",
       "    .dataframe tbody tr th {\n",
       "        vertical-align: top;\n",
       "    }\n",
       "\n",
       "    .dataframe thead th {\n",
       "        text-align: right;\n",
       "    }\n",
       "</style>\n",
       "<table border=\"1\" class=\"dataframe\">\n",
       "  <thead>\n",
       "    <tr style=\"text-align: right;\">\n",
       "      <th></th>\n",
       "      <th></th>\n",
       "      <th></th>\n",
       "      <th>nb_phrase</th>\n",
       "    </tr>\n",
       "    <tr>\n",
       "      <th>année</th>\n",
       "      <th>mois</th>\n",
       "      <th>jour</th>\n",
       "      <th></th>\n",
       "    </tr>\n",
       "  </thead>\n",
       "  <tbody>\n",
       "    <tr>\n",
       "      <th rowspan=\"3\" valign=\"top\">1</th>\n",
       "      <th>03</th>\n",
       "      <th>09</th>\n",
       "      <td>46</td>\n",
       "    </tr>\n",
       "    <tr>\n",
       "      <th>04</th>\n",
       "      <th>10</th>\n",
       "      <td>63</td>\n",
       "    </tr>\n",
       "    <tr>\n",
       "      <th>11</th>\n",
       "      <th>14</th>\n",
       "      <td>121</td>\n",
       "    </tr>\n",
       "    <tr>\n",
       "      <th rowspan=\"12\" valign=\"top\">2</th>\n",
       "      <th>00</th>\n",
       "      <th>15</th>\n",
       "      <td>755</td>\n",
       "    </tr>\n",
       "    <tr>\n",
       "      <th>01</th>\n",
       "      <th>12</th>\n",
       "      <td>975</td>\n",
       "    </tr>\n",
       "    <tr>\n",
       "      <th rowspan=\"2\" valign=\"top\">02</th>\n",
       "      <th>00</th>\n",
       "      <td>223</td>\n",
       "    </tr>\n",
       "    <tr>\n",
       "      <th>22</th>\n",
       "      <td>932</td>\n",
       "    </tr>\n",
       "    <tr>\n",
       "      <th>03</th>\n",
       "      <th>28</th>\n",
       "      <td>1011</td>\n",
       "    </tr>\n",
       "    <tr>\n",
       "      <th>04</th>\n",
       "      <th>26</th>\n",
       "      <td>1010</td>\n",
       "    </tr>\n",
       "    <tr>\n",
       "      <th>05</th>\n",
       "      <th>22</th>\n",
       "      <td>1216</td>\n",
       "    </tr>\n",
       "    <tr>\n",
       "      <th>07</th>\n",
       "      <th>18</th>\n",
       "      <td>871</td>\n",
       "    </tr>\n",
       "    <tr>\n",
       "      <th>08</th>\n",
       "      <th>12</th>\n",
       "      <td>1380</td>\n",
       "    </tr>\n",
       "    <tr>\n",
       "      <th>09</th>\n",
       "      <th>13</th>\n",
       "      <td>716</td>\n",
       "    </tr>\n",
       "    <tr>\n",
       "      <th>10</th>\n",
       "      <th>14</th>\n",
       "      <td>1312</td>\n",
       "    </tr>\n",
       "    <tr>\n",
       "      <th>11</th>\n",
       "      <th>11</th>\n",
       "      <td>304</td>\n",
       "    </tr>\n",
       "    <tr>\n",
       "      <th rowspan=\"10\" valign=\"top\">3</th>\n",
       "      <th>00</th>\n",
       "      <th>15</th>\n",
       "      <td>652</td>\n",
       "    </tr>\n",
       "    <tr>\n",
       "      <th>01</th>\n",
       "      <th>13</th>\n",
       "      <td>386</td>\n",
       "    </tr>\n",
       "    <tr>\n",
       "      <th>02</th>\n",
       "      <th>12</th>\n",
       "      <td>511</td>\n",
       "    </tr>\n",
       "    <tr>\n",
       "      <th>03</th>\n",
       "      <th>12</th>\n",
       "      <td>336</td>\n",
       "    </tr>\n",
       "    <tr>\n",
       "      <th>04</th>\n",
       "      <th>14</th>\n",
       "      <td>246</td>\n",
       "    </tr>\n",
       "    <tr>\n",
       "      <th>05</th>\n",
       "      <th>14</th>\n",
       "      <td>379</td>\n",
       "    </tr>\n",
       "    <tr>\n",
       "      <th>08</th>\n",
       "      <th>05</th>\n",
       "      <td>595</td>\n",
       "    </tr>\n",
       "    <tr>\n",
       "      <th>09</th>\n",
       "      <th>09</th>\n",
       "      <td>421</td>\n",
       "    </tr>\n",
       "    <tr>\n",
       "      <th>10</th>\n",
       "      <th>13</th>\n",
       "      <td>389</td>\n",
       "    </tr>\n",
       "    <tr>\n",
       "      <th>11</th>\n",
       "      <th>13</th>\n",
       "      <td>445</td>\n",
       "    </tr>\n",
       "    <tr>\n",
       "      <th rowspan=\"4\" valign=\"top\">4</th>\n",
       "      <th>00</th>\n",
       "      <th>15</th>\n",
       "      <td>628</td>\n",
       "    </tr>\n",
       "    <tr>\n",
       "      <th>01</th>\n",
       "      <th>12</th>\n",
       "      <td>365</td>\n",
       "    </tr>\n",
       "    <tr>\n",
       "      <th>02</th>\n",
       "      <th>15</th>\n",
       "      <td>536</td>\n",
       "    </tr>\n",
       "    <tr>\n",
       "      <th>03</th>\n",
       "      <th>26</th>\n",
       "      <td>674</td>\n",
       "    </tr>\n",
       "  </tbody>\n",
       "</table>\n",
       "</div>"
      ],
      "text/plain": [
       "                 nb_phrase\n",
       "année mois jour           \n",
       "1     03   09           46\n",
       "      04   10           63\n",
       "      11   14          121\n",
       "2     00   15          755\n",
       "      01   12          975\n",
       "      02   00          223\n",
       "           22          932\n",
       "      03   28         1011\n",
       "      04   26         1010\n",
       "      05   22         1216\n",
       "      07   18          871\n",
       "      08   12         1380\n",
       "      09   13          716\n",
       "      10   14         1312\n",
       "      11   11          304\n",
       "3     00   15          652\n",
       "      01   13          386\n",
       "      02   12          511\n",
       "      03   12          336\n",
       "      04   14          246\n",
       "      05   14          379\n",
       "      08   05          595\n",
       "      09   09          421\n",
       "      10   13          389\n",
       "      11   13          445\n",
       "4     00   15          628\n",
       "      01   12          365\n",
       "      02   15          536\n",
       "      03   26          674"
      ]
     },
     "execution_count": 37,
     "metadata": {},
     "output_type": "execute_result"
    }
   ],
   "source": [
    "nb_phrase_jour = pho_child[{'année','mois', 'jour', 'contenu'}].groupby(['année','mois', 'jour']).count()\n",
    "nb_phrase_jour = nb_phrase_jour.rename(columns={'contenu': 'nb_phrase'})\n",
    "nb_phrase_jour"
   ]
  },
  {
   "cell_type": "code",
   "execution_count": 36,
   "metadata": {
    "scrolled": false
   },
   "outputs": [
    {
     "data": {
      "image/png": "[encoded data removed]",
      "text/plain": [
       "<Figure size 1440x720 with 1 Axes>"
      ]
     },
     "metadata": {
      "needs_background": "light"
     },
     "output_type": "display_data"
    }
   ],
   "source": [
    "plt = nb_phrase_jour.plot(kind='bar',\n",
    "                    subplots=True,\n",
    "                    figsize=(20, 10),\n",
    "                    title = 'Nombre de données phonétiques par jour : Julie',\n",
    "                    fontsize = 15,\n",
    "                    use_index = True)"
   ]
  },
  {
   "cell_type": "markdown",
   "metadata": {},
   "source": [
    "De cette manière la distribution de la quantité de données phonétique n'est pas continu. En effet nous avons découpé les données de tel sorte à avoir la quantité de données pour chaque retranscription d'Adrien. On remarque des valeurs fluctu : il serait interressant d'observer de plus près pour connaitre les raisons de cette fluctuation : \n",
    "\n",
    "* Est-ce du à la durée d'enregistrement ?\n",
    "* Est-ce du à un problème technique ?\n",
    "* Est-ce du à l'enfant ?\n",
    "\n",
    "De plus elle n'est pas distribué de manière équitable dans le temps. <br>\n",
    "On peut difficelement mesurer la croissance du nombre de prise de parole (on pourrait croiser cette donnée avec la durée de l'enregistrement pour une meilleure mesure). <br>"
   ]
  },
  {
   "cell_type": "markdown",
   "metadata": {},
   "source": [
    "On a maintenant une meilleure vision de la quantité de données phonétiques à disposition et de leur répartition dans le temps pour Adrien."
   ]
  },
  {
   "cell_type": "markdown",
   "metadata": {},
   "source": [
    "## Nombre de mot\n",
    "Nous allons chercher à explorer le nombre de mot au sens phonétique par phrase. <br>\n",
    "Pour cela on peut compter le nombre d'espace dans la chaîne de caractère :"
   ]
  },
  {
   "cell_type": "code",
   "execution_count": 40,
   "metadata": {},
   "outputs": [],
   "source": [
    "#pho_child"
   ]
  },
  {
   "cell_type": "code",
   "execution_count": 41,
   "metadata": {},
   "outputs": [
    {
     "name": "stdout",
     "output_type": "stream",
     "text": [
      "Nombre de mot dans \"‹kø kø sa› : 3\n"
     ]
    }
   ],
   "source": [
    "# Exemple \n",
    "pho = pho_child.at[74089, 'contenu']\n",
    "print('Nombre de mot dans \"' + pho + ' : '+ str(pho.count(' ')+1))"
   ]
  },
  {
   "cell_type": "markdown",
   "metadata": {},
   "source": [
    "Pour chaque ligne on calcul le nombre de mot phonétique :"
   ]
  },
  {
   "cell_type": "code",
   "execution_count": 42,
   "metadata": {},
   "outputs": [
    {
     "name": "stderr",
     "output_type": "stream",
     "text": [
      "C:\\Users\\lamou\\Anaconda3\\lib\\site-packages\\ipykernel_launcher.py:2: SettingWithCopyWarning: \n",
      "A value is trying to be set on a copy of a slice from a DataFrame.\n",
      "Try using .loc[row_indexer,col_indexer] = value instead\n",
      "\n",
      "See the caveats in the documentation: http://pandas.pydata.org/pandas-docs/stable/indexing.html#indexing-view-versus-copy\n",
      "  \n"
     ]
    }
   ],
   "source": [
    "nb_mot_pho = pho_child.apply(lambda row: row['contenu'].count(' ')+1, axis=1)\n",
    "pho_child['nombre_mot_phonétique'] = nb_mot_pho #On ajoute une colonne contenant le nombre de mot"
   ]
  },
  {
   "cell_type": "markdown",
   "metadata": {},
   "source": [
    "Par exemple on peut avoir la phrase de Julie avec le plus grand nombre de mot :"
   ]
  },
  {
   "cell_type": "code",
   "execution_count": 43,
   "metadata": {},
   "outputs": [
    {
     "name": "stdout",
     "output_type": "stream",
     "text": [
      "['‹e œ̃ bu də fɛs la œ̃ bu də fɛs bjɛ̃ dody si si mwa ʒə vø mɑ̃ʒe mwa ʒ vø mɑ̃ʒe œ̃ pti bu la d adʁijɛ̃ ʒ vø mɑ̃ʒe œ̃ pti bu ʁəɡaʁd si si mwa ʒ vø mɑ̃ʒe œ̃ pti bu pas kə ʒ ɛ fɛ̃›']\n",
      "longueur: 49\n"
     ]
    }
   ],
   "source": [
    "a = pho_child.loc[pho_child['nombre_mot_phonétique'] == pho_child['nombre_mot_phonétique'].max()].contenu.values\n",
    "print(a)\n",
    "print('longueur: '+str(str(a).count(' ')+1))"
   ]
  },
  {
   "cell_type": "markdown",
   "metadata": {},
   "source": [
    "Voici la ligne de cette phrase :"
   ]
  },
  {
   "cell_type": "code",
   "execution_count": 44,
   "metadata": {},
   "outputs": [
    {
     "data": {
      "text/html": [
       "<div>\n",
       "<style scoped>\n",
       "    .dataframe tbody tr th:only-of-type {\n",
       "        vertical-align: middle;\n",
       "    }\n",
       "\n",
       "    .dataframe tbody tr th {\n",
       "        vertical-align: top;\n",
       "    }\n",
       "\n",
       "    .dataframe thead th {\n",
       "        text-align: right;\n",
       "    }\n",
       "</style>\n",
       "<table border=\"1\" class=\"dataframe\">\n",
       "  <thead>\n",
       "    <tr style=\"text-align: right;\">\n",
       "      <th></th>\n",
       "      <th>enfant</th>\n",
       "      <th>age</th>\n",
       "      <th>type</th>\n",
       "      <th>seconde_debut</th>\n",
       "      <th>seconde_fin</th>\n",
       "      <th>contenu</th>\n",
       "      <th>année</th>\n",
       "      <th>mois</th>\n",
       "      <th>jour</th>\n",
       "      <th>nombre_mot_phonétique</th>\n",
       "    </tr>\n",
       "  </thead>\n",
       "  <tbody>\n",
       "    <tr>\n",
       "      <th>35833</th>\n",
       "      <td>ADRIEN</td>\n",
       "      <td>2_09_13</td>\n",
       "      <td>pho</td>\n",
       "      <td>NaN</td>\n",
       "      <td>NaN</td>\n",
       "      <td>‹e œ̃ bu də fɛs la œ̃ bu də fɛs bjɛ̃ dody si s...</td>\n",
       "      <td>2</td>\n",
       "      <td>09</td>\n",
       "      <td>13</td>\n",
       "      <td>49</td>\n",
       "    </tr>\n",
       "  </tbody>\n",
       "</table>\n",
       "</div>"
      ],
      "text/plain": [
       "       enfant      age type  seconde_debut  seconde_fin  \\\n",
       "35833  ADRIEN  2_09_13  pho            NaN          NaN   \n",
       "\n",
       "                                                 contenu année mois jour  \\\n",
       "35833  ‹e œ̃ bu də fɛs la œ̃ bu də fɛs bjɛ̃ dody si s...     2   09   13   \n",
       "\n",
       "       nombre_mot_phonétique  \n",
       "35833                     49  "
      ]
     },
     "execution_count": 44,
     "metadata": {},
     "output_type": "execute_result"
    }
   ],
   "source": [
    "pho_child.loc[pho_child['nombre_mot_phonétique'] == 49 ]"
   ]
  },
  {
   "cell_type": "markdown",
   "metadata": {},
   "source": [
    "### Espérance de mot par phrase"
   ]
  },
  {
   "cell_type": "code",
   "execution_count": 45,
   "metadata": {},
   "outputs": [],
   "source": [
    "mean_nb_mot_pho_jour = pho_child[{'année', 'mois', 'jour', 'nombre_mot_phonétique'}].groupby(['année', 'mois', 'jour']).mean()\n",
    "mean_nb_mot_pho_jour = mean_nb_mot_pho_jour.rename(columns={'nombre_mot_phonétique': 'espérance_nombre_de_mot_phonétique'})\n",
    "#mean_nb_mot_pho_jour"
   ]
  },
  {
   "cell_type": "code",
   "execution_count": 46,
   "metadata": {},
   "outputs": [
    {
     "data": {
      "text/plain": [
       "array([<matplotlib.axes._subplots.AxesSubplot object at 0x000001F28C0CC438>],\n",
       "      dtype=object)"
      ]
     },
     "execution_count": 46,
     "metadata": {},
     "output_type": "execute_result"
    },
    {
     "data": {
      "image/png": "[encoded data removed]",
      "text/plain": [
       "<Figure size 1440x1440 with 1 Axes>"
      ]
     },
     "metadata": {
      "needs_background": "light"
     },
     "output_type": "display_data"
    }
   ],
   "source": [
    "mean_nb_mot_pho_jour.plot(kind='bar', \n",
    "                            subplots=True, \n",
    "                            figsize=(20, 20),\n",
    "                            title = 'Espérance du nombre de mot phonétique par jours : Julie',\n",
    "                            fontsize = 15,\n",
    "                            use_index = True,\n",
    "                            grid=True)"
   ]
  },
  {
   "cell_type": "markdown",
   "metadata": {},
   "source": [
    "* On constaste une distribution de l'espérance étrange"
   ]
  },
  {
   "cell_type": "markdown",
   "metadata": {},
   "source": [
    "### Variance du nombre de mot par phrase"
   ]
  },
  {
   "cell_type": "code",
   "execution_count": 47,
   "metadata": {},
   "outputs": [],
   "source": [
    "var_nb_mot_pho_jour = pho_child[{'année','mois','jour', 'nombre_mot_phonétique'}].groupby(['année','mois', 'jour']).var()\n",
    "var_nb_mot_pho_jour = var_nb_mot_pho_jour.rename(columns={'nombre_mot_phonétique': 'variance'})\n",
    "#var_nb_mot_pho_jour"
   ]
  },
  {
   "cell_type": "code",
   "execution_count": 48,
   "metadata": {},
   "outputs": [
    {
     "data": {
      "text/plain": [
       "array([<matplotlib.axes._subplots.AxesSubplot object at 0x000001F28C7616A0>],\n",
       "      dtype=object)"
      ]
     },
     "execution_count": 48,
     "metadata": {},
     "output_type": "execute_result"
    },
    {
     "data": {
      "image/png": "[encoded data removed]",
      "text/plain": [
       "<Figure size 1440x1440 with 1 Axes>"
      ]
     },
     "metadata": {
      "needs_background": "light"
     },
     "output_type": "display_data"
    }
   ],
   "source": [
    "var_nb_mot_pho_jour.plot(kind='bar', \n",
    "                            subplots=True, \n",
    "                            figsize=(20, 20),\n",
    "                            title = 'Variance du nombre de mot phonétique par jours : Julie',\n",
    "                            fontsize = 15,\n",
    "                            use_index = True,\n",
    "                            grid=True)"
   ]
  },
  {
   "cell_type": "markdown",
   "metadata": {},
   "source": [
    "### Plus grande phrase "
   ]
  },
  {
   "cell_type": "code",
   "execution_count": 49,
   "metadata": {},
   "outputs": [],
   "source": [
    "max_mot_pho_child = pho_child[{'année','mois','jour', 'nombre_mot_phonétique'}].groupby(['année','mois','jour']).max()\n",
    "max_mot_pho_child = max_mot_pho_child.rename(columns={'nombre_mot_phonétique': 'longueur_max'})\n",
    "#max_mot_pho_child"
   ]
  },
  {
   "cell_type": "code",
   "execution_count": 50,
   "metadata": {},
   "outputs": [
    {
     "data": {
      "text/plain": [
       "array([<matplotlib.axes._subplots.AxesSubplot object at 0x000001F28C3D6F60>],\n",
       "      dtype=object)"
      ]
     },
     "execution_count": 50,
     "metadata": {},
     "output_type": "execute_result"
    },
    {
     "data": {
      "image/png": "[encoded data removed]",
      "text/plain": [
       "<Figure size 1440x1440 with 1 Axes>"
      ]
     },
     "metadata": {
      "needs_background": "light"
     },
     "output_type": "display_data"
    }
   ],
   "source": [
    "max_mot_pho_child.plot(kind='bar', \n",
    "                            subplots=True, \n",
    "                            figsize=(20, 20),\n",
    "                            title = 'Longueur de la plus grande par jour : Antoine',\n",
    "                            fontsize = 15,\n",
    "                            use_index = True,\n",
    "                            grid=True)"
   ]
  },
  {
   "cell_type": "markdown",
   "metadata": {},
   "source": [
    "On constate encore une distribution étrange"
   ]
  },
  {
   "cell_type": "code",
   "execution_count": 54,
   "metadata": {},
   "outputs": [
    {
     "data": {
      "text/html": [
       "<div>\n",
       "<style scoped>\n",
       "    .dataframe tbody tr th:only-of-type {\n",
       "        vertical-align: middle;\n",
       "    }\n",
       "\n",
       "    .dataframe tbody tr th {\n",
       "        vertical-align: top;\n",
       "    }\n",
       "\n",
       "    .dataframe thead th {\n",
       "        text-align: right;\n",
       "    }\n",
       "</style>\n",
       "<table border=\"1\" class=\"dataframe\">\n",
       "  <thead>\n",
       "    <tr style=\"text-align: right;\">\n",
       "      <th></th>\n",
       "      <th>enfant</th>\n",
       "      <th>age</th>\n",
       "      <th>type</th>\n",
       "      <th>seconde_debut</th>\n",
       "      <th>seconde_fin</th>\n",
       "      <th>contenu</th>\n",
       "      <th>année</th>\n",
       "      <th>mois</th>\n",
       "      <th>jour</th>\n",
       "      <th>nombre_mot_phonétique</th>\n",
       "    </tr>\n",
       "  </thead>\n",
       "  <tbody>\n",
       "    <tr>\n",
       "      <th>4632</th>\n",
       "      <td>ADRIEN</td>\n",
       "      <td>2_00_15</td>\n",
       "      <td>pho</td>\n",
       "      <td>NaN</td>\n",
       "      <td>NaN</td>\n",
       "      <td>‹adʁijɛ̃ vjɛ̃ vwaʁ j a œ̃ kado il ɛ u l kado›</td>\n",
       "      <td>2</td>\n",
       "      <td>00</td>\n",
       "      <td>15</td>\n",
       "      <td>12</td>\n",
       "    </tr>\n",
       "    <tr>\n",
       "      <th>4651</th>\n",
       "      <td>ADRIEN</td>\n",
       "      <td>2_00_15</td>\n",
       "      <td>pho</td>\n",
       "      <td>NaN</td>\n",
       "      <td>NaN</td>\n",
       "      <td>‹sɛ puʁ ki sa vjɛ̃ vwaʁ k ɛs ki j a ddɑ̃›</td>\n",
       "      <td>2</td>\n",
       "      <td>00</td>\n",
       "      <td>15</td>\n",
       "      <td>12</td>\n",
       "    </tr>\n",
       "    <tr>\n",
       "      <th>4805</th>\n",
       "      <td>ADRIEN</td>\n",
       "      <td>2_00_15</td>\n",
       "      <td>pho</td>\n",
       "      <td>NaN</td>\n",
       "      <td>NaN</td>\n",
       "      <td>‹bɛ̃ mɛ kɛkə ʃoz la si ty vø va z i mɛ›</td>\n",
       "      <td>2</td>\n",
       "      <td>00</td>\n",
       "      <td>15</td>\n",
       "      <td>12</td>\n",
       "    </tr>\n",
       "    <tr>\n",
       "      <th>4878</th>\n",
       "      <td>ADRIEN</td>\n",
       "      <td>2_00_15</td>\n",
       "      <td>pho</td>\n",
       "      <td>NaN</td>\n",
       "      <td>NaN</td>\n",
       "      <td>‹ty vø k ɔ̃ l ɑ̃ ty vø k ɔ̃ l ɑ̃lɛv›</td>\n",
       "      <td>2</td>\n",
       "      <td>00</td>\n",
       "      <td>15</td>\n",
       "      <td>12</td>\n",
       "    </tr>\n",
       "    <tr>\n",
       "      <th>5549</th>\n",
       "      <td>ADRIEN</td>\n",
       "      <td>2_00_15</td>\n",
       "      <td>pho</td>\n",
       "      <td>NaN</td>\n",
       "      <td>NaN</td>\n",
       "      <td>‹ty vø k ʒ uvʁ səlɥisi nɔ̃ ɔ̃ va uvʁiʁ səlɥila...</td>\n",
       "      <td>2</td>\n",
       "      <td>00</td>\n",
       "      <td>15</td>\n",
       "      <td>12</td>\n",
       "    </tr>\n",
       "    <tr>\n",
       "      <th>5726</th>\n",
       "      <td>ADRIEN</td>\n",
       "      <td>2_00_15</td>\n",
       "      <td>pho</td>\n",
       "      <td>NaN</td>\n",
       "      <td>NaN</td>\n",
       "      <td>‹lə koʃɔ̃ ʁəɡaʁd sa sɛ œ̃ koʃɔ̃ komɑ̃ i fɛ l k...</td>\n",
       "      <td>2</td>\n",
       "      <td>00</td>\n",
       "      <td>15</td>\n",
       "      <td>12</td>\n",
       "    </tr>\n",
       "    <tr>\n",
       "      <th>5853</th>\n",
       "      <td>ADRIEN</td>\n",
       "      <td>2_00_15</td>\n",
       "      <td>pho</td>\n",
       "      <td>NaN</td>\n",
       "      <td>NaN</td>\n",
       "      <td>‹e sa ty sɛ diʁ pepe adʁijɛ̃ komɑ̃ ty dizɛ s m...</td>\n",
       "      <td>2</td>\n",
       "      <td>00</td>\n",
       "      <td>15</td>\n",
       "      <td>12</td>\n",
       "    </tr>\n",
       "    <tr>\n",
       "      <th>5983</th>\n",
       "      <td>ADRIEN</td>\n",
       "      <td>2_00_15</td>\n",
       "      <td>pho</td>\n",
       "      <td>NaN</td>\n",
       "      <td>NaN</td>\n",
       "      <td>‹fil mwa lot s tə plɛ ɛmʁik ɛmʁik fil mwa lot ...</td>\n",
       "      <td>2</td>\n",
       "      <td>00</td>\n",
       "      <td>15</td>\n",
       "      <td>12</td>\n",
       "    </tr>\n",
       "    <tr>\n",
       "      <th>6223</th>\n",
       "      <td>ADRIEN</td>\n",
       "      <td>2_00_15</td>\n",
       "      <td>pho</td>\n",
       "      <td>NaN</td>\n",
       "      <td>NaN</td>\n",
       "      <td>‹wɛ ʒ kʁwa k il ɛ œ̃ pø mɔʁ lə pɛʁ noɛl›</td>\n",
       "      <td>2</td>\n",
       "      <td>00</td>\n",
       "      <td>15</td>\n",
       "      <td>12</td>\n",
       "    </tr>\n",
       "    <tr>\n",
       "      <th>6376</th>\n",
       "      <td>ADRIEN</td>\n",
       "      <td>2_00_15</td>\n",
       "      <td>pho</td>\n",
       "      <td>NaN</td>\n",
       "      <td>NaN</td>\n",
       "      <td>‹laʃ tjɛ̃ ʁəɡaʁd l pɛʁ noɛl il ɛ u l pɛʁ noɛl›</td>\n",
       "      <td>2</td>\n",
       "      <td>00</td>\n",
       "      <td>15</td>\n",
       "      <td>12</td>\n",
       "    </tr>\n",
       "    <tr>\n",
       "      <th>6646</th>\n",
       "      <td>ADRIEN</td>\n",
       "      <td>2_00_15</td>\n",
       "      <td>pho</td>\n",
       "      <td>NaN</td>\n",
       "      <td>NaN</td>\n",
       "      <td>‹e ʁəɡaʁd t a mɔ̃tʁe ʁəɡaʁd ʁəɡaʁd la kaʃɛt pl...</td>\n",
       "      <td>2</td>\n",
       "      <td>00</td>\n",
       "      <td>15</td>\n",
       "      <td>12</td>\n",
       "    </tr>\n",
       "    <tr>\n",
       "      <th>6930</th>\n",
       "      <td>ADRIEN</td>\n",
       "      <td>2_01_12</td>\n",
       "      <td>pho</td>\n",
       "      <td>NaN</td>\n",
       "      <td>NaN</td>\n",
       "      <td>‹se tɑ̃ si sɛ l mo k i di l ply suvɑ̃›</td>\n",
       "      <td>2</td>\n",
       "      <td>01</td>\n",
       "      <td>12</td>\n",
       "      <td>12</td>\n",
       "    </tr>\n",
       "    <tr>\n",
       "      <th>7109</th>\n",
       "      <td>ADRIEN</td>\n",
       "      <td>2_01_12</td>\n",
       "      <td>pho</td>\n",
       "      <td>NaN</td>\n",
       "      <td>NaN</td>\n",
       "      <td>‹ty dɔn a papa ty dɔn wi t ɛ ʒɑ̃ti mɔ̃ bonɔm›</td>\n",
       "      <td>2</td>\n",
       "      <td>01</td>\n",
       "      <td>12</td>\n",
       "      <td>12</td>\n",
       "    </tr>\n",
       "    <tr>\n",
       "      <th>7452</th>\n",
       "      <td>ADRIEN</td>\n",
       "      <td>2_01_12</td>\n",
       "      <td>pho</td>\n",
       "      <td>NaN</td>\n",
       "      <td>NaN</td>\n",
       "      <td>‹e komɑ̃ s s apɛl s ki j a ddɑ̃ də lo›</td>\n",
       "      <td>2</td>\n",
       "      <td>01</td>\n",
       "      <td>12</td>\n",
       "      <td>12</td>\n",
       "    </tr>\n",
       "    <tr>\n",
       "      <th>7555</th>\n",
       "      <td>ADRIEN</td>\n",
       "      <td>2_01_12</td>\n",
       "      <td>pho</td>\n",
       "      <td>NaN</td>\n",
       "      <td>NaN</td>\n",
       "      <td>‹adʁijɛ̃ papa il a di nɔ̃ tjɛ̃ pʁɑ̃ si ty vø b...</td>\n",
       "      <td>2</td>\n",
       "      <td>01</td>\n",
       "      <td>12</td>\n",
       "      <td>12</td>\n",
       "    </tr>\n",
       "    <tr>\n",
       "      <th>8119</th>\n",
       "      <td>ADRIEN</td>\n",
       "      <td>2_01_12</td>\n",
       "      <td>pho</td>\n",
       "      <td>NaN</td>\n",
       "      <td>NaN</td>\n",
       "      <td>‹atɑ̃ e wi ʁəɡaʁd mɛ ɔ̃ va t l ɑ̃lve adʁijɛ̃ wɛ›</td>\n",
       "      <td>2</td>\n",
       "      <td>01</td>\n",
       "      <td>12</td>\n",
       "      <td>12</td>\n",
       "    </tr>\n",
       "    <tr>\n",
       "      <th>8440</th>\n",
       "      <td>ADRIEN</td>\n",
       "      <td>2_01_12</td>\n",
       "      <td>pho</td>\n",
       "      <td>NaN</td>\n",
       "      <td>NaN</td>\n",
       "      <td>‹ty nə ʒɛt pa paʁ tɛʁ la ʒə sɥi pa d akɔʁ›</td>\n",
       "      <td>2</td>\n",
       "      <td>01</td>\n",
       "      <td>12</td>\n",
       "      <td>12</td>\n",
       "    </tr>\n",
       "    <tr>\n",
       "      <th>8934</th>\n",
       "      <td>ADRIEN</td>\n",
       "      <td>2_01_12</td>\n",
       "      <td>pho</td>\n",
       "      <td>NaN</td>\n",
       "      <td>NaN</td>\n",
       "      <td>‹bɔ̃ ɔ̃ va vwaʁ s kə sa dɔn l ymidifikatœʁ d ɛʁ›</td>\n",
       "      <td>2</td>\n",
       "      <td>01</td>\n",
       "      <td>12</td>\n",
       "      <td>12</td>\n",
       "    </tr>\n",
       "    <tr>\n",
       "      <th>9046</th>\n",
       "      <td>ADRIEN</td>\n",
       "      <td>2_01_12</td>\n",
       "      <td>pho</td>\n",
       "      <td>NaN</td>\n",
       "      <td>NaN</td>\n",
       "      <td>‹nɔ̃ nɔ̃ lɛs lɛs nə tiʁ pa nə tiʁ pa ty lɛs›</td>\n",
       "      <td>2</td>\n",
       "      <td>01</td>\n",
       "      <td>12</td>\n",
       "      <td>12</td>\n",
       "    </tr>\n",
       "    <tr>\n",
       "      <th>9085</th>\n",
       "      <td>ADRIEN</td>\n",
       "      <td>2_01_12</td>\n",
       "      <td>pho</td>\n",
       "      <td>NaN</td>\n",
       "      <td>NaN</td>\n",
       "      <td>‹ba si u avɛk tɔ̃ dizɥit ɑ̃ d aʒ si ty vø›</td>\n",
       "      <td>2</td>\n",
       "      <td>01</td>\n",
       "      <td>12</td>\n",
       "      <td>12</td>\n",
       "    </tr>\n",
       "    <tr>\n",
       "      <th>9183</th>\n",
       "      <td>ADRIEN</td>\n",
       "      <td>2_01_12</td>\n",
       "      <td>pho</td>\n",
       "      <td>NaN</td>\n",
       "      <td>NaN</td>\n",
       "      <td>‹mamɑ̃ ɛs k ɛl a de bobo kɛlk paʁ atɑ̃ ɛl ʁəɡaʁd›</td>\n",
       "      <td>2</td>\n",
       "      <td>01</td>\n",
       "      <td>12</td>\n",
       "      <td>12</td>\n",
       "    </tr>\n",
       "    <tr>\n",
       "      <th>9228</th>\n",
       "      <td>ADRIEN</td>\n",
       "      <td>2_01_12</td>\n",
       "      <td>pho</td>\n",
       "      <td>NaN</td>\n",
       "      <td>NaN</td>\n",
       "      <td>‹ɛmʁik ty m mɛ dy koka avɛk dy malibu s tə plɛ›</td>\n",
       "      <td>2</td>\n",
       "      <td>01</td>\n",
       "      <td>12</td>\n",
       "      <td>12</td>\n",
       "    </tr>\n",
       "    <tr>\n",
       "      <th>9480</th>\n",
       "      <td>ADRIEN</td>\n",
       "      <td>2_01_12</td>\n",
       "      <td>pho</td>\n",
       "      <td>NaN</td>\n",
       "      <td>NaN</td>\n",
       "      <td>‹nɔ̃ e apʁɛ kɑ̃ mamɑ̃ ɛl dɔn k ɛs k ɔ̃ di›</td>\n",
       "      <td>2</td>\n",
       "      <td>01</td>\n",
       "      <td>12</td>\n",
       "      <td>12</td>\n",
       "    </tr>\n",
       "    <tr>\n",
       "      <th>9825</th>\n",
       "      <td>ADRIEN</td>\n",
       "      <td>2_01_12</td>\n",
       "      <td>pho</td>\n",
       "      <td>NaN</td>\n",
       "      <td>NaN</td>\n",
       "      <td>‹tjɛ̃ ty m dɔn te mɛ̃ dɔn mwa te mɛ̃ lot mɛ̃›</td>\n",
       "      <td>2</td>\n",
       "      <td>01</td>\n",
       "      <td>12</td>\n",
       "      <td>12</td>\n",
       "    </tr>\n",
       "    <tr>\n",
       "      <th>9970</th>\n",
       "      <td>ADRIEN</td>\n",
       "      <td>2_01_12</td>\n",
       "      <td>pho</td>\n",
       "      <td>NaN</td>\n",
       "      <td>NaN</td>\n",
       "      <td>‹ty mɔ̃t dəsy komɑ̃ ty fɛ puʁ pedale ale va z i›</td>\n",
       "      <td>2</td>\n",
       "      <td>01</td>\n",
       "      <td>12</td>\n",
       "      <td>12</td>\n",
       "    </tr>\n",
       "    <tr>\n",
       "      <th>11111</th>\n",
       "      <td>ADRIEN</td>\n",
       "      <td>2_02_00</td>\n",
       "      <td>pho</td>\n",
       "      <td>NaN</td>\n",
       "      <td>NaN</td>\n",
       "      <td>‹il ɑ̃ n a apʁɛ le pje də ʃe le z ɑ̃fɑ̃›</td>\n",
       "      <td>2</td>\n",
       "      <td>02</td>\n",
       "      <td>00</td>\n",
       "      <td>12</td>\n",
       "    </tr>\n",
       "    <tr>\n",
       "      <th>11122</th>\n",
       "      <td>ADRIEN</td>\n",
       "      <td>2_02_00</td>\n",
       "      <td>pho</td>\n",
       "      <td>NaN</td>\n",
       "      <td>NaN</td>\n",
       "      <td>‹lə pje u la ʃosyʁ mɛ lə pje i pʁefɛʁ kɑ̃ mɛm›</td>\n",
       "      <td>2</td>\n",
       "      <td>02</td>\n",
       "      <td>00</td>\n",
       "      <td>12</td>\n",
       "    </tr>\n",
       "    <tr>\n",
       "      <th>11332</th>\n",
       "      <td>ADRIEN</td>\n",
       "      <td>2_02_22</td>\n",
       "      <td>pho</td>\n",
       "      <td>NaN</td>\n",
       "      <td>NaN</td>\n",
       "      <td>‹tjɛ̃ ty vø mɔ̃tʁe komɑ̃ ty sɛ fɛʁ de betiz tj...</td>\n",
       "      <td>2</td>\n",
       "      <td>02</td>\n",
       "      <td>22</td>\n",
       "      <td>12</td>\n",
       "    </tr>\n",
       "    <tr>\n",
       "      <th>11920</th>\n",
       "      <td>ADRIEN</td>\n",
       "      <td>2_02_22</td>\n",
       "      <td>pho</td>\n",
       "      <td>NaN</td>\n",
       "      <td>NaN</td>\n",
       "      <td>‹il ɛ u papa o ʒ lə vwa pa il ɛ u›</td>\n",
       "      <td>2</td>\n",
       "      <td>02</td>\n",
       "      <td>22</td>\n",
       "      <td>12</td>\n",
       "    </tr>\n",
       "    <tr>\n",
       "      <th>11950</th>\n",
       "      <td>ADRIEN</td>\n",
       "      <td>2_02_22</td>\n",
       "      <td>pho</td>\n",
       "      <td>NaN</td>\n",
       "      <td>NaN</td>\n",
       "      <td>‹nɔ̃ sɛ didi ki fɛ dodo tata ɛl fɛ pa dodo ɑ̃kɔʁ›</td>\n",
       "      <td>2</td>\n",
       "      <td>02</td>\n",
       "      <td>22</td>\n",
       "      <td>12</td>\n",
       "    </tr>\n",
       "    <tr>\n",
       "      <th>...</th>\n",
       "      <td>...</td>\n",
       "      <td>...</td>\n",
       "      <td>...</td>\n",
       "      <td>...</td>\n",
       "      <td>...</td>\n",
       "      <td>...</td>\n",
       "      <td>...</td>\n",
       "      <td>...</td>\n",
       "      <td>...</td>\n",
       "      <td>...</td>\n",
       "    </tr>\n",
       "    <tr>\n",
       "      <th>32270</th>\n",
       "      <td>ADRIEN</td>\n",
       "      <td>2_08_12</td>\n",
       "      <td>pho</td>\n",
       "      <td>NaN</td>\n",
       "      <td>NaN</td>\n",
       "      <td>‹sɛ œ̃ vɛʁ ɛkspʁɛ nɔ̃ a nɔ̃ sɛ œ̃ vɛʁ ʁivzalt ...</td>\n",
       "      <td>2</td>\n",
       "      <td>08</td>\n",
       "      <td>12</td>\n",
       "      <td>12</td>\n",
       "    </tr>\n",
       "    <tr>\n",
       "      <th>32417</th>\n",
       "      <td>ADRIEN</td>\n",
       "      <td>2_08_12</td>\n",
       "      <td>pho</td>\n",
       "      <td>NaN</td>\n",
       "      <td>NaN</td>\n",
       "      <td>‹ʒ ɛ l ɛ̃pʁesjɔ̃ k i s dily sypɛʁ mal sə siʁo›</td>\n",
       "      <td>2</td>\n",
       "      <td>08</td>\n",
       "      <td>12</td>\n",
       "      <td>12</td>\n",
       "    </tr>\n",
       "    <tr>\n",
       "      <th>32923</th>\n",
       "      <td>ADRIEN</td>\n",
       "      <td>2_08_12</td>\n",
       "      <td>pho</td>\n",
       "      <td>NaN</td>\n",
       "      <td>NaN</td>\n",
       "      <td>‹ty ʒu o leɡo e ty vø k papa i t ɛd›</td>\n",
       "      <td>2</td>\n",
       "      <td>08</td>\n",
       "      <td>12</td>\n",
       "      <td>12</td>\n",
       "    </tr>\n",
       "    <tr>\n",
       "      <th>33754</th>\n",
       "      <td>ADRIEN</td>\n",
       "      <td>2_08_12</td>\n",
       "      <td>pho</td>\n",
       "      <td>NaN</td>\n",
       "      <td>NaN</td>\n",
       "      <td>‹e k ɛs kə t a vy d otʁ kɔm animo adʁijɛ̃›</td>\n",
       "      <td>2</td>\n",
       "      <td>08</td>\n",
       "      <td>12</td>\n",
       "      <td>12</td>\n",
       "    </tr>\n",
       "    <tr>\n",
       "      <th>33790</th>\n",
       "      <td>ADRIEN</td>\n",
       "      <td>2_08_12</td>\n",
       "      <td>pho</td>\n",
       "      <td>NaN</td>\n",
       "      <td>NaN</td>\n",
       "      <td>‹k ɛs k ɔ̃ n a vy d ot kɔm animo adʁijɛ̃›</td>\n",
       "      <td>2</td>\n",
       "      <td>08</td>\n",
       "      <td>12</td>\n",
       "      <td>12</td>\n",
       "    </tr>\n",
       "    <tr>\n",
       "      <th>33799</th>\n",
       "      <td>ADRIEN</td>\n",
       "      <td>2_08_12</td>\n",
       "      <td>pho</td>\n",
       "      <td>NaN</td>\n",
       "      <td>NaN</td>\n",
       "      <td>‹e ɔ̃ na vy ta y pœʁ de de de koʃɔ adʁijɛ̃̃›</td>\n",
       "      <td>2</td>\n",
       "      <td>08</td>\n",
       "      <td>12</td>\n",
       "      <td>12</td>\n",
       "    </tr>\n",
       "    <tr>\n",
       "      <th>34242</th>\n",
       "      <td>ADRIEN</td>\n",
       "      <td>2_09_13</td>\n",
       "      <td>pho</td>\n",
       "      <td>NaN</td>\n",
       "      <td>NaN</td>\n",
       "      <td>‹k ɛs k j a mɔ̃ ʃeʁi k ɛs k j a›</td>\n",
       "      <td>2</td>\n",
       "      <td>09</td>\n",
       "      <td>13</td>\n",
       "      <td>12</td>\n",
       "    </tr>\n",
       "    <tr>\n",
       "      <th>34407</th>\n",
       "      <td>ADRIEN</td>\n",
       "      <td>2_09_13</td>\n",
       "      <td>pho</td>\n",
       "      <td>NaN</td>\n",
       "      <td>NaN</td>\n",
       "      <td>‹tjɛ̃ adʁijɛ̃ si ty vø mɑ̃ʒe i fo mɛt lə slip ...</td>\n",
       "      <td>2</td>\n",
       "      <td>09</td>\n",
       "      <td>13</td>\n",
       "      <td>12</td>\n",
       "    </tr>\n",
       "    <tr>\n",
       "      <th>34553</th>\n",
       "      <td>ADRIEN</td>\n",
       "      <td>2_09_13</td>\n",
       "      <td>pho</td>\n",
       "      <td>NaN</td>\n",
       "      <td>NaN</td>\n",
       "      <td>‹k ɛs kə ʒ vulɛ diʁ ʒ le fɛ a la kokɔt›</td>\n",
       "      <td>2</td>\n",
       "      <td>09</td>\n",
       "      <td>13</td>\n",
       "      <td>12</td>\n",
       "    </tr>\n",
       "    <tr>\n",
       "      <th>35404</th>\n",
       "      <td>ADRIEN</td>\n",
       "      <td>2_09_13</td>\n",
       "      <td>pho</td>\n",
       "      <td>NaN</td>\n",
       "      <td>NaN</td>\n",
       "      <td>‹tjɛ̃ mɛ twa la atɑ̃ atɑ̃ nɔ̃ atɑ̃ atɑ̃ mɛ twa...</td>\n",
       "      <td>2</td>\n",
       "      <td>09</td>\n",
       "      <td>13</td>\n",
       "      <td>12</td>\n",
       "    </tr>\n",
       "    <tr>\n",
       "      <th>35866</th>\n",
       "      <td>ADRIEN</td>\n",
       "      <td>2_09_13</td>\n",
       "      <td>pho</td>\n",
       "      <td>NaN</td>\n",
       "      <td>NaN</td>\n",
       "      <td>‹aj aʁɛt nɔ̃ nɔ̃ sa sɛ pa dʁol sa fɛ mal adʁijɛ̃›</td>\n",
       "      <td>2</td>\n",
       "      <td>09</td>\n",
       "      <td>13</td>\n",
       "      <td>12</td>\n",
       "    </tr>\n",
       "    <tr>\n",
       "      <th>36321</th>\n",
       "      <td>ADRIEN</td>\n",
       "      <td>2_09_13</td>\n",
       "      <td>pho</td>\n",
       "      <td>NaN</td>\n",
       "      <td>NaN</td>\n",
       "      <td>‹ʁəɡaʁd ty pʁɑ̃ sysɛt e dudu e ty va ʒwe avɛk ...</td>\n",
       "      <td>2</td>\n",
       "      <td>09</td>\n",
       "      <td>13</td>\n",
       "      <td>12</td>\n",
       "    </tr>\n",
       "    <tr>\n",
       "      <th>36563</th>\n",
       "      <td>ADRIEN</td>\n",
       "      <td>2_09_13</td>\n",
       "      <td>pho</td>\n",
       "      <td>NaN</td>\n",
       "      <td>NaN</td>\n",
       "      <td>‹k ɛs ki j a kuku adʁijɛ̃ k ɛs ki j a›</td>\n",
       "      <td>2</td>\n",
       "      <td>09</td>\n",
       "      <td>13</td>\n",
       "      <td>12</td>\n",
       "    </tr>\n",
       "    <tr>\n",
       "      <th>36749</th>\n",
       "      <td>ADRIEN</td>\n",
       "      <td>2_10_14</td>\n",
       "      <td>pho</td>\n",
       "      <td>NaN</td>\n",
       "      <td>NaN</td>\n",
       "      <td>‹ty di dmɑ̃d a papa ty di s il tə plɛ papa›</td>\n",
       "      <td>2</td>\n",
       "      <td>10</td>\n",
       "      <td>14</td>\n",
       "      <td>12</td>\n",
       "    </tr>\n",
       "    <tr>\n",
       "      <th>37339</th>\n",
       "      <td>ADRIEN</td>\n",
       "      <td>2_10_14</td>\n",
       "      <td>pho</td>\n",
       "      <td>NaN</td>\n",
       "      <td>NaN</td>\n",
       "      <td>‹nɔ̃ sɛ tɔ̃tɔ̃ muʁad kj ɛ vəny t ʃɛʁʃe a l ekɔl›</td>\n",
       "      <td>2</td>\n",
       "      <td>10</td>\n",
       "      <td>14</td>\n",
       "      <td>12</td>\n",
       "    </tr>\n",
       "    <tr>\n",
       "      <th>37352</th>\n",
       "      <td>ADRIEN</td>\n",
       "      <td>2_10_14</td>\n",
       "      <td>pho</td>\n",
       "      <td>NaN</td>\n",
       "      <td>NaN</td>\n",
       "      <td>‹k ɛs kə t a mɑ̃ʒe adʁijɛ̃ a midi ʃe tata badja›</td>\n",
       "      <td>2</td>\n",
       "      <td>10</td>\n",
       "      <td>14</td>\n",
       "      <td>12</td>\n",
       "    </tr>\n",
       "    <tr>\n",
       "      <th>37514</th>\n",
       "      <td>ADRIEN</td>\n",
       "      <td>2_10_14</td>\n",
       "      <td>pho</td>\n",
       "      <td>NaN</td>\n",
       "      <td>NaN</td>\n",
       "      <td>‹ty li pa mɛ papa i pø tələ liʁ si ty vø›</td>\n",
       "      <td>2</td>\n",
       "      <td>10</td>\n",
       "      <td>14</td>\n",
       "      <td>12</td>\n",
       "    </tr>\n",
       "    <tr>\n",
       "      <th>37616</th>\n",
       "      <td>ADRIEN</td>\n",
       "      <td>2_10_14</td>\n",
       "      <td>pho</td>\n",
       "      <td>NaN</td>\n",
       "      <td>NaN</td>\n",
       "      <td>‹tjɛ̃ ty vø k ɔ̃ liz lə ɡato lə kado d anivɛʁsɛʁ›</td>\n",
       "      <td>2</td>\n",
       "      <td>10</td>\n",
       "      <td>14</td>\n",
       "      <td>12</td>\n",
       "    </tr>\n",
       "    <tr>\n",
       "      <th>37687</th>\n",
       "      <td>ADRIEN</td>\n",
       "      <td>2_10_14</td>\n",
       "      <td>pho</td>\n",
       "      <td>NaN</td>\n",
       "      <td>NaN</td>\n",
       "      <td>‹nɔ̃ sɛ pa a papa ɛl sɔ̃ mɔʃ kɔm tu sɛl si›</td>\n",
       "      <td>2</td>\n",
       "      <td>10</td>\n",
       "      <td>14</td>\n",
       "      <td>12</td>\n",
       "    </tr>\n",
       "    <tr>\n",
       "      <th>38499</th>\n",
       "      <td>ADRIEN</td>\n",
       "      <td>2_10_14</td>\n",
       "      <td>pho</td>\n",
       "      <td>NaN</td>\n",
       "      <td>NaN</td>\n",
       "      <td>‹tjɛ̃ ty ʒu dø sɡɔ̃d avɛk naomi papa i va vwaʁ...</td>\n",
       "      <td>2</td>\n",
       "      <td>10</td>\n",
       "      <td>14</td>\n",
       "      <td>12</td>\n",
       "    </tr>\n",
       "    <tr>\n",
       "      <th>38559</th>\n",
       "      <td>ADRIEN</td>\n",
       "      <td>2_10_14</td>\n",
       "      <td>pho</td>\n",
       "      <td>NaN</td>\n",
       "      <td>NaN</td>\n",
       "      <td>‹e ty l mɛ u adʁijɛ̃ dɑ̃ la mɛz ty mɛ dədɑ̃›</td>\n",
       "      <td>2</td>\n",
       "      <td>10</td>\n",
       "      <td>14</td>\n",
       "      <td>12</td>\n",
       "    </tr>\n",
       "    <tr>\n",
       "      <th>39235</th>\n",
       "      <td>ADRIEN</td>\n",
       "      <td>2_10_14</td>\n",
       "      <td>pho</td>\n",
       "      <td>NaN</td>\n",
       "      <td>NaN</td>\n",
       "      <td>‹mɔ̃tʁ a mamɑ̃ mɔ̃tʁ a mamɑ̃ komɑ̃ ɔ̃ n uvʁə l...</td>\n",
       "      <td>2</td>\n",
       "      <td>10</td>\n",
       "      <td>14</td>\n",
       "      <td>12</td>\n",
       "    </tr>\n",
       "    <tr>\n",
       "      <th>39251</th>\n",
       "      <td>ADRIEN</td>\n",
       "      <td>2_10_14</td>\n",
       "      <td>pho</td>\n",
       "      <td>NaN</td>\n",
       "      <td>NaN</td>\n",
       "      <td>‹t ɛ syʁ e komɑ̃ e komɑ̃ komɑ̃ komɑ̃ ɔ̃ n uvʁ›</td>\n",
       "      <td>2</td>\n",
       "      <td>10</td>\n",
       "      <td>14</td>\n",
       "      <td>12</td>\n",
       "    </tr>\n",
       "    <tr>\n",
       "      <th>39387</th>\n",
       "      <td>ADRIEN</td>\n",
       "      <td>2_10_14</td>\n",
       "      <td>pho</td>\n",
       "      <td>NaN</td>\n",
       "      <td>NaN</td>\n",
       "      <td>‹ɛ̃ sɛ le su tjɛ̃ dəmɑ̃d a naomi de su ɑ̃ plys›</td>\n",
       "      <td>2</td>\n",
       "      <td>10</td>\n",
       "      <td>14</td>\n",
       "      <td>12</td>\n",
       "    </tr>\n",
       "    <tr>\n",
       "      <th>39390</th>\n",
       "      <td>ADRIEN</td>\n",
       "      <td>2_10_14</td>\n",
       "      <td>pho</td>\n",
       "      <td>NaN</td>\n",
       "      <td>NaN</td>\n",
       "      <td>‹e nɔ̃ mɛ atɑ̃ e i vɔ̃ tɔ̃be paʁ tɛʁ le su›</td>\n",
       "      <td>2</td>\n",
       "      <td>10</td>\n",
       "      <td>14</td>\n",
       "      <td>12</td>\n",
       "    </tr>\n",
       "    <tr>\n",
       "      <th>40094</th>\n",
       "      <td>ADRIEN</td>\n",
       "      <td>2_10_14</td>\n",
       "      <td>pho</td>\n",
       "      <td>NaN</td>\n",
       "      <td>NaN</td>\n",
       "      <td>‹e bɛ̃ paʁs kə dy ʒy d oʁɑ̃ʒ nɔʁmalmɑ̃ sa s səku›</td>\n",
       "      <td>2</td>\n",
       "      <td>10</td>\n",
       "      <td>14</td>\n",
       "      <td>12</td>\n",
       "    </tr>\n",
       "    <tr>\n",
       "      <th>40190</th>\n",
       "      <td>ADRIEN</td>\n",
       "      <td>2_10_14</td>\n",
       "      <td>pho</td>\n",
       "      <td>NaN</td>\n",
       "      <td>NaN</td>\n",
       "      <td>‹bɛ̃ ty pus papa ba ale papa i s ɑ̃ va ale›</td>\n",
       "      <td>2</td>\n",
       "      <td>10</td>\n",
       "      <td>14</td>\n",
       "      <td>12</td>\n",
       "    </tr>\n",
       "    <tr>\n",
       "      <th>40590</th>\n",
       "      <td>ADRIEN</td>\n",
       "      <td>2_10_14</td>\n",
       "      <td>pho</td>\n",
       "      <td>NaN</td>\n",
       "      <td>NaN</td>\n",
       "      <td>‹e bɛ̃ va la ʃɛʁʃe va la mɔ̃tʁe a naomi ta vwa...</td>\n",
       "      <td>2</td>\n",
       "      <td>10</td>\n",
       "      <td>14</td>\n",
       "      <td>12</td>\n",
       "    </tr>\n",
       "    <tr>\n",
       "      <th>41120</th>\n",
       "      <td>ADRIEN</td>\n",
       "      <td>2_10_14</td>\n",
       "      <td>pho</td>\n",
       "      <td>NaN</td>\n",
       "      <td>NaN</td>\n",
       "      <td>‹swa saʒ adʁijɛ̃ ty nə pus pa ty fɛ œ̃ bizu ad...</td>\n",
       "      <td>2</td>\n",
       "      <td>10</td>\n",
       "      <td>14</td>\n",
       "      <td>12</td>\n",
       "    </tr>\n",
       "    <tr>\n",
       "      <th>41732</th>\n",
       "      <td>ADRIEN</td>\n",
       "      <td>2_11_11</td>\n",
       "      <td>pho</td>\n",
       "      <td>NaN</td>\n",
       "      <td>NaN</td>\n",
       "      <td>‹e pa la te la se py o ote la sa yn›</td>\n",
       "      <td>2</td>\n",
       "      <td>11</td>\n",
       "      <td>11</td>\n",
       "      <td>12</td>\n",
       "    </tr>\n",
       "  </tbody>\n",
       "</table>\n",
       "<p>144 rows × 10 columns</p>\n",
       "</div>"
      ],
      "text/plain": [
       "       enfant      age type  seconde_debut  seconde_fin  \\\n",
       "4632   ADRIEN  2_00_15  pho            NaN          NaN   \n",
       "4651   ADRIEN  2_00_15  pho            NaN          NaN   \n",
       "4805   ADRIEN  2_00_15  pho            NaN          NaN   \n",
       "4878   ADRIEN  2_00_15  pho            NaN          NaN   \n",
       "5549   ADRIEN  2_00_15  pho            NaN          NaN   \n",
       "5726   ADRIEN  2_00_15  pho            NaN          NaN   \n",
       "5853   ADRIEN  2_00_15  pho            NaN          NaN   \n",
       "5983   ADRIEN  2_00_15  pho            NaN          NaN   \n",
       "6223   ADRIEN  2_00_15  pho            NaN          NaN   \n",
       "6376   ADRIEN  2_00_15  pho            NaN          NaN   \n",
       "6646   ADRIEN  2_00_15  pho            NaN          NaN   \n",
       "6930   ADRIEN  2_01_12  pho            NaN          NaN   \n",
       "7109   ADRIEN  2_01_12  pho            NaN          NaN   \n",
       "7452   ADRIEN  2_01_12  pho            NaN          NaN   \n",
       "7555   ADRIEN  2_01_12  pho            NaN          NaN   \n",
       "8119   ADRIEN  2_01_12  pho            NaN          NaN   \n",
       "8440   ADRIEN  2_01_12  pho            NaN          NaN   \n",
       "8934   ADRIEN  2_01_12  pho            NaN          NaN   \n",
       "9046   ADRIEN  2_01_12  pho            NaN          NaN   \n",
       "9085   ADRIEN  2_01_12  pho            NaN          NaN   \n",
       "9183   ADRIEN  2_01_12  pho            NaN          NaN   \n",
       "9228   ADRIEN  2_01_12  pho            NaN          NaN   \n",
       "9480   ADRIEN  2_01_12  pho            NaN          NaN   \n",
       "9825   ADRIEN  2_01_12  pho            NaN          NaN   \n",
       "9970   ADRIEN  2_01_12  pho            NaN          NaN   \n",
       "11111  ADRIEN  2_02_00  pho            NaN          NaN   \n",
       "11122  ADRIEN  2_02_00  pho            NaN          NaN   \n",
       "11332  ADRIEN  2_02_22  pho            NaN          NaN   \n",
       "11920  ADRIEN  2_02_22  pho            NaN          NaN   \n",
       "11950  ADRIEN  2_02_22  pho            NaN          NaN   \n",
       "...       ...      ...  ...            ...          ...   \n",
       "32270  ADRIEN  2_08_12  pho            NaN          NaN   \n",
       "32417  ADRIEN  2_08_12  pho            NaN          NaN   \n",
       "32923  ADRIEN  2_08_12  pho            NaN          NaN   \n",
       "33754  ADRIEN  2_08_12  pho            NaN          NaN   \n",
       "33790  ADRIEN  2_08_12  pho            NaN          NaN   \n",
       "33799  ADRIEN  2_08_12  pho            NaN          NaN   \n",
       "34242  ADRIEN  2_09_13  pho            NaN          NaN   \n",
       "34407  ADRIEN  2_09_13  pho            NaN          NaN   \n",
       "34553  ADRIEN  2_09_13  pho            NaN          NaN   \n",
       "35404  ADRIEN  2_09_13  pho            NaN          NaN   \n",
       "35866  ADRIEN  2_09_13  pho            NaN          NaN   \n",
       "36321  ADRIEN  2_09_13  pho            NaN          NaN   \n",
       "36563  ADRIEN  2_09_13  pho            NaN          NaN   \n",
       "36749  ADRIEN  2_10_14  pho            NaN          NaN   \n",
       "37339  ADRIEN  2_10_14  pho            NaN          NaN   \n",
       "37352  ADRIEN  2_10_14  pho            NaN          NaN   \n",
       "37514  ADRIEN  2_10_14  pho            NaN          NaN   \n",
       "37616  ADRIEN  2_10_14  pho            NaN          NaN   \n",
       "37687  ADRIEN  2_10_14  pho            NaN          NaN   \n",
       "38499  ADRIEN  2_10_14  pho            NaN          NaN   \n",
       "38559  ADRIEN  2_10_14  pho            NaN          NaN   \n",
       "39235  ADRIEN  2_10_14  pho            NaN          NaN   \n",
       "39251  ADRIEN  2_10_14  pho            NaN          NaN   \n",
       "39387  ADRIEN  2_10_14  pho            NaN          NaN   \n",
       "39390  ADRIEN  2_10_14  pho            NaN          NaN   \n",
       "40094  ADRIEN  2_10_14  pho            NaN          NaN   \n",
       "40190  ADRIEN  2_10_14  pho            NaN          NaN   \n",
       "40590  ADRIEN  2_10_14  pho            NaN          NaN   \n",
       "41120  ADRIEN  2_10_14  pho            NaN          NaN   \n",
       "41732  ADRIEN  2_11_11  pho            NaN          NaN   \n",
       "\n",
       "                                                 contenu année mois jour  \\\n",
       "4632       ‹adʁijɛ̃ vjɛ̃ vwaʁ j a œ̃ kado il ɛ u l kado›     2   00   15   \n",
       "4651           ‹sɛ puʁ ki sa vjɛ̃ vwaʁ k ɛs ki j a ddɑ̃›     2   00   15   \n",
       "4805             ‹bɛ̃ mɛ kɛkə ʃoz la si ty vø va z i mɛ›     2   00   15   \n",
       "4878                ‹ty vø k ɔ̃ l ɑ̃ ty vø k ɔ̃ l ɑ̃lɛv›     2   00   15   \n",
       "5549   ‹ty vø k ʒ uvʁ səlɥisi nɔ̃ ɔ̃ va uvʁiʁ səlɥila...     2   00   15   \n",
       "5726   ‹lə koʃɔ̃ ʁəɡaʁd sa sɛ œ̃ koʃɔ̃ komɑ̃ i fɛ l k...     2   00   15   \n",
       "5853   ‹e sa ty sɛ diʁ pepe adʁijɛ̃ komɑ̃ ty dizɛ s m...     2   00   15   \n",
       "5983   ‹fil mwa lot s tə plɛ ɛmʁik ɛmʁik fil mwa lot ...     2   00   15   \n",
       "6223            ‹wɛ ʒ kʁwa k il ɛ œ̃ pø mɔʁ lə pɛʁ noɛl›     2   00   15   \n",
       "6376      ‹laʃ tjɛ̃ ʁəɡaʁd l pɛʁ noɛl il ɛ u l pɛʁ noɛl›     2   00   15   \n",
       "6646   ‹e ʁəɡaʁd t a mɔ̃tʁe ʁəɡaʁd ʁəɡaʁd la kaʃɛt pl...     2   00   15   \n",
       "6930              ‹se tɑ̃ si sɛ l mo k i di l ply suvɑ̃›     2   01   12   \n",
       "7109       ‹ty dɔn a papa ty dɔn wi t ɛ ʒɑ̃ti mɔ̃ bonɔm›     2   01   12   \n",
       "7452              ‹e komɑ̃ s s apɛl s ki j a ddɑ̃ də lo›     2   01   12   \n",
       "7555   ‹adʁijɛ̃ papa il a di nɔ̃ tjɛ̃ pʁɑ̃ si ty vø b...     2   01   12   \n",
       "8119    ‹atɑ̃ e wi ʁəɡaʁd mɛ ɔ̃ va t l ɑ̃lve adʁijɛ̃ wɛ›     2   01   12   \n",
       "8440          ‹ty nə ʒɛt pa paʁ tɛʁ la ʒə sɥi pa d akɔʁ›     2   01   12   \n",
       "8934    ‹bɔ̃ ɔ̃ va vwaʁ s kə sa dɔn l ymidifikatœʁ d ɛʁ›     2   01   12   \n",
       "9046        ‹nɔ̃ nɔ̃ lɛs lɛs nə tiʁ pa nə tiʁ pa ty lɛs›     2   01   12   \n",
       "9085          ‹ba si u avɛk tɔ̃ dizɥit ɑ̃ d aʒ si ty vø›     2   01   12   \n",
       "9183   ‹mamɑ̃ ɛs k ɛl a de bobo kɛlk paʁ atɑ̃ ɛl ʁəɡaʁd›     2   01   12   \n",
       "9228     ‹ɛmʁik ty m mɛ dy koka avɛk dy malibu s tə plɛ›     2   01   12   \n",
       "9480          ‹nɔ̃ e apʁɛ kɑ̃ mamɑ̃ ɛl dɔn k ɛs k ɔ̃ di›     2   01   12   \n",
       "9825       ‹tjɛ̃ ty m dɔn te mɛ̃ dɔn mwa te mɛ̃ lot mɛ̃›     2   01   12   \n",
       "9970    ‹ty mɔ̃t dəsy komɑ̃ ty fɛ puʁ pedale ale va z i›     2   01   12   \n",
       "11111           ‹il ɑ̃ n a apʁɛ le pje də ʃe le z ɑ̃fɑ̃›     2   02   00   \n",
       "11122     ‹lə pje u la ʃosyʁ mɛ lə pje i pʁefɛʁ kɑ̃ mɛm›     2   02   00   \n",
       "11332  ‹tjɛ̃ ty vø mɔ̃tʁe komɑ̃ ty sɛ fɛʁ de betiz tj...     2   02   22   \n",
       "11920                 ‹il ɛ u papa o ʒ lə vwa pa il ɛ u›     2   02   22   \n",
       "11950  ‹nɔ̃ sɛ didi ki fɛ dodo tata ɛl fɛ pa dodo ɑ̃kɔʁ›     2   02   22   \n",
       "...                                                  ...   ...  ...  ...   \n",
       "32270  ‹sɛ œ̃ vɛʁ ɛkspʁɛ nɔ̃ a nɔ̃ sɛ œ̃ vɛʁ ʁivzalt ...     2   08   12   \n",
       "32417     ‹ʒ ɛ l ɛ̃pʁesjɔ̃ k i s dily sypɛʁ mal sə siʁo›     2   08   12   \n",
       "32923               ‹ty ʒu o leɡo e ty vø k papa i t ɛd›     2   08   12   \n",
       "33754         ‹e k ɛs kə t a vy d otʁ kɔm animo adʁijɛ̃›     2   08   12   \n",
       "33790          ‹k ɛs k ɔ̃ n a vy d ot kɔm animo adʁijɛ̃›     2   08   12   \n",
       "33799       ‹e ɔ̃ na vy ta y pœʁ de de de koʃɔ adʁijɛ̃̃›     2   08   12   \n",
       "34242                   ‹k ɛs k j a mɔ̃ ʃeʁi k ɛs k j a›     2   09   13   \n",
       "34407  ‹tjɛ̃ adʁijɛ̃ si ty vø mɑ̃ʒe i fo mɛt lə slip ...     2   09   13   \n",
       "34553            ‹k ɛs kə ʒ vulɛ diʁ ʒ le fɛ a la kokɔt›     2   09   13   \n",
       "35404  ‹tjɛ̃ mɛ twa la atɑ̃ atɑ̃ nɔ̃ atɑ̃ atɑ̃ mɛ twa...     2   09   13   \n",
       "35866  ‹aj aʁɛt nɔ̃ nɔ̃ sa sɛ pa dʁol sa fɛ mal adʁijɛ̃›     2   09   13   \n",
       "36321  ‹ʁəɡaʁd ty pʁɑ̃ sysɛt e dudu e ty va ʒwe avɛk ...     2   09   13   \n",
       "36563             ‹k ɛs ki j a kuku adʁijɛ̃ k ɛs ki j a›     2   09   13   \n",
       "36749        ‹ty di dmɑ̃d a papa ty di s il tə plɛ papa›     2   10   14   \n",
       "37339   ‹nɔ̃ sɛ tɔ̃tɔ̃ muʁad kj ɛ vəny t ʃɛʁʃe a l ekɔl›     2   10   14   \n",
       "37352   ‹k ɛs kə t a mɑ̃ʒe adʁijɛ̃ a midi ʃe tata badja›     2   10   14   \n",
       "37514          ‹ty li pa mɛ papa i pø tələ liʁ si ty vø›     2   10   14   \n",
       "37616  ‹tjɛ̃ ty vø k ɔ̃ liz lə ɡato lə kado d anivɛʁsɛʁ›     2   10   14   \n",
       "37687        ‹nɔ̃ sɛ pa a papa ɛl sɔ̃ mɔʃ kɔm tu sɛl si›     2   10   14   \n",
       "38499  ‹tjɛ̃ ty ʒu dø sɡɔ̃d avɛk naomi papa i va vwaʁ...     2   10   14   \n",
       "38559       ‹e ty l mɛ u adʁijɛ̃ dɑ̃ la mɛz ty mɛ dədɑ̃›     2   10   14   \n",
       "39235  ‹mɔ̃tʁ a mamɑ̃ mɔ̃tʁ a mamɑ̃ komɑ̃ ɔ̃ n uvʁə l...     2   10   14   \n",
       "39251     ‹t ɛ syʁ e komɑ̃ e komɑ̃ komɑ̃ komɑ̃ ɔ̃ n uvʁ›     2   10   14   \n",
       "39387    ‹ɛ̃ sɛ le su tjɛ̃ dəmɑ̃d a naomi de su ɑ̃ plys›     2   10   14   \n",
       "39390        ‹e nɔ̃ mɛ atɑ̃ e i vɔ̃ tɔ̃be paʁ tɛʁ le su›     2   10   14   \n",
       "40094  ‹e bɛ̃ paʁs kə dy ʒy d oʁɑ̃ʒ nɔʁmalmɑ̃ sa s səku›     2   10   14   \n",
       "40190        ‹bɛ̃ ty pus papa ba ale papa i s ɑ̃ va ale›     2   10   14   \n",
       "40590  ‹e bɛ̃ va la ʃɛʁʃe va la mɔ̃tʁe a naomi ta vwa...     2   10   14   \n",
       "41120  ‹swa saʒ adʁijɛ̃ ty nə pus pa ty fɛ œ̃ bizu ad...     2   10   14   \n",
       "41732               ‹e pa la te la se py o ote la sa yn›     2   11   11   \n",
       "\n",
       "       nombre_mot_phonétique  \n",
       "4632                      12  \n",
       "4651                      12  \n",
       "4805                      12  \n",
       "4878                      12  \n",
       "5549                      12  \n",
       "5726                      12  \n",
       "5853                      12  \n",
       "5983                      12  \n",
       "6223                      12  \n",
       "6376                      12  \n",
       "6646                      12  \n",
       "6930                      12  \n",
       "7109                      12  \n",
       "7452                      12  \n",
       "7555                      12  \n",
       "8119                      12  \n",
       "8440                      12  \n",
       "8934                      12  \n",
       "9046                      12  \n",
       "9085                      12  \n",
       "9183                      12  \n",
       "9228                      12  \n",
       "9480                      12  \n",
       "9825                      12  \n",
       "9970                      12  \n",
       "11111                     12  \n",
       "11122                     12  \n",
       "11332                     12  \n",
       "11920                     12  \n",
       "11950                     12  \n",
       "...                      ...  \n",
       "32270                     12  \n",
       "32417                     12  \n",
       "32923                     12  \n",
       "33754                     12  \n",
       "33790                     12  \n",
       "33799                     12  \n",
       "34242                     12  \n",
       "34407                     12  \n",
       "34553                     12  \n",
       "35404                     12  \n",
       "35866                     12  \n",
       "36321                     12  \n",
       "36563                     12  \n",
       "36749                     12  \n",
       "37339                     12  \n",
       "37352                     12  \n",
       "37514                     12  \n",
       "37616                     12  \n",
       "37687                     12  \n",
       "38499                     12  \n",
       "38559                     12  \n",
       "39235                     12  \n",
       "39251                     12  \n",
       "39387                     12  \n",
       "39390                     12  \n",
       "40094                     12  \n",
       "40190                     12  \n",
       "40590                     12  \n",
       "41120                     12  \n",
       "41732                     12  \n",
       "\n",
       "[144 rows x 10 columns]"
      ]
     },
     "execution_count": 54,
     "metadata": {},
     "output_type": "execute_result"
    }
   ],
   "source": [
    "#Exemple: selection des phrases de 12 mots à l'age 2,xx,xx\n",
    "pho_child.loc[pho_child['année'] == '2'].loc[pho_child.loc[pho_child['année'] == '2']['nombre_mot_phonétique'] == 12]"
   ]
  },
  {
   "cell_type": "markdown",
   "metadata": {},
   "source": [
    "### Gestion de l'encodage"
   ]
  },
  {
   "cell_type": "code",
   "execution_count": null,
   "metadata": {},
   "outputs": [],
   "source": [
    "import chardet\n",
    "\n",
    "with open('data_antoine_final.csv', 'rb') as f:\n",
    "    result = chardet.detect(f.read())  # or readline if the file is large\n",
    "\n",
    "result"
   ]
  },
  {
   "cell_type": "code",
   "execution_count": null,
   "metadata": {},
   "outputs": [],
   "source": [
    "#data_antoine_final = pd.read_csv('data_antoine_final.csv', encoding=result['encoding'])\n",
    "#data_antoine_final"
   ]
  }
 ],
 "metadata": {
  "kernelspec": {
   "display_name": "Python 3",
   "language": "python",
   "name": "python3"
  },
  "language_info": {
   "codemirror_mode": {
    "name": "ipython",
    "version": 3
   },
   "file_extension": ".py",
   "mimetype": "text/x-python",
   "name": "python",
   "nbconvert_exporter": "python",
   "pygments_lexer": "ipython3",
   "version": "3.7.3"
  }
 },
 "nbformat": 4,
 "nbformat_minor": 2
}
