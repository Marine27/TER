{
 "cells": [
  {
   "cell_type": "markdown",
   "metadata": {},
   "source": [
    "# Traitement de données Léonard"
   ]
  },
  {
   "cell_type": "markdown",
   "metadata": {},
   "source": [
    "Léonard est né le 15 octobre 1990 dans une famille parisienne. Sa mère, écrivain, lui raconte souvent des histoires dans lesquelles il est le héros et son père, producteur et réalisateur, le filme régulièrement. Léonard est un petit garçon vif et imaginatif dont le développement langagier peut être qualifié d’assez rapide. Il était enfant unique et âgé de 1;08 lors des premiers enregistrements et Aliyah Morgenstern l’a filmé chez lui une heure par mois jusqu’à ses 3;03 composant ainsi un corpus longitudinal en situation naturelle."
   ]
  },
  {
   "cell_type": "markdown",
   "metadata": {},
   "source": [
    "## Nettoyage"
   ]
  },
  {
   "cell_type": "markdown",
   "metadata": {},
   "source": [
    "\n",
    "Récupèrer la liste des noms de fichier pour Madeleine :\n",
    "\n",
    "- Ces fichiers sont placés dans un repertoire 'data/madeleine_texte'\n",
    "- Ils sont issuent d'une extraction sur le site colaje au format chat\n",
    "- Nous les avons transformés en format .txt afin de pouvoir les traiter avec python"
   ]
  },
  {
   "cell_type": "code",
   "execution_count": 1,
   "metadata": {},
   "outputs": [],
   "source": [
    "import os \n",
    "import pandas as pd \n",
    "import warnings\n",
    "warnings.filterwarnings(\"ignore\")\n",
    "import matplotlib.pyplot as plt\n",
    "import chardet"
   ]
  },
  {
   "cell_type": "code",
   "execution_count": 67,
   "metadata": {},
   "outputs": [],
   "source": [
    "#print(os.getcwd())\n",
    "#os.chdir('/Users/sariakarandrianjanahary/Desktop/M1_MIASHS/TER/fichiecsv')\n",
    "#listing=os.listdir()"
   ]
  },
  {
   "cell_type": "code",
   "execution_count": 68,
   "metadata": {},
   "outputs": [],
   "source": [
    "#listing.sort()\n",
    "#listing"
   ]
  },
  {
   "cell_type": "code",
   "execution_count": 4,
   "metadata": {
    "scrolled": true
   },
   "outputs": [
    {
     "data": {
      "text/plain": [
       "14"
      ]
     },
     "execution_count": 4,
     "metadata": {},
     "output_type": "execute_result"
    }
   ],
   "source": [
    "del listing[0] # pour retirer '.DS_Store'\n",
    "#len(listing)"
   ]
  },
  {
   "cell_type": "markdown",
   "metadata": {},
   "source": [
    "Nous avons 15 fichiers pour Madeleine, chacun de ses fichiers corresepondent aux retrancriptions d'un enregistrement vidéo.\n",
    "\n"
   ]
  },
  {
   "cell_type": "markdown",
   "metadata": {},
   "source": [
    " ## Lecture des données"
   ]
  },
  {
   "cell_type": "markdown",
   "metadata": {},
   "source": [
    "- Définir le nom des colonnes selon le fichier final attendu\n",
    "- Lire chaque fichier de la liste\n",
    "- Ajouter les colonnes nom de l'enfant et son age\n",
    "- La colonne age identifie de manière unique l'enregistrement"
   ]
  },
  {
   "cell_type": "code",
   "execution_count": 5,
   "metadata": {
    "collapsed": true
   },
   "outputs": [],
   "source": [
    "os.chdir('/Users/sariakarandrianjanahary/Desktop/M1_MIASHS/TER/fichiecsv')\n",
    "d = {} # Le dictionnaire contenant les noms des fichiers\n",
    "nom_col = ['type', 'seconde_debut', 'seconde_fin', 'contenu']\n",
    "rows = 0 #Compteur de ligne pour vérifier la perte de données\n",
    "\n",
    "for file in listing: \n",
    "    d[file]=pd.read_csv(file, \n",
    "                        sep = '\\t', \n",
    "                        names = nom_col, \n",
    "                        header = None)  \n",
    "\n",
    "    # On ajoute le nom de l'enfant\n",
    "    nom_pos1 = 0\n",
    "    nom_pos2 = file.find('-')\n",
    "    nom = file[nom_pos1:nom_pos2]\n",
    "    d[file]['enfant'] = nom\n",
    "    \n",
    "    # On ajoute l'age de l'enfant\n",
    "    age_pos1 = file.find('_')-1\n",
    "    age_pos2 = file.find('.')\n",
    "    age = file[age_pos1:age_pos2]\n",
    "    d[file]['age'] = age\n",
    "    \n",
    "    rows += len(d[file])\n",
    "    \n",
    "    \n",
    "# DataFrame contenant toutes les lignes de l'enfant\n",
    "data = pd.concat([d[file] for file in listing], \n",
    "                 sort=False,\n",
    "                 ignore_index=True)"
   ]
  },
  {
   "cell_type": "code",
   "execution_count": 69,
   "metadata": {},
   "outputs": [],
   "source": [
    "#data.shape"
   ]
  },
  {
   "cell_type": "markdown",
   "metadata": {},
   "source": [
    "## Vérification de la perte de données\n"
   ]
  },
  {
   "cell_type": "markdown",
   "metadata": {},
   "source": [
    "On vérifie qu'il y a autant de ligne lu (variable rows) que de ligne écritent (len(data))"
   ]
  },
  {
   "cell_type": "code",
   "execution_count": 7,
   "metadata": {},
   "outputs": [
    {
     "name": "stdout",
     "output_type": "stream",
     "text": [
      "True\n"
     ]
    }
   ],
   "source": [
    "print(rows == len(data))"
   ]
  },
  {
   "cell_type": "markdown",
   "metadata": {},
   "source": [
    "## Ordre des colonnes"
   ]
  },
  {
   "cell_type": "code",
   "execution_count": 8,
   "metadata": {},
   "outputs": [
    {
     "data": {
      "text/html": [
       "<div>\n",
       "<style scoped>\n",
       "    .dataframe tbody tr th:only-of-type {\n",
       "        vertical-align: middle;\n",
       "    }\n",
       "\n",
       "    .dataframe tbody tr th {\n",
       "        vertical-align: top;\n",
       "    }\n",
       "\n",
       "    .dataframe thead th {\n",
       "        text-align: right;\n",
       "    }\n",
       "</style>\n",
       "<table border=\"1\" class=\"dataframe\">\n",
       "  <thead>\n",
       "    <tr style=\"text-align: right;\">\n",
       "      <th></th>\n",
       "      <th>enfant</th>\n",
       "      <th>age</th>\n",
       "      <th>type</th>\n",
       "      <th>seconde_debut</th>\n",
       "      <th>seconde_fin</th>\n",
       "      <th>contenu</th>\n",
       "    </tr>\n",
       "  </thead>\n",
       "  <tbody>\n",
       "    <tr>\n",
       "      <th>0</th>\n",
       "      <td>LEONARD</td>\n",
       "      <td>1_08_09</td>\n",
       "      <td>+div+</td>\n",
       "      <td>0.0</td>\n",
       "      <td>1967.815</td>\n",
       "      <td>Situation</td>\n",
       "    </tr>\n",
       "    <tr>\n",
       "      <th>1</th>\n",
       "      <td>LEONARD</td>\n",
       "      <td>1_08_09</td>\n",
       "      <td>+div+</td>\n",
       "      <td>0.0</td>\n",
       "      <td>787.467</td>\n",
       "      <td>BG</td>\n",
       "    </tr>\n",
       "    <tr>\n",
       "      <th>2</th>\n",
       "      <td>LEONARD</td>\n",
       "      <td>1_08_09</td>\n",
       "      <td>CHI</td>\n",
       "      <td>0.0</td>\n",
       "      <td>2.456</td>\n",
       "      <td>oh !</td>\n",
       "    </tr>\n",
       "    <tr>\n",
       "      <th>3</th>\n",
       "      <td>LEONARD</td>\n",
       "      <td>1_08_09</td>\n",
       "      <td>mod</td>\n",
       "      <td>NaN</td>\n",
       "      <td>NaN</td>\n",
       "      <td>ɔ</td>\n",
       "    </tr>\n",
       "    <tr>\n",
       "      <th>4</th>\n",
       "      <td>LEONARD</td>\n",
       "      <td>1_08_09</td>\n",
       "      <td>pho</td>\n",
       "      <td>NaN</td>\n",
       "      <td>NaN</td>\n",
       "      <td>oː</td>\n",
       "    </tr>\n",
       "  </tbody>\n",
       "</table>\n",
       "</div>"
      ],
      "text/plain": [
       "    enfant      age   type  seconde_debut  seconde_fin    contenu\n",
       "0  LEONARD  1_08_09  +div+            0.0     1967.815  Situation\n",
       "1  LEONARD  1_08_09  +div+            0.0      787.467         BG\n",
       "2  LEONARD  1_08_09    CHI            0.0        2.456       oh !\n",
       "3  LEONARD  1_08_09    mod            NaN          NaN          ɔ\n",
       "4  LEONARD  1_08_09    pho            NaN          NaN         oː"
      ]
     },
     "execution_count": 8,
     "metadata": {},
     "output_type": "execute_result"
    }
   ],
   "source": [
    "data=data[['enfant', 'age','type', 'seconde_debut', 'seconde_fin', 'contenu']]\n",
    "data.head()"
   ]
  },
  {
   "cell_type": "markdown",
   "metadata": {},
   "source": [
    "## Création  fichier final csv"
   ]
  },
  {
   "cell_type": "code",
   "execution_count": 9,
   "metadata": {
    "collapsed": true
   },
   "outputs": [],
   "source": [
    "# Création du fichier enfant\n",
    "os.chdir('/Users/sariakarandrianjanahary/Desktop/M1_MIASHS/TER')\n",
    "data.to_csv('data_leonard_final.csv',\n",
    "           encoding = 'utf-8',\n",
    "           sep = '\\t',\n",
    "           header = True)"
   ]
  },
  {
   "cell_type": "markdown",
   "metadata": {},
   "source": [
    "\n",
    "On peut maintenant utiliser le fichier 'data_leonard_finale.csv' pour l'exploration de données."
   ]
  },
  {
   "cell_type": "markdown",
   "metadata": {},
   "source": [
    "## Lecture fichier final"
   ]
  },
  {
   "cell_type": "code",
   "execution_count": 5,
   "metadata": {},
   "outputs": [],
   "source": [
    "data_leonard = pd.read_csv('..\\data\\data_leonard_final.csv',\n",
    "                           sep = '\\t',\n",
    "                           encoding = 'utf-8',\n",
    "                           index_col=False)\n",
    "\n",
    "# On supprime la colonne qui duplique les index\n",
    "data_leonard = data_leonard.drop(columns = 'Unnamed: 0')"
   ]
  },
  {
   "cell_type": "markdown",
   "metadata": {},
   "source": [
    "Dimension :"
   ]
  },
  {
   "cell_type": "code",
   "execution_count": 6,
   "metadata": {},
   "outputs": [
    {
     "data": {
      "text/plain": [
       "(28746, 6)"
      ]
     },
     "execution_count": 6,
     "metadata": {},
     "output_type": "execute_result"
    }
   ],
   "source": [
    "# dimension de notre données\n",
    "data_leonard.shape"
   ]
  },
  {
   "cell_type": "markdown",
   "metadata": {},
   "source": [
    "## Exploration des données"
   ]
  },
  {
   "cell_type": "markdown",
   "metadata": {},
   "source": [
    "Qu'elles sont les différents type de ligne ?"
   ]
  },
  {
   "cell_type": "code",
   "execution_count": 7,
   "metadata": {},
   "outputs": [
    {
     "name": "stdout",
     "output_type": "stream",
     "text": [
      "25\n"
     ]
    }
   ],
   "source": [
    "print(len(data_leonard['type'].unique()))"
   ]
  },
  {
   "cell_type": "code",
   "execution_count": 10,
   "metadata": {},
   "outputs": [
    {
     "data": {
      "text/plain": [
       "array(['+div+', 'CHI', 'mod', 'pho', 'MOT', 'sit', 'int', 'OBS', 'tim',\n",
       "       'FAT', '-div-', 'PAT', 'com', 'FLO', 'ELS', 'ADX', 'act', 'nof',\n",
       "       'xpnt', 'GTA', 'ARI', 'GUI', 'MIN', 'GRM', 'MAN'], dtype=object)"
      ]
     },
     "execution_count": 10,
     "metadata": {},
     "output_type": "execute_result"
    }
   ],
   "source": [
    "data_leonard['type'].unique()"
   ]
  },
  {
   "cell_type": "markdown",
   "metadata": {},
   "source": [
    "## Le phonèmes"
   ]
  },
  {
   "cell_type": "markdown",
   "metadata": {},
   "source": [
    "\n",
    "Les lignes de type 'pho' correspondent à la traduction phonétique lorsque Leonard s'exprime :\n",
    "\n",
    "- Nous avons à disposition 3852 traductions pour Leonard\n",
    "- Les traductions s'arrêtent à l'age de 3 ans 2 mois et 25 jours"
   ]
  },
  {
   "cell_type": "code",
   "execution_count": 9,
   "metadata": {},
   "outputs": [
    {
     "data": {
      "text/html": [
       "<div>\n",
       "<style scoped>\n",
       "    .dataframe tbody tr th:only-of-type {\n",
       "        vertical-align: middle;\n",
       "    }\n",
       "\n",
       "    .dataframe tbody tr th {\n",
       "        vertical-align: top;\n",
       "    }\n",
       "\n",
       "    .dataframe thead th {\n",
       "        text-align: right;\n",
       "    }\n",
       "</style>\n",
       "<table border=\"1\" class=\"dataframe\">\n",
       "  <thead>\n",
       "    <tr style=\"text-align: right;\">\n",
       "      <th></th>\n",
       "      <th>enfant</th>\n",
       "      <th>age</th>\n",
       "      <th>type</th>\n",
       "      <th>seconde_debut</th>\n",
       "      <th>seconde_fin</th>\n",
       "      <th>contenu</th>\n",
       "    </tr>\n",
       "  </thead>\n",
       "  <tbody>\n",
       "    <tr>\n",
       "      <th>4</th>\n",
       "      <td>LEONARD</td>\n",
       "      <td>1_08_09</td>\n",
       "      <td>pho</td>\n",
       "      <td>NaN</td>\n",
       "      <td>NaN</td>\n",
       "      <td>oː</td>\n",
       "    </tr>\n",
       "    <tr>\n",
       "      <th>10</th>\n",
       "      <td>LEONARD</td>\n",
       "      <td>1_08_09</td>\n",
       "      <td>pho</td>\n",
       "      <td>NaN</td>\n",
       "      <td>NaN</td>\n",
       "      <td>kɔkɔ</td>\n",
       "    </tr>\n",
       "    <tr>\n",
       "      <th>14</th>\n",
       "      <td>LEONARD</td>\n",
       "      <td>1_08_09</td>\n",
       "      <td>pho</td>\n",
       "      <td>NaN</td>\n",
       "      <td>NaN</td>\n",
       "      <td>kɔkɔ</td>\n",
       "    </tr>\n",
       "    <tr>\n",
       "      <th>18</th>\n",
       "      <td>LEONARD</td>\n",
       "      <td>1_08_09</td>\n",
       "      <td>pho</td>\n",
       "      <td>NaN</td>\n",
       "      <td>NaN</td>\n",
       "      <td>e kɔkɔ XX e kɔkɔ</td>\n",
       "    </tr>\n",
       "    <tr>\n",
       "      <th>24</th>\n",
       "      <td>LEONARD</td>\n",
       "      <td>1_08_09</td>\n",
       "      <td>pho</td>\n",
       "      <td>NaN</td>\n",
       "      <td>NaN</td>\n",
       "      <td>oː</td>\n",
       "    </tr>\n",
       "    <tr>\n",
       "      <th>27</th>\n",
       "      <td>LEONARD</td>\n",
       "      <td>1_08_09</td>\n",
       "      <td>pho</td>\n",
       "      <td>NaN</td>\n",
       "      <td>NaN</td>\n",
       "      <td>jedede XX</td>\n",
       "    </tr>\n",
       "    <tr>\n",
       "      <th>31</th>\n",
       "      <td>LEONARD</td>\n",
       "      <td>1_08_09</td>\n",
       "      <td>pho</td>\n",
       "      <td>NaN</td>\n",
       "      <td>NaN</td>\n",
       "      <td>dede</td>\n",
       "    </tr>\n",
       "    <tr>\n",
       "      <th>36</th>\n",
       "      <td>LEONARD</td>\n",
       "      <td>1_08_09</td>\n",
       "      <td>pho</td>\n",
       "      <td>NaN</td>\n",
       "      <td>NaN</td>\n",
       "      <td>o kole</td>\n",
       "    </tr>\n",
       "    <tr>\n",
       "      <th>39</th>\n",
       "      <td>LEONARD</td>\n",
       "      <td>1_08_09</td>\n",
       "      <td>pho</td>\n",
       "      <td>NaN</td>\n",
       "      <td>NaN</td>\n",
       "      <td>e koko</td>\n",
       "    </tr>\n",
       "    <tr>\n",
       "      <th>43</th>\n",
       "      <td>LEONARD</td>\n",
       "      <td>1_08_09</td>\n",
       "      <td>pho</td>\n",
       "      <td>NaN</td>\n",
       "      <td>NaN</td>\n",
       "      <td>ɛ̃ papa</td>\n",
       "    </tr>\n",
       "  </tbody>\n",
       "</table>\n",
       "</div>"
      ],
      "text/plain": [
       "     enfant      age type  seconde_debut  seconde_fin           contenu\n",
       "4   LEONARD  1_08_09  pho            NaN          NaN                oː\n",
       "10  LEONARD  1_08_09  pho            NaN          NaN              kɔkɔ\n",
       "14  LEONARD  1_08_09  pho            NaN          NaN              kɔkɔ\n",
       "18  LEONARD  1_08_09  pho            NaN          NaN  e kɔkɔ XX e kɔkɔ\n",
       "24  LEONARD  1_08_09  pho            NaN          NaN                oː\n",
       "27  LEONARD  1_08_09  pho            NaN          NaN         jedede XX\n",
       "31  LEONARD  1_08_09  pho            NaN          NaN              dede\n",
       "36  LEONARD  1_08_09  pho            NaN          NaN            o kole\n",
       "39  LEONARD  1_08_09  pho            NaN          NaN            e koko\n",
       "43  LEONARD  1_08_09  pho            NaN          NaN           ɛ̃ papa"
      ]
     },
     "execution_count": 9,
     "metadata": {},
     "output_type": "execute_result"
    }
   ],
   "source": [
    "pho_leonard = data_leonard[data_leonard['type'] == 'pho']\n",
    "pho_leonard.head(10)"
   ]
  },
  {
   "cell_type": "markdown",
   "metadata": {},
   "source": [
    "## Visualisation des données phonétiques"
   ]
  },
  {
   "cell_type": "markdown",
   "metadata": {},
   "source": [
    "### Ajout des colonnes 'années' , 'mois', 'jours'"
   ]
  },
  {
   "cell_type": "markdown",
   "metadata": {},
   "source": [
    "On considère que la colonne age a pout format : x_xx_xx (année_mois_jour) ainsi :\n",
    "\n",
    "- pho_madeleine['age'][0:1] nous donne le nombre d'année\n",
    "- pho_madeleine['age'][2:4] nous donne le nombre de mois\n",
    "- pho_madeleine['age'][5:7] nous donne le nombre de jours"
   ]
  },
  {
   "cell_type": "code",
   "execution_count": 12,
   "metadata": {},
   "outputs": [],
   "source": [
    "# Ajout du nombre d'année\n",
    "année_pho_leonard = pho_leonard.apply(lambda row: row['age'][0:1], axis=1)\n",
    "pho_leonard['année'] = année_pho_leonard\n",
    "\n",
    "# Ajout du nombre de mois\n",
    "mois_pho_leonard = pho_leonard.apply(lambda row: row['age'][2:4], axis=1)\n",
    "pho_leonard['mois'] = mois_pho_leonard\n",
    "\n",
    "# Ajout du nombre de jour\n",
    "jour_pho_leonard = pho_leonard.apply(lambda row: row['age'][5:7], axis=1)\n",
    "pho_leonard['jour'] = jour_pho_leonard"
   ]
  },
  {
   "cell_type": "markdown",
   "metadata": {},
   "source": [
    "### Quantité de données"
   ]
  },
  {
   "cell_type": "markdown",
   "metadata": {},
   "source": [
    "Combien avons-nous de ligne pour chaque année ? mois ? jour ?"
   ]
  },
  {
   "cell_type": "markdown",
   "metadata": {},
   "source": [
    "#### Quantité de données par année"
   ]
  },
  {
   "cell_type": "code",
   "execution_count": 71,
   "metadata": {},
   "outputs": [
    {
     "data": {
      "text/html": [
       "<div>\n",
       "<style scoped>\n",
       "    .dataframe tbody tr th:only-of-type {\n",
       "        vertical-align: middle;\n",
       "    }\n",
       "\n",
       "    .dataframe tbody tr th {\n",
       "        vertical-align: top;\n",
       "    }\n",
       "\n",
       "    .dataframe thead th {\n",
       "        text-align: right;\n",
       "    }\n",
       "</style>\n",
       "<table border=\"1\" class=\"dataframe\">\n",
       "  <thead>\n",
       "    <tr style=\"text-align: right;\">\n",
       "      <th></th>\n",
       "      <th>nb_phrase</th>\n",
       "    </tr>\n",
       "    <tr>\n",
       "      <th>année</th>\n",
       "      <th></th>\n",
       "    </tr>\n",
       "  </thead>\n",
       "  <tbody>\n",
       "    <tr>\n",
       "      <th>1</th>\n",
       "      <td>952</td>\n",
       "    </tr>\n",
       "    <tr>\n",
       "      <th>2</th>\n",
       "      <td>2895</td>\n",
       "    </tr>\n",
       "    <tr>\n",
       "      <th>3</th>\n",
       "      <td>4</td>\n",
       "    </tr>\n",
       "  </tbody>\n",
       "</table>\n",
       "</div>"
      ],
      "text/plain": [
       "       nb_phrase\n",
       "année           \n",
       "1            952\n",
       "2           2895\n",
       "3              4"
      ]
     },
     "execution_count": 71,
     "metadata": {},
     "output_type": "execute_result"
    }
   ],
   "source": [
    "nb_phrase_annee = pho_leonard[{'année','contenu'}].groupby('année').count()\n",
    "nb_phrase_annee.rename(columns={'contenu': 'nb_phrase'})"
   ]
  },
  {
   "cell_type": "code",
   "execution_count": 70,
   "metadata": {},
   "outputs": [
    {
     "data": {
      "image/png": "[encoded data removed]",
      "text/plain": [
       "<Figure size 720x360 with 1 Axes>"
      ]
     },
     "metadata": {
      "needs_background": "light"
     },
     "output_type": "display_data"
    }
   ],
   "source": [
    "nb_phrase_annee.plot(kind='bar', \n",
    "                       subplots=True, \n",
    "                       figsize=(10,5),\n",
    "                       title = 'Nombre de phrases phonétiques retranscritent par année : Leonard',\n",
    "                       fontsize = 15,\n",
    "                       use_index = True);"
   ]
  },
  {
   "cell_type": "markdown",
   "metadata": {},
   "source": [
    "- Il y a un riche contenu dès la première année\n",
    "- Le pic de données phonétiques se situe à l'age de 2 ans\n",
    "- La quantité de données diminuent à partir de 2 ans\n"
   ]
  },
  {
   "cell_type": "markdown",
   "metadata": {},
   "source": [
    "#### Quantité de données par mois"
   ]
  },
  {
   "cell_type": "markdown",
   "metadata": {},
   "source": [
    "Regardons plus en détail la quantitée de donnée phonétique par mois :"
   ]
  },
  {
   "cell_type": "code",
   "execution_count": 72,
   "metadata": {},
   "outputs": [],
   "source": [
    "nb_phrase_mois = pho_leonard[{'année','mois','contenu'}].groupby(['année','mois']).count()\n",
    "nb_phrase_mois = nb_phrase_mois.rename(columns={'contenu': 'nb_phrase'})\n",
    "#nb_phrase_mois.unstack(level=1)"
   ]
  },
  {
   "cell_type": "code",
   "execution_count": 22,
   "metadata": {},
   "outputs": [
    {
     "data": {
      "image/png": "[encoded data removed]",
      "text/plain": [
       "<Figure size 1440x1440 with 3 Axes>"
      ]
     },
     "metadata": {
      "needs_background": "light"
     },
     "output_type": "display_data"
    }
   ],
   "source": [
    "plt = nb_phrase_mois.unstack(level=0).plot(kind='bar', \n",
    "                                     subplots=True, \n",
    "                                     figsize=(20, 20),\n",
    "                                     title = 'Nombre de phrases phonétiques retranscritent par mois : Leonard',\n",
    "                                     fontsize = 15,\n",
    "                                     use_index = True)"
   ]
  },
  {
   "cell_type": "markdown",
   "metadata": {},
   "source": [
    "#### Quantité de données par jours"
   ]
  },
  {
   "cell_type": "markdown",
   "metadata": {},
   "source": [
    "Regardons maintenant la quantité de données par jours :\n",
    "\n"
   ]
  },
  {
   "cell_type": "code",
   "execution_count": 23,
   "metadata": {},
   "outputs": [
    {
     "data": {
      "image/png": "[encoded data removed]",
      "text/plain": [
       "<Figure size 1440x720 with 1 Axes>"
      ]
     },
     "metadata": {
      "needs_background": "light"
     },
     "output_type": "display_data"
    }
   ],
   "source": [
    "plt = nb_phrase_mois.plot(kind='bar',\n",
    "                    subplots=True, \n",
    "                    figsize=(20, 10),\n",
    "                    title = 'Nombre de phrases phonétiques retranscritent par mois : Leonard',\n",
    "                    fontsize = 15,\n",
    "                    use_index = True)\n"
   ]
  },
  {
   "cell_type": "code",
   "execution_count": 24,
   "metadata": {},
   "outputs": [
    {
     "data": {
      "text/html": [
       "<div>\n",
       "<style scoped>\n",
       "    .dataframe tbody tr th:only-of-type {\n",
       "        vertical-align: middle;\n",
       "    }\n",
       "\n",
       "    .dataframe tbody tr th {\n",
       "        vertical-align: top;\n",
       "    }\n",
       "\n",
       "    .dataframe thead th {\n",
       "        text-align: right;\n",
       "    }\n",
       "</style>\n",
       "<table border=\"1\" class=\"dataframe\">\n",
       "  <thead>\n",
       "    <tr style=\"text-align: right;\">\n",
       "      <th></th>\n",
       "      <th></th>\n",
       "      <th></th>\n",
       "      <th>nb_phrase</th>\n",
       "    </tr>\n",
       "    <tr>\n",
       "      <th>année</th>\n",
       "      <th>mois</th>\n",
       "      <th>jour</th>\n",
       "      <th></th>\n",
       "    </tr>\n",
       "  </thead>\n",
       "  <tbody>\n",
       "    <tr>\n",
       "      <th rowspan=\"3\" valign=\"top\">1</th>\n",
       "      <th>08</th>\n",
       "      <th>09</th>\n",
       "      <td>234</td>\n",
       "    </tr>\n",
       "    <tr>\n",
       "      <th>10</th>\n",
       "      <th>24</th>\n",
       "      <td>467</td>\n",
       "    </tr>\n",
       "    <tr>\n",
       "      <th>11</th>\n",
       "      <th>15</th>\n",
       "      <td>251</td>\n",
       "    </tr>\n",
       "    <tr>\n",
       "      <th rowspan=\"10\" valign=\"top\">2</th>\n",
       "      <th rowspan=\"2\" valign=\"top\">00</th>\n",
       "      <th>08</th>\n",
       "      <td>422</td>\n",
       "    </tr>\n",
       "    <tr>\n",
       "      <th>26</th>\n",
       "      <td>577</td>\n",
       "    </tr>\n",
       "    <tr>\n",
       "      <th>01</th>\n",
       "      <th>27</th>\n",
       "      <td>410</td>\n",
       "    </tr>\n",
       "    <tr>\n",
       "      <th rowspan=\"2\" valign=\"top\">03</th>\n",
       "      <th>00</th>\n",
       "      <td>384</td>\n",
       "    </tr>\n",
       "    <tr>\n",
       "      <th>26</th>\n",
       "      <td>458</td>\n",
       "    </tr>\n",
       "    <tr>\n",
       "      <th>04</th>\n",
       "      <th>25</th>\n",
       "      <td>511</td>\n",
       "    </tr>\n",
       "    <tr>\n",
       "      <th>06</th>\n",
       "      <th>07</th>\n",
       "      <td>38</td>\n",
       "    </tr>\n",
       "    <tr>\n",
       "      <th>07</th>\n",
       "      <th>25</th>\n",
       "      <td>39</td>\n",
       "    </tr>\n",
       "    <tr>\n",
       "      <th rowspan=\"2\" valign=\"top\">11</th>\n",
       "      <th>03</th>\n",
       "      <td>12</td>\n",
       "    </tr>\n",
       "    <tr>\n",
       "      <th>30</th>\n",
       "      <td>44</td>\n",
       "    </tr>\n",
       "    <tr>\n",
       "      <th>3</th>\n",
       "      <th>02</th>\n",
       "      <th>25</th>\n",
       "      <td>4</td>\n",
       "    </tr>\n",
       "  </tbody>\n",
       "</table>\n",
       "</div>"
      ],
      "text/plain": [
       "                 nb_phrase\n",
       "année mois jour           \n",
       "1     08   09          234\n",
       "      10   24          467\n",
       "      11   15          251\n",
       "2     00   08          422\n",
       "           26          577\n",
       "      01   27          410\n",
       "      03   00          384\n",
       "           26          458\n",
       "      04   25          511\n",
       "      06   07           38\n",
       "      07   25           39\n",
       "      11   03           12\n",
       "           30           44\n",
       "3     02   25            4"
      ]
     },
     "execution_count": 24,
     "metadata": {},
     "output_type": "execute_result"
    }
   ],
   "source": [
    "nb_phrase_jour = pho_leonard[{'année','mois', 'jour', 'contenu'}].groupby(['année','mois', 'jour']).count()\n",
    "nb_phrase_jour = nb_phrase_jour.rename(columns={'contenu': 'nb_phrase'})\n",
    "nb_phrase_jour"
   ]
  },
  {
   "cell_type": "code",
   "execution_count": 25,
   "metadata": {},
   "outputs": [
    {
     "data": {
      "image/png": "[encoded data removed]",
      "text/plain": [
       "<Figure size 1440x720 with 1 Axes>"
      ]
     },
     "metadata": {
      "needs_background": "light"
     },
     "output_type": "display_data"
    }
   ],
   "source": [
    "plt = nb_phrase_jour.plot(kind='bar',\n",
    "                    subplots=True,\n",
    "                    figsize=(20, 10),\n",
    "                    title = 'Nombre de phrases phonétiques retranscritent par jour : Leonard',\n",
    "                    fontsize = 15,\n",
    "                    use_index = True)"
   ]
  },
  {
   "cell_type": "markdown",
   "metadata": {},
   "source": [
    "Ici nous avons découpé les données de tel sorte à avoir la quantitée de données pour chaque enregistrement. Mais elles ne sont pas distribuées de manière équitable dans le temps. On peut mesurer la croissance du nombre de prise de parole (on pourrait croiser cette donnée avec la durée de l'enregistrement pour une meilleure mesure).\n",
    "\n",
    "\n",
    "Les quantités de donnnees phonetiques pour les ages ci-dessous, sont tres faible à partir de 2_06_07.\n",
    "\n",
    "\n",
    "On a maintenant une meilleure vision de la quantité de données phonétiques à disposition et de leur répartition dans le temps pour Madeleine."
   ]
  },
  {
   "cell_type": "markdown",
   "metadata": {},
   "source": [
    "### Nombre de mots"
   ]
  },
  {
   "cell_type": "markdown",
   "metadata": {},
   "source": [
    "Nous allons chercher à explorer le nombre de mot au sens phonétique par phrase.\n",
    "\n",
    "Pour cela on peut compter le nombre d'espace dans la chaîne de caractère :\n"
   ]
  },
  {
   "cell_type": "markdown",
   "metadata": {},
   "source": [
    "Pour chaque ligne on calcul le nombre de mot phonétique :"
   ]
  },
  {
   "cell_type": "code",
   "execution_count": 44,
   "metadata": {},
   "outputs": [
    {
     "name": "stdout",
     "output_type": "stream",
     "text": [
      "Nombre de mot dans \"a pa bebebe\" : 3\n"
     ]
    }
   ],
   "source": [
    "# Exemple \n",
    "pho = pho_leonard.at[1000, 'contenu']\n",
    "print('Nombre de mot dans \"' + pho + '\" : '+ str(pho.count(' ')+1))"
   ]
  },
  {
   "cell_type": "code",
   "execution_count": 39,
   "metadata": {},
   "outputs": [],
   "source": [
    "#pho_leonard.info()"
   ]
  },
  {
   "cell_type": "markdown",
   "metadata": {},
   "source": [
    "Pour chaque ligne on calcul le nombre de mot phonétique :"
   ]
  },
  {
   "cell_type": "code",
   "execution_count": 40,
   "metadata": {},
   "outputs": [],
   "source": [
    "nb_mot_pho = pho_leonard.apply(lambda row: str(row['contenu']).count(' ')+1, axis=1)\n",
    "pho_leonard['nombre_mot_phonétique'] = nb_mot_pho #On ajoute une colonne contenant le nombre de mot"
   ]
  },
  {
   "cell_type": "markdown",
   "metadata": {},
   "source": [
    "\n",
    "Par exemple on peut avoir la phrase de Léonard avec le plus grand nombre de mot :"
   ]
  },
  {
   "cell_type": "code",
   "execution_count": 41,
   "metadata": {},
   "outputs": [
    {
     "data": {
      "text/plain": [
       "array(['kɑ̃ kɑ̃ lɛ ale o gʀɑ̃ o gʀɑ̃ ga o gʀɑ̃ daʀ ʃe gʀɑ̃dtmɛʀ u i avɛ lə u i avɛ lə ʃe'],\n",
       "      dtype=object)"
      ]
     },
     "execution_count": 41,
     "metadata": {},
     "output_type": "execute_result"
    }
   ],
   "source": [
    "pho_leonard.loc[pho_leonard['nombre_mot_phonétique'] == pho_leonard['nombre_mot_phonétique'].max()].contenu.values"
   ]
  },
  {
   "cell_type": "markdown",
   "metadata": {},
   "source": [
    "Voici la ligne de cette phrase :"
   ]
  },
  {
   "cell_type": "code",
   "execution_count": 42,
   "metadata": {},
   "outputs": [
    {
     "data": {
      "text/html": [
       "<div>\n",
       "<style scoped>\n",
       "    .dataframe tbody tr th:only-of-type {\n",
       "        vertical-align: middle;\n",
       "    }\n",
       "\n",
       "    .dataframe tbody tr th {\n",
       "        vertical-align: top;\n",
       "    }\n",
       "\n",
       "    .dataframe thead th {\n",
       "        text-align: right;\n",
       "    }\n",
       "</style>\n",
       "<table border=\"1\" class=\"dataframe\">\n",
       "  <thead>\n",
       "    <tr style=\"text-align: right;\">\n",
       "      <th></th>\n",
       "      <th>enfant</th>\n",
       "      <th>age</th>\n",
       "      <th>type</th>\n",
       "      <th>seconde_debut</th>\n",
       "      <th>seconde_fin</th>\n",
       "      <th>contenu</th>\n",
       "      <th>année</th>\n",
       "      <th>mois</th>\n",
       "      <th>jour</th>\n",
       "      <th>nombre_mot_phonétique</th>\n",
       "    </tr>\n",
       "  </thead>\n",
       "  <tbody>\n",
       "    <tr>\n",
       "      <th>23507</th>\n",
       "      <td>LEONARD</td>\n",
       "      <td>2_07_25</td>\n",
       "      <td>pho</td>\n",
       "      <td>NaN</td>\n",
       "      <td>NaN</td>\n",
       "      <td>kɑ̃ kɑ̃ lɛ ale o gʀɑ̃ o gʀɑ̃ ga o gʀɑ̃ daʀ ʃe ...</td>\n",
       "      <td>2</td>\n",
       "      <td>07</td>\n",
       "      <td>25</td>\n",
       "      <td>23</td>\n",
       "    </tr>\n",
       "  </tbody>\n",
       "</table>\n",
       "</div>"
      ],
      "text/plain": [
       "        enfant      age type  seconde_debut  seconde_fin  \\\n",
       "23507  LEONARD  2_07_25  pho            NaN          NaN   \n",
       "\n",
       "                                                 contenu année mois jour  \\\n",
       "23507  kɑ̃ kɑ̃ lɛ ale o gʀɑ̃ o gʀɑ̃ ga o gʀɑ̃ daʀ ʃe ...     2   07   25   \n",
       "\n",
       "       nombre_mot_phonétique  \n",
       "23507                     23  "
      ]
     },
     "execution_count": 42,
     "metadata": {},
     "output_type": "execute_result"
    }
   ],
   "source": [
    "pho_leonard.loc[pho_leonard['nombre_mot_phonétique'] == pho_leonard['nombre_mot_phonétique'].max()]"
   ]
  },
  {
   "cell_type": "markdown",
   "metadata": {},
   "source": [
    "## Esperance du mot par phrase"
   ]
  },
  {
   "cell_type": "markdown",
   "metadata": {},
   "source": [
    "Il est intéressant d'observer le nombre de mot moyen que contient les phrases de léonard. C'est un indicateur qui peut nous aiguiller sur l'explosion du lexicale de l'enfant. "
   ]
  },
  {
   "cell_type": "code",
   "execution_count": 46,
   "metadata": {},
   "outputs": [],
   "source": [
    "mean_nb_mot_pho_leonard_jour = pho_leonard[{'année', 'mois', 'jour', 'nombre_mot_phonétique'}].groupby(['année', 'mois', 'jour']).mean()\n",
    "mean_nb_mot_pho_leonard_jour = mean_nb_mot_pho_leonard_jour.rename(columns={'nombre_mot_phonétique': 'espérance_nombre_de_mot_phonétique'})\n",
    "#mean_nb_mot_pho_leonard_jour"
   ]
  },
  {
   "cell_type": "code",
   "execution_count": 73,
   "metadata": {},
   "outputs": [
    {
     "data": {
      "image/png": "[encoded data removed]",
      "text/plain": [
       "<Figure size 1080x504 with 1 Axes>"
      ]
     },
     "metadata": {
      "needs_background": "light"
     },
     "output_type": "display_data"
    }
   ],
   "source": [
    "mean_nb_mot_pho_leonard_jour.plot(kind='bar', \n",
    "                            subplots=True, \n",
    "                            figsize=(15, 7),\n",
    "                            title = 'Espérance du nombre de mots phonétiques par mois : Leonard',\n",
    "                            fontsize = 15,\n",
    "                            use_index = True,\n",
    "                            grid=True);\n"
   ]
  },
  {
   "cell_type": "markdown",
   "metadata": {},
   "source": [
    "On constaste que l'espérance augmente légèrement de la première année à la moitié de la deuxième année. A partir de 2 ans et 6 mois elle augmente beaucoup plus. \n"
   ]
  },
  {
   "cell_type": "markdown",
   "metadata": {},
   "source": [
    "## Variance du nombre de mot par phrase"
   ]
  },
  {
   "cell_type": "markdown",
   "metadata": {},
   "source": [
    "Il peut être aussi intéressant d'observer la variance du nombre de mot par phrase de Léonard."
   ]
  },
  {
   "cell_type": "code",
   "execution_count": 56,
   "metadata": {},
   "outputs": [],
   "source": [
    "var_nb_mot_pho_leonard = pho_leonard[{'année','mois','jour', 'nombre_mot_phonétique'}].groupby(['année','mois','jour']).var()\n",
    "var_nb_mot_pho_leonard = var_nb_mot_pho_leonard.rename(columns={'nombre_mot_phonétique': 'variance'})\n",
    "#var_nb_mot_pho_leonard.unstack(level=1)"
   ]
  },
  {
   "cell_type": "code",
   "execution_count": 58,
   "metadata": {},
   "outputs": [
    {
     "data": {
      "image/png": "[encoded data removed]",
      "text/plain": [
       "<Figure size 1080x504 with 1 Axes>"
      ]
     },
     "metadata": {
      "needs_background": "light"
     },
     "output_type": "display_data"
    }
   ],
   "source": [
    "var_nb_mot_pho_leonard.plot(kind='bar', \n",
    "                            subplots=True, \n",
    "                            figsize=(15, 7),\n",
    "                            title = 'Variance du nombre de mot phonétique par mois : Leonard',\n",
    "                            fontsize = 15,\n",
    "                            use_index = True,\n",
    "                            grid=True);"
   ]
  },
  {
   "cell_type": "markdown",
   "metadata": {},
   "source": [
    "### Plus grande phrase"
   ]
  },
  {
   "cell_type": "code",
   "execution_count": 63,
   "metadata": {},
   "outputs": [],
   "source": [
    "max_mot_pho_leonard = pho_leonard[{'année','mois','jour','nombre_mot_phonétique'}].groupby(['année','mois','jour']).max()\n",
    "max_mot_pho_leonard = max_mot_pho_leonard.rename(columns={'nombre_mot_phonétique': 'longueur_max'})\n",
    "#max_mot_pho_leonard.unstack(level=1)"
   ]
  },
  {
   "cell_type": "code",
   "execution_count": 66,
   "metadata": {},
   "outputs": [
    {
     "data": {
      "image/png": "[encoded data removed]",
      "text/plain": [
       "<Figure size 1440x504 with 1 Axes>"
      ]
     },
     "metadata": {
      "needs_background": "light"
     },
     "output_type": "display_data"
    }
   ],
   "source": [
    "max_mot_pho_leonard.plot(kind='bar', \n",
    "                            subplots=True, \n",
    "                            figsize=(20, 7),\n",
    "                            title = 'Longueur de la plus grande phrase par enregistrement : Léonard',\n",
    "                            fontsize = 15,\n",
    "                            use_index = True,\n",
    "                            grid=True);"
   ]
  },
  {
   "cell_type": "markdown",
   "metadata": {},
   "source": [
    "On note une que la longueur de la plus longue phrase par enregistrement évolue jusqu'à ses 3 ans.\n",
    "\n",
    "Remarque: le fait que l'enfant effectue une longue prhase signifie pas forcement que celle-ci a un sens"
   ]
  }
 ],
 "metadata": {
  "hide_input": true,
  "kernelspec": {
   "display_name": "Python 3",
   "language": "python",
   "name": "python3"
  },
  "language_info": {
   "codemirror_mode": {
    "name": "ipython",
    "version": 3
   },
   "file_extension": ".py",
   "mimetype": "text/x-python",
   "name": "python",
   "nbconvert_exporter": "python",
   "pygments_lexer": "ipython3",
   "version": "3.7.3"
  }
 },
 "nbformat": 4,
 "nbformat_minor": 2
}
